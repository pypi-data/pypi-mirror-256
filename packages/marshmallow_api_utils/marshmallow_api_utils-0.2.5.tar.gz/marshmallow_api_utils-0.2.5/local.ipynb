{
 "cells": [
  {
   "cell_type": "code",
   "execution_count": 5,
   "metadata": {},
   "outputs": [
    {
     "data": {
      "text/plain": [
       "MyClass(name='bob', number=50)"
      ]
     },
     "execution_count": 5,
     "metadata": {},
     "output_type": "execute_result"
    }
   ],
   "source": [
    "from marshmallow_dataclass import dataclass as ma_dataclass\n",
    "from marshmallow_api_utils.ma_dataclass import MaDataclass\n",
    "\n",
    "\n",
    "@ma_dataclass\n",
    "class MyClass(MaDataclass):\n",
    "  name: str\n",
    "  number: int\n",
    "\n",
    "\n",
    "m = MyClass(name='bob', number=50)\n",
    "\n",
    "# MyClass.load(dict(name='bob', number=50))\n",
    "\n",
    "MyClass.loads('{\"name\": \"bob\", \"number\": 50}')"
   ]
  }
 ],
 "metadata": {
  "kernelspec": {
   "display_name": ".venv",
   "language": "python",
   "name": "python3"
  },
  "language_info": {
   "codemirror_mode": {
    "name": "ipython",
    "version": 3
   },
   "file_extension": ".py",
   "mimetype": "text/x-python",
   "name": "python",
   "nbconvert_exporter": "python",
   "pygments_lexer": "ipython3",
   "version": "3.11.1"
  },
  "orig_nbformat": 4
 },
 "nbformat": 4,
 "nbformat_minor": 2
}
