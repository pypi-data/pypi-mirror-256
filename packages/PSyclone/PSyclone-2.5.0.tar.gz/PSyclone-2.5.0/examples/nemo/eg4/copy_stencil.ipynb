{
 "cells": [
  {
   "cell_type": "code",
   "execution_count": null,
   "metadata": {},
   "outputs": [],
   "source": [
    "code = '''program copy_stencil\n",
    "  implicit none\n",
    "  integer, parameter :: n=10, np1=11\n",
    "  integer :: i,j,k\n",
    "  real, dimension(np1,n,n) :: out,in\n",
    "  do k=1,n\n",
    "     do j=1,n\n",
    "        do i=1,n\n",
    "           out(i,j,k) = in(i+1,j,k)\n",
    "        end do\n",
    "     end do\n",
    "  end do\n",
    "end program copy_stencil\n",
    "'''"
   ]
  },
  {
   "cell_type": "code",
   "execution_count": null,
   "metadata": {},
   "outputs": [],
   "source": [
    "# Use fparser2 to parse the Fortran and print the resulting parse tree\n",
    "from fparser.common.readfortran import FortranStringReader\n",
    "reader = FortranStringReader(code)\n",
    "\n",
    "from fparser.two.parser import ParserFactory\n",
    "parser = ParserFactory().create()\n",
    "\n",
    "ast = parser(reader)\n",
    "\n",
    "print(ast)"
   ]
  },
  {
   "cell_type": "code",
   "execution_count": null,
   "metadata": {},
   "outputs": [],
   "source": [
    "# Create the PSy object from the parse tree\n",
    "from psyclone.psyGen import PSyFactory\n",
    "psy = PSyFactory(\"nemo\", distributed_memory=False).create(ast)"
   ]
  },
  {
   "cell_type": "code",
   "execution_count": null,
   "metadata": {},
   "outputs": [],
   "source": [
    "# Get the first invoke in the list and display its PSyIR\n",
    "invoke = psy.invokes.invoke_list[0]\n",
    "\n",
    "print(invoke.schedule.view())"
   ]
  },
  {
   "cell_type": "code",
   "execution_count": null,
   "metadata": {},
   "outputs": [],
   "source": [
    "# Convert the PSyIR back to Fortran\n",
    "print(psy.gen)"
   ]
  }
 ],
 "metadata": {
  "kernelspec": {
   "display_name": "Python 3 (ipykernel)",
   "language": "python",
   "name": "python3"
  },
  "language_info": {
   "codemirror_mode": {
    "name": "ipython",
    "version": 3
   },
   "file_extension": ".py",
   "mimetype": "text/x-python",
   "name": "python",
   "nbconvert_exporter": "python",
   "pygments_lexer": "ipython3",
   "version": "3.11.6"
  }
 },
 "nbformat": 4,
 "nbformat_minor": 4
}
