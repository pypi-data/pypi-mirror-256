{
 "cells": [
  {
   "cell_type": "code",
   "execution_count": null,
   "metadata": {},
   "outputs": [],
   "source": [
    "from securities_exchange import (SecuritiesExchange, \n",
    "                                 Order, \n",
    "                                 OrderType, \n",
    "                                 MarketSide)"
   ]
  },
  {
   "cell_type": "markdown",
   "metadata": {},
   "source": [
    "### Creating some orders"
   ]
  },
  {
   "cell_type": "code",
   "execution_count": null,
   "metadata": {},
   "outputs": [],
   "source": [
    "orders = [Order(\"MSFT\", OrderType.MARKET, MarketSide.BUY, 10),\n",
    "          Order(\"MSFT\", OrderType.LIMIT, MarketSide.SELL, 10, 411.10),\n",
    "          Order(\"AMZN\", OrderType.LIMIT, MarketSide.BUY, 1000, 160.),\n",
    "          Order(\"GS\", OrderType.MARKET, MarketSide.BUY, 30),\n",
    "          Order(\"GS\", OrderType.MARKET, MarketSide.BUY, 20),\n",
    "          Order(\"GS\", OrderType.LIMIT, MarketSide.BUY, -10, -20),\n",
    "          Order(\"GS\", OrderType.MARKET, MarketSide.BUY, 10, 7),\n",
    "          Order(\"GS\", OrderType.LIMIT, MarketSide.SELL, 40, 387.20)] "
   ]
  },
  {
   "cell_type": "markdown",
   "metadata": {},
   "source": [
    "### Create a the Security Exchange object\n",
    "\n",
    "SecuritiesExchange has 2 arguments:\n",
    "- **allow_market_queue**: that allows for unfilled or partially filled Market orders to be queued waiting for a matching Limit order to come, default is False so unfilled or partially unfilled Market orders will remain as such while with True they could be filled eventually and they will have priority on the limit orders.\n",
    "- **verbose**: it switches the logging from WARNING to INFO allowing for more information to be shown, default False."
   ]
  },
  {
   "cell_type": "code",
   "execution_count": null,
   "metadata": {},
   "outputs": [],
   "source": [
    "secEx = SecuritiesExchange(verbose=True) "
   ]
  },
  {
   "cell_type": "markdown",
   "metadata": {},
   "source": [
    "### Feed the orders to the exchange"
   ]
  },
  {
   "cell_type": "code",
   "execution_count": null,
   "metadata": {},
   "outputs": [],
   "source": [
    "for order in orders:\n",
    "    secEx.submit_order(order)"
   ]
  }
 ],
 "metadata": {
  "kernelspec": {
   "display_name": ".venv",
   "language": "python",
   "name": "python3"
  },
  "language_info": {
   "codemirror_mode": {
    "name": "ipython",
    "version": 3
   },
   "file_extension": ".py",
   "mimetype": "text/x-python",
   "name": "python",
   "nbconvert_exporter": "python",
   "pygments_lexer": "ipython3",
   "version": "3.12.1"
  },
  "orig_nbformat": 4
 },
 "nbformat": 4,
 "nbformat_minor": 2
}
