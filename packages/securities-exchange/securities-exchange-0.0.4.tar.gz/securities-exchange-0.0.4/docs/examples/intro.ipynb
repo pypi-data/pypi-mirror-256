{
 "cells": [
  {
   "cell_type": "code",
   "execution_count": 1,
   "metadata": {},
   "outputs": [],
   "source": [
    "from securities_exchange import SecuritiesExchange, Order, OrderType, MarketSide"
   ]
  },
  {
   "cell_type": "markdown",
   "metadata": {},
   "source": [
    "### Creating some orders"
   ]
  },
  {
   "cell_type": "code",
   "execution_count": 2,
   "metadata": {},
   "outputs": [
    {
     "name": "stderr",
     "output_type": "stream",
     "text": [
      "[WARNING][2024-02-10 21:23:37,063]: Market orders will ignore 'price'. Price attribute set to None\n"
     ]
    }
   ],
   "source": [
    "orders = [Order(\"MSFT\", OrderType.MARKET, MarketSide.BUY, 10),\n",
    "          Order(\"MSFT\", OrderType.LIMIT, MarketSide.SELL, 10, 411.10),\n",
    "          Order(\"AMZN\", OrderType.LIMIT, MarketSide.BUY, 1000, 160.),\n",
    "          Order(\"GS\", OrderType.MARKET, MarketSide.BUY, 30),\n",
    "          Order(\"GS\", OrderType.MARKET, MarketSide.BUY, 20),\n",
    "          Order(\"GS\", OrderType.LIMIT, MarketSide.BUY, -10, -20),\n",
    "          Order(\"GS\", OrderType.MARKET, MarketSide.BUY, 10, 7),\n",
    "          Order(\"GS\", OrderType.LIMIT, MarketSide.SELL, 40, 387.20)] "
   ]
  },
  {
   "cell_type": "markdown",
   "metadata": {},
   "source": [
    "### Create a the Security Exchange object"
   ]
  },
  {
   "cell_type": "code",
   "execution_count": 3,
   "metadata": {},
   "outputs": [],
   "source": [
    "secEx = SecuritiesExchange()"
   ]
  },
  {
   "cell_type": "markdown",
   "metadata": {},
   "source": [
    "### Feed the orders to the exchange"
   ]
  },
  {
   "cell_type": "code",
   "execution_count": 4,
   "metadata": {},
   "outputs": [
    {
     "name": "stderr",
     "output_type": "stream",
     "text": [
      "[INFO][2024-02-10 21:23:37,086]: Order 1707596617063557MSFTMARKETBUY10 submitted for MSFT\n",
      "[INFO][2024-02-10 21:23:37,088]: Order 1707596617063557MSFTMARKETBUY10 has been added to the Market Orders queue for the full amount.\n",
      "[INFO][2024-02-10 21:23:37,090]: Order 1707596617063600MSFTLIMITSELL10@411.1 submitted for MSFT\n",
      "[INFO][2024-02-10 21:23:37,091]: Order 1707596617063600MSFTLIMITSELL10@411.1 filled 10 units at price 411.1 with order 1707596617063557MSFTMARKETBUY10\n",
      "[INFO][2024-02-10 21:23:37,092]: Order 1707596617063557MSFTMARKETBUY10 filled 10 units at price 411.1 with order 1707596617063600MSFTLIMITSELL10@411.1\n",
      "[INFO][2024-02-10 21:23:37,093]: Order 1707596617063627AMZNLIMITBUY1000@160.0 submitted for AMZN\n",
      "[INFO][2024-02-10 21:23:37,094]: Order 1707596617063645GSMARKETBUY30 submitted for GS\n",
      "[INFO][2024-02-10 21:23:37,095]: Order 1707596617063645GSMARKETBUY30 has been added to the Market Orders queue for the full amount.\n",
      "[INFO][2024-02-10 21:23:37,097]: Order 1707596617063657GSMARKETBUY20 submitted for GS\n",
      "[INFO][2024-02-10 21:23:37,097]: Order 1707596617063657GSMARKETBUY20 has been added to the Market Orders queue for the full amount.\n",
      "[ERROR][2024-02-10 21:23:37,098]: Order 1707596617063670GSLIMITBUY-10@-20.0 has been REJECTED.\n",
      "\t\t\t\t\t- LIMIT orders require a non-null positive PRICE.\n",
      "\t\t\t\t\t- Orders require a non-null positive SIZE.\n",
      "[INFO][2024-02-10 21:23:37,099]: Order 1707596617063682GSMARKETBUY10 submitted for GS\n",
      "[INFO][2024-02-10 21:23:37,100]: Order 1707596617063682GSMARKETBUY10 has been added to the Market Orders queue for the full amount.\n",
      "[INFO][2024-02-10 21:23:37,102]: Order 1707596617065686GSLIMITSELL40@387.2 submitted for GS\n",
      "[INFO][2024-02-10 21:23:37,104]: Order 1707596617065686GSLIMITSELL40@387.2 partially filled 30 units at price 387.2 with order 1707596617063645GSMARKETBUY30\n",
      "[INFO][2024-02-10 21:23:37,105]: Order 1707596617063645GSMARKETBUY30 filled 30 units at price 387.2 with order 1707596617065686GSLIMITSELL40@387.2\n",
      "[INFO][2024-02-10 21:23:37,106]: Order 1707596617065686GSLIMITSELL40@387.2 filled 10 units at price 387.2 with order 1707596617063657GSMARKETBUY20\n",
      "[INFO][2024-02-10 21:23:37,106]: Order 1707596617063657GSMARKETBUY20 partially filled 10 units at price 387.2 with order 1707596617065686GSLIMITSELL40@387.2\n"
     ]
    }
   ],
   "source": [
    "for order in orders:\n",
    "    secEx.submit_order(order)"
   ]
  }
 ],
 "metadata": {
  "kernelspec": {
   "display_name": ".venv",
   "language": "python",
   "name": "python3"
  },
  "language_info": {
   "codemirror_mode": {
    "name": "ipython",
    "version": 3
   },
   "file_extension": ".py",
   "mimetype": "text/x-python",
   "name": "python",
   "nbconvert_exporter": "python",
   "pygments_lexer": "ipython3",
   "version": "3.12.1"
  },
  "orig_nbformat": 4
 },
 "nbformat": 4,
 "nbformat_minor": 2
}
