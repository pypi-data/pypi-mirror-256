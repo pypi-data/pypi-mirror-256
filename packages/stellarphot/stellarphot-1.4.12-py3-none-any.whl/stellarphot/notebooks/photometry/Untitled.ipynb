{
 "cells": [
  {
   "cell_type": "code",
   "execution_count": 1,
   "id": "fd71efcb-f7a7-40c7-8c16-2dce6e2ec0e0",
   "metadata": {
    "tags": []
   },
   "outputs": [],
   "source": [
    "from stellarphot.gui_tools.comparison_functions import set_up"
   ]
  },
  {
   "cell_type": "code",
   "execution_count": 2,
   "id": "1feb9b6a-02e6-4cd0-b3b1-1b0fc69054d6",
   "metadata": {
    "tags": []
   },
   "outputs": [
    {
     "name": "stderr",
     "output_type": "stream",
     "text": [
      "WARNING: FITSFixedWarning: RADECSYS= 'FK5 ' / Equatorial coordinate system \n",
      "the RADECSYS keyword is deprecated, use RADESYSa. [astropy.wcs.wcs]\n"
     ]
    },
    {
     "data": {
      "text/plain": [
       "(CCDData([[ 9.0914375e+03,  1.3768895e+01,  9.6442099e+00, ...,\n",
       "            4.2075243e+00,  5.1593323e+00,  1.3203607e+01],\n",
       "          [ 6.5559141e+03,  1.6083645e+01,  9.9250307e+00, ...,\n",
       "            2.4922142e+01,  2.9852860e+00,  8.2926619e-01],\n",
       "          [-1.8393816e+04,  7.2276297e+00,  2.2379734e+01, ...,\n",
       "            2.8583702e+01,  2.7131176e+01,  4.5969334e+00],\n",
       "          ...,\n",
       "          [-1.4940760e+06,  7.2541580e+01,  6.6399109e+01, ...,\n",
       "            1.7644755e+00,  5.3070674e+00,  9.2696447e+00],\n",
       "          [-2.2146256e+04,  4.0883114e+01,  6.0811817e+01, ...,\n",
       "           -1.3129435e+00,  2.2687857e+01,  2.9171812e+01],\n",
       "          [ 2.4494490e+04,  7.0009956e+01,  1.9843021e+01, ...,\n",
       "            9.3507946e-01,  8.4046822e+00,  3.4827007e+01]],\n",
       "         dtype='>f4', unit='adu'),\n",
       " <CatalogData length=90>\n",
       "              id                  ra       dec    ... u_Period   Sp        coords      \n",
       "                                 deg       deg    ...                     deg,deg      \n",
       "            str30              float64   float64  ...   str1   str26      SkyCoord     \n",
       " ---------------------------- --------- --------- ... -------- ----- ------------------\n",
       "      ZTF J201945.28+192542.6 304.93867  19.42852 ...                304.93867,19.42852\n",
       "      ZTF J201956.19+193413.8 304.98415  19.57051 ...                304.98415,19.57051\n",
       "                 ZTF18abmprqa 304.99209  19.28165 ...                304.99209,19.28165\n",
       "      ZTF J201958.11+193343.2 304.99213  19.56202 ...                304.99213,19.56202\n",
       "      ZTF J202004.41+190959.9 305.01838  19.16665 ...                305.01838,19.16665\n",
       "      ZTF J202014.51+192607.9 305.06046  19.43554 ...                305.06046,19.43554\n",
       "      ZTF J202015.76+194040.1 305.06567  19.67781 ...                305.06567,19.67781\n",
       "      ZTF J202017.67+193328.9 305.07366  19.55803 ...                305.07366,19.55803\n",
       "      ZTF J202018.13+191716.9 305.07558  19.28803 ...                305.07558,19.28803\n",
       "      ZTF J202018.82+193532.5 305.07842  19.59238 ...                305.07842,19.59238\n",
       "        WISE J202020.6+193034 305.08583  19.50946 ...                305.08583,19.50946\n",
       "      ZTF J202020.75+193634.5 305.08648  19.60959 ...                305.08648,19.60959\n",
       "      ZTF J202024.58+191038.4 305.10245  19.17734 ...                305.10245,19.17734\n",
       "      ZTF J202025.49+190733.9 305.10622  19.12609 ...                305.10622,19.12609\n",
       "      ZTF J202025.62+192346.7 305.10676  19.39633 ...                305.10676,19.39633\n",
       "      ZTF J202026.88+194129.2 305.11201  19.69145 ...                305.11201,19.69145\n",
       "      ZTF J202030.67+194408.1 305.12780  19.73560 ...                  305.1278,19.7356\n",
       "      ZTF J202030.78+190626.3 305.12827  19.10733 ...                305.12827,19.10733\n",
       "      ZTF J202032.52+194642.3 305.13552  19.77844 ...                305.13552,19.77844\n",
       "      ZTF J202035.90+190540.9 305.14959  19.09472 ...                305.14959,19.09472\n",
       "                          ...       ...       ... ...      ...   ...                ...\n",
       " ASASSN-V J202253.75+190825.5 305.72396  19.14044 ...                305.72396,19.14044\n",
       "      ZTF J202253.79+191610.5 305.72414  19.26961 ...                305.72414,19.26961\n",
       "      ZTF J202259.53+191629.4 305.74808  19.27486 ...                305.74808,19.27486\n",
       " ASASSN-V J202301.23+194133.0 305.75514  19.69251 ...                305.75514,19.69251\n",
       "      ZTF J202303.88+194847.9 305.76619  19.81333 ...                305.76619,19.81333\n",
       "      ZTF J202304.56+191205.6 305.76902  19.20158 ...                305.76902,19.20158\n",
       "      ZTF J202308.00+193950.3 305.78336  19.66398 ...                305.78336,19.66398\n",
       "      ZTF J202312.78+193910.4 305.80327  19.65290 ...                 305.80327,19.6529\n",
       "      ZTF J202313.47+191542.1 305.80616  19.26172 ...                305.80616,19.26172\n",
       "      ZTF J202313.78+194454.4 305.80744  19.74845 ...                305.80744,19.74845\n",
       " ASASSN-V J202316.09+192932.1 305.81702  19.49225 ...                305.81702,19.49225\n",
       " ASASSN-V J202319.23+191228.8 305.83014  19.20799 ...                305.83014,19.20799\n",
       "      ZTF J202325.04+192358.1 305.85436  19.39948 ...                305.85436,19.39948\n",
       " ASASSN-V J202328.31+192509.5 305.86799  19.41933 ...                305.86799,19.41933\n",
       "      ZTF J202330.40+192010.7 305.87670  19.33631 ...                 305.8767,19.33631\n",
       "      ZTF J202333.62+192927.3 305.89012  19.49093 ...                305.89012,19.49093\n",
       "      ZTF J202337.24+193742.5 305.90520  19.62850 ...                  305.9052,19.6285\n",
       "      ZTF J202340.06+193121.0 305.91694  19.52251 ...                305.91694,19.52251\n",
       "  PS1-3PI J202343.83+191652.3 305.93262  19.28119 ...                305.93262,19.28119\n",
       "      ZTF J202352.34+192102.3 305.96812  19.35066 ...                305.96812,19.35066\n",
       "      ZTF J202355.67+192322.5 305.98196  19.38959 ...                305.98196,19.38959)"
      ]
     },
     "execution_count": 2,
     "metadata": {},
     "output_type": "execute_result"
    }
   ],
   "source": [
    "set_up(\"TIC_402828941.01-S001-R063-C001-ip.fit\", \"../../..\")"
   ]
  },
  {
   "cell_type": "code",
   "execution_count": 3,
   "id": "12b0a4dd-d1d6-473e-b51d-82bad578ed95",
   "metadata": {
    "tags": []
   },
   "outputs": [
    {
     "name": "stdout",
     "output_type": "stream",
     "text": [
      "> \u001b[0;32m/Users/mattcraig/mambaforge/envs/stelldev-apy6/lib/python3.11/site-packages/astropy/coordinates/sky_coordinate_parsers.py\u001b[0m(641)\u001b[0;36m_get_representation_attrs\u001b[0;34m()\u001b[0m\n",
      "\u001b[0;32m    639 \u001b[0;31m                    \u001b[0;34m\" components.\"\u001b[0m\u001b[0;34m\u001b[0m\u001b[0;34m\u001b[0m\u001b[0m\n",
      "\u001b[0m\u001b[0;32m    640 \u001b[0;31m                )\n",
      "\u001b[0m\u001b[0;32m--> 641 \u001b[0;31m                \u001b[0;32mraise\u001b[0m \u001b[0mu\u001b[0m\u001b[0;34m.\u001b[0m\u001b[0mUnitConversionError\u001b[0m\u001b[0;34m(\u001b[0m\u001b[0merror_message\u001b[0m\u001b[0;34m)\u001b[0m \u001b[0;32mfrom\u001b[0m \u001b[0merr\u001b[0m\u001b[0;34m\u001b[0m\u001b[0;34m\u001b[0m\u001b[0m\n",
      "\u001b[0m\u001b[0;32m    642 \u001b[0;31m\u001b[0;34m\u001b[0m\u001b[0m\n",
      "\u001b[0m\u001b[0;32m    643 \u001b[0;31m    \u001b[0;31m# also check the differentials.  They aren't included in the units keyword,\u001b[0m\u001b[0;34m\u001b[0m\u001b[0;34m\u001b[0m\u001b[0m\n",
      "\u001b[0m\n"
     ]
    },
    {
     "name": "stdin",
     "output_type": "stream",
     "text": [
      "ipdb>  ra\n"
     ]
    },
    {
     "name": "stdout",
     "output_type": "stream",
     "text": [
      "*** NameError: name 'ra' is not defined\n"
     ]
    },
    {
     "name": "stdin",
     "output_type": "stream",
     "text": [
      "ipdb>  up\n"
     ]
    },
    {
     "name": "stdout",
     "output_type": "stream",
     "text": [
      "> \u001b[0;32m/Users/mattcraig/mambaforge/envs/stelldev-apy6/lib/python3.11/site-packages/astropy/coordinates/sky_coordinate_parsers.py\u001b[0m(253)\u001b[0;36m_parse_coordinate_data\u001b[0;34m()\u001b[0m\n",
      "\u001b[0;32m    251 \u001b[0;31m    \u001b[0;31m# Grab any frame-specific attr names like `ra` or `l` or `distance` from\u001b[0m\u001b[0;34m\u001b[0m\u001b[0;34m\u001b[0m\u001b[0m\n",
      "\u001b[0m\u001b[0;32m    252 \u001b[0;31m    \u001b[0;31m# kwargs and move them to valid_components.\u001b[0m\u001b[0;34m\u001b[0m\u001b[0;34m\u001b[0m\u001b[0m\n",
      "\u001b[0m\u001b[0;32m--> 253 \u001b[0;31m    \u001b[0mvalid_components\u001b[0m\u001b[0;34m.\u001b[0m\u001b[0mupdate\u001b[0m\u001b[0;34m(\u001b[0m\u001b[0m_get_representation_attrs\u001b[0m\u001b[0;34m(\u001b[0m\u001b[0mframe\u001b[0m\u001b[0;34m,\u001b[0m \u001b[0munits\u001b[0m\u001b[0;34m,\u001b[0m \u001b[0mkwargs\u001b[0m\u001b[0;34m)\u001b[0m\u001b[0;34m)\u001b[0m\u001b[0;34m\u001b[0m\u001b[0;34m\u001b[0m\u001b[0m\n",
      "\u001b[0m\u001b[0;32m    254 \u001b[0;31m\u001b[0;34m\u001b[0m\u001b[0m\n",
      "\u001b[0m\u001b[0;32m    255 \u001b[0;31m    \u001b[0;31m# Error if anything is still left in kwargs\u001b[0m\u001b[0;34m\u001b[0m\u001b[0;34m\u001b[0m\u001b[0m\n",
      "\u001b[0m\n"
     ]
    },
    {
     "name": "stdin",
     "output_type": "stream",
     "text": [
      "ipdb>  up\n"
     ]
    },
    {
     "name": "stdout",
     "output_type": "stream",
     "text": [
      "> \u001b[0;32m/Users/mattcraig/mambaforge/envs/stelldev-apy6/lib/python3.11/site-packages/astropy/coordinates/sky_coordinate.py\u001b[0m(339)\u001b[0;36m__init__\u001b[0;34m()\u001b[0m\n",
      "\u001b[0;32m    337 \u001b[0;31m            \u001b[0;31m# creating the internal self._sky_coord_frame object\u001b[0m\u001b[0;34m\u001b[0m\u001b[0;34m\u001b[0m\u001b[0m\n",
      "\u001b[0m\u001b[0;32m    338 \u001b[0;31m            \u001b[0margs\u001b[0m \u001b[0;34m=\u001b[0m \u001b[0mlist\u001b[0m\u001b[0;34m(\u001b[0m\u001b[0margs\u001b[0m\u001b[0;34m)\u001b[0m  \u001b[0;31m# Make it mutable\u001b[0m\u001b[0;34m\u001b[0m\u001b[0;34m\u001b[0m\u001b[0m\n",
      "\u001b[0m\u001b[0;32m--> 339 \u001b[0;31m            skycoord_kwargs, components, info = _parse_coordinate_data(\n",
      "\u001b[0m\u001b[0;32m    340 \u001b[0;31m                \u001b[0mframe_cls\u001b[0m\u001b[0;34m(\u001b[0m\u001b[0;34m**\u001b[0m\u001b[0mframe_kwargs\u001b[0m\u001b[0;34m)\u001b[0m\u001b[0;34m,\u001b[0m \u001b[0margs\u001b[0m\u001b[0;34m,\u001b[0m \u001b[0mkwargs\u001b[0m\u001b[0;34m\u001b[0m\u001b[0;34m\u001b[0m\u001b[0m\n",
      "\u001b[0m\u001b[0;32m    341 \u001b[0;31m            )\n",
      "\u001b[0m\n"
     ]
    },
    {
     "name": "stdin",
     "output_type": "stream",
     "text": [
      "ipdb>  up\n"
     ]
    },
    {
     "name": "stdout",
     "output_type": "stream",
     "text": [
      "> \u001b[0;32m/Users/mattcraig/development/astronomy/stellarphot/stellarphot/utils/comparison_utils.py\u001b[0m(81)\u001b[0;36mset_up\u001b[0;34m()\u001b[0m\n",
      "\u001b[0;32m     79 \u001b[0;31m        \u001b[0mra\u001b[0m \u001b[0;34m=\u001b[0m \u001b[0mvsx\u001b[0m\u001b[0;34m[\u001b[0m\u001b[0;34m\"ra\"\u001b[0m\u001b[0;34m]\u001b[0m\u001b[0;34m\u001b[0m\u001b[0;34m\u001b[0m\u001b[0m\n",
      "\u001b[0m\u001b[0;32m     80 \u001b[0;31m        \u001b[0mdec\u001b[0m \u001b[0;34m=\u001b[0m \u001b[0mvsx\u001b[0m\u001b[0;34m[\u001b[0m\u001b[0;34m\"dec\"\u001b[0m\u001b[0;34m]\u001b[0m\u001b[0;34m\u001b[0m\u001b[0;34m\u001b[0m\u001b[0m\n",
      "\u001b[0m\u001b[0;32m---> 81 \u001b[0;31m        \u001b[0mvsx\u001b[0m\u001b[0;34m[\u001b[0m\u001b[0;34m\"coords\"\u001b[0m\u001b[0;34m]\u001b[0m \u001b[0;34m=\u001b[0m \u001b[0mSkyCoord\u001b[0m\u001b[0;34m(\u001b[0m\u001b[0mra\u001b[0m\u001b[0;34m=\u001b[0m\u001b[0mra\u001b[0m\u001b[0;34m,\u001b[0m \u001b[0mdec\u001b[0m\u001b[0;34m=\u001b[0m\u001b[0mdec\u001b[0m\u001b[0;34m,\u001b[0m \u001b[0munit\u001b[0m\u001b[0;34m=\u001b[0m\u001b[0;34m(\u001b[0m\u001b[0mu\u001b[0m\u001b[0;34m.\u001b[0m\u001b[0mhour\u001b[0m\u001b[0;34m,\u001b[0m \u001b[0mu\u001b[0m\u001b[0;34m.\u001b[0m\u001b[0mdegree\u001b[0m\u001b[0;34m)\u001b[0m\u001b[0;34m)\u001b[0m\u001b[0;34m\u001b[0m\u001b[0;34m\u001b[0m\u001b[0m\n",
      "\u001b[0m\u001b[0;32m     82 \u001b[0;31m\u001b[0;34m\u001b[0m\u001b[0m\n",
      "\u001b[0m\u001b[0;32m     83 \u001b[0;31m    \u001b[0;32mreturn\u001b[0m \u001b[0mccd\u001b[0m\u001b[0;34m,\u001b[0m \u001b[0mvsx\u001b[0m\u001b[0;34m\u001b[0m\u001b[0;34m\u001b[0m\u001b[0m\n",
      "\u001b[0m\n"
     ]
    },
    {
     "name": "stdin",
     "output_type": "stream",
     "text": [
      "ipdb>  ra\n"
     ]
    },
    {
     "name": "stdout",
     "output_type": "stream",
     "text": [
      "<MaskedQuantity [304.93867, 304.98415, 304.99209, 304.99213, 305.01838,\n",
      "                 305.06046, 305.06567, 305.07366, 305.07558, 305.07842,\n",
      "                 305.08583, 305.08648, 305.10245, 305.10622, 305.10676,\n",
      "                 305.11201, 305.1278 , 305.12827, 305.13552, 305.14959,\n",
      "                 305.15719, 305.15734, 305.16412, 305.16956, 305.179  ,\n",
      "                 305.18109, 305.18351, 305.1884 , 305.20475, 305.20562,\n",
      "                 305.22096, 305.22895, 305.23994, 305.25872, 305.2612 ,\n",
      "                 305.31421, 305.32225, 305.37525, 305.37629, 305.3764 ,\n",
      "                 305.38217, 305.39307, 305.39693, 305.40724, 305.41955,\n",
      "                 305.43192, 305.43804, 305.45073, 305.45553, 305.47276,\n",
      "                 305.48033, 305.49483, 305.49539, 305.5012 , 305.5072 ,\n",
      "                 305.51382, 305.51887, 305.53526, 305.5561 , 305.56648,\n",
      "                 305.57261, 305.60151, 305.62768, 305.63192, 305.64333,\n",
      "                 305.6742 , 305.70423, 305.71553, 305.72263, 305.72396,\n",
      "                 305.72414, 305.74808, 305.75514, 305.76619, 305.76902,\n",
      "                 305.78336, 305.80327, 305.80616, 305.80744, 305.81702,\n",
      "                 305.83014, 305.85436, 305.86799, 305.8767 , 305.89012,\n",
      "                 305.9052 , 305.91694, 305.93262, 305.96812, 305.98196] deg>\n"
     ]
    },
    {
     "name": "stdin",
     "output_type": "stream",
     "text": [
      "ipdb>  dec\n"
     ]
    },
    {
     "name": "stdout",
     "output_type": "stream",
     "text": [
      "<MaskedQuantity [19.42852, 19.57051, 19.28165, 19.56202, 19.16665,\n",
      "                 19.43554, 19.67781, 19.55803, 19.28803, 19.59238,\n",
      "                 19.50946, 19.60959, 19.17734, 19.12609, 19.39633,\n",
      "                 19.69145, 19.7356 , 19.10733, 19.77844, 19.09472,\n",
      "                 19.61712, 19.10386, 19.17488, 19.61233, 19.07283,\n",
      "                 19.26125, 19.06936, 19.35722, 19.53391, 19.80858,\n",
      "                 19.82228, 19.08464, 19.56613, 19.21159, 19.86649,\n",
      "                 19.74022, 19.74803, 19.51158, 19.88172, 19.28384,\n",
      "                 19.67296, 19.56108, 19.28502, 19.22244, 19.5962 ,\n",
      "                 19.32574, 19.85531, 19.68399, 19.76692, 19.09821,\n",
      "                 19.17711, 19.16431, 19.76706, 19.44098, 19.87646,\n",
      "                 19.24636, 19.18832, 19.32357, 19.7838 , 19.38484,\n",
      "                 19.57722, 19.09886, 19.27043, 19.09774, 19.0862 ,\n",
      "                 19.2109 , 19.45491, 19.42316, 19.33836, 19.14044,\n",
      "                 19.26961, 19.27486, 19.69251, 19.81333, 19.20158,\n",
      "                 19.66398, 19.6529 , 19.26172, 19.74845, 19.49225,\n",
      "                 19.20799, 19.39948, 19.41933, 19.33631, 19.49093,\n",
      "                 19.6285 , 19.52251, 19.28119, 19.35066, 19.38959] deg>\n"
     ]
    },
    {
     "name": "stdin",
     "output_type": "stream",
     "text": [
      "ipdb>  ra.mask\n"
     ]
    },
    {
     "name": "stdout",
     "output_type": "stream",
     "text": [
      "array([False, False, False, False, False, False, False, False, False,\n",
      "       False, False, False, False, False, False, False, False, False,\n",
      "       False, False, False, False, False, False, False, False, False,\n",
      "       False, False, False, False, False, False, False, False, False,\n",
      "       False, False, False, False, False, False, False, False, False,\n",
      "       False, False, False, False, False, False, False, False, False,\n",
      "       False, False, False, False, False, False, False, False, False,\n",
      "       False, False, False, False, False, False, False, False, False,\n",
      "       False, False, False, False, False, False, False, False, False,\n",
      "       False, False, False, False, False, False, False, False, False])\n"
     ]
    },
    {
     "name": "stdin",
     "output_type": "stream",
     "text": [
      "ipdb>  quit\n"
     ]
    }
   ],
   "source": [
    "%debug"
   ]
  },
  {
   "cell_type": "code",
   "execution_count": 6,
   "id": "2d5cd645-0479-4c2a-a83f-5c8855e449a9",
   "metadata": {
    "tags": []
   },
   "outputs": [],
   "source": [
    "from astropy.nddata import CCDData"
   ]
  },
  {
   "cell_type": "code",
   "execution_count": 8,
   "id": "90451d4e-5f25-4514-b00f-c1e3acaf8c54",
   "metadata": {
    "tags": []
   },
   "outputs": [
    {
     "name": "stderr",
     "output_type": "stream",
     "text": [
      "/Users/mattcraig/mambaforge/envs/stelldev-apy6/lib/python3.11/site-packages/astropy/wcs/wcs.py:582: FITSFixedWarning: The WCS transformation has more axes (2) than the image it is associated with (0)\n",
      "  warnings.warn(\n"
     ]
    },
    {
     "ename": "TypeError",
     "evalue": "could not convert data to numpy array.",
     "output_type": "error",
     "traceback": [
      "\u001b[0;31m---------------------------------------------------------------------------\u001b[0m",
      "\u001b[0;31mTypeError\u001b[0m                                 Traceback (most recent call last)",
      "Cell \u001b[0;32mIn[8], line 1\u001b[0m\n\u001b[0;32m----> 1\u001b[0m foo \u001b[38;5;241m=\u001b[39m \u001b[43mCCDData\u001b[49m\u001b[38;5;241;43m.\u001b[39;49m\u001b[43mread\u001b[49m\u001b[43m(\u001b[49m\u001b[38;5;124;43m'\u001b[39;49m\u001b[38;5;124;43m../../differential_photometry/tests/data/2014-12-29-ey-uma-9.fits\u001b[39;49m\u001b[38;5;124;43m'\u001b[39;49m\u001b[43m)\u001b[49m\n",
      "File \u001b[0;32m~/mambaforge/envs/stelldev-apy6/lib/python3.11/site-packages/astropy/nddata/mixins/ndio.py:59\u001b[0m, in \u001b[0;36mNDDataRead.__call__\u001b[0;34m(self, *args, **kwargs)\u001b[0m\n\u001b[1;32m     58\u001b[0m \u001b[38;5;28;01mdef\u001b[39;00m \u001b[38;5;21m__call__\u001b[39m(\u001b[38;5;28mself\u001b[39m, \u001b[38;5;241m*\u001b[39margs, \u001b[38;5;241m*\u001b[39m\u001b[38;5;241m*\u001b[39mkwargs):\n\u001b[0;32m---> 59\u001b[0m     \u001b[38;5;28;01mreturn\u001b[39;00m \u001b[38;5;28;43mself\u001b[39;49m\u001b[38;5;241;43m.\u001b[39;49m\u001b[43mregistry\u001b[49m\u001b[38;5;241;43m.\u001b[39;49m\u001b[43mread\u001b[49m\u001b[43m(\u001b[49m\u001b[38;5;28;43mself\u001b[39;49m\u001b[38;5;241;43m.\u001b[39;49m\u001b[43m_cls\u001b[49m\u001b[43m,\u001b[49m\u001b[43m \u001b[49m\u001b[38;5;241;43m*\u001b[39;49m\u001b[43margs\u001b[49m\u001b[43m,\u001b[49m\u001b[43m \u001b[49m\u001b[38;5;241;43m*\u001b[39;49m\u001b[38;5;241;43m*\u001b[39;49m\u001b[43mkwargs\u001b[49m\u001b[43m)\u001b[49m\n",
      "File \u001b[0;32m~/mambaforge/envs/stelldev-apy6/lib/python3.11/site-packages/astropy/io/registry/core.py:221\u001b[0m, in \u001b[0;36mUnifiedInputRegistry.read\u001b[0;34m(self, cls, format, cache, *args, **kwargs)\u001b[0m\n\u001b[1;32m    218\u001b[0m         kwargs\u001b[38;5;241m.\u001b[39mupdate({\u001b[38;5;124m\"\u001b[39m\u001b[38;5;124mfilename\u001b[39m\u001b[38;5;124m\"\u001b[39m: path})\n\u001b[1;32m    220\u001b[0m reader \u001b[38;5;241m=\u001b[39m \u001b[38;5;28mself\u001b[39m\u001b[38;5;241m.\u001b[39mget_reader(\u001b[38;5;28mformat\u001b[39m, \u001b[38;5;28mcls\u001b[39m)\n\u001b[0;32m--> 221\u001b[0m data \u001b[38;5;241m=\u001b[39m \u001b[43mreader\u001b[49m\u001b[43m(\u001b[49m\u001b[38;5;241;43m*\u001b[39;49m\u001b[43margs\u001b[49m\u001b[43m,\u001b[49m\u001b[43m \u001b[49m\u001b[38;5;241;43m*\u001b[39;49m\u001b[38;5;241;43m*\u001b[39;49m\u001b[43mkwargs\u001b[49m\u001b[43m)\u001b[49m\n\u001b[1;32m    223\u001b[0m \u001b[38;5;28;01mif\u001b[39;00m \u001b[38;5;129;01mnot\u001b[39;00m \u001b[38;5;28misinstance\u001b[39m(data, \u001b[38;5;28mcls\u001b[39m):\n\u001b[1;32m    224\u001b[0m     \u001b[38;5;66;03m# User has read with a subclass where only the parent class is\u001b[39;00m\n\u001b[1;32m    225\u001b[0m     \u001b[38;5;66;03m# registered.  This returns the parent class, so try coercing\u001b[39;00m\n\u001b[1;32m    226\u001b[0m     \u001b[38;5;66;03m# to desired subclass.\u001b[39;00m\n\u001b[1;32m    227\u001b[0m     \u001b[38;5;28;01mtry\u001b[39;00m:\n",
      "File \u001b[0;32m~/mambaforge/envs/stelldev-apy6/lib/python3.11/site-packages/astropy/nddata/ccddata.py:728\u001b[0m, in \u001b[0;36mfits_ccddata_reader\u001b[0;34m(filename, hdu, unit, hdu_uncertainty, hdu_mask, hdu_flags, key_uncertainty_type, hdu_psf, **kwd)\u001b[0m\n\u001b[1;32m    726\u001b[0m     use_unit \u001b[38;5;241m=\u001b[39m unit \u001b[38;5;129;01mor\u001b[39;00m fits_unit_string\n\u001b[1;32m    727\u001b[0m     hdr, wcs \u001b[38;5;241m=\u001b[39m _generate_wcs_and_update_header(hdr)\n\u001b[0;32m--> 728\u001b[0m     ccd_data \u001b[38;5;241m=\u001b[39m \u001b[43mCCDData\u001b[49m\u001b[43m(\u001b[49m\n\u001b[1;32m    729\u001b[0m \u001b[43m        \u001b[49m\u001b[43mhdus\u001b[49m\u001b[43m[\u001b[49m\u001b[43mhdu\u001b[49m\u001b[43m]\u001b[49m\u001b[38;5;241;43m.\u001b[39;49m\u001b[43mdata\u001b[49m\u001b[43m,\u001b[49m\n\u001b[1;32m    730\u001b[0m \u001b[43m        \u001b[49m\u001b[43mmeta\u001b[49m\u001b[38;5;241;43m=\u001b[39;49m\u001b[43mhdr\u001b[49m\u001b[43m,\u001b[49m\n\u001b[1;32m    731\u001b[0m \u001b[43m        \u001b[49m\u001b[43munit\u001b[49m\u001b[38;5;241;43m=\u001b[39;49m\u001b[43muse_unit\u001b[49m\u001b[43m,\u001b[49m\n\u001b[1;32m    732\u001b[0m \u001b[43m        \u001b[49m\u001b[43mmask\u001b[49m\u001b[38;5;241;43m=\u001b[39;49m\u001b[43mmask\u001b[49m\u001b[43m,\u001b[49m\n\u001b[1;32m    733\u001b[0m \u001b[43m        \u001b[49m\u001b[43muncertainty\u001b[49m\u001b[38;5;241;43m=\u001b[39;49m\u001b[43muncertainty\u001b[49m\u001b[43m,\u001b[49m\n\u001b[1;32m    734\u001b[0m \u001b[43m        \u001b[49m\u001b[43mwcs\u001b[49m\u001b[38;5;241;43m=\u001b[39;49m\u001b[43mwcs\u001b[49m\u001b[43m,\u001b[49m\n\u001b[1;32m    735\u001b[0m \u001b[43m        \u001b[49m\u001b[43mpsf\u001b[49m\u001b[38;5;241;43m=\u001b[39;49m\u001b[43mpsf\u001b[49m\u001b[43m,\u001b[49m\n\u001b[1;32m    736\u001b[0m \u001b[43m    \u001b[49m\u001b[43m)\u001b[49m\n\u001b[1;32m    738\u001b[0m \u001b[38;5;28;01mreturn\u001b[39;00m ccd_data\n",
      "File \u001b[0;32m~/mambaforge/envs/stelldev-apy6/lib/python3.11/site-packages/astropy/nddata/ccddata.py:199\u001b[0m, in \u001b[0;36mCCDData.__init__\u001b[0;34m(self, *args, **kwd)\u001b[0m\n\u001b[1;32m    196\u001b[0m \u001b[38;5;28;01mif\u001b[39;00m \u001b[38;5;124m\"\u001b[39m\u001b[38;5;124mheader\u001b[39m\u001b[38;5;124m\"\u001b[39m \u001b[38;5;129;01min\u001b[39;00m kwd:\n\u001b[1;32m    197\u001b[0m     \u001b[38;5;28;01mraise\u001b[39;00m \u001b[38;5;167;01mValueError\u001b[39;00m(\u001b[38;5;124m\"\u001b[39m\u001b[38;5;124mcan\u001b[39m\u001b[38;5;124m'\u001b[39m\u001b[38;5;124mt have both header and meta.\u001b[39m\u001b[38;5;124m\"\u001b[39m)\n\u001b[0;32m--> 199\u001b[0m \u001b[38;5;28;43msuper\u001b[39;49m\u001b[43m(\u001b[49m\u001b[43m)\u001b[49m\u001b[38;5;241;43m.\u001b[39;49m\u001b[38;5;21;43m__init__\u001b[39;49m\u001b[43m(\u001b[49m\u001b[38;5;241;43m*\u001b[39;49m\u001b[43margs\u001b[49m\u001b[43m,\u001b[49m\u001b[43m \u001b[49m\u001b[38;5;241;43m*\u001b[39;49m\u001b[38;5;241;43m*\u001b[39;49m\u001b[43mkwd\u001b[49m\u001b[43m)\u001b[49m\n\u001b[1;32m    200\u001b[0m \u001b[38;5;28;01mif\u001b[39;00m \u001b[38;5;28mself\u001b[39m\u001b[38;5;241m.\u001b[39m_wcs \u001b[38;5;129;01mis\u001b[39;00m \u001b[38;5;129;01mnot\u001b[39;00m \u001b[38;5;28;01mNone\u001b[39;00m:\n\u001b[1;32m    201\u001b[0m     llwcs \u001b[38;5;241m=\u001b[39m \u001b[38;5;28mself\u001b[39m\u001b[38;5;241m.\u001b[39m_wcs\u001b[38;5;241m.\u001b[39mlow_level_wcs\n",
      "File \u001b[0;32m~/mambaforge/envs/stelldev-apy6/lib/python3.11/site-packages/astropy/nddata/compat.py:84\u001b[0m, in \u001b[0;36mNDDataArray.__init__\u001b[0;34m(self, data, flags, *args, **kwargs)\u001b[0m\n\u001b[1;32m     82\u001b[0m \u001b[38;5;28;01mdef\u001b[39;00m \u001b[38;5;21m__init__\u001b[39m(\u001b[38;5;28mself\u001b[39m, data, \u001b[38;5;241m*\u001b[39margs, flags\u001b[38;5;241m=\u001b[39m\u001b[38;5;28;01mNone\u001b[39;00m, \u001b[38;5;241m*\u001b[39m\u001b[38;5;241m*\u001b[39mkwargs):\n\u001b[1;32m     83\u001b[0m     \u001b[38;5;66;03m# Initialize with the parent...\u001b[39;00m\n\u001b[0;32m---> 84\u001b[0m     \u001b[38;5;28;43msuper\u001b[39;49m\u001b[43m(\u001b[49m\u001b[43m)\u001b[49m\u001b[38;5;241;43m.\u001b[39;49m\u001b[38;5;21;43m__init__\u001b[39;49m\u001b[43m(\u001b[49m\u001b[43mdata\u001b[49m\u001b[43m,\u001b[49m\u001b[43m \u001b[49m\u001b[38;5;241;43m*\u001b[39;49m\u001b[43margs\u001b[49m\u001b[43m,\u001b[49m\u001b[43m \u001b[49m\u001b[38;5;241;43m*\u001b[39;49m\u001b[38;5;241;43m*\u001b[39;49m\u001b[43mkwargs\u001b[49m\u001b[43m)\u001b[49m\n\u001b[1;32m     86\u001b[0m     \u001b[38;5;66;03m# ...then reset uncertainty to force it to go through the\u001b[39;00m\n\u001b[1;32m     87\u001b[0m     \u001b[38;5;66;03m# setter logic below. In base NDData all that is done is to\u001b[39;00m\n\u001b[1;32m     88\u001b[0m     \u001b[38;5;66;03m# set self._uncertainty to whatever uncertainty is passed in.\u001b[39;00m\n\u001b[1;32m     89\u001b[0m     \u001b[38;5;28mself\u001b[39m\u001b[38;5;241m.\u001b[39muncertainty \u001b[38;5;241m=\u001b[39m \u001b[38;5;28mself\u001b[39m\u001b[38;5;241m.\u001b[39m_uncertainty\n",
      "File \u001b[0;32m~/mambaforge/envs/stelldev-apy6/lib/python3.11/site-packages/astropy/nddata/nddata.py:276\u001b[0m, in \u001b[0;36mNDData.__init__\u001b[0;34m(self, data, uncertainty, mask, wcs, meta, unit, copy, psf)\u001b[0m\n\u001b[1;32m    272\u001b[0m \u001b[38;5;66;03m# Another quick check to see if what we got looks like an array\u001b[39;00m\n\u001b[1;32m    273\u001b[0m \u001b[38;5;66;03m# rather than an object (since numpy will convert a\u001b[39;00m\n\u001b[1;32m    274\u001b[0m \u001b[38;5;66;03m# non-numerical/non-string inputs to an array of objects).\u001b[39;00m\n\u001b[1;32m    275\u001b[0m \u001b[38;5;28;01mif\u001b[39;00m data\u001b[38;5;241m.\u001b[39mdtype \u001b[38;5;241m==\u001b[39m \u001b[38;5;124m\"\u001b[39m\u001b[38;5;124mO\u001b[39m\u001b[38;5;124m\"\u001b[39m:\n\u001b[0;32m--> 276\u001b[0m     \u001b[38;5;28;01mraise\u001b[39;00m \u001b[38;5;167;01mTypeError\u001b[39;00m(\u001b[38;5;124m\"\u001b[39m\u001b[38;5;124mcould not convert data to numpy array.\u001b[39m\u001b[38;5;124m\"\u001b[39m)\n\u001b[1;32m    278\u001b[0m \u001b[38;5;28;01mif\u001b[39;00m unit \u001b[38;5;129;01mis\u001b[39;00m \u001b[38;5;129;01mnot\u001b[39;00m \u001b[38;5;28;01mNone\u001b[39;00m:\n\u001b[1;32m    279\u001b[0m     unit \u001b[38;5;241m=\u001b[39m Unit(unit)\n",
      "\u001b[0;31mTypeError\u001b[0m: could not convert data to numpy array."
     ]
    }
   ],
   "source": [
    "foo = CCDData.read(\"../../differential_photometry/tests/data/2014-12-29-ey-uma-9.fits\")"
   ]
  },
  {
   "cell_type": "code",
   "execution_count": null,
   "id": "dfbd1b07-4a09-4940-9d18-8f3f11e788fc",
   "metadata": {},
   "outputs": [],
   "source": []
  }
 ],
 "metadata": {
  "kernelspec": {
   "display_name": "Python 3 (ipykernel)",
   "language": "python",
   "name": "python3"
  },
  "language_info": {
   "codemirror_mode": {
    "name": "ipython",
    "version": 3
   },
   "file_extension": ".py",
   "mimetype": "text/x-python",
   "name": "python",
   "nbconvert_exporter": "python",
   "pygments_lexer": "ipython3",
   "version": "3.11.5"
  }
 },
 "nbformat": 4,
 "nbformat_minor": 5
}
