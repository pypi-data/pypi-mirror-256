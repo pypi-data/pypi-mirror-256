{
 "cells": [
  {
   "cell_type": "code",
   "execution_count": 3,
   "id": "ba10b7f0-e5da-4a5f-9cb0-11713792b7b2",
   "metadata": {
    "tags": []
   },
   "outputs": [
    {
     "data": {
      "application/vnd.jupyter.widget-view+json": {
       "model_id": "73556019cfc04e5381b8ad0907694cc5",
       "version_major": 2,
       "version_minor": 0
      },
      "text/plain": [
       "FileChooser(path='/Users/mattcraig/development/astronomy/stellarphot/stellarphot/notebooks/photometry', filena…"
      ]
     },
     "metadata": {},
     "output_type": "display_data"
    },
    {
     "name": "stdout",
     "output_type": "stream",
     "text": [
      "None\n",
      "None\n",
      "None\n"
     ]
    }
   ],
   "source": [
    "from ipyfilechooser import FileChooser\n",
    "\n",
    "# Create and display a FileChooser widget\n",
    "fc = FileChooser(\".\")\n",
    "display(fc)\n",
    "\n",
    "# Print the selected path, filename, or both\n",
    "print(fc.selected_path)\n",
    "print(fc.selected_filename)\n",
    "print(fc.selected)\n",
    "\n",
    "# Change defaults and reset the dialog\n",
    "fc.default_path = \"/Users/mattcraig/\"\n",
    "fc.default_filename = \"output.txt\"\n",
    "fc.reset()\n",
    "\n",
    "# Shorthand reset\n",
    "fc.reset(path=\"/Users/mattcraig/\", filename=\"output.txt\")\n",
    "\n",
    "# Restrict navigation to /Users\n",
    "fc.sandbox_path = \"/Users\"\n",
    "\n",
    "# Change hidden files\n",
    "fc.show_hidden = True\n",
    "\n",
    "# Customize dir icon\n",
    "fc.dir_icon = \"/\"\n",
    "fc.dir_icon_append = True\n",
    "\n",
    "# Switch to folder-only mode\n",
    "fc.show_only_dirs = True\n",
    "\n",
    "# Set a file filter pattern (uses https://docs.python.org/3/library/fnmatch.html)\n",
    "fc.filter_pattern = \"*.txt\"\n",
    "\n",
    "# Set multiple file filter patterns (uses https://docs.python.org/3/library/fnmatch.html)\n",
    "fc.filter_pattern = [\"*.jpg\", \"*.png\"]\n",
    "\n",
    "# Change the title (use '' to hide)\n",
    "fc.title = \"<b>FileChooser title</b>\"\n",
    "\n",
    "\n",
    "# Sample callback function\n",
    "def change_title(chooser):\n",
    "    chooser.title = \"<b>Callback function executed</b>\"\n",
    "\n",
    "\n",
    "# Register callback function\n",
    "fc.register_callback(change_title)"
   ]
  },
  {
   "cell_type": "code",
   "execution_count": 4,
   "id": "13715c10-ad2d-48b2-8ad9-6a0c98325e92",
   "metadata": {
    "tags": []
   },
   "outputs": [],
   "source": [
    "fc.title = \"Meep honk\""
   ]
  },
  {
   "cell_type": "code",
   "execution_count": null,
   "id": "cbfeb10d-3713-4420-af86-0216b28c9194",
   "metadata": {},
   "outputs": [],
   "source": []
  }
 ],
 "metadata": {
  "kernelspec": {
   "display_name": "Python 3 (ipykernel)",
   "language": "python",
   "name": "python3"
  },
  "language_info": {
   "codemirror_mode": {
    "name": "ipython",
    "version": 3
   },
   "file_extension": ".py",
   "mimetype": "text/x-python",
   "name": "python",
   "nbconvert_exporter": "python",
   "pygments_lexer": "ipython3",
   "version": "3.11.7"
  }
 },
 "nbformat": 4,
 "nbformat_minor": 5
}
