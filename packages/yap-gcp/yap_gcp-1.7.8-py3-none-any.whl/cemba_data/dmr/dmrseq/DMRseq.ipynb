{
 "cells": [
  {
   "cell_type": "markdown",
   "metadata": {
    "toc": true
   },
   "source": [
    "<h1>Table of Contents<span class=\"tocSkip\"></span></h1>\n",
    "<div class=\"toc\"><ul class=\"toc-item\"><li><span><a href=\"#Parameters\" data-toc-modified-id=\"Parameters-1\"><span class=\"toc-item-num\">1&nbsp;&nbsp;</span>Parameters</a></span></li><li><span><a href=\"#Load-data\" data-toc-modified-id=\"Load-data-2\"><span class=\"toc-item-num\">2&nbsp;&nbsp;</span>Load data</a></span><ul class=\"toc-item\"><li><span><a href=\"#Filter-low-coverage\" data-toc-modified-id=\"Filter-low-coverage-2.1\"><span class=\"toc-item-num\">2.1&nbsp;&nbsp;</span>Filter low coverage</a></span></li></ul></li><li><span><a href=\"#Set-CPU\" data-toc-modified-id=\"Set-CPU-3\"><span class=\"toc-item-num\">3&nbsp;&nbsp;</span>Set CPU</a></span><ul class=\"toc-item\"><li><span><a href=\"#Prepare-BSseq-input\" data-toc-modified-id=\"Prepare-BSseq-input-3.1\"><span class=\"toc-item-num\">3.1&nbsp;&nbsp;</span>Prepare BSseq input</a></span></li></ul></li><li><span><a href=\"#Create-BSseq-object\" data-toc-modified-id=\"Create-BSseq-object-4\"><span class=\"toc-item-num\">4&nbsp;&nbsp;</span>Create BSseq object</a></span><ul class=\"toc-item\"><li><span><a href=\"#Add-experiment-design\" data-toc-modified-id=\"Add-experiment-design-4.1\"><span class=\"toc-item-num\">4.1&nbsp;&nbsp;</span>Add experiment design</a></span></li></ul></li><li><span><a href=\"#Run-dmrseq\" data-toc-modified-id=\"Run-dmrseq-5\"><span class=\"toc-item-num\">5&nbsp;&nbsp;</span>Run dmrseq</a></span></li></ul></div>"
   ]
  },
  {
   "cell_type": "code",
   "execution_count": 1,
   "metadata": {
    "ExecuteTime": {
     "end_time": "2021-06-13T17:25:45.380624Z",
     "start_time": "2021-06-13T17:25:44.078086Z"
    }
   },
   "outputs": [],
   "source": [
    "import pandas as pd\n",
    "import numpy as np\n",
    "from pysam import TabixFile\n",
    "import rpy2\n",
    "import pathlib\n",
    "from rpy2.robjects.vectors import IntVector\n",
    "from rpy2.robjects import r, pandas2ri, numpy2ri\n",
    "pandas2ri.activate()\n",
    "numpy2ri.activate()\n",
    "%load_ext rpy2.ipython"
   ]
  },
  {
   "cell_type": "code",
   "execution_count": 2,
   "metadata": {
    "ExecuteTime": {
     "end_time": "2021-06-13T17:25:56.461646Z",
     "start_time": "2021-06-13T17:25:45.383219Z"
    },
    "scrolled": true
   },
   "outputs": [
    {
     "name": "stderr",
     "output_type": "stream",
     "text": [
      "R[write to console]: Loading required package: bsseq\n",
      "\n",
      "R[write to console]: Loading required package: BiocGenerics\n",
      "\n",
      "R[write to console]: Loading required package: parallel\n",
      "\n",
      "R[write to console]: \n",
      "Attaching package: ‘BiocGenerics’\n",
      "\n",
      "\n",
      "R[write to console]: The following objects are masked from ‘package:parallel’:\n",
      "\n",
      "    clusterApply, clusterApplyLB, clusterCall, clusterEvalQ,\n",
      "    clusterExport, clusterMap, parApply, parCapply, parLapply,\n",
      "    parLapplyLB, parRapply, parSapply, parSapplyLB\n",
      "\n",
      "\n",
      "R[write to console]: The following objects are masked from ‘package:stats’:\n",
      "\n",
      "    IQR, mad, sd, var, xtabs\n",
      "\n",
      "\n",
      "R[write to console]: The following objects are masked from ‘package:base’:\n",
      "\n",
      "    anyDuplicated, append, as.data.frame, basename, cbind, colnames,\n",
      "    dirname, do.call, duplicated, eval, evalq, Filter, Find, get, grep,\n",
      "    grepl, intersect, is.unsorted, lapply, Map, mapply, match, mget,\n",
      "    order, paste, pmax, pmax.int, pmin, pmin.int, Position, rank,\n",
      "    rbind, Reduce, rownames, sapply, setdiff, sort, table, tapply,\n",
      "    union, unique, unsplit, which, which.max, which.min\n",
      "\n",
      "\n",
      "R[write to console]: Loading required package: GenomicRanges\n",
      "\n",
      "R[write to console]: Loading required package: stats4\n",
      "\n",
      "R[write to console]: Loading required package: S4Vectors\n",
      "\n",
      "R[write to console]: \n",
      "Attaching package: ‘S4Vectors’\n",
      "\n",
      "\n",
      "R[write to console]: The following object is masked from ‘package:base’:\n",
      "\n",
      "    expand.grid\n",
      "\n",
      "\n",
      "R[write to console]: Loading required package: IRanges\n",
      "\n",
      "R[write to console]: Loading required package: GenomeInfoDb\n",
      "\n",
      "R[write to console]: Loading required package: SummarizedExperiment\n",
      "\n",
      "R[write to console]: Loading required package: Biobase\n",
      "\n",
      "R[write to console]: Welcome to Bioconductor\n",
      "\n",
      "    Vignettes contain introductory material; view with\n",
      "    'browseVignettes()'. To cite Bioconductor, see\n",
      "    'citation(\"Biobase\")', and for packages 'citation(\"pkgname\")'.\n",
      "\n",
      "\n",
      "R[write to console]: Loading required package: DelayedArray\n",
      "\n",
      "R[write to console]: Loading required package: matrixStats\n",
      "\n",
      "R[write to console]: \n",
      "Attaching package: ‘matrixStats’\n",
      "\n",
      "\n",
      "R[write to console]: The following objects are masked from ‘package:Biobase’:\n",
      "\n",
      "    anyMissing, rowMedians\n",
      "\n",
      "\n",
      "R[write to console]: Loading required package: BiocParallel\n",
      "\n",
      "R[write to console]: \n",
      "Attaching package: ‘DelayedArray’\n",
      "\n",
      "\n",
      "R[write to console]: The following objects are masked from ‘package:matrixStats’:\n",
      "\n",
      "    colMaxs, colMins, colRanges, rowMaxs, rowMins, rowRanges\n",
      "\n",
      "\n",
      "R[write to console]: The following objects are masked from ‘package:base’:\n",
      "\n",
      "    aperm, apply, rowsum\n",
      "\n",
      "\n"
     ]
    }
   ],
   "source": [
    "%%R\n",
    "library(dmrseq)"
   ]
  },
  {
   "cell_type": "markdown",
   "metadata": {},
   "source": [
    "## Parameters"
   ]
  },
  {
   "cell_type": "code",
   "execution_count": 3,
   "metadata": {
    "ExecuteTime": {
     "end_time": "2021-06-13T17:25:56.470119Z",
     "start_time": "2021-06-13T17:25:56.465140Z"
    },
    "tags": [
     "parameters"
    ]
   },
   "outputs": [],
   "source": [
    "allc_table_path = '2000.allc_table.tsv'\n",
    "region = 'chr1:0-5000000'\n",
    "\n",
    "# variables\n",
    "testCovariate = 'group'\n",
    "matchCovariate = None\n",
    "adjustCovariate = None\n",
    "\n",
    "# DMR Parameters\n",
    "cutoff = 0.1\n",
    "minNumRegion = 3\n",
    "smooth = True\n",
    "bpSpan = 1000\n",
    "minInSpan = 30\n",
    "maxGapSmooth = 2500\n",
    "maxGap = 1000\n",
    "verbose = True\n",
    "maxPerms = 10\n",
    "stat = \"stat\"\n",
    "block = False\n",
    "blockSize = 5000\n",
    "chrsPerChunk = 1\n",
    "\n",
    "# Parallel\n",
    "cpu = 40"
   ]
  },
  {
   "cell_type": "code",
   "execution_count": 4,
   "metadata": {
    "ExecuteTime": {
     "end_time": "2021-06-13T17:25:56.479222Z",
     "start_time": "2021-06-13T17:25:56.474170Z"
    }
   },
   "outputs": [],
   "source": [
    "# rpy2 can not convert None\n",
    "if (matchCovariate is None) or (len(matchCovariate) == 0):\n",
    "    matchCovariate = []\n",
    "if (adjustCovariate is None) or (len(adjustCovariate) == 0):\n",
    "    adjustCovariate = []"
   ]
  },
  {
   "cell_type": "markdown",
   "metadata": {},
   "source": [
    "## Load data"
   ]
  },
  {
   "cell_type": "code",
   "execution_count": 5,
   "metadata": {
    "ExecuteTime": {
     "end_time": "2021-06-13T17:25:56.512458Z",
     "start_time": "2021-06-13T17:25:56.482578Z"
    }
   },
   "outputs": [
    {
     "data": {
      "text/html": [
       "<div>\n",
       "<style scoped>\n",
       "    .dataframe tbody tr th:only-of-type {\n",
       "        vertical-align: middle;\n",
       "    }\n",
       "\n",
       "    .dataframe tbody tr th {\n",
       "        vertical-align: top;\n",
       "    }\n",
       "\n",
       "    .dataframe thead th {\n",
       "        text-align: right;\n",
       "    }\n",
       "</style>\n",
       "<table border=\"1\" class=\"dataframe\">\n",
       "  <thead>\n",
       "    <tr style=\"text-align: right;\">\n",
       "      <th></th>\n",
       "      <th>allc_path</th>\n",
       "      <th>sample</th>\n",
       "      <th>group</th>\n",
       "    </tr>\n",
       "  </thead>\n",
       "  <tbody>\n",
       "    <tr>\n",
       "      <th>0</th>\n",
       "      <td>/gale/netapp/home/hanliu/scratch/DMR_benchmark...</td>\n",
       "      <td>DG_2000_0</td>\n",
       "      <td>DG</td>\n",
       "    </tr>\n",
       "    <tr>\n",
       "      <th>1</th>\n",
       "      <td>/gale/netapp/home/hanliu/scratch/DMR_benchmark...</td>\n",
       "      <td>DG_2000_1</td>\n",
       "      <td>DG</td>\n",
       "    </tr>\n",
       "    <tr>\n",
       "      <th>2</th>\n",
       "      <td>/gale/netapp/home/hanliu/scratch/DMR_benchmark...</td>\n",
       "      <td>DG_2000_2</td>\n",
       "      <td>DG</td>\n",
       "    </tr>\n",
       "    <tr>\n",
       "      <th>3</th>\n",
       "      <td>/gale/netapp/home/hanliu/scratch/DMR_benchmark...</td>\n",
       "      <td>IT-L23_2000_0</td>\n",
       "      <td>IT-L23</td>\n",
       "    </tr>\n",
       "    <tr>\n",
       "      <th>4</th>\n",
       "      <td>/gale/netapp/home/hanliu/scratch/DMR_benchmark...</td>\n",
       "      <td>IT-L23_2000_1</td>\n",
       "      <td>IT-L23</td>\n",
       "    </tr>\n",
       "    <tr>\n",
       "      <th>5</th>\n",
       "      <td>/gale/netapp/home/hanliu/scratch/DMR_benchmark...</td>\n",
       "      <td>IT-L23_2000_2</td>\n",
       "      <td>IT-L23</td>\n",
       "    </tr>\n",
       "  </tbody>\n",
       "</table>\n",
       "</div>"
      ],
      "text/plain": [
       "                                           allc_path         sample   group\n",
       "0  /gale/netapp/home/hanliu/scratch/DMR_benchmark...      DG_2000_0      DG\n",
       "1  /gale/netapp/home/hanliu/scratch/DMR_benchmark...      DG_2000_1      DG\n",
       "2  /gale/netapp/home/hanliu/scratch/DMR_benchmark...      DG_2000_2      DG\n",
       "3  /gale/netapp/home/hanliu/scratch/DMR_benchmark...  IT-L23_2000_0  IT-L23\n",
       "4  /gale/netapp/home/hanliu/scratch/DMR_benchmark...  IT-L23_2000_1  IT-L23\n",
       "5  /gale/netapp/home/hanliu/scratch/DMR_benchmark...  IT-L23_2000_2  IT-L23"
      ]
     },
     "execution_count": 5,
     "metadata": {},
     "output_type": "execute_result"
    }
   ],
   "source": [
    "allc_table = pd.read_csv(allc_table_path, sep='\\t')\n",
    "allc_table"
   ]
  },
  {
   "cell_type": "code",
   "execution_count": 6,
   "metadata": {
    "ExecuteTime": {
     "end_time": "2021-06-13T17:25:57.427641Z",
     "start_time": "2021-06-13T17:25:56.522329Z"
    }
   },
   "outputs": [],
   "source": [
    "# reformat allc to dss required format\n",
    "def get_data(allc_table):\n",
    "    dfs = []\n",
    "    for _, (input_path, sample, *_) in allc_table.iterrows():\n",
    "        records = []\n",
    "        with TabixFile(str(input_path)) as f:\n",
    "            for line in f.fetch(region):\n",
    "                chromosome, pos, _, _, mc, cov, _ = (line.split('\\t'))\n",
    "                records.append([chromosome, int(pos), int(mc), int(cov)])\n",
    "        dfs.append(\n",
    "            pd.DataFrame(\n",
    "                records,\n",
    "                columns=['chr', 'pos', f'{sample}_mc',\n",
    "                         f'{sample}_cov']).set_index(['chr', 'pos']))\n",
    "    return dfs\n",
    "\n",
    "\n",
    "mc_dfs = get_data(allc_table)\n",
    "sample_order = allc_table['sample'].values\n",
    "total_data = pd.concat(mc_dfs, axis=1, sort=True).fillna(0).astype(int)"
   ]
  },
  {
   "cell_type": "markdown",
   "metadata": {},
   "source": [
    "### Filter low coverage"
   ]
  },
  {
   "cell_type": "code",
   "execution_count": 7,
   "metadata": {
    "ExecuteTime": {
     "end_time": "2021-06-13T17:25:57.452473Z",
     "start_time": "2021-06-13T17:25:57.434692Z"
    }
   },
   "outputs": [],
   "source": [
    "judges = []\n",
    "for group, sub_df in allc_table.groupby(testCovariate):\n",
    "    group_judge = total_data.loc[:,\n",
    "                                 [f'{s}_cov'\n",
    "                                  for s in sub_df['sample']]].sum(axis=1) > 0\n",
    "    judges.append(group_judge)\n",
    "# all the group must > 0\n",
    "judges = np.all(judges, axis=0)"
   ]
  },
  {
   "cell_type": "code",
   "execution_count": 8,
   "metadata": {
    "ExecuteTime": {
     "end_time": "2021-06-13T17:25:57.459133Z",
     "start_time": "2021-06-13T17:25:57.454894Z"
    }
   },
   "outputs": [
    {
     "name": "stdout",
     "output_type": "stream",
     "text": [
      "Got 22586 loci, 22358 passed minimum coverage requirement by dmrseq\n",
      "Using 1 CPUs\n"
     ]
    }
   ],
   "source": [
    "print(\n",
    "    f'Got {judges.size} loci, {judges.sum()} passed minimum coverage requirement by dmrseq'\n",
    ")\n",
    "\n",
    "# The R parallel function uses a lot of memory in the qsub system.\n",
    "# Parallel on region level with single core in R is overall more efficient.\n",
    "cpu = 1\n",
    "print(f'Using {cpu} CPUs')"
   ]
  },
  {
   "cell_type": "markdown",
   "metadata": {},
   "source": [
    "## Set CPU"
   ]
  },
  {
   "cell_type": "code",
   "execution_count": 9,
   "metadata": {
    "ExecuteTime": {
     "end_time": "2021-06-13T17:25:59.999999Z",
     "start_time": "2021-06-13T17:25:57.461750Z"
    }
   },
   "outputs": [],
   "source": [
    "%%R -i cpu\n",
    "library(\"BiocParallel\")\n",
    "register(MulticoreParam(cpu))"
   ]
  },
  {
   "cell_type": "markdown",
   "metadata": {},
   "source": [
    "### Prepare BSseq input"
   ]
  },
  {
   "cell_type": "code",
   "execution_count": 10,
   "metadata": {
    "ExecuteTime": {
     "end_time": "2021-06-13T17:26:00.023693Z",
     "start_time": "2021-06-13T17:26:00.004176Z"
    }
   },
   "outputs": [],
   "source": [
    "mc_data = total_data.loc[judges, [f'{s}_mc' for s in sample_order]].values\n",
    "cov_data = total_data.loc[judges, [f'{s}_cov' for s in sample_order]].values\n",
    "chroms = total_data.loc[judges].index.get_level_values(0).values\n",
    "posision = total_data.loc[judges].index.get_level_values(1).values\n",
    "\n",
    "# remove allc_path column and use sample as index\n",
    "exp_design = allc_table.iloc[:, 1:].set_index('sample')"
   ]
  },
  {
   "cell_type": "markdown",
   "metadata": {},
   "source": [
    "## Create BSseq object"
   ]
  },
  {
   "cell_type": "code",
   "execution_count": 11,
   "metadata": {
    "ExecuteTime": {
     "end_time": "2021-06-13T17:26:00.374008Z",
     "start_time": "2021-06-13T17:26:00.025512Z"
    },
    "code_folding": []
   },
   "outputs": [
    {
     "name": "stdout",
     "output_type": "stream",
     "text": [
      "An object of type 'BSseq' with\n",
      "  22358 methylation loci\n",
      "  6 samples\n",
      "has not been smoothed\n",
      "All assays are in-memory\n"
     ]
    }
   ],
   "source": [
    "%%R -i chroms -i posision -i mc_data -i cov_data -i sample_order\n",
    "bs <- BSseq(chr=chroms,\n",
    "            pos=posision,\n",
    "            M=mc_data,\n",
    "            Cov=cov_data,\n",
    "            sampleNames=sample_order)\n",
    "bs"
   ]
  },
  {
   "cell_type": "markdown",
   "metadata": {},
   "source": [
    "### Add experiment design"
   ]
  },
  {
   "cell_type": "code",
   "execution_count": 12,
   "metadata": {
    "ExecuteTime": {
     "end_time": "2021-06-13T17:26:00.430899Z",
     "start_time": "2021-06-13T17:26:00.377383Z"
    }
   },
   "outputs": [
    {
     "name": "stdout",
     "output_type": "stream",
     "text": [
      "DataFrame with 6 rows and 1 column\n",
      "                    group\n",
      "              <character>\n",
      "DG_2000_0              DG\n",
      "DG_2000_1              DG\n",
      "DG_2000_2              DG\n",
      "IT-L23_2000_0      IT-L23\n",
      "IT-L23_2000_1      IT-L23\n",
      "IT-L23_2000_2      IT-L23\n"
     ]
    }
   ],
   "source": [
    "%%R -i exp_design\n",
    "pData(bs) <- exp_design\n",
    "pData(bs)"
   ]
  },
  {
   "cell_type": "markdown",
   "metadata": {},
   "source": [
    "## Run dmrseq"
   ]
  },
  {
   "cell_type": "code",
   "execution_count": 13,
   "metadata": {
    "ExecuteTime": {
     "end_time": "2021-06-13T17:26:37.265744Z",
     "start_time": "2021-06-13T17:26:00.434035Z"
    },
    "scrolled": true
   },
   "outputs": [
    {
     "name": "stderr",
     "output_type": "stream",
     "text": [
      "R[write to console]: Assuming the test covariate group is a factor.\n",
      "\n",
      "R[write to console]: Condition: IT-L23 vs DG\n",
      "\n",
      "R[write to console]: Using a single core (backend: BiocParallel:MulticoreParam).\n",
      "\n",
      "R[write to console]: Computing on 1 chromosome(s) at a time.\n",
      "\n",
      "\n",
      "R[write to console]: Detecting candidate regions with coefficient larger than 0.1 in magnitude.\n",
      "\n",
      "R[write to console]: ...Chromosome chr1: \n",
      "R[write to console]: Smoothed (0.03 min). \n",
      "R[write to console]: 341 regions scored (0.17 min). \n",
      "\n",
      "R[write to console]: * 341 candidates detected\n",
      "\n",
      "R[write to console]: Performing balanced permutations of condition across samples to generate a null distribution of region test statistics\n",
      "\n",
      "R[write to console]: \n",
      "Beginning permutation 1\n",
      "\n",
      "R[write to console]: ...Chromosome chr1: \n",
      "R[write to console]: Smoothed (0.02 min). \n",
      "R[write to console]: 70 regions scored (0.04 min). \n",
      "\n",
      "R[write to console]: * 1 out of 9 permutations completed (70 null candidates)\n",
      "\n",
      "R[write to console]: \n",
      "Beginning permutation 2\n",
      "\n",
      "R[write to console]: ...Chromosome chr1: \n",
      "R[write to console]: Smoothed (0.01 min). \n",
      "R[write to console]: 72 regions scored (0.03 min). \n",
      "\n",
      "R[write to console]: * 2 out of 9 permutations completed (72 null candidates)\n",
      "\n",
      "R[write to console]: \n",
      "Beginning permutation 3\n",
      "\n",
      "R[write to console]: ...Chromosome chr1: \n",
      "R[write to console]: Smoothed (0.01 min). \n",
      "R[write to console]: 72 regions scored (0.03 min). \n",
      "\n",
      "R[write to console]: * 3 out of 9 permutations completed (72 null candidates)\n",
      "\n",
      "R[write to console]: \n",
      "Beginning permutation 4\n",
      "\n",
      "R[write to console]: ...Chromosome chr1: \n",
      "R[write to console]: Smoothed (0.01 min). \n",
      "R[write to console]: 64 regions scored (0.03 min). \n",
      "\n",
      "R[write to console]: * 4 out of 9 permutations completed (64 null candidates)\n",
      "\n",
      "R[write to console]: \n",
      "Beginning permutation 5\n",
      "\n",
      "R[write to console]: ...Chromosome chr1: \n",
      "R[write to console]: Smoothed (0.03 min). \n",
      "R[write to console]: 64 regions scored (0.03 min). \n",
      "\n",
      "R[write to console]: * 5 out of 9 permutations completed (64 null candidates)\n",
      "\n",
      "R[write to console]: \n",
      "Beginning permutation 6\n",
      "\n",
      "R[write to console]: ...Chromosome chr1: \n",
      "R[write to console]: Smoothed (0.01 min). \n",
      "R[write to console]: 61 regions scored (0.03 min). \n",
      "\n",
      "R[write to console]: * 6 out of 9 permutations completed (61 null candidates)\n",
      "\n",
      "R[write to console]: \n",
      "Beginning permutation 7\n",
      "\n",
      "R[write to console]: ...Chromosome chr1: \n",
      "R[write to console]: Smoothed (0.01 min). \n",
      "R[write to console]: 66 regions scored (0.03 min). \n",
      "\n",
      "R[write to console]: * 7 out of 9 permutations completed (66 null candidates)\n",
      "\n",
      "R[write to console]: \n",
      "Beginning permutation 8\n",
      "\n",
      "R[write to console]: ...Chromosome chr1: \n",
      "R[write to console]: Smoothed (0.01 min). \n",
      "R[write to console]: 64 regions scored (0.03 min). \n",
      "\n",
      "R[write to console]: * 8 out of 9 permutations completed (64 null candidates)\n",
      "\n",
      "R[write to console]: \n",
      "Beginning permutation 9\n",
      "\n",
      "R[write to console]: ...Chromosome chr1: \n",
      "R[write to console]: Smoothed (0.01 min). \n",
      "R[write to console]: 66 regions scored (0.03 min). \n",
      "\n",
      "R[write to console]: * 9 out of 9 permutations completed (66 null candidates)\n",
      "\n"
     ]
    }
   ],
   "source": [
    "%%R -i testCovariate -i adjustCovariate -i matchCovariate -i cutoff -i minNumRegion -i smooth -i bpSpan -i minInSpan -i maxGapSmooth -i maxGap -i verbose -i maxPerms -i stat -i block -i blockSize -i chrsPerChunk -o regions_df\n",
    "\n",
    "# If input is empty list, turn it into NULL\n",
    "if (length(adjustCovariate) == 0) {\n",
    "    adjustCovariate <- NULL\n",
    "}\n",
    "if (length(matchCovariate) == 0) {\n",
    "    matchCovariate <- NULL\n",
    "}\n",
    "\n",
    "# Call DMR\n",
    "regions <- dmrseq(bs,\n",
    "                  testCovariate=testCovariate,\n",
    "                  adjustCovariate=adjustCovariate,\n",
    "                  cutoff=cutoff,\n",
    "                  minNumRegion=minNumRegion,\n",
    "                  smooth=smooth,\n",
    "                  bpSpan=bpSpan,\n",
    "                  minInSpan=minInSpan,\n",
    "                  maxGapSmooth=maxGapSmooth,\n",
    "                  maxGap=maxGap,\n",
    "                  verbose=verbose,\n",
    "                  maxPerms=maxPerms,\n",
    "                  matchCovariate=matchCovariate,\n",
    "                  BPPARAM=bpparam(),\n",
    "                  stat=stat,\n",
    "                  block=block,\n",
    "                  blockSize=blockSize,\n",
    "                  chrsPerChunk=chrsPerChunk)\n",
    "regions_df <- as.data.frame(regions)\n",
    "\n",
    "# add raw methylation difference\n",
    "regions_df$diff <- meanDiff(bs, dmrs=regions, testCovariate=\"group\")"
   ]
  },
  {
   "cell_type": "code",
   "execution_count": 14,
   "metadata": {
    "ExecuteTime": {
     "end_time": "2021-06-13T17:26:37.856957Z",
     "start_time": "2021-06-13T17:26:37.267791Z"
    }
   },
   "outputs": [],
   "source": [
    "output_path = f'{region}.DMR.hdf'\n",
    "try:\n",
    "    regions_df.to_hdf(output_path, key='data', format=\"table\")\n",
    "except NameError:\n",
    "    # when there is no sites to run, R will fail and regions_df will not occur.\n",
    "    import subprocess\n",
    "    subprocess.run(f'touch {output_path}', shell=True)"
   ]
  },
  {
   "cell_type": "code",
   "execution_count": 18,
   "metadata": {
    "ExecuteTime": {
     "end_time": "2021-06-13T17:27:14.866581Z",
     "start_time": "2021-06-13T17:27:14.610283Z"
    },
    "deletable": false,
    "editable": false,
    "run_control": {
     "frozen": true
    }
   },
   "outputs": [
    {
     "name": "stderr",
     "output_type": "stream",
     "text": [
      "R[write to console]: [plotDMRs] Plotting  DMRs\n",
      "\n"
     ]
    },
    {
     "data": {
      "image/png": "[encoded data removed]"
     },
     "metadata": {},
     "output_type": "display_data"
    }
   ],
   "source": [
    "# %%R\n",
    "# plotDMRs(bs, regions=regions[1,], testCovariate=testCovariate)"
   ]
  },
  {
   "cell_type": "code",
   "execution_count": 31,
   "metadata": {
    "ExecuteTime": {
     "end_time": "2021-06-13T17:31:22.079764Z",
     "start_time": "2021-06-13T17:31:21.596635Z"
    },
    "code_folding": [],
    "deletable": false,
    "editable": false,
    "run_control": {
     "frozen": true
    }
   },
   "outputs": [
    {
     "data": {
      "image/png": "[encoded data removed]"
     },
     "metadata": {},
     "output_type": "display_data"
    }
   ],
   "source": [
    "# %%R\n",
    "# plotEmpiricalDistribution(bs, testCovariate=testCovariate, \n",
    "#                           type=\"Cov\", bySample=TRUE)"
   ]
  },
  {
   "cell_type": "code",
   "execution_count": 32,
   "metadata": {
    "ExecuteTime": {
     "end_time": "2021-06-13T17:31:27.628486Z",
     "start_time": "2021-06-13T17:31:27.140279Z"
    },
    "deletable": false,
    "editable": false,
    "run_control": {
     "frozen": true
    }
   },
   "outputs": [
    {
     "data": {
      "image/png": "[encoded data removed]"
     },
     "metadata": {},
     "output_type": "display_data"
    }
   ],
   "source": [
    "# %%R\n",
    "# plotEmpiricalDistribution(bs, testCovariate=testCovariate, bySample=TRUE)"
   ]
  },
  {
   "cell_type": "code",
   "execution_count": null,
   "metadata": {},
   "outputs": [],
   "source": []
  },
  {
   "cell_type": "markdown",
   "metadata": {},
   "source": [
    "```R\n",
    "Description\n",
    "Performs a two-step approach that (1) detects candidate regions, and (2) scores candidate regions with an exchangeable (across the genome) statistic and evaluates statistical significance using a permuation test on the pooled null distribution of scores.\n",
    "\n",
    "Usage\n",
    "dmrseq(bs, testCovariate, adjustCovariate = NULL, cutoff = 0.1,\n",
    "  minNumRegion = 5, smooth = TRUE, bpSpan = 1000, minInSpan = 30,\n",
    "  maxGapSmooth = 2500, maxGap = 1000, verbose = TRUE,\n",
    "  maxPerms = 10, matchCovariate = NULL, BPPARAM = bpparam(),\n",
    "  stat = \"stat\", block = FALSE, blockSize = 5000, chrsPerChunk = 1)\n",
    "Arguments\n",
    "bs\t\n",
    "bsseq object containing the methylation values as well as the phenotype matrix that contains sample level covariates\n",
    "\n",
    "testCovariate\t\n",
    "Character value indicating which variable (column name) in pData(bs) to test for association of methylation levels. Can alternatively specify an integer value indicating which of column of pData(bs) to use. This is used to construct the design matrix for the test statistic calculation. To run using a continuous or categorial covariate with more than two groups, simply pass in the name of a column in 'pData' that contains this covariate. A continuous covariate is assmued if the data type in the 'testCovariate' slot is continuous, with the exception of if there are only two unique values (then a two group comparison is carried out).\n",
    "\n",
    "adjustCovariate\t\n",
    "an (optional) character value or vector indicating which variables (column names) in pData(bs) will be adjusted for when testing for the association of methylation value with the testCovariate. Can alternatively specify an integer value or vector indicating which of the columns of pData(bs) to adjust for. If not NULL (default), then this is also used to construct the design matrix for the test statistic calculation.\n",
    "\n",
    "cutoff\t\n",
    "scalar value that represents the absolute value (or a vector of two numbers representing a lower and upper bound) for the cutoff of the single CpG coefficient that is used to discover candidate regions. Default value is 0.10.\n",
    "\n",
    "minNumRegion\t\n",
    "positive integer that represents the minimum number of CpGs to consider for a candidate region. Default value is 5. Minimum value is 3.\n",
    "\n",
    "smooth\t\n",
    "logical value that indicates whether or not to smooth the CpG level signal when discovering candidate regions. Defaults to TRUE.\n",
    "\n",
    "bpSpan\t\n",
    "a positive integer that represents the length in basepairs of the smoothing span window if smooth is TRUE. Default value is 1000.\n",
    "\n",
    "minInSpan\t\n",
    "positive integer that represents the minimum number of CpGs in a smoothing span window if smooth is TRUE. Default value is 30.\n",
    "\n",
    "maxGapSmooth\t\n",
    "integer value representing maximum number of basepairs in between neighboring CpGs to be included in the same cluster when performing smoothing (should generally be larger than maxGap)\n",
    "\n",
    "maxGap\t\n",
    "integer value representing maximum number of basepairs in between neighboring CpGs to be included in the same DMR.\n",
    "\n",
    "verbose\t\n",
    "logical value that indicates whether progress messages should be printed to stdout. Defaults value is TRUE.\n",
    "\n",
    "maxPerms\t\n",
    "a positive integer that represents the maximum number of permutations that will be used to generate the global null distribution of test statistics. Default value is 10.\n",
    "\n",
    "matchCovariate\t\n",
    "An (optional) character value indicating which variable (column name) of pData(bs) will be blocked for when constructing the permutations in order to test for the association of methylation value with the testCovariate, only to be used when testCovariate is a two-group factor and the number of permutations possible is less than 500000. Alternatively, you can specify an integer value indicating which column of pData(bs) to block for. Blocking means that only permutations with balanced composition of testCovariate values will be used (for example if you have samples from different gender and this is not your covariate of interest, it is recommended to use gender as a matching covariate to avoid one of the permutations testing entirely males versus females; this violates the null hypothesis and will decrease power). If not NULL (default), then no blocking is performed.\n",
    "\n",
    "BPPARAM\t\n",
    "a BiocParallelParam object to specify the parallel backend. The default option is BiocParallel::bpparam() which will automatically creates a cluster appropriate for the operating system.\n",
    "\n",
    "stat\t\n",
    "a character vector indicating the name of the column of the output to use as the region-level test statistic. Default value is 'stat' which is the region level-statistic designed to be comparable across the genome. It is not recommended to change this argument, but it can be done for experimental purposes. Possible values are: 'L' - the number of loci in the region, 'area' - the sum of the smoothed loci statistics, 'beta' - the effect size of the region, 'stat' - the test statistic for the region, or 'avg' - the average smoothed loci statistic.\n",
    "\n",
    "block\t\n",
    "logical indicating whether to search for large-scale (low resolution) blocks of differential methylation (default is FALSE, which means that local DMRs are desired). If TRUE, the parameters for bpSpan, minInSpan, and maxGapSmooth should be adjusted (increased) accordingly. This setting will also merge candidate regions that (1) are in the same direction and (2) are less than 1kb apart with no covered CpGs separating them. The region-level model used is also slightly modified - instead of a loci-specific intercept for each CpG in theregion, the intercept term is modeled as a natural spline with one interior knot per each 10kb of length (up to 10 interior knots).\n",
    "\n",
    "blockSize\t\n",
    "numeric value indicating the minimum number of basepairs to be considered a block (only used if block=TRUE). Default is 5000 basepairs.\n",
    "\n",
    "chrsPerChunk\t\n",
    "a positive integer value indicating the number of chromosomes per chunk. The default is 1, meaning that the data will be looped through one chromosome at a time. When pairing up multiple chromosomes per chunk, sizes (in terms of numbers of CpGs) will be taken into consideration to balance the sizes of each chunk.\n",
    "\n",
    "Value\n",
    "a GRanges object that contains the results of the inference. The object contains one row for each candidate region, sorted by q-value and then chromosome. The standard GRanges chr, start, and end are included, along with at least 7 metadata columns, in the following order: 1. L = the number of CpGs contained in the region, 2. area = the sum of the smoothed beta values 3. beta = the coefficient value for the condition difference (there will be more than one column here if a multi-group comparison was performed), 4. stat = the test statistic for the condition difference, 5. pval = the permutation p-value for the significance of the test statistic, and 6. qval = the q-value for the test statistic (adjustment for multiple comparisons to control false discovery rate). 7. index = an IRanges containing the indices of the region's first CpG to last CpG.\n",
    "\n",
    "Examples\n",
    "\n",
    "# load example data \n",
    "data(BS.chr21)\n",
    "\n",
    "# the covariate of interest is the 'CellType' column of pData(BS.chr21)\n",
    "testCovariate <- 'CellType'\n",
    "\n",
    "# run dmrseq on a subset of the chromosome (10K CpGs)\n",
    "regions <- dmrseq(bs=BS.chr21[240001:250000,],\n",
    "                 cutoff = 0.05,\n",
    "                 testCovariate=testCovariate)\n",
    "```"
   ]
  },
  {
   "cell_type": "code",
   "execution_count": null,
   "metadata": {},
   "outputs": [],
   "source": []
  }
 ],
 "metadata": {
  "celltoolbar": "Tags",
  "kernelspec": {
   "display_name": "Python 3",
   "language": "python",
   "name": "python3"
  },
  "language_info": {
   "codemirror_mode": {
    "name": "ipython",
    "version": 3
   },
   "file_extension": ".py",
   "mimetype": "text/x-python",
   "name": "python",
   "nbconvert_exporter": "python",
   "pygments_lexer": "ipython3",
   "version": "3.7.8"
  },
  "toc": {
   "base_numbering": 1,
   "nav_menu": {},
   "number_sections": true,
   "sideBar": true,
   "skip_h1_title": true,
   "title_cell": "Table of Contents",
   "title_sidebar": "Contents",
   "toc_cell": true,
   "toc_position": {},
   "toc_section_display": true,
   "toc_window_display": true
  }
 },
 "nbformat": 4,
 "nbformat_minor": 4
}