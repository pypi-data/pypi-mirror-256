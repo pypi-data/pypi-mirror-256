{
 "cells": [
  {
   "cell_type": "markdown",
   "metadata": {},
   "source": [
    "# DSS Single Region All DML\n",
    "\n",
    "- Only calculate single region\n",
    "- Save all the DML statsitics for two group of samples\n"
   ]
  },
  {
   "cell_type": "code",
   "execution_count": null,
   "metadata": {},
   "outputs": [],
   "source": [
    "import pandas as pd\n",
    "from pysam import TabixFile\n",
    "import rpy2\n",
    "import pathlib\n",
    "from rpy2.robjects.vectors import IntVector\n",
    "%load_ext rpy2.ipython"
   ]
  },
  {
   "cell_type": "markdown",
   "metadata": {},
   "source": [
    "## Parameters"
   ]
  },
  {
   "cell_type": "code",
   "execution_count": null,
   "metadata": {
    "tags": [
     "parameters"
    ]
   },
   "outputs": [],
   "source": [
    "region = 'chr19:0-1000000'\n",
    "allc_paths = [\n",
    "    '../../DG_ALLC/DG_1000_0.allc.tsv.gz',\n",
    "    '../../DG_ALLC/DG_1000_1.allc.tsv.gz',\n",
    "    '../../DG_ALLC/DG_1000_2.allc.tsv.gz',\n",
    "    '../../IT-L23_ALLC/IT-L23_1000_0.allc.tsv.gz',\n",
    "    '../../IT-L23_ALLC/IT-L23_1000_1.allc.tsv.gz',\n",
    "    '../../IT-L23_ALLC/IT-L23_1000_2.allc.tsv.gz'\n",
    "]\n",
    "group1 = ['DG_1000_0', 'DG_1000_1', 'DG_1000_2']\n",
    "group2 = ['IT-L23_1000_0', 'IT-L23_1000_1', 'IT-L23_1000_2']\n",
    "smoothing = True"
   ]
  },
  {
   "cell_type": "code",
   "execution_count": null,
   "metadata": {},
   "outputs": [],
   "source": [
    "output_path = f'{region}.DSS.DML.hdf'\n",
    "samples = group1 + group2"
   ]
  },
  {
   "cell_type": "markdown",
   "metadata": {},
   "source": [
    "## R Library\n",
    "\n",
    "If not installed, run these code to install:\n",
    "```R\n",
    "%%R\n",
    "\n",
    "if (!requireNamespace(\"BiocManager\", quietly = TRUE))\n",
    "    install.packages(\"BiocManager\")\n",
    "\n",
    "BiocManager::install(\"DSS\")\n",
    "```"
   ]
  },
  {
   "cell_type": "code",
   "execution_count": null,
   "metadata": {},
   "outputs": [],
   "source": [
    "%%R\n",
    "library(DSS)\n",
    "require(bsseq)"
   ]
  },
  {
   "cell_type": "markdown",
   "metadata": {},
   "source": [
    "## Load Data"
   ]
  },
  {
   "cell_type": "code",
   "execution_count": null,
   "metadata": {},
   "outputs": [],
   "source": [
    "# reformat allc to dss required format\n",
    "def get_data(allc_paths):\n",
    "    dss_dfs = []\n",
    "    for input_path in allc_paths:\n",
    "        records = []\n",
    "        with TabixFile(str(input_path)) as f:\n",
    "            for line in f.fetch(region):\n",
    "                chromosome, pos, _, _, mc, cov, _ = (line.split('\\t'))\n",
    "                records.append([chromosome, int(pos), int(cov), int(mc)])\n",
    "        dss_dfs.append(pd.DataFrame(records, columns=['chr', 'pos', 'N', 'X']))\n",
    "    return dss_dfs\n",
    "\n",
    "dss_dfs = get_data(allc_paths)"
   ]
  },
  {
   "cell_type": "code",
   "execution_count": null,
   "metadata": {},
   "outputs": [],
   "source": [
    "group1_count = 0\n",
    "group2_count = 0\n",
    "for sample, dss_df in zip(samples, dss_dfs):\n",
    "    if sample in group1:\n",
    "        group1_count += dss_df.shape[0]\n",
    "    else:\n",
    "        group2_count += dss_df.shape[0]\n",
    "if (group1_count == 0) or (group2_count == 0):\n",
    "    # create an empty df in case one of the group is all 0\n",
    "    dmls = pd.DataFrame([],\n",
    "                        columns=[\n",
    "                            'chr', 'pos', 'mu1', 'mu2', 'diff', 'diff.se',\n",
    "                            'stat', 'phi1', 'phi2', 'pval', 'fdr',\n",
    "                            'postprob.overThreshold'\n",
    "                        ])\n",
    "    # R code will fail in this case, but dmls is created here"
   ]
  },
  {
   "cell_type": "markdown",
   "metadata": {},
   "source": [
    "## Create Dataset"
   ]
  },
  {
   "cell_type": "code",
   "execution_count": null,
   "metadata": {},
   "outputs": [],
   "source": [
    "%%R -i dss_dfs -i samples\n",
    "BSobj = makeBSseqData(dss_dfs, samples)\n",
    "BSobj"
   ]
  },
  {
   "cell_type": "markdown",
   "metadata": {},
   "source": [
    "## DML test"
   ]
  },
  {
   "cell_type": "code",
   "execution_count": null,
   "metadata": {},
   "outputs": [],
   "source": [
    "%%R -i group1 -i group2 -i smoothing\n",
    "# do not parallel in R\n",
    "default <- registered()\n",
    "register(MulticoreParam(workers = 1), default = TRUE)\n",
    "\n",
    "dml_result <- DMLtest(BSobj, \n",
    "                     group1=unlist(group1), # turn list into vector\n",
    "                     group2=unlist(group2), \n",
    "                     smoothing=smoothing,\n",
    "                     BPPARAM=bpparam())"
   ]
  },
  {
   "cell_type": "markdown",
   "metadata": {},
   "source": [
    "## Call DML (DMS)"
   ]
  },
  {
   "cell_type": "code",
   "execution_count": null,
   "metadata": {},
   "outputs": [],
   "source": [
    "%%R -o dmls\n",
    "dmls <- callDML(dml_result, p.threshold=1)"
   ]
  },
  {
   "cell_type": "markdown",
   "metadata": {},
   "source": [
    "## Save"
   ]
  },
  {
   "cell_type": "code",
   "execution_count": null,
   "metadata": {
    "pycharm": {
     "name": "#%%\n"
    }
   },
   "outputs": [],
   "source": [
    "try:\n",
    "    dmls.to_hdf(output_path, key='data', format=\"table\")\n",
    "except NameError:\n",
    "    # in case there is no CpG in the input, R code will fail and not return dmls obj\n",
    "    import subprocess\n",
    "    subprocess.run(f'touch {output_path}', shell=True)\n",
    "    subprocess.run(f'touch {output_path}.empty_flag', shell=True)\n"
   ]
  }
 ],
 "metadata": {
  "celltoolbar": "Tags",
  "hide_input": false,
  "kernelspec": {
   "display_name": "Python 3",
   "language": "python",
   "name": "python3"
  },
  "language_info": {
   "codemirror_mode": {
    "name": "ipython",
    "version": 3
   },
   "file_extension": ".py",
   "mimetype": "text/x-python",
   "name": "python",
   "nbconvert_exporter": "python",
   "pygments_lexer": "ipython3",
   "version": "3.7.8"
  },
  "toc": {
   "base_numbering": 1,
   "nav_menu": {},
   "number_sections": true,
   "sideBar": true,
   "skip_h1_title": true,
   "title_cell": "Table of Contents",
   "title_sidebar": "Contents",
   "toc_cell": false,
   "toc_position": {},
   "toc_section_display": true,
   "toc_window_display": true
  }
 },
 "nbformat": 4,
 "nbformat_minor": 4
}