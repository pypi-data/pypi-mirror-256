{
 "cells": [
  {
   "cell_type": "markdown",
   "metadata": {},
   "source": [
    "# DSS Single Region All DML\n",
    "\n",
    "- Only calculate single region\n",
    "- Save all the DML statsitics for two group of samples\n"
   ]
  },
  {
   "cell_type": "code",
   "execution_count": 1,
   "metadata": {
    "ExecuteTime": {
     "end_time": "2021-06-26T00:02:14.034971Z",
     "start_time": "2021-06-26T00:02:11.606555Z"
    }
   },
   "outputs": [],
   "source": [
    "import pandas as pd\n",
    "from pysam import TabixFile\n",
    "import rpy2\n",
    "import pathlib\n",
    "from rpy2.robjects.vectors import IntVector\n",
    "from collections import defaultdict\n",
    "%load_ext rpy2.ipython"
   ]
  },
  {
   "cell_type": "markdown",
   "metadata": {},
   "source": [
    "## Parameters"
   ]
  },
  {
   "cell_type": "code",
   "execution_count": 3,
   "metadata": {
    "ExecuteTime": {
     "end_time": "2021-06-26T00:02:15.619456Z",
     "start_time": "2021-06-26T00:02:15.616091Z"
    },
    "tags": [
     "parameters"
    ]
   },
   "outputs": [],
   "source": [
    "region = 'chr19:0-5000000'\n",
    "allc_table_path = 'allc_table.tsv'\n",
    "smoothing = True"
   ]
  },
  {
   "cell_type": "code",
   "execution_count": 4,
   "metadata": {
    "ExecuteTime": {
     "end_time": "2021-06-26T00:02:16.127113Z",
     "start_time": "2021-06-26T00:02:16.123482Z"
    }
   },
   "outputs": [],
   "source": [
    "output_path = f'{region}.DSS.DML.hdf'"
   ]
  },
  {
   "cell_type": "markdown",
   "metadata": {},
   "source": [
    "## R Library\n",
    "\n",
    "If not installed, run these code to install:\n",
    "```R\n",
    "%%R\n",
    "\n",
    "if (!requireNamespace(\"BiocManager\", quietly = TRUE))\n",
    "    install.packages(\"BiocManager\")\n",
    "\n",
    "BiocManager::install(\"DSS\")\n",
    "```"
   ]
  },
  {
   "cell_type": "code",
   "execution_count": 5,
   "metadata": {
    "ExecuteTime": {
     "end_time": "2021-06-26T00:02:30.419332Z",
     "start_time": "2021-06-26T00:02:16.961421Z"
    },
    "scrolled": true
   },
   "outputs": [
    {
     "name": "stderr",
     "output_type": "stream",
     "text": [
      "R[write to console]: Loading required package: Biobase\n",
      "\n",
      "R[write to console]: Loading required package: BiocGenerics\n",
      "\n",
      "R[write to console]: Loading required package: parallel\n",
      "\n",
      "R[write to console]: \n",
      "Attaching package: ‘BiocGenerics’\n",
      "\n",
      "\n",
      "R[write to console]: The following objects are masked from ‘package:parallel’:\n",
      "\n",
      "    clusterApply, clusterApplyLB, clusterCall, clusterEvalQ,\n",
      "    clusterExport, clusterMap, parApply, parCapply, parLapply,\n",
      "    parLapplyLB, parRapply, parSapply, parSapplyLB\n",
      "\n",
      "\n",
      "R[write to console]: The following objects are masked from ‘package:stats’:\n",
      "\n",
      "    IQR, mad, sd, var, xtabs\n",
      "\n",
      "\n",
      "R[write to console]: The following objects are masked from ‘package:base’:\n",
      "\n",
      "    anyDuplicated, append, as.data.frame, basename, cbind, colnames,\n",
      "    dirname, do.call, duplicated, eval, evalq, Filter, Find, get, grep,\n",
      "    grepl, intersect, is.unsorted, lapply, Map, mapply, match, mget,\n",
      "    order, paste, pmax, pmax.int, pmin, pmin.int, Position, rank,\n",
      "    rbind, Reduce, rownames, sapply, setdiff, sort, table, tapply,\n",
      "    union, unique, unsplit, which, which.max, which.min\n",
      "\n",
      "\n",
      "R[write to console]: Welcome to Bioconductor\n",
      "\n",
      "    Vignettes contain introductory material; view with\n",
      "    'browseVignettes()'. To cite Bioconductor, see\n",
      "    'citation(\"Biobase\")', and for packages 'citation(\"pkgname\")'.\n",
      "\n",
      "\n",
      "R[write to console]: Loading required package: bsseq\n",
      "\n",
      "R[write to console]: Loading required package: GenomicRanges\n",
      "\n",
      "R[write to console]: Loading required package: stats4\n",
      "\n",
      "R[write to console]: Loading required package: S4Vectors\n",
      "\n",
      "R[write to console]: \n",
      "Attaching package: ‘S4Vectors’\n",
      "\n",
      "\n",
      "R[write to console]: The following object is masked from ‘package:base’:\n",
      "\n",
      "    expand.grid\n",
      "\n",
      "\n",
      "R[write to console]: Loading required package: IRanges\n",
      "\n",
      "R[write to console]: Loading required package: GenomeInfoDb\n",
      "\n",
      "R[write to console]: Loading required package: SummarizedExperiment\n",
      "\n",
      "R[write to console]: Loading required package: DelayedArray\n",
      "\n",
      "R[write to console]: Loading required package: matrixStats\n",
      "\n",
      "R[write to console]: \n",
      "Attaching package: ‘matrixStats’\n",
      "\n",
      "\n",
      "R[write to console]: The following objects are masked from ‘package:Biobase’:\n",
      "\n",
      "    anyMissing, rowMedians\n",
      "\n",
      "\n",
      "R[write to console]: Loading required package: BiocParallel\n",
      "\n",
      "R[write to console]: \n",
      "Attaching package: ‘DelayedArray’\n",
      "\n",
      "\n",
      "R[write to console]: The following objects are masked from ‘package:matrixStats’:\n",
      "\n",
      "    colMaxs, colMins, colRanges, rowMaxs, rowMins, rowRanges\n",
      "\n",
      "\n",
      "R[write to console]: The following objects are masked from ‘package:base’:\n",
      "\n",
      "    aperm, apply, rowsum\n",
      "\n",
      "\n",
      "R[write to console]: Loading required package: splines\n",
      "\n"
     ]
    }
   ],
   "source": [
    "%%R\n",
    "library(DSS)\n",
    "require(bsseq)"
   ]
  },
  {
   "cell_type": "markdown",
   "metadata": {},
   "source": [
    "## Load Data"
   ]
  },
  {
   "cell_type": "code",
   "execution_count": 6,
   "metadata": {
    "ExecuteTime": {
     "end_time": "2021-06-26T00:02:30.457991Z",
     "start_time": "2021-06-26T00:02:30.424976Z"
    }
   },
   "outputs": [
    {
     "data": {
      "text/html": [
       "<div>\n",
       "<style scoped>\n",
       "    .dataframe tbody tr th:only-of-type {\n",
       "        vertical-align: middle;\n",
       "    }\n",
       "\n",
       "    .dataframe tbody tr th {\n",
       "        vertical-align: top;\n",
       "    }\n",
       "\n",
       "    .dataframe thead th {\n",
       "        text-align: right;\n",
       "    }\n",
       "</style>\n",
       "<table border=\"1\" class=\"dataframe\">\n",
       "  <thead>\n",
       "    <tr style=\"text-align: right;\">\n",
       "      <th></th>\n",
       "      <th>sample</th>\n",
       "      <th>group</th>\n",
       "    </tr>\n",
       "    <tr>\n",
       "      <th>allc_path</th>\n",
       "      <th></th>\n",
       "      <th></th>\n",
       "    </tr>\n",
       "  </thead>\n",
       "  <tbody>\n",
       "    <tr>\n",
       "      <th>/gale/netapp/home/hanliu/scratch/DMR_benchmark/simulation/effect_size_0.9/10/10.0.allc.tsv.gz</th>\n",
       "      <td>10_0</td>\n",
       "      <td>A</td>\n",
       "    </tr>\n",
       "    <tr>\n",
       "      <th>/gale/netapp/home/hanliu/scratch/DMR_benchmark/simulation/effect_size_0.9/10/10.1.allc.tsv.gz</th>\n",
       "      <td>10_1</td>\n",
       "      <td>A</td>\n",
       "    </tr>\n",
       "    <tr>\n",
       "      <th>/gale/netapp/home/hanliu/scratch/DMR_benchmark/simulation/effect_size_0.9/10/10.2.allc.tsv.gz</th>\n",
       "      <td>10_2</td>\n",
       "      <td>A</td>\n",
       "    </tr>\n",
       "    <tr>\n",
       "      <th>/gale/netapp/home/hanliu/scratch/DMR_benchmark/simulation/effect_size_0.9/10/10.3.allc.tsv.gz</th>\n",
       "      <td>10_3</td>\n",
       "      <td>B</td>\n",
       "    </tr>\n",
       "    <tr>\n",
       "      <th>/gale/netapp/home/hanliu/scratch/DMR_benchmark/simulation/effect_size_0.9/10/10.4.allc.tsv.gz</th>\n",
       "      <td>10_4</td>\n",
       "      <td>B</td>\n",
       "    </tr>\n",
       "    <tr>\n",
       "      <th>/gale/netapp/home/hanliu/scratch/DMR_benchmark/simulation/effect_size_0.9/10/10.5.allc.tsv.gz</th>\n",
       "      <td>10_5</td>\n",
       "      <td>B</td>\n",
       "    </tr>\n",
       "    <tr>\n",
       "      <th>/gale/netapp/home/hanliu/scratch/DMR_benchmark/simulation_2/effect_size_0.9/10/10.6.allc.tsv.gz</th>\n",
       "      <td>10_6</td>\n",
       "      <td>C</td>\n",
       "    </tr>\n",
       "    <tr>\n",
       "      <th>/gale/netapp/home/hanliu/scratch/DMR_benchmark/simulation_2/effect_size_0.9/10/10.7.allc.tsv.gz</th>\n",
       "      <td>10_7</td>\n",
       "      <td>C</td>\n",
       "    </tr>\n",
       "    <tr>\n",
       "      <th>/gale/netapp/home/hanliu/scratch/DMR_benchmark/simulation_2/effect_size_0.9/10/10.8.allc.tsv.gz</th>\n",
       "      <td>10_8</td>\n",
       "      <td>C</td>\n",
       "    </tr>\n",
       "    <tr>\n",
       "      <th>/gale/netapp/home/hanliu/scratch/DMR_benchmark/simulation_2/effect_size_0.9/10/10.9.allc.tsv.gz</th>\n",
       "      <td>10_9</td>\n",
       "      <td>D</td>\n",
       "    </tr>\n",
       "    <tr>\n",
       "      <th>/gale/netapp/home/hanliu/scratch/DMR_benchmark/simulation_2/effect_size_0.9/10/10.10.allc.tsv.gz</th>\n",
       "      <td>10_10</td>\n",
       "      <td>D</td>\n",
       "    </tr>\n",
       "    <tr>\n",
       "      <th>/gale/netapp/home/hanliu/scratch/DMR_benchmark/simulation_2/effect_size_0.9/10/10.11.allc.tsv.gz</th>\n",
       "      <td>10_11</td>\n",
       "      <td>D</td>\n",
       "    </tr>\n",
       "  </tbody>\n",
       "</table>\n",
       "</div>"
      ],
      "text/plain": [
       "                                                   sample group\n",
       "allc_path                                                      \n",
       "/gale/netapp/home/hanliu/scratch/DMR_benchmark/...   10_0     A\n",
       "/gale/netapp/home/hanliu/scratch/DMR_benchmark/...   10_1     A\n",
       "/gale/netapp/home/hanliu/scratch/DMR_benchmark/...   10_2     A\n",
       "/gale/netapp/home/hanliu/scratch/DMR_benchmark/...   10_3     B\n",
       "/gale/netapp/home/hanliu/scratch/DMR_benchmark/...   10_4     B\n",
       "/gale/netapp/home/hanliu/scratch/DMR_benchmark/...   10_5     B\n",
       "/gale/netapp/home/hanliu/scratch/DMR_benchmark/...   10_6     C\n",
       "/gale/netapp/home/hanliu/scratch/DMR_benchmark/...   10_7     C\n",
       "/gale/netapp/home/hanliu/scratch/DMR_benchmark/...   10_8     C\n",
       "/gale/netapp/home/hanliu/scratch/DMR_benchmark/...   10_9     D\n",
       "/gale/netapp/home/hanliu/scratch/DMR_benchmark/...  10_10     D\n",
       "/gale/netapp/home/hanliu/scratch/DMR_benchmark/...  10_11     D"
      ]
     },
     "execution_count": 6,
     "metadata": {},
     "output_type": "execute_result"
    }
   ],
   "source": [
    "allc_table = pd.read_csv(allc_table_path, sep='\\t', index_col=0)\n",
    "allc_table"
   ]
  },
  {
   "cell_type": "code",
   "execution_count": 7,
   "metadata": {
    "ExecuteTime": {
     "end_time": "2021-06-26T00:02:30.472040Z",
     "start_time": "2021-06-26T00:02:30.460823Z"
    }
   },
   "outputs": [
    {
     "data": {
      "text/html": [
       "<div>\n",
       "<style scoped>\n",
       "    .dataframe tbody tr th:only-of-type {\n",
       "        vertical-align: middle;\n",
       "    }\n",
       "\n",
       "    .dataframe tbody tr th {\n",
       "        vertical-align: top;\n",
       "    }\n",
       "\n",
       "    .dataframe thead th {\n",
       "        text-align: right;\n",
       "    }\n",
       "</style>\n",
       "<table border=\"1\" class=\"dataframe\">\n",
       "  <thead>\n",
       "    <tr style=\"text-align: right;\">\n",
       "      <th></th>\n",
       "      <th>group</th>\n",
       "    </tr>\n",
       "    <tr>\n",
       "      <th>sample</th>\n",
       "      <th></th>\n",
       "    </tr>\n",
       "  </thead>\n",
       "  <tbody>\n",
       "    <tr>\n",
       "      <th>10_0</th>\n",
       "      <td>A</td>\n",
       "    </tr>\n",
       "    <tr>\n",
       "      <th>10_1</th>\n",
       "      <td>A</td>\n",
       "    </tr>\n",
       "    <tr>\n",
       "      <th>10_2</th>\n",
       "      <td>A</td>\n",
       "    </tr>\n",
       "    <tr>\n",
       "      <th>10_3</th>\n",
       "      <td>B</td>\n",
       "    </tr>\n",
       "    <tr>\n",
       "      <th>10_4</th>\n",
       "      <td>B</td>\n",
       "    </tr>\n",
       "    <tr>\n",
       "      <th>10_5</th>\n",
       "      <td>B</td>\n",
       "    </tr>\n",
       "    <tr>\n",
       "      <th>10_6</th>\n",
       "      <td>C</td>\n",
       "    </tr>\n",
       "    <tr>\n",
       "      <th>10_7</th>\n",
       "      <td>C</td>\n",
       "    </tr>\n",
       "    <tr>\n",
       "      <th>10_8</th>\n",
       "      <td>C</td>\n",
       "    </tr>\n",
       "    <tr>\n",
       "      <th>10_9</th>\n",
       "      <td>D</td>\n",
       "    </tr>\n",
       "    <tr>\n",
       "      <th>10_10</th>\n",
       "      <td>D</td>\n",
       "    </tr>\n",
       "    <tr>\n",
       "      <th>10_11</th>\n",
       "      <td>D</td>\n",
       "    </tr>\n",
       "  </tbody>\n",
       "</table>\n",
       "</div>"
      ],
      "text/plain": [
       "       group\n",
       "sample      \n",
       "10_0       A\n",
       "10_1       A\n",
       "10_2       A\n",
       "10_3       B\n",
       "10_4       B\n",
       "10_5       B\n",
       "10_6       C\n",
       "10_7       C\n",
       "10_8       C\n",
       "10_9       D\n",
       "10_10      D\n",
       "10_11      D"
      ]
     },
     "execution_count": 7,
     "metadata": {},
     "output_type": "execute_result"
    }
   ],
   "source": [
    "sample_df = allc_table.set_index('sample')\n",
    "sample_df"
   ]
  },
  {
   "cell_type": "code",
   "execution_count": 16,
   "metadata": {
    "ExecuteTime": {
     "end_time": "2021-06-26T00:03:52.271290Z",
     "start_time": "2021-06-26T00:03:49.874495Z"
    }
   },
   "outputs": [],
   "source": [
    "allc_paths = allc_table.index.to_list()\n",
    "samples = sample_df.index.to_list()\n",
    "\n",
    "# reformat allc to dss required format\n",
    "def get_data(allc_paths):\n",
    "    dss_dfs = []\n",
    "    for input_path in allc_paths:\n",
    "        records = []\n",
    "        with TabixFile(str(input_path)) as f:\n",
    "            for line in f.fetch(region):\n",
    "                chromosome, pos, _, _, mc, cov, _ = (line.split('\\t'))\n",
    "                records.append([chromosome, int(pos), int(cov), int(mc)])\n",
    "        dss_dfs.append(pd.DataFrame(records, columns=['chr', 'pos', 'N', 'X']))\n",
    "    return dss_dfs\n",
    "\n",
    "dss_dfs = get_data(allc_paths)"
   ]
  },
  {
   "cell_type": "code",
   "execution_count": 17,
   "metadata": {
    "ExecuteTime": {
     "end_time": "2021-06-26T00:03:52.294128Z",
     "start_time": "2021-06-26T00:03:52.274957Z"
    }
   },
   "outputs": [
    {
     "data": {
      "text/html": [
       "<div>\n",
       "<style scoped>\n",
       "    .dataframe tbody tr th:only-of-type {\n",
       "        vertical-align: middle;\n",
       "    }\n",
       "\n",
       "    .dataframe tbody tr th {\n",
       "        vertical-align: top;\n",
       "    }\n",
       "\n",
       "    .dataframe thead th {\n",
       "        text-align: right;\n",
       "    }\n",
       "</style>\n",
       "<table border=\"1\" class=\"dataframe\">\n",
       "  <thead>\n",
       "    <tr style=\"text-align: right;\">\n",
       "      <th></th>\n",
       "      <th>chr</th>\n",
       "      <th>pos</th>\n",
       "      <th>N</th>\n",
       "      <th>X</th>\n",
       "    </tr>\n",
       "  </thead>\n",
       "  <tbody>\n",
       "    <tr>\n",
       "      <th>0</th>\n",
       "      <td>chr19</td>\n",
       "      <td>3078948</td>\n",
       "      <td>1</td>\n",
       "      <td>1</td>\n",
       "    </tr>\n",
       "    <tr>\n",
       "      <th>1</th>\n",
       "      <td>chr19</td>\n",
       "      <td>3078967</td>\n",
       "      <td>1</td>\n",
       "      <td>1</td>\n",
       "    </tr>\n",
       "    <tr>\n",
       "      <th>2</th>\n",
       "      <td>chr19</td>\n",
       "      <td>3079292</td>\n",
       "      <td>1</td>\n",
       "      <td>1</td>\n",
       "    </tr>\n",
       "    <tr>\n",
       "      <th>3</th>\n",
       "      <td>chr19</td>\n",
       "      <td>3079293</td>\n",
       "      <td>1</td>\n",
       "      <td>0</td>\n",
       "    </tr>\n",
       "    <tr>\n",
       "      <th>4</th>\n",
       "      <td>chr19</td>\n",
       "      <td>3079586</td>\n",
       "      <td>2</td>\n",
       "      <td>2</td>\n",
       "    </tr>\n",
       "    <tr>\n",
       "      <th>...</th>\n",
       "      <td>...</td>\n",
       "      <td>...</td>\n",
       "      <td>...</td>\n",
       "      <td>...</td>\n",
       "    </tr>\n",
       "    <tr>\n",
       "      <th>40666</th>\n",
       "      <td>chr19</td>\n",
       "      <td>4999371</td>\n",
       "      <td>1</td>\n",
       "      <td>1</td>\n",
       "    </tr>\n",
       "    <tr>\n",
       "      <th>40667</th>\n",
       "      <td>chr19</td>\n",
       "      <td>4999647</td>\n",
       "      <td>1</td>\n",
       "      <td>0</td>\n",
       "    </tr>\n",
       "    <tr>\n",
       "      <th>40668</th>\n",
       "      <td>chr19</td>\n",
       "      <td>4999648</td>\n",
       "      <td>2</td>\n",
       "      <td>0</td>\n",
       "    </tr>\n",
       "    <tr>\n",
       "      <th>40669</th>\n",
       "      <td>chr19</td>\n",
       "      <td>4999926</td>\n",
       "      <td>1</td>\n",
       "      <td>0</td>\n",
       "    </tr>\n",
       "    <tr>\n",
       "      <th>40670</th>\n",
       "      <td>chr19</td>\n",
       "      <td>4999927</td>\n",
       "      <td>1</td>\n",
       "      <td>0</td>\n",
       "    </tr>\n",
       "  </tbody>\n",
       "</table>\n",
       "<p>40671 rows × 4 columns</p>\n",
       "</div>"
      ],
      "text/plain": [
       "         chr      pos  N  X\n",
       "0      chr19  3078948  1  1\n",
       "1      chr19  3078967  1  1\n",
       "2      chr19  3079292  1  1\n",
       "3      chr19  3079293  1  0\n",
       "4      chr19  3079586  2  2\n",
       "...      ...      ... .. ..\n",
       "40666  chr19  4999371  1  1\n",
       "40667  chr19  4999647  1  0\n",
       "40668  chr19  4999648  2  0\n",
       "40669  chr19  4999926  1  0\n",
       "40670  chr19  4999927  1  0\n",
       "\n",
       "[40671 rows x 4 columns]"
      ]
     },
     "execution_count": 17,
     "metadata": {},
     "output_type": "execute_result"
    }
   ],
   "source": [
    "dss_dfs[0]"
   ]
  },
  {
   "cell_type": "code",
   "execution_count": 18,
   "metadata": {
    "ExecuteTime": {
     "end_time": "2021-06-26T00:03:52.509161Z",
     "start_time": "2021-06-26T00:03:52.495955Z"
    }
   },
   "outputs": [],
   "source": [
    "group_counts = defaultdict(int)\n",
    "for sample, dss_df in zip(sample_df.index, dss_dfs):\n",
    "    group = sample_df.loc[sample, 'group']\n",
    "    group_counts[group] += dss_df.shape[0]\n",
    "if any(group_counts.values()):\n",
    "    # create an empty df in case one of the group is all 0\n",
    "    dmls = pd.DataFrame([],\n",
    "                        columns=[\n",
    "                            'chr', 'pos', 'mu1', 'mu2', 'diff', 'diff.se',\n",
    "                            'stat', 'phi1', 'phi2', 'pval', 'fdr',\n",
    "                            'postprob.overThreshold'\n",
    "                        ])\n",
    "    # R code will fail in this case, but dmls is created here"
   ]
  },
  {
   "cell_type": "code",
   "execution_count": 19,
   "metadata": {
    "ExecuteTime": {
     "end_time": "2021-06-26T00:03:53.843738Z",
     "start_time": "2021-06-26T00:03:53.836533Z"
    }
   },
   "outputs": [
    {
     "data": {
      "text/plain": [
       "defaultdict(int, {'A': 122013, 'B': 122013, 'C': 122013, 'D': 122013})"
      ]
     },
     "execution_count": 19,
     "metadata": {},
     "output_type": "execute_result"
    }
   ],
   "source": [
    "group_counts"
   ]
  },
  {
   "cell_type": "markdown",
   "metadata": {},
   "source": [
    "## Create Dataset"
   ]
  },
  {
   "cell_type": "code",
   "execution_count": 20,
   "metadata": {
    "ExecuteTime": {
     "end_time": "2021-06-26T00:04:11.372959Z",
     "start_time": "2021-06-26T00:03:57.003605Z"
    }
   },
   "outputs": [
    {
     "name": "stdout",
     "output_type": "stream",
     "text": [
      "An object of type 'BSseq' with\n",
      "  40671 methylation loci\n",
      "  12 samples\n",
      "has not been smoothed\n",
      "All assays are in-memory\n"
     ]
    }
   ],
   "source": [
    "%%R -i dss_dfs -i samples\n",
    "BSobj = makeBSseqData(dss_dfs, samples)\n",
    "BSobj"
   ]
  },
  {
   "cell_type": "markdown",
   "metadata": {},
   "source": [
    "## DML test"
   ]
  },
  {
   "cell_type": "code",
   "execution_count": 21,
   "metadata": {
    "ExecuteTime": {
     "end_time": "2021-06-26T00:05:22.744172Z",
     "start_time": "2021-06-26T00:05:19.789079Z"
    }
   },
   "outputs": [],
   "source": [
    "%%R\n",
    "# do not parallel in R\n",
    "library(\"BiocParallel\")\n",
    "register(MulticoreParam(1))"
   ]
  },
  {
   "cell_type": "code",
   "execution_count": 26,
   "metadata": {
    "ExecuteTime": {
     "end_time": "2021-06-26T00:09:26.282797Z",
     "start_time": "2021-06-26T00:09:00.566835Z"
    }
   },
   "outputs": [
    {
     "name": "stdout",
     "output_type": "stream",
     "text": [
      "Fitting DML model for CpG site: "
     ]
    }
   ],
   "source": [
    "%%R -i sample_df -i smoothing\n",
    "dml_fit <- DMLfit.multiFactor(BSobj, \n",
    "                              design=sample_df, \n",
    "                              formula=~group,\n",
    "                              smoothing=smoothing,\n",
    "                              smoothing.span=500)\n",
    "dml_fit$X"
   ]
  },
  {
   "cell_type": "markdown",
   "metadata": {},
   "source": [
    "## Call DML (DMS)"
   ]
  },
  {
   "cell_type": "code",
   "execution_count": 34,
   "metadata": {
    "ExecuteTime": {
     "end_time": "2021-06-26T00:17:13.826119Z",
     "start_time": "2021-06-26T00:17:10.205537Z"
    }
   },
   "outputs": [],
   "source": [
    "%%R -o dmls\n",
    "dmls <- DMLtest.multiFactor(dml_fit, term='group')\n",
    "dmls <- as.data.frame(dmls)"
   ]
  },
  {
   "cell_type": "markdown",
   "metadata": {},
   "source": [
    "## Save"
   ]
  },
  {
   "cell_type": "code",
   "execution_count": 36,
   "metadata": {
    "ExecuteTime": {
     "end_time": "2021-06-26T00:18:06.976080Z",
     "start_time": "2021-06-26T00:17:32.427617Z"
    }
   },
   "outputs": [],
   "source": [
    "dmls.to_hdf(output_path, key='data', format=\"table\")"
   ]
  },
  {
   "cell_type": "code",
   "execution_count": 37,
   "metadata": {
    "ExecuteTime": {
     "end_time": "2021-06-26T00:18:06.999829Z",
     "start_time": "2021-06-26T00:18:06.978426Z"
    }
   },
   "outputs": [
    {
     "data": {
      "text/html": [
       "<div>\n",
       "<style scoped>\n",
       "    .dataframe tbody tr th:only-of-type {\n",
       "        vertical-align: middle;\n",
       "    }\n",
       "\n",
       "    .dataframe tbody tr th {\n",
       "        vertical-align: top;\n",
       "    }\n",
       "\n",
       "    .dataframe thead th {\n",
       "        text-align: right;\n",
       "    }\n",
       "</style>\n",
       "<table border=\"1\" class=\"dataframe\">\n",
       "  <thead>\n",
       "    <tr style=\"text-align: right;\">\n",
       "      <th></th>\n",
       "      <th>chr</th>\n",
       "      <th>pos</th>\n",
       "      <th>stat</th>\n",
       "      <th>pvals</th>\n",
       "      <th>fdrs</th>\n",
       "    </tr>\n",
       "  </thead>\n",
       "  <tbody>\n",
       "    <tr>\n",
       "      <th>1</th>\n",
       "      <td>chr19</td>\n",
       "      <td>3078948</td>\n",
       "      <td>9.287714e-01</td>\n",
       "      <td>0.353008</td>\n",
       "      <td>1.0</td>\n",
       "    </tr>\n",
       "    <tr>\n",
       "      <th>2</th>\n",
       "      <td>chr19</td>\n",
       "      <td>3078967</td>\n",
       "      <td>9.287714e-01</td>\n",
       "      <td>0.353008</td>\n",
       "      <td>1.0</td>\n",
       "    </tr>\n",
       "    <tr>\n",
       "      <th>3</th>\n",
       "      <td>chr19</td>\n",
       "      <td>3079292</td>\n",
       "      <td>5.687540e-01</td>\n",
       "      <td>0.569523</td>\n",
       "      <td>1.0</td>\n",
       "    </tr>\n",
       "    <tr>\n",
       "      <th>4</th>\n",
       "      <td>chr19</td>\n",
       "      <td>3079293</td>\n",
       "      <td>5.687540e-01</td>\n",
       "      <td>0.569523</td>\n",
       "      <td>1.0</td>\n",
       "    </tr>\n",
       "    <tr>\n",
       "      <th>5</th>\n",
       "      <td>chr19</td>\n",
       "      <td>3079586</td>\n",
       "      <td>8.620044e-16</td>\n",
       "      <td>1.000000</td>\n",
       "      <td>1.0</td>\n",
       "    </tr>\n",
       "    <tr>\n",
       "      <th>...</th>\n",
       "      <td>...</td>\n",
       "      <td>...</td>\n",
       "      <td>...</td>\n",
       "      <td>...</td>\n",
       "      <td>...</td>\n",
       "    </tr>\n",
       "    <tr>\n",
       "      <th>40667</th>\n",
       "      <td>chr19</td>\n",
       "      <td>4999371</td>\n",
       "      <td>5.154955e-01</td>\n",
       "      <td>0.606207</td>\n",
       "      <td>1.0</td>\n",
       "    </tr>\n",
       "    <tr>\n",
       "      <th>40668</th>\n",
       "      <td>chr19</td>\n",
       "      <td>4999647</td>\n",
       "      <td>4.641193e-02</td>\n",
       "      <td>0.962982</td>\n",
       "      <td>1.0</td>\n",
       "    </tr>\n",
       "    <tr>\n",
       "      <th>40669</th>\n",
       "      <td>chr19</td>\n",
       "      <td>4999648</td>\n",
       "      <td>2.774801e-02</td>\n",
       "      <td>0.977863</td>\n",
       "      <td>1.0</td>\n",
       "    </tr>\n",
       "    <tr>\n",
       "      <th>40670</th>\n",
       "      <td>chr19</td>\n",
       "      <td>4999926</td>\n",
       "      <td>1.199181e-01</td>\n",
       "      <td>0.904548</td>\n",
       "      <td>1.0</td>\n",
       "    </tr>\n",
       "    <tr>\n",
       "      <th>40671</th>\n",
       "      <td>chr19</td>\n",
       "      <td>4999927</td>\n",
       "      <td>5.199529e-02</td>\n",
       "      <td>0.958532</td>\n",
       "      <td>1.0</td>\n",
       "    </tr>\n",
       "  </tbody>\n",
       "</table>\n",
       "<p>40671 rows × 5 columns</p>\n",
       "</div>"
      ],
      "text/plain": [
       "         chr      pos          stat     pvals  fdrs\n",
       "1      chr19  3078948  9.287714e-01  0.353008   1.0\n",
       "2      chr19  3078967  9.287714e-01  0.353008   1.0\n",
       "3      chr19  3079292  5.687540e-01  0.569523   1.0\n",
       "4      chr19  3079293  5.687540e-01  0.569523   1.0\n",
       "5      chr19  3079586  8.620044e-16  1.000000   1.0\n",
       "...      ...      ...           ...       ...   ...\n",
       "40667  chr19  4999371  5.154955e-01  0.606207   1.0\n",
       "40668  chr19  4999647  4.641193e-02  0.962982   1.0\n",
       "40669  chr19  4999648  2.774801e-02  0.977863   1.0\n",
       "40670  chr19  4999926  1.199181e-01  0.904548   1.0\n",
       "40671  chr19  4999927  5.199529e-02  0.958532   1.0\n",
       "\n",
       "[40671 rows x 5 columns]"
      ]
     },
     "execution_count": 37,
     "metadata": {},
     "output_type": "execute_result"
    }
   ],
   "source": [
    "dmls"
   ]
  },
  {
   "cell_type": "code",
   "execution_count": null,
   "metadata": {},
   "outputs": [],
   "source": []
  }
 ],
 "metadata": {
  "celltoolbar": "Tags",
  "hide_input": false,
  "kernelspec": {
   "display_name": "Python 3",
   "language": "python",
   "name": "python3"
  },
  "language_info": {
   "codemirror_mode": {
    "name": "ipython",
    "version": 3
   },
   "file_extension": ".py",
   "mimetype": "text/x-python",
   "name": "python",
   "nbconvert_exporter": "python",
   "pygments_lexer": "ipython3",
   "version": "3.7.8"
  },
  "toc": {
   "base_numbering": 1,
   "nav_menu": {},
   "number_sections": true,
   "sideBar": true,
   "skip_h1_title": true,
   "title_cell": "Table of Contents",
   "title_sidebar": "Contents",
   "toc_cell": false,
   "toc_position": {},
   "toc_section_display": true,
   "toc_window_display": true
  }
 },
 "nbformat": 4,
 "nbformat_minor": 4
}