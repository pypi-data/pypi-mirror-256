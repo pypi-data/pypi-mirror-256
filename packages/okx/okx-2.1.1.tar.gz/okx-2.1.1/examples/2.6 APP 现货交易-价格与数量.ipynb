{
 "cells": [
  {
   "cell_type": "markdown",
   "id": "3976aeaa",
   "metadata": {},
   "source": [
    "## 1. APP 现货交易-价格与数量函数总览"
   ]
  },
  {
   "cell_type": "markdown",
   "id": "c57d3d3e",
   "metadata": {},
   "source": [
    "|方法|解释|\n",
    "|:---|:---|\n",
    "|round_quantity|下单数量圆整（交易货币)|\n",
    "|round_price|价格圆整|\n",
    "|get_quantity|根据产品的开仓金额、杠杆倍数、开仓价格获取购买数量|\n",
    "|quantity_to_f|将下单数量转化为字符串|\n",
    "|price_to_f|将价格转化为字符串|"
   ]
  },
  {
   "cell_type": "markdown",
   "id": "afd26e6d",
   "metadata": {},
   "source": [
    "## 2. 模型实例化"
   ]
  },
  {
   "cell_type": "code",
   "execution_count": 1,
   "id": "f89f2a3e",
   "metadata": {},
   "outputs": [],
   "source": [
    "from okx.app import OkxSPOT\n",
    "from okx.app.utils import eprint"
   ]
  },
  {
   "cell_type": "code",
   "execution_count": 2,
   "id": "0bddc023",
   "metadata": {},
   "outputs": [],
   "source": [
    "# 现货交易账户需要秘钥\n",
    "key = \"xxx\"\n",
    "secret = \"xxx\"\n",
    "passphrase = \"xxx\"\n",
    "# 实盘：0，虚拟盘：1\n",
    "flag = '0'\n",
    "# 使用http和https代理，proxies={'http':'xxxxx','https:':'xxxxx'}，与requests中的proxies参数规则相同\n",
    "proxies = {}\n",
    "# 转发：需搭建转发服务器，可参考：https://github.com/pyted/okx_resender\n",
    "proxy_host = None\n",
    "\n",
    "okxSPOT = OkxSPOT(\n",
    "    key=key, secret=secret, passphrase=passphrase, proxies=proxies, proxy_host=proxy_host,\n",
    ")\n",
    "\n",
    "trade = okxSPOT.trade"
   ]
  },
  {
   "cell_type": "markdown",
   "id": "2884498c",
   "metadata": {},
   "source": [
    "## 3. 下单数量圆整（交易货币) round_quantity"
   ]
  },
  {
   "cell_type": "code",
   "execution_count": 3,
   "id": "5c159685",
   "metadata": {},
   "outputs": [
    {
     "name": "stdout",
     "output_type": "stream",
     "text": [
      "{'code': '0', 'data': 10.123232, 'msg': ''}\n"
     ]
    }
   ],
   "source": [
    "round_quantity_result = trade.round_quantity(\n",
    "    quantity=10.12323234234234,\n",
    "    instId='MANA-USDT',\n",
    "    ordType='market',  # market | limit\n",
    ")\n",
    "eprint(round_quantity_result)"
   ]
  },
  {
   "cell_type": "markdown",
   "id": "d65db677",
   "metadata": {},
   "source": [
    "## 4. 圆整下单价格 round_price\n",
    "\n",
    "FLOOR:向下圆整 CEIL:向上圆整"
   ]
  },
  {
   "cell_type": "code",
   "execution_count": 4,
   "id": "e3d43089",
   "metadata": {},
   "outputs": [
    {
     "name": "stdout",
     "output_type": "stream",
     "text": [
      "{'code': '0', 'data': 0.1231, 'msg': ''}\n"
     ]
    }
   ],
   "source": [
    "round_price_result = trade.round_price(\n",
    "    price=0.123123123,\n",
    "    instId='MANA-USDT',\n",
    "    type='FLOOR',  # FLOOR:向下圆整 CEIL:向上圆整\n",
    ")\n",
    "eprint(round_price_result)"
   ]
  },
  {
   "cell_type": "markdown",
   "id": "5228b33d",
   "metadata": {},
   "source": [
    "## 5. 根据产品的开仓金额、杠杆倍数、开仓价格获取购买数量 get_quantity"
   ]
  },
  {
   "cell_type": "code",
   "execution_count": 5,
   "id": "c681018b",
   "metadata": {},
   "outputs": [
    {
     "name": "stdout",
     "output_type": "stream",
     "text": [
      "{'code': '0', 'data': 35.714285, 'msg': ''}\n"
     ]
    }
   ],
   "source": [
    "get_quantity_result = trade.get_quantity(\n",
    "    openPrice=0.14,\n",
    "    openMoney=5,\n",
    "    instId='MANA-USDT',\n",
    "    ordType='limit',\n",
    "    leverage=1\n",
    ")\n",
    "eprint(get_quantity_result)"
   ]
  },
  {
   "cell_type": "markdown",
   "id": "3e9129dc",
   "metadata": {},
   "source": [
    "## 6. 将下单数量转化为字符串 quantity_to_f\n",
    "\n",
    "避免向官方发送科学计数法规则的数字，字符串传输更安全"
   ]
  },
  {
   "cell_type": "code",
   "execution_count": 6,
   "id": "fe094c9b",
   "metadata": {},
   "outputs": [
    {
     "name": "stdout",
     "output_type": "stream",
     "text": [
      "{'code': '0', 'data': '35.714285', 'msg': ''}\n"
     ]
    }
   ],
   "source": [
    "quantity_to_f_result = trade.quantity_to_f(\n",
    "    quantity=get_quantity_result['data'],\n",
    "    instId='MANA-USDT',\n",
    ")\n",
    "eprint(quantity_to_f_result)"
   ]
  },
  {
   "cell_type": "markdown",
   "id": "2e77e9cc",
   "metadata": {},
   "source": [
    "## 7. 将下单价格转化为字符串 price_to_f"
   ]
  },
  {
   "cell_type": "code",
   "execution_count": 7,
   "id": "af0628b9",
   "metadata": {},
   "outputs": [
    {
     "name": "stdout",
     "output_type": "stream",
     "text": [
      "{'code': '0', 'data': '0.1231', 'msg': ''}\n"
     ]
    }
   ],
   "source": [
    "price_to_f_result = trade.price_to_f(\n",
    "    price=round_price_result['data'],\n",
    "    instId='MANA-USDT',\n",
    ")\n",
    "eprint(price_to_f_result)"
   ]
  }
 ],
 "metadata": {
  "kernelspec": {
   "display_name": "Python 3 (ipykernel)",
   "language": "python",
   "name": "python3"
  },
  "language_info": {
   "codemirror_mode": {
    "name": "ipython",
    "version": 3
   },
   "file_extension": ".py",
   "mimetype": "text/x-python",
   "name": "python",
   "nbconvert_exporter": "python",
   "pygments_lexer": "ipython3",
   "version": "3.8.4"
  }
 },
 "nbformat": 4,
 "nbformat_minor": 5
}