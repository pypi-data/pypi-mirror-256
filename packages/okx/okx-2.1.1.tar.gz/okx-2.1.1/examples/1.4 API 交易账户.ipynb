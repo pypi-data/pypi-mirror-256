{
 "cells": [
  {
   "cell_type": "markdown",
   "id": "4a341d04",
   "metadata": {},
   "source": [
    "## 1. API 交易账户接口总览"
   ]
  },
  {
   "cell_type": "markdown",
   "id": "17c6f1ae",
   "metadata": {},
   "source": [
    "|方法|解释|Path|\n",
    "|:---|:---|:---|\n",
    "|get_balance|查看账户余额|/api/v5/account/balance|\n",
    "|get_positions|查看持仓信息|/api/v5/account/positions|\n",
    "|get_positions_history|查看历史持仓信息|/api/v5/account/positions-history|\n",
    "|get_account_position_risk|查看账户持仓风险|/api/v5/account/account-position-risk|\n",
    "|get_bills|账单流水查询（近七天）|/api/v5/account/bills|\n",
    "|get_bills_archive|账单流水查询（近三月）|/api/v5/account/bills-archive|\n",
    "|get_config|查看账户配置|/api/v5/account/config|\n",
    "|set_position_mode|设置持仓模式|/api/v5/account/set-position-mode|\n",
    "|set_leverage|设置杠杆倍数|/api/v5/account/set-leverage|\n",
    "|get_max_size|获取最大可买卖/开仓数量|/api/v5/account/max-size|\n",
    "|get_max_avail_size|获取最大可用数量|/api/v5/account/max-avail-size|\n",
    "|set_margin_balance|调整保证金|/api/v5/account/position/margin-balance|\n",
    "|get_leverage_info|获取杠杆倍数|/api/v5/account/leverage-info|\n",
    "|get_adjust_leverage_info|获取杠杆倍数预估信息|/api/v5/account/adjust-leverage-info|\n",
    "|get_max_loan|获取交易产品最大可借|/api/v5/account/max-loan|\n",
    "|get_trade_fee|获取当前账户交易手续费费率|/api/v5/account/trade-fee|\n",
    "|get_interest_accrued|获取计息记录|/api/v5/account/interest-accrued|\n",
    "|get_interest_rate|获取用户当前市场借币利率|/api/v5/account/interest-rate|\n",
    "|set_greeks|期权greeks的PA/BS切换|/api/v5/account/set-greeks|\n",
    "|set_isolated_mode|逐仓交易设置|/api/v5/account/set-isolated-mode|\n",
    "|get_max_withdrawal|查看账户最大可转余额|/api/v5/account/max-withdrawal|\n",
    "|get_risk_state|查看账户特定风险状态|/api/v5/account/risk-state|\n",
    "|set_quick_margin_borrow_repay|一键借币模式手动借币还币|/api/v5/account/quick-margin-borrow-repay|\n",
    "|get_quick_margin_borrow_repay_history|获取一键借币还币历史|/api/v5/account/quick-margin-borrow-repay-history|\n",
    "|set_borrow_repay|尊享借币还币|/api/v5/account/borrow-repay|\n",
    "|get_borrow_repay_history|获取尊享借币还币历史|/api/v5/account/borrow-repay-history|\n",
    "|get_vip_interest_accrued|获取尊享借币计息记录|/api/v5/account/vip-interest-accrued|\n",
    "|get_vip_interest_deducted|获取尊享借币扣息记录|/api/v5/account/vip-interest-deducted|\n",
    "|get_vip_loan_order_list|尊享借币订单列表|/api/v5/account/vip-loan-order-list|\n",
    "|get_vip_loan_order_detail|尊享借币订单详情|/api/v5/account/vip-loan-order-detail|\n",
    "|get_interest_limits|获取借币利率与限额|/api/v5/account/interest-limits|\n",
    "|set_simulated_margin|组合保证金的虚拟持仓保证金计算|/api/v5/account/simulated_margin|\n",
    "|get_greeks|查看账户Greeks|/api/v5/account/greeks|\n",
    "|get_position_tiers|获取组合保证金模式仓位限制|/api/v5/account/position-tiers|\n",
    "|set_riskOffset_type|设置组合保证金账户风险对冲模式|/api/v5/account/set-riskOffset-type|\n",
    "|set_activate_option|开通期权交易|/api/v5/account/activate-option|\n",
    "|set_auto_loan|设置自动借币|/api/v5/account/set-auto-loan|\n",
    "|set_account_level|设置账户模式|/api/v5/account/set-account-level|\n",
    "|set_mmp_reset|重置 MMP 状态|/api/v5/account/mmp-reset|\n",
    "|set_mmp_config|设置 MMP|/api/v5/account/mmp-config|\n",
    "|get_mmp_config|查看 MMP 配置|/api/v5/account/mmp-config|"
   ]
  },
  {
   "cell_type": "markdown",
   "id": "3241b189",
   "metadata": {},
   "source": [
    "## 2. 模型实例化"
   ]
  },
  {
   "cell_type": "code",
   "execution_count": 1,
   "id": "8eb2b932",
   "metadata": {},
   "outputs": [],
   "source": [
    "from okx.api import Account\n",
    "from okx.app.utils import eprint"
   ]
  },
  {
   "cell_type": "code",
   "execution_count": 2,
   "id": "3a19df28",
   "metadata": {},
   "outputs": [],
   "source": [
    "# 交易账户需要秘钥\n",
    "key = \"xxx\"\n",
    "secret = \"xxx\"\n",
    "passphrase = \"xxx\"\n",
    "# 实盘：0，虚拟盘：1\n",
    "flag = '0'\n",
    "# 使用http和https代理，proxies={'http':'xxxxx','https:':'xxxxx'}，与requests中的proxies参数规则相同\n",
    "proxies = {}\n",
    "# 转发：需搭建转发服务器，可参考：https://github.com/pyted/okx_resender\n",
    "proxy_host = None\n",
    "\n",
    "# 实例化account\n",
    "account = Account(\n",
    "    key=key, secret=secret, passphrase=passphrase, flag=flag, proxies=proxies, proxy_host=proxy_host,\n",
    ")"
   ]
  },
  {
   "cell_type": "markdown",
   "id": "9c9c614a",
   "metadata": {},
   "source": [
    "## 3. 账户相关"
   ]
  },
  {
   "cell_type": "markdown",
   "id": "3ee4db68",
   "metadata": {},
   "source": [
    "### 3.1 查看账户配置"
   ]
  },
  {
   "cell_type": "code",
   "execution_count": 3,
   "id": "443ba754",
   "metadata": {},
   "outputs": [
    {
     "name": "stdout",
     "output_type": "stream",
     "text": [
      "{'code': '0',\n",
      " 'data': [{'acctLv': '2',\n",
      "           'autoLoan': False,\n",
      "           'ctIsoMode': 'automatic',\n",
      "           'greeksType': 'BS',\n",
      "           'ip': 'xxx.xx.xx.xx',\n",
      "           'kycLv': '2',\n",
      "           'label': 'Test',\n",
      "           'level': 'Lv1',\n",
      "           'levelTmp': '',\n",
      "           'liquidationGear': '-1',\n",
      "           'mainUid': '247660523095732224',\n",
      "           'mgnIsoMode': 'automatic',\n",
      "           'opAuth': '0',\n",
      "           'perm': 'read_only,trade',\n",
      "           'posMode': 'long_short_mode',\n",
      "           'roleType': '0',\n",
      "           'spotOffsetType': '',\n",
      "           'spotRoleType': '0',\n",
      "           'spotTraderInsts': [],\n",
      "           'traderInsts': [],\n",
      "           'uid': '247660523095732224'}],\n",
      " 'msg': ''}\n"
     ]
    }
   ],
   "source": [
    "# 查看当前账户的配置信息。\n",
    "config_result = account.get_config()\n",
    "config_result['data'][0]['ip'] = 'xxx.xx.xx.xx'  # 隐藏IP地址\n",
    "eprint(config_result, length=30)"
   ]
  },
  {
   "cell_type": "markdown",
   "id": "46e10f57",
   "metadata": {},
   "source": [
    "### 3.2 设置账户模式\n",
    "\n",
    "账户模式的首次设置，需要在网页或手机app上进行。\n",
    "\n",
    "**设置账户模式，不能有挂单、持仓或交易机器人**"
   ]
  },
  {
   "cell_type": "code",
   "execution_count": 4,
   "id": "667fe5e5",
   "metadata": {},
   "outputs": [
    {
     "name": "stdout",
     "output_type": "stream",
     "text": [
      "{'code': '59000',\n",
      " 'data': [],\n",
      " 'msg': 'Setting failed. Cancel any open orders, close positions, and stop trading bots first.'}\n"
     ]
    }
   ],
   "source": [
    "# 账户模式acctLv\n",
    "# 1: 简单交易模式\n",
    "# 2: 单币种保证金模式\n",
    "# 3: 跨币种保证金模式\n",
    "# 4: 组合保证金模式\n",
    "set_account_level_result = account.set_account_level(acctLv='2')\n",
    "eprint(set_account_level_result)"
   ]
  },
  {
   "cell_type": "markdown",
   "id": "560ab123",
   "metadata": {},
   "source": [
    "## 4. 资金相关"
   ]
  },
  {
   "cell_type": "markdown",
   "id": "ae93b94e",
   "metadata": {},
   "source": [
    "### 4.1 查看账户余额\n",
    "\n",
    "获取交易账户中资金余额信息。"
   ]
  },
  {
   "cell_type": "code",
   "execution_count": 5,
   "id": "fac46d0b",
   "metadata": {},
   "outputs": [
    {
     "name": "stdout",
     "output_type": "stream",
     "text": [
      "{'code': '0',\n",
      " 'data': [{'adjEq': '',\n",
      "           'borrowFroz': '',\n",
      "           'details': [{'availBal': '88.95094606617033',\n",
      "                        'availEq': '88.95094606617033',\n",
      "                        'borrowFroz': '',\n",
      "                        'cashBal': '88.95094606617033',\n",
      "                        'ccy': 'USDT',\n",
      "                        'crossLiab': '',\n",
      "                        'disEq': '97.83801083778835',\n",
      "                        'eq': '97.84094606617033',\n",
      "                        'eqUsd': '97.83801083778835',\n",
      "                        'fixedBal': '0',\n",
      "                        'frozenBal': '8.89',\n",
      "                        'imr': '0',\n",
      "                        'interest': '',\n",
      "                        'isoEq': '8.89',\n",
      "                        'isoLiab': '',\n",
      "                        'isoUpl': '-0.0019999999999998',\n",
      "                        'liab': '',\n",
      "                        'maxLoan': '',\n",
      "                        'mgnRatio': '',\n",
      "                        'mmr': '0',\n",
      "                        'notionalLever': '0',\n",
      "                        'ordFrozen': '0',\n",
      "                        'spotInUseAmt': '',\n",
      "                        'spotIsoBal': '0',\n",
      "                        'stgyEq': '0',\n",
      "                        'twap': '0',\n",
      "                        'uTime': '1706342858427',\n",
      "                        'upl': '-0.0019999999999998',\n",
      "                        'uplLiab': ''}],\n",
      "           'imr': '',\n",
      "           'isoEq': '8.889733300000001',\n",
      "           'mgnRatio': '',\n",
      "           'mmr': '',\n",
      "           'notionalUsd': '',\n",
      "           'ordFroz': '',\n",
      "           'totalEq': '100.56230728858849',\n",
      "           'uTime': '1706343140502',\n",
      "           'upl': ''}],\n",
      " 'msg': ''}\n"
     ]
    }
   ],
   "source": [
    "# 查看USDT余额\n",
    "balance_result = account.get_balance(ccy='USDT')\n",
    "eprint(balance_result, length=20)"
   ]
  },
  {
   "cell_type": "code",
   "execution_count": 6,
   "id": "8f111a6e",
   "metadata": {},
   "outputs": [
    {
     "name": "stdout",
     "output_type": "stream",
     "text": [
      "{'code': '0',\n",
      " 'data': [{'adl': '1',\n",
      "           'availPos': '1',\n",
      "           'avgPx': '0.4445',\n",
      "           'baseBal': '',\n",
      "           'baseBorrowed': '',\n",
      "           'baseInterest': '',\n",
      "           'bePx': '0.4440557221389306',\n",
      "           'bizRefId': '',\n",
      "           'bizRefType': '',\n",
      "           'cTime': '1706342858427',\n",
      "           'ccy': 'USDT',\n",
      "           'closeOrderAlgo': [],\n",
      "           'deltaBS': '',\n",
      "           'deltaPA': '',\n",
      "           'fee': '-0.0022225',\n",
      "           'fundingFee': '0',\n",
      "           'gammaBS': '',\n",
      "           'gammaPA': '',\n",
      "           'idxPx': '0.4444',\n",
      "           'imr': '',\n",
      "           'instId': 'MANA-USDT-SWAP',\n",
      "           'instType': 'SWAP',\n",
      "           'interest': '',\n",
      "           'last': '0.4443',\n",
      "           'lever': '1',\n",
      "           'liab': '',\n",
      "           'liabCcy': '',\n",
      "           'liqPenalty': '0',\n",
      "           'liqPx': '0.8827202581926515',\n",
      "           'margin': '4.445',\n",
      "           '...': '......'},\n",
      "          {'adl': '2',\n",
      "           'availPos': '1',\n",
      "           'avgPx': '0.4447',\n",
      "           'baseBal': '',\n",
      "           'baseBorrowed': '',\n",
      "           'baseInterest': '',\n",
      "           'bePx': '0.4451449224612306',\n",
      "           'bizRefId': '',\n",
      "           'bizRefType': '',\n",
      "           'cTime': '1706342843582',\n",
      "           'ccy': 'USDT',\n",
      "           'closeOrderAlgo': [],\n",
      "           'deltaBS': '',\n",
      "           'deltaPA': '',\n",
      "           'fee': '-0.0022235',\n",
      "           'fundingFee': '0',\n",
      "           'gammaBS': '',\n",
      "           'gammaPA': '',\n",
      "           'idxPx': '0.4444',\n",
      "           'imr': '',\n",
      "           'instId': 'MANA-USDT-SWAP',\n",
      "           'instType': 'SWAP',\n",
      "           'interest': '',\n",
      "           'last': '0.4443',\n",
      "           'lever': '1',\n",
      "           'liab': '',\n",
      "           'liabCcy': '',\n",
      "           'liqPenalty': '0',\n",
      "           'liqPx': '0',\n",
      "           'margin': '4.447',\n",
      "           '...': '......'}],\n",
      " 'msg': ''}\n"
     ]
    }
   ],
   "source": [
    "positions_result = account.get_positions(instType='SWAP')\n",
    "eprint(positions_result, length=30)"
   ]
  },
  {
   "cell_type": "markdown",
   "id": "1ebc9d93",
   "metadata": {},
   "source": [
    "### 4.2 获取最大可买卖/开仓数量"
   ]
  },
  {
   "cell_type": "code",
   "execution_count": 7,
   "id": "30dc367f",
   "metadata": {},
   "outputs": [
    {
     "name": "stdout",
     "output_type": "stream",
     "text": [
      "{'code': '0', 'data': [{'ccy': '', 'instId': 'BTC-USDT', 'maxBuy': '0.002139462772449', 'maxSell': '0'}], 'msg': ''}\n"
     ]
    }
   ],
   "source": [
    "# 现货 BTC-USDT\n",
    "max_size_result = account.get_max_size(instId='BTC-USDT', tdMode='cash')\n",
    "eprint(max_size_result)"
   ]
  },
  {
   "cell_type": "markdown",
   "id": "5cba6ec5",
   "metadata": {},
   "source": [
    "### 4.3 获取最大可用数量"
   ]
  },
  {
   "cell_type": "code",
   "execution_count": 8,
   "id": "32fcda5e",
   "metadata": {},
   "outputs": [
    {
     "name": "stdout",
     "output_type": "stream",
     "text": [
      "{'code': '0',\n",
      " 'data': [{'availBuy': '88.9509460661703369', 'availSell': '88.9509460661703369', 'instId': 'BTC-USDT-SWAP'}],\n",
      " 'msg': ''}\n"
     ]
    }
   ],
   "source": [
    "# 永续合约 逐仓 BTC-USDT-SWAP\n",
    "max_avail_size_result = account.get_max_avail_size(instId='BTC-USDT-SWAP', tdMode='isolated')\n",
    "eprint(max_avail_size_result)"
   ]
  },
  {
   "cell_type": "markdown",
   "id": "48f2b441",
   "metadata": {},
   "source": [
    "## 5. 持仓相关"
   ]
  },
  {
   "cell_type": "markdown",
   "id": "2d74dd98",
   "metadata": {},
   "source": [
    "### 5.1 设置持仓模式\n",
    "\n",
    "单币种账户和跨币种账户模式：交割和永续合约支持开平仓模式和买卖模式。买卖模式只会有一个方向的仓位；开平仓模式可以分别持有多、空2个方向的仓位。\n",
    "\n",
    "组合保证金模式：交割和永续仅支持买卖模式\n",
    "\n",
    "**设置持仓模式，不能有挂单、持仓以及交易机器人**"
   ]
  },
  {
   "cell_type": "code",
   "execution_count": 9,
   "id": "b81e33bd",
   "metadata": {},
   "outputs": [
    {
     "name": "stdout",
     "output_type": "stream",
     "text": [
      "{'code': '59000',\n",
      " 'data': [],\n",
      " 'msg': 'Setting failed. Cancel any open orders, close positions, and stop trading bots first.'}\n"
     ]
    }
   ],
   "source": [
    "# 持仓方式: long_short_mode：开平仓模式 net_mode：买卖模式(适用交割/永续)\n",
    "set_position_mode_result = account.set_position_mode(posMode='long_short_mode')\n",
    "eprint(set_position_mode_result)"
   ]
  },
  {
   "cell_type": "markdown",
   "id": "86d5f806",
   "metadata": {},
   "source": [
    "### 5.2 查看持仓信息\n",
    "\n",
    "获取该账户下拥有实际持仓的信息。账户为买卖模式会显示净持仓（net），账户为开平仓模式下会分别返回开多（long）或开空（short）的仓位。按照仓位创建时间倒序排列。"
   ]
  },
  {
   "cell_type": "code",
   "execution_count": 10,
   "id": "78393e19",
   "metadata": {},
   "outputs": [
    {
     "name": "stdout",
     "output_type": "stream",
     "text": [
      "{'code': '0',\n",
      " 'data': [{'adl': '1',\n",
      "           'availPos': '1',\n",
      "           'avgPx': '0.4445',\n",
      "           'baseBal': '',\n",
      "           'baseBorrowed': '',\n",
      "           'baseInterest': '',\n",
      "           'bePx': '0.4440557221389306',\n",
      "           'bizRefId': '',\n",
      "           'bizRefType': '',\n",
      "           'cTime': '1706342858427',\n",
      "           'ccy': 'USDT',\n",
      "           'closeOrderAlgo': [],\n",
      "           'deltaBS': '',\n",
      "           'deltaPA': '',\n",
      "           'fee': '-0.0022225',\n",
      "           'fundingFee': '0',\n",
      "           'gammaBS': '',\n",
      "           'gammaPA': '',\n",
      "           'idxPx': '0.4443',\n",
      "           'imr': '',\n",
      "           'instId': 'MANA-USDT-SWAP',\n",
      "           'instType': 'SWAP',\n",
      "           'interest': '',\n",
      "           'last': '0.4443',\n",
      "           'lever': '1',\n",
      "           'liab': '',\n",
      "           'liabCcy': '',\n",
      "           'liqPenalty': '0',\n",
      "           'liqPx': '0.8827202581926515',\n",
      "           'margin': '4.445',\n",
      "           '...': '......'},\n",
      "          {'adl': '2',\n",
      "           'availPos': '1',\n",
      "           'avgPx': '0.4447',\n",
      "           'baseBal': '',\n",
      "           'baseBorrowed': '',\n",
      "           'baseInterest': '',\n",
      "           'bePx': '0.4451449224612306',\n",
      "           'bizRefId': '',\n",
      "           'bizRefType': '',\n",
      "           'cTime': '1706342843582',\n",
      "           'ccy': 'USDT',\n",
      "           'closeOrderAlgo': [],\n",
      "           'deltaBS': '',\n",
      "           'deltaPA': '',\n",
      "           'fee': '-0.0022235',\n",
      "           'fundingFee': '0',\n",
      "           'gammaBS': '',\n",
      "           'gammaPA': '',\n",
      "           'idxPx': '0.4443',\n",
      "           'imr': '',\n",
      "           'instId': 'MANA-USDT-SWAP',\n",
      "           'instType': 'SWAP',\n",
      "           'interest': '',\n",
      "           'last': '0.4443',\n",
      "           'lever': '1',\n",
      "           'liab': '',\n",
      "           'liabCcy': '',\n",
      "           'liqPenalty': '0',\n",
      "           'liqPx': '0',\n",
      "           'margin': '4.447',\n",
      "           '...': '......'}],\n",
      " 'msg': ''}\n"
     ]
    }
   ],
   "source": [
    "# 永续合约持仓\n",
    "positions_result = account.get_positions(instType='SWAP')\n",
    "eprint(positions_result, length=30)"
   ]
  },
  {
   "cell_type": "markdown",
   "id": "7c54c2b7",
   "metadata": {},
   "source": [
    "### 5.3 查看历史持仓信息\n",
    "\n",
    "获取最近3个月有更新的仓位信息，按照仓位更新时间倒序排列。"
   ]
  },
  {
   "cell_type": "code",
   "execution_count": 11,
   "id": "e8858566",
   "metadata": {},
   "outputs": [
    {
     "name": "stdout",
     "output_type": "stream",
     "text": [
      "{'code': '0',\n",
      " 'data': [{'cTime': '1706342858427',\n",
      "           'ccy': 'USDT',\n",
      "           'closeAvgPx': '0.4444',\n",
      "           'closeTotalPos': '1',\n",
      "           'direction': 'short',\n",
      "           '...': '......'}],\n",
      " 'msg': ''}\n"
     ]
    }
   ],
   "source": [
    "# 永续合约 BTC-USDT-SWAP历史持仓\n",
    "positions_history_result = account.get_positions_history(instId='MANA-USDT-SWAP')\n",
    "eprint(positions_history_result)"
   ]
  },
  {
   "cell_type": "markdown",
   "id": "9d3b3a59",
   "metadata": {},
   "source": [
    "### 5.4 设置杠杆倍数\n",
    "\n",
    "一个产品可以有如下10种杠杆倍数的设置场景：\n",
    "\n",
    "1. 在逐仓交易模式下，设置币币杠杆的杠杆倍数（币对层面）；\n",
    "2. 单币种保证金账户在全仓交易模式下，设置币币杠杆的杠杆倍数（币对层面）；\n",
    "3. 跨币种保证金账户在全仓交易模式下，设置币币杠杆的杠杆倍数（币种层面）；\n",
    "4. 组合保证金账户在全仓交易模式下，设置币币杠杆的杠杆倍数（币种层面）；\n",
    "5. 在全仓交易模式下，设置交割的杠杆倍数（指数层面）；\n",
    "6. 在逐仓交易模式、买卖持仓模式下，设置交割的杠杆倍数（合约层面）；\n",
    "7. 在逐仓交易模式、开平仓持仓模式下，设置交割的杠杆倍数（合约与持仓方向层面）；\n",
    "8. 在全仓交易模式下，设置永续的杠杆倍数（合约层面）；\n",
    "9. 在逐仓交易模式、买卖持仓模式下，设置永续的杠杆倍数（合约层面）；\n",
    "10. 在逐仓交易模式、开平仓持仓模式下，设置永续的杠杆倍数（合约与持仓方向层面）；\n",
    "\n",
    "**修改杠杆倍数，不能有这个产品的挂单**"
   ]
  },
  {
   "cell_type": "code",
   "execution_count": 12,
   "id": "96687da0",
   "metadata": {},
   "outputs": [
    {
     "name": "stdout",
     "output_type": "stream",
     "text": [
      "{'code': '0', 'data': [{'instId': 'BTC-USDT-SWAP', 'lever': '2', 'mgnMode': 'isolated', 'posSide': 'long'}], 'msg': ''}\n"
     ]
    }
   ],
   "source": [
    "# 永续合约 BTC-USDT-SWAP 逐仓 多仓 杠杆为2\n",
    "set_leverage_result = account.set_leverage(\n",
    "    instId='BTC-USDT-SWAP',\n",
    "    mgnMode='isolated',\n",
    "    lever='2',\n",
    "    posSide='long'\n",
    ")\n",
    "eprint(set_leverage_result)"
   ]
  },
  {
   "cell_type": "markdown",
   "id": "03100311",
   "metadata": {},
   "source": [
    "### 5.5 获取杠杆倍数"
   ]
  },
  {
   "cell_type": "code",
   "execution_count": 13,
   "id": "07dfcc8f",
   "metadata": {},
   "outputs": [
    {
     "name": "stdout",
     "output_type": "stream",
     "text": [
      "{'code': '0',\n",
      " 'data': [{'instId': 'BTC-USDT-SWAP', 'lever': '2', 'mgnMode': 'cross', 'posSide': 'long'},\n",
      "          {'instId': 'BTC-USDT-SWAP', 'lever': '2', 'mgnMode': 'cross', 'posSide': 'short'}],\n",
      " 'msg': ''}\n"
     ]
    }
   ],
   "source": [
    "# 永续合约 BTC-USDT-SWAP 全仓\n",
    "leverage_info_result = account.get_leverage_info(instId='BTC-USDT-SWAP', mgnMode='cross')\n",
    "eprint(leverage_info_result)"
   ]
  }
 ],
 "metadata": {
  "kernelspec": {
   "display_name": "Python 3 (ipykernel)",
   "language": "python",
   "name": "python3"
  },
  "language_info": {
   "codemirror_mode": {
    "name": "ipython",
    "version": 3
   },
   "file_extension": ".py",
   "mimetype": "text/x-python",
   "name": "python",
   "nbconvert_exporter": "python",
   "pygments_lexer": "ipython3",
   "version": "3.8.4"
  }
 },
 "nbformat": 4,
 "nbformat_minor": 5
}