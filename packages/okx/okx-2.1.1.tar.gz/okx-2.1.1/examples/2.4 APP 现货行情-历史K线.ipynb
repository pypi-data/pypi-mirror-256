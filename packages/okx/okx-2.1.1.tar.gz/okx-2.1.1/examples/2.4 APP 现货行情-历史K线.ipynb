{
 "cells": [
  {
   "cell_type": "markdown",
   "id": "7f5985de",
   "metadata": {},
   "source": [
    "## 1. APP 现货行情-历史K线函数总览"
   ]
  },
  {
   "cell_type": "markdown",
   "id": "9879e39d",
   "metadata": {},
   "source": [
    "|方法|解释|\n",
    "|:---|:---|\n",
    "|get_history_candle|获取产品的历史K线数据|\n",
    "|get_history_candle_latest|获取产品指定数量的最新历史K线数据|\n",
    "|get_history_candle_by_date|获取产品指定日期的历史K线数据|\n",
    "|get_history_candle_latest_ts|获取历史K线数据中最新的毫秒时间戳|\n",
    "|update_history_candle|更新产品历史K线数据到指定时间|\n",
    "|candle_to_df|将OKX的candle转化为DataFrame|"
   ]
  },
  {
   "cell_type": "markdown",
   "id": "c9026611",
   "metadata": {},
   "source": [
    "## 2. 模型实例化"
   ]
  },
  {
   "cell_type": "code",
   "execution_count": 1,
   "id": "ba96e152",
   "metadata": {},
   "outputs": [],
   "source": [
    "from okx.app import OkxSPOT\n",
    "from okx.app.utils import eprint\n",
    "import paux"
   ]
  },
  {
   "cell_type": "code",
   "execution_count": 2,
   "id": "53c5b06d",
   "metadata": {},
   "outputs": [],
   "source": [
    "# 现货行情不需要秘钥\n",
    "key = \"\"\n",
    "secret = \"\"\n",
    "passphrase = \"\"\n",
    "# 使用http和https代理，proxies={'http':'xxxxx','https:':'xxxxx'}，与requests中的proxies参数规则相同\n",
    "proxies = {}\n",
    "# 转发：需搭建转发服务器，可参考：https://github.com/pyted/okx_resender\n",
    "proxy_host = None\n",
    "\n",
    "# okxSPOT.market 等同于 marketSPOT\n",
    "okxSPOT = OkxSPOT(\n",
    "    key=key, secret=secret, passphrase=passphrase, proxies=proxies, proxy_host=proxy_host,\n",
    ")\n",
    "market = okxSPOT.market"
   ]
  },
  {
   "cell_type": "markdown",
   "id": "7cdfec31",
   "metadata": {},
   "source": [
    "## 3 获取产品的历史K线数据 get_history_candle\n",
    "\n",
    "- 通过起始时间获取历史K线\n",
    "- 可以接收更长跨度的时间段，会调用多次官方底层接口，合并数据，并严格验证，返回安全的K线数据\n",
    "- 起始字段支持多种数据类型：如时间格式的字符串、日期时间对象以及毫秒级时间戳"
   ]
  },
  {
   "cell_type": "code",
   "execution_count": 3,
   "id": "a39db66b",
   "metadata": {},
   "outputs": [
    {
     "name": "stdout",
     "output_type": "stream",
     "text": [
      "{'code': '0',\n",
      " 'data': array([[1.70403840e+12, 4.24576000e+04, 4.24857000e+04, ...,\n",
      "        1.97042706e+05, 1.97042706e+05, 1.00000000e+00],\n",
      "       [1.70403846e+12, 4.24857000e+04, 4.24857000e+04, ...,\n",
      "        2.44898027e+05, 2.44898027e+05, 1.00000000e+00],\n",
      "       [1.70403852e+12, 4.24523000e+04, 4.24578000e+04, ...,\n",
      "        3.33279788e+05, 3.33279788e+05, 1.00000000e+00],\n",
      "       ...,\n",
      "       [1.70412462e+12, 4.28020000e+04, 4.28020000e+04, ...,\n",
      "        3.25964084e+05, 3.25964084e+05, 1.00000000e+00],\n",
      "       [1.70412468e+12, 4.27822000e+04, 4.27859000e+04, ...,\n",
      "        6.22531312e+04, 6.22531312e+04, 1.00000000e+00],\n",
      "       [1.70412474e+12, 4.27662000e+04, 4.27828000e+04, ...,\n",
      "        4.66359532e+05, 4.66359532e+05, 1.00000000e+00]]),\n",
      " 'msg': ''}\n",
      "candle.shape= (1440, 9)\n"
     ]
    }
   ],
   "source": [
    "history_candle = market.get_history_candle(\n",
    "    instId='BTC-USDT',\n",
    "    start='2024-01-01 00:00:00',\n",
    "    end='2024-01-01 23:59:00',\n",
    "    bar='1m',\n",
    ")\n",
    "\n",
    "eprint(history_candle)\n",
    "print('candle.shape=', history_candle['data'].shape)"
   ]
  },
  {
   "cell_type": "markdown",
   "id": "d90197b9",
   "metadata": {},
   "source": [
    "## 4. 获取产品指定数量的最新历史K线数据 get_history_candle_latest"
   ]
  },
  {
   "cell_type": "code",
   "execution_count": 4,
   "id": "0e4d7aff",
   "metadata": {},
   "outputs": [
    {
     "name": "stdout",
     "output_type": "stream",
     "text": [
      "{'code': '0',\n",
      " 'data': array([[1.70629530e+12, 4.20918000e+04, 4.21109000e+04, ...,\n",
      "        1.15704646e+06, 1.15704646e+06, 1.00000000e+00],\n",
      "       [1.70629560e+12, 4.21072000e+04, 4.21207000e+04, ...,\n",
      "        4.04635453e+06, 4.04635453e+06, 1.00000000e+00],\n",
      "       [1.70629590e+12, 4.20261000e+04, 4.20678000e+04, ...,\n",
      "        9.87536062e+05, 9.87536062e+05, 1.00000000e+00],\n",
      "       ...,\n",
      "       [1.70635440e+12, 4.17634000e+04, 4.17687000e+04, ...,\n",
      "        1.66657598e+05, 1.66657598e+05, 1.00000000e+00],\n",
      "       [1.70635470e+12, 4.17687000e+04, 4.17688000e+04, ...,\n",
      "        8.55030675e+05, 8.55030675e+05, 1.00000000e+00],\n",
      "       [1.70635500e+12, 4.17298000e+04, 4.17573000e+04, ...,\n",
      "        7.78228378e+05, 7.78228378e+05, 1.00000000e+00]]),\n",
      " 'msg': ''}\n"
     ]
    }
   ],
   "source": [
    "history_candle_latest = market.get_history_candle_latest(\n",
    "    instId='BTC-USDT',\n",
    "    length=200,\n",
    "    bar='5m'\n",
    ")\n",
    "eprint(history_candle_latest)"
   ]
  },
  {
   "cell_type": "markdown",
   "id": "336649a1",
   "metadata": {},
   "source": [
    "## 5. 获取产品指定日期的历史K线数据 get_history_candle_by_date"
   ]
  },
  {
   "cell_type": "code",
   "execution_count": 5,
   "id": "04d5129a",
   "metadata": {},
   "outputs": [
    {
     "name": "stdout",
     "output_type": "stream",
     "text": [
      "{'code': '0',\n",
      " 'data': array([[1.70403840e+12, 4.24576000e+04, 4.24857000e+04, ...,\n",
      "        8.34252150e+05, 8.34252150e+05, 1.00000000e+00],\n",
      "       [1.70403870e+12, 4.24498000e+04, 4.24916000e+04, ...,\n",
      "        3.82286460e+05, 3.82286460e+05, 1.00000000e+00],\n",
      "       [1.70403900e+12, 4.24915000e+04, 4.25579000e+04, ...,\n",
      "        7.08085379e+05, 7.08085379e+05, 1.00000000e+00],\n",
      "       ...,\n",
      "       [1.70412390e+12, 4.28433000e+04, 4.28480000e+04, ...,\n",
      "        2.34610539e+06, 2.34610539e+06, 1.00000000e+00],\n",
      "       [1.70412420e+12, 4.27668000e+04, 4.27979000e+04, ...,\n",
      "        2.82678815e+06, 2.82678815e+06, 1.00000000e+00],\n",
      "       [1.70412450e+12, 4.27800000e+04, 4.28140000e+04, ...,\n",
      "        2.12460141e+06, 2.12460141e+06, 1.00000000e+00]]),\n",
      " 'msg': ''}\n"
     ]
    }
   ],
   "source": [
    "history_candle_by_date = market.get_history_candle_by_date(\n",
    "    instId='BTC-USDT',\n",
    "    date='2024-01-01',\n",
    "    bar='5m'\n",
    ")\n",
    "eprint(history_candle_by_date)"
   ]
  },
  {
   "cell_type": "markdown",
   "id": "397565db",
   "metadata": {},
   "source": [
    "## 6. 获取历史K线数据中最新的毫秒时间戳 history_candle_latest_ts"
   ]
  },
  {
   "cell_type": "code",
   "execution_count": 6,
   "id": "7471ceb4",
   "metadata": {},
   "outputs": [
    {
     "name": "stdout",
     "output_type": "stream",
     "text": [
      "{'code': '0', 'data': 1706355360000.0, 'msg': ''}\n"
     ]
    }
   ],
   "source": [
    "history_candle_latest_ts = market.get_history_candle_latest_ts()\n",
    "eprint(history_candle_latest_ts)"
   ]
  },
  {
   "cell_type": "markdown",
   "id": "9896460a",
   "metadata": {},
   "source": [
    "## 7.更新产品历史K线数据到指定时间 update_history_candle"
   ]
  },
  {
   "cell_type": "code",
   "execution_count": 7,
   "id": "71651a7f",
   "metadata": {},
   "outputs": [],
   "source": [
    "# 获取candle1，待更新\n",
    "candle1 = market.get_history_candle(\n",
    "    instId='BTC-USDT',\n",
    "    start='2023-01-01 10:00:00',\n",
    "    end='2023-01-02 10:00:00',\n",
    "    bar='1m',\n",
    ")['data']"
   ]
  },
  {
   "cell_type": "code",
   "execution_count": 8,
   "id": "082e4005",
   "metadata": {},
   "outputs": [
    {
     "name": "stdout",
     "output_type": "stream",
     "text": [
      "{'code': '0',\n",
      " 'data': array([[1.67258880e+12, 1.65600000e+04, 1.65600000e+04, ...,\n",
      "        6.48275742e+03, 6.48275742e+03, 1.00000000e+00],\n",
      "       [1.67258886e+12, 1.65600000e+04, 1.65655000e+04, ...,\n",
      "        3.87162971e+04, 3.87162971e+04, 1.00000000e+00],\n",
      "       [1.67258892e+12, 1.65655000e+04, 1.65819000e+04, ...,\n",
      "        2.98223675e+05, 2.98223675e+05, 1.00000000e+00],\n",
      "       ...,\n",
      "       [1.67267502e+12, 1.67378000e+04, 1.67378000e+04, ...,\n",
      "        1.55428412e+04, 1.55428412e+04, 1.00000000e+00],\n",
      "       [1.67267508e+12, 1.67356000e+04, 1.67357000e+04, ...,\n",
      "        2.77286288e+04, 2.77286288e+04, 1.00000000e+00],\n",
      "       [1.67267514e+12, 1.67313000e+04, 1.67355000e+04, ...,\n",
      "        1.55383483e+05, 1.55383483e+05, 1.00000000e+00]]),\n",
      " 'msg': ''}\n",
      "历史K线时间起点： 2023-01-02 00:00:00\n",
      "历史K线时间终点： 2023-01-02 23:59:00\n",
      "历史K线时间长度： 1440\n"
     ]
    }
   ],
   "source": [
    "# 更新candle1到指定日期时间(智能节约权重)\n",
    "candle_result = market.update_history_candle(\n",
    "    candle=candle1,  # 支持candle1为空\n",
    "    instId='BTC-USDT',\n",
    "    length=1440,  # 保留数量\n",
    "    end='2023-01-02 23:59:00',  # end默认为本地计算机时间戳\n",
    "    bar='1m',\n",
    ")\n",
    "eprint(candle_result)\n",
    "\n",
    "candle_start = paux.date.to_fmt(\n",
    "    candle_result['data'][0, 0],\n",
    "    timezone='Asia/Shanghai',\n",
    ")\n",
    "\n",
    "candle_end = paux.date.to_fmt(\n",
    "    candle_result['data'][-1, 0],\n",
    "    timezone='Asia/Shanghai',\n",
    ")\n",
    "\n",
    "candle_length = candle_result['data'].shape[0]\n",
    "\n",
    "print('历史K线时间起点：', candle_start)\n",
    "print('历史K线时间终点：', candle_end)\n",
    "print('历史K线时间长度：', candle_length)"
   ]
  },
  {
   "cell_type": "markdown",
   "id": "5c5647fd",
   "metadata": {},
   "source": [
    "## 8. 将OKX的candle转化为DataFrame candle_to_df"
   ]
  },
  {
   "cell_type": "code",
   "execution_count": 9,
   "id": "8083418f",
   "metadata": {},
   "outputs": [
    {
     "data": {
      "text/html": [
       "<div>\n",
       "<style scoped>\n",
       "    .dataframe tbody tr th:only-of-type {\n",
       "        vertical-align: middle;\n",
       "    }\n",
       "\n",
       "    .dataframe tbody tr th {\n",
       "        vertical-align: top;\n",
       "    }\n",
       "\n",
       "    .dataframe thead th {\n",
       "        text-align: right;\n",
       "    }\n",
       "</style>\n",
       "<table border=\"1\" class=\"dataframe\">\n",
       "  <thead>\n",
       "    <tr style=\"text-align: right;\">\n",
       "      <th></th>\n",
       "      <th>ts</th>\n",
       "      <th>o</th>\n",
       "      <th>h</th>\n",
       "      <th>l</th>\n",
       "      <th>c</th>\n",
       "      <th>vol</th>\n",
       "      <th>volCcy</th>\n",
       "      <th>volCcyQuote</th>\n",
       "      <th>confirm</th>\n",
       "    </tr>\n",
       "  </thead>\n",
       "  <tbody>\n",
       "    <tr>\n",
       "      <th>0</th>\n",
       "      <td>2023-01-02 00:00:00</td>\n",
       "      <td>16560.0</td>\n",
       "      <td>16560.0</td>\n",
       "      <td>16559.9</td>\n",
       "      <td>16560.0</td>\n",
       "      <td>0.391471</td>\n",
       "      <td>6482.757423</td>\n",
       "      <td>6482.757423</td>\n",
       "      <td>1</td>\n",
       "    </tr>\n",
       "    <tr>\n",
       "      <th>1</th>\n",
       "      <td>2023-01-02 00:01:00</td>\n",
       "      <td>16560.0</td>\n",
       "      <td>16565.5</td>\n",
       "      <td>16560.0</td>\n",
       "      <td>16565.5</td>\n",
       "      <td>2.337644</td>\n",
       "      <td>38716.297070</td>\n",
       "      <td>38716.297070</td>\n",
       "      <td>1</td>\n",
       "    </tr>\n",
       "    <tr>\n",
       "      <th>2</th>\n",
       "      <td>2023-01-02 00:02:00</td>\n",
       "      <td>16565.5</td>\n",
       "      <td>16581.9</td>\n",
       "      <td>16565.5</td>\n",
       "      <td>16578.3</td>\n",
       "      <td>17.990882</td>\n",
       "      <td>298223.674534</td>\n",
       "      <td>298223.674534</td>\n",
       "      <td>1</td>\n",
       "    </tr>\n",
       "    <tr>\n",
       "      <th>3</th>\n",
       "      <td>2023-01-02 00:03:00</td>\n",
       "      <td>16577.5</td>\n",
       "      <td>16577.5</td>\n",
       "      <td>16570.0</td>\n",
       "      <td>16570.0</td>\n",
       "      <td>2.491321</td>\n",
       "      <td>41285.773281</td>\n",
       "      <td>41285.773281</td>\n",
       "      <td>1</td>\n",
       "    </tr>\n",
       "    <tr>\n",
       "      <th>4</th>\n",
       "      <td>2023-01-02 00:04:00</td>\n",
       "      <td>16570.0</td>\n",
       "      <td>16570.0</td>\n",
       "      <td>16564.6</td>\n",
       "      <td>16564.7</td>\n",
       "      <td>1.185225</td>\n",
       "      <td>19638.835677</td>\n",
       "      <td>19638.835677</td>\n",
       "      <td>1</td>\n",
       "    </tr>\n",
       "  </tbody>\n",
       "</table>\n",
       "</div>"
      ],
      "text/plain": [
       "                    ts        o        h        l        c        vol  \\\n",
       "0  2023-01-02 00:00:00  16560.0  16560.0  16559.9  16560.0   0.391471   \n",
       "1  2023-01-02 00:01:00  16560.0  16565.5  16560.0  16565.5   2.337644   \n",
       "2  2023-01-02 00:02:00  16565.5  16581.9  16565.5  16578.3  17.990882   \n",
       "3  2023-01-02 00:03:00  16577.5  16577.5  16570.0  16570.0   2.491321   \n",
       "4  2023-01-02 00:04:00  16570.0  16570.0  16564.6  16564.7   1.185225   \n",
       "\n",
       "          volCcy    volCcyQuote  confirm  \n",
       "0    6482.757423    6482.757423        1  \n",
       "1   38716.297070   38716.297070        1  \n",
       "2  298223.674534  298223.674534        1  \n",
       "3   41285.773281   41285.773281        1  \n",
       "4   19638.835677   19638.835677        1  "
      ]
     },
     "execution_count": 9,
     "metadata": {},
     "output_type": "execute_result"
    }
   ],
   "source": [
    "candle = candle_result['data']\n",
    "df = market.candle_to_df(candle)\n",
    "df.head()"
   ]
  }
 ],
 "metadata": {
  "kernelspec": {
   "display_name": "Python 3 (ipykernel)",
   "language": "python",
   "name": "python3"
  },
  "language_info": {
   "codemirror_mode": {
    "name": "ipython",
    "version": 3
   },
   "file_extension": ".py",
   "mimetype": "text/x-python",
   "name": "python",
   "nbconvert_exporter": "python",
   "pygments_lexer": "ipython3",
   "version": "3.8.4"
  }
 },
 "nbformat": 4,
 "nbformat_minor": 5
}