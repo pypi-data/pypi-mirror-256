{
 "cells": [
  {
   "cell_type": "markdown",
   "id": "f501a32c",
   "metadata": {},
   "source": [
    "## 1. 基础交易接口总览"
   ]
  },
  {
   "cell_type": "markdown",
   "id": "82312b9d",
   "metadata": {},
   "source": [
    "|方法|解释|Path|\n",
    "|:---|:---|:---|\n",
    "|set_order|下单|/api/v5/trade/order|\n",
    "|set_batch_orders|批量下单|/api/v5/trade/batch-orders|\n",
    "|set_cancel_order|撤单|/api/v5/trade/cancel-order|\n",
    "|set_cancel_batch_orders|批量撤单|/api/v5/trade/cancel-batch-orders|\n",
    "|set_amend_order|修改订单|/api/v5/trade/amend-order|\n",
    "|set_amend_batch_orders|批量修改订单|/api/v5/trade/amend-batch-orders|\n",
    "|set_close_position|市价仓位全平|/api/v5/trade/close-position|\n",
    "|get_order|获取订单信息|/api/v5/trade/order|\n",
    "|get_orders_pending|获取未成交订单列表|/api/v5/trade/orders-pending|\n",
    "|get_orders_history|获取历史订单记录（近七天）|/api/v5/trade/orders-history|\n",
    "|get_orders_history_archive|获取历史订单记录（近三个月）|/api/v5/trade/orders-history-archive|\n",
    "|get_fills|获取成交明细（近三天）|/api/v5/trade/fills|\n",
    "|get_fills_history|获取成交明细（近三个月）|/api/v5/trade/fills-history|\n",
    "|set_fills_archive|申请成交明细（近两年）|/api/v5/trade/fills-archive|\n",
    "|get_fills_archive|获取成交明细（近两年）|/api/v5/trade/fills-archive|\n",
    "|get_easy_convert_currency_list|获取一键兑换主流币币种列表|/api/v5/trade/easy-convert-currency-list|\n",
    "|set_easy_convert|一键兑换主流币交易|/api/v5/trade/easy-convert|\n",
    "|get_easy_convert_history|获取一键兑换主流币历史记录|/api/v5/trade/easy-convert-history|\n",
    "|get_one_click_repay_currency_list|获取一键还债币种列表|/api/v5/trade/one-click-repay-currency-list|\n",
    "|set_one_click_repay|一键还债交易|/api/v5/trade/one-click-repay|\n",
    "|get_one_click_repay_history|获取一键还债历史记录|/api/v5/trade/one-click-repay-history|\n",
    "|set_mass_cancel|撤销 MMP 订单|/api/v5/trade/mass-cancel|\n",
    "|set_cancel_all_after|倒计时全部撤单|/api/v5/trade/cancel-all-after|\n"
   ]
  },
  {
   "cell_type": "markdown",
   "id": "ba508279",
   "metadata": {},
   "source": [
    "## 2. 模型实例化"
   ]
  },
  {
   "cell_type": "code",
   "execution_count": 1,
   "id": "e0ed5cdc",
   "metadata": {},
   "outputs": [],
   "source": [
    "from okx.api import Trade\n",
    "from okx.app.utils import eprint"
   ]
  },
  {
   "cell_type": "code",
   "execution_count": 2,
   "id": "33cb05f6",
   "metadata": {},
   "outputs": [],
   "source": [
    "# 交易模块需要秘钥\n",
    "key = \"xxx\"\n",
    "secret = \"xxx\"\n",
    "passphrase = \"xxx\"\n",
    "# 实盘：0，虚拟盘：1\n",
    "flag = '0'\n",
    "# 使用http和https代理，proxies={'http':'xxxxx','https:':'xxxxx'}，与requests中的proxies参数规则相同\n",
    "proxies = {}\n",
    "# 转发：需搭建转发服务器，可参考：https://github.com/pyted/okx_resender\n",
    "proxy_host = None\n",
    "\n",
    "# 实例化trade\n",
    "trade = Trade(\n",
    "    key=key, secret=secret, passphrase=passphrase, flag=flag, proxies=proxies, proxy_host=proxy_host,\n",
    ")"
   ]
  },
  {
   "cell_type": "markdown",
   "id": "00336e0e",
   "metadata": {},
   "source": [
    "## 3. 下单"
   ]
  },
  {
   "cell_type": "markdown",
   "id": "1e65132c",
   "metadata": {},
   "source": [
    "**下单时需注意sz参数**\n",
    "\n",
    "- 交易数量，表示要购买或者出售的数量。\n",
    "- 当币币/币币杠杆以限价买入和卖出时，指交易货币数量。\n",
    "- 当币币杠杆以市价买入时，指计价货币的数量。\n",
    "- 当币币杠杆以市价卖出时，指交易货币的数量。\n",
    "- 对于币币市价单，单位由 tgtCcy 决定\n",
    "- 当交割、永续、期权买入和卖出时，指合约张数。\n",
    "\n",
    "**合约开仓，需要先通过Account模块设置好杠杆倍数**"
   ]
  },
  {
   "cell_type": "markdown",
   "id": "05c7f149",
   "metadata": {},
   "source": [
    "### 3.1 现货限单价购买 set_order"
   ]
  },
  {
   "cell_type": "code",
   "execution_count": 3,
   "id": "da36743f",
   "metadata": {},
   "outputs": [
    {
     "name": "stdout",
     "output_type": "stream",
     "text": [
      "{'code': '0',\n",
      " 'data': [{'clOrdId': '', 'ordId': '671414344756137984', 'sCode': '0', 'sMsg': 'Order placed', 'tag': ''}],\n",
      " 'inTime': '1706349654065596',\n",
      " 'msg': '',\n",
      " 'outTime': '1706349654067367'}\n"
     ]
    }
   ],
   "source": [
    "# 以2U的价格限价购买1个BTC-USDT\n",
    "set_order_spot_limit_buy_result = trade.set_order(\n",
    "    instId='BTC-USDT',\n",
    "    ordType='limit',\n",
    "    tdMode='cash',\n",
    "    side='buy',\n",
    "    sz='1',\n",
    "    px='2',\n",
    ")\n",
    "eprint(set_order_spot_limit_buy_result)"
   ]
  },
  {
   "cell_type": "markdown",
   "id": "ddffee93",
   "metadata": {},
   "source": [
    "### 3.2 现货市单价购买 set_order"
   ]
  },
  {
   "cell_type": "code",
   "execution_count": 4,
   "id": "0a6f31e0",
   "metadata": {},
   "outputs": [
    {
     "name": "stdout",
     "output_type": "stream",
     "text": [
      "{'code': '0',\n",
      " 'data': [{'clOrdId': '', 'ordId': '671414348174495744', 'sCode': '0', 'sMsg': 'Order placed', 'tag': ''}],\n",
      " 'inTime': '1706349654880754',\n",
      " 'msg': '',\n",
      " 'outTime': '1706349654882945'}\n"
     ]
    }
   ],
   "source": [
    "# 市单价购买10个交易货币数量个MANA-USDT\n",
    "set_order_spot_market_buy_result = trade.set_order(\n",
    "    instId='MANA-USDT',\n",
    "    ordType='market',\n",
    "    tdMode='cash',\n",
    "    side='buy',\n",
    "    sz='10',\n",
    ")\n",
    "eprint(set_order_spot_market_buy_result)"
   ]
  },
  {
   "cell_type": "markdown",
   "id": "a1435201",
   "metadata": {},
   "source": [
    "### 3.3 现货限单价卖出 set_order"
   ]
  },
  {
   "cell_type": "code",
   "execution_count": 5,
   "id": "be1e146a",
   "metadata": {},
   "outputs": [
    {
     "name": "stdout",
     "output_type": "stream",
     "text": [
      "{'code': '0',\n",
      " 'data': [{'clOrdId': '', 'ordId': '671414471243763712', 'sCode': '0', 'sMsg': 'Order placed', 'tag': ''}],\n",
      " 'inTime': '1706349684222175',\n",
      " 'msg': '',\n",
      " 'outTime': '1706349684224339'}\n"
     ]
    }
   ],
   "source": [
    "# 以2U价格限单价限价卖出10个交易货币数量个MANA-USDT\n",
    "set_order_spot_limit_sell_result = trade.set_order(\n",
    "    instId='MANA-USDT',\n",
    "    ordType='limit',\n",
    "    tdMode='cash',\n",
    "    side='sell',\n",
    "    sz='10',\n",
    "    px='2',\n",
    ")\n",
    "eprint(set_order_spot_limit_sell_result)"
   ]
  },
  {
   "cell_type": "markdown",
   "id": "44b0dd20",
   "metadata": {},
   "source": [
    "### 3.4 现货市单价卖出 set_order"
   ]
  },
  {
   "cell_type": "code",
   "execution_count": 6,
   "id": "5ecc49f9",
   "metadata": {},
   "outputs": [
    {
     "name": "stdout",
     "output_type": "stream",
     "text": [
      "{'code': '0',\n",
      " 'data': [{'clOrdId': '', 'ordId': '671414758817828866', 'sCode': '0', 'sMsg': 'Order placed', 'tag': ''}],\n",
      " 'inTime': '1706349752785382',\n",
      " 'msg': '',\n",
      " 'outTime': '1706349752787408'}\n"
     ]
    }
   ],
   "source": [
    "# 市单价卖出10个交易货币数量个MANA-USDT\n",
    "set_order_spot_market_sell_result = trade.set_order(\n",
    "    instId='MANA-USDT',\n",
    "    ordType='market',\n",
    "    tdMode='cash',\n",
    "    side='sell',\n",
    "    sz='10',\n",
    ")\n",
    "eprint(set_order_spot_market_sell_result)"
   ]
  },
  {
   "cell_type": "markdown",
   "id": "6d93442b",
   "metadata": {},
   "source": [
    "### 3.5 合约限单价开仓 set_order"
   ]
  },
  {
   "cell_type": "code",
   "execution_count": 7,
   "id": "93fbb6bf",
   "metadata": {},
   "outputs": [
    {
     "name": "stdout",
     "output_type": "stream",
     "text": [
      "{'code': '0',\n",
      " 'data': [{'clOrdId': '', 'ordId': '671414839142944784', 'sCode': '0', 'sMsg': 'Order placed', 'tag': ''}],\n",
      " 'inTime': '1706349771936510',\n",
      " 'msg': '',\n",
      " 'outTime': '1706349771937827'}\n"
     ]
    }
   ],
   "source": [
    "# 以2U的价格，逐仓限价开多1张个BTC-USDT-SWAP\n",
    "set_order_swap_limit_open_result = trade.set_order(\n",
    "    instId='BTC-USDT-SWAP',\n",
    "    ordType='limit',\n",
    "    tdMode='isolated',\n",
    "    posSide='long',\n",
    "    side='buy',\n",
    "    sz='1',\n",
    "    px='2',\n",
    ")\n",
    "eprint(set_order_swap_limit_open_result)"
   ]
  },
  {
   "cell_type": "markdown",
   "id": "b3c0b558",
   "metadata": {},
   "source": [
    "### 3.6 合约市价单开仓 set_order"
   ]
  },
  {
   "cell_type": "code",
   "execution_count": 8,
   "id": "fb0524c7",
   "metadata": {},
   "outputs": [
    {
     "name": "stdout",
     "output_type": "stream",
     "text": [
      "{'code': '0',\n",
      " 'data': [{'clOrdId': '', 'ordId': '671415027714658304', 'sCode': '0', 'sMsg': 'Order placed', 'tag': ''}],\n",
      " 'inTime': '1706349816895760',\n",
      " 'msg': '',\n",
      " 'outTime': '1706349816897527'}\n"
     ]
    }
   ],
   "source": [
    "# 市价 逐仓 开多 1张MANA-USDT-SWAP\n",
    "set_order_swap_cross_open_result = trade.set_order(\n",
    "    instId='MANA-USDT-SWAP',\n",
    "    ordType='market',\n",
    "    tdMode='isolated',\n",
    "    posSide='long',\n",
    "    side='buy',\n",
    "    sz='1',\n",
    ")\n",
    "eprint(set_order_swap_cross_open_result)"
   ]
  },
  {
   "cell_type": "markdown",
   "id": "696f162e",
   "metadata": {},
   "source": [
    "### 3.7 合约限价单平仓 set_order"
   ]
  },
  {
   "cell_type": "code",
   "execution_count": 9,
   "id": "136cb115",
   "metadata": {},
   "outputs": [
    {
     "name": "stdout",
     "output_type": "stream",
     "text": [
      "{'code': '0',\n",
      " 'data': [{'clOrdId': '', 'ordId': '671415171906441220', 'sCode': '0', 'sMsg': 'Order placed', 'tag': ''}],\n",
      " 'inTime': '1706349851273868',\n",
      " 'msg': '',\n",
      " 'outTime': '1706349851275852'}\n"
     ]
    }
   ],
   "source": [
    "# 以2U的价格，逐仓限价平多1张个MANA-USDT-SWAP\n",
    "set_order_swap_limit_close_result = trade.set_order(\n",
    "    instId='MANA-USDT-SWAP',\n",
    "    ordType='limit',\n",
    "    tdMode='isolated',\n",
    "    posSide='long',\n",
    "    side='sell',\n",
    "    sz='1',\n",
    "    px='2',\n",
    ")\n",
    "eprint(set_order_swap_limit_close_result)"
   ]
  },
  {
   "cell_type": "markdown",
   "id": "a87e6654",
   "metadata": {},
   "source": [
    "### 3.8 合约市价单平仓 set_order"
   ]
  },
  {
   "cell_type": "code",
   "execution_count": 10,
   "id": "05a96d5d",
   "metadata": {},
   "outputs": [
    {
     "name": "stdout",
     "output_type": "stream",
     "text": [
      "{'code': '0',\n",
      " 'data': [{'clOrdId': '', 'ordId': '671415211173515270', 'sCode': '0', 'sMsg': 'Order placed', 'tag': ''}],\n",
      " 'inTime': '1706349860636068',\n",
      " 'msg': '',\n",
      " 'outTime': '1706349860638288'}\n"
     ]
    }
   ],
   "source": [
    "# 市价 逐仓 平多 1张MANA-USDT-SWAP\n",
    "set_order_swap_cross_close_result = trade.set_order(\n",
    "    instId='MANA-USDT-SWAP',\n",
    "    ordType='market',\n",
    "    tdMode='isolated',\n",
    "    posSide='long',\n",
    "    side='sell',\n",
    "    sz='1',\n",
    ")\n",
    "eprint(set_order_swap_cross_close_result)"
   ]
  },
  {
   "cell_type": "markdown",
   "id": "96839056",
   "metadata": {},
   "source": [
    "### 3.9. 批量下单 set_batch_orders"
   ]
  },
  {
   "cell_type": "code",
   "execution_count": 11,
   "id": "36e37794",
   "metadata": {},
   "outputs": [
    {
     "name": "stdout",
     "output_type": "stream",
     "text": [
      "{'code': '0',\n",
      " 'data': [{'clOrdId': 'c1', 'ordId': '671415269805690888', 'sCode': '0', 'sMsg': 'Order placed', 'tag': ''},\n",
      "          {'clOrdId': 'c2', 'ordId': '671415269805690889', 'sCode': '0', 'sMsg': 'Order placed', 'tag': ''},\n",
      "          {'clOrdId': 'c3', 'ordId': '671415269805690890', 'sCode': '0', 'sMsg': 'Order placed', 'tag': ''},\n",
      "          {'clOrdId': 'c4', 'ordId': '671415269805690891', 'sCode': '0', 'sMsg': 'Order placed', 'tag': ''},\n",
      "          {'clOrdId': 'c5', 'ordId': '671415269805690892', 'sCode': '0', 'sMsg': 'Order placed', 'tag': ''},\n",
      "          {'clOrdId': 'c6', 'ordId': '671415269805690893', 'sCode': '0', 'sMsg': 'Order placed', 'tag': ''}],\n",
      " 'inTime': '1706349874614216',\n",
      " 'msg': '',\n",
      " 'outTime': '1706349874617034'}\n"
     ]
    }
   ],
   "source": [
    "# 现货，单价分别为1U、2U、3U、4U、5U、6U的价格，限单价各购买1个交易货币的BTC-USDT\n",
    "orders = [\n",
    "    {'instId': 'BTC-USDT', 'tdMode': 'cash', 'clOrdId': 'c1', 'side': 'buy', 'ordType': 'limit', 'px': '1', 'sz': '1'},\n",
    "    {'instId': 'BTC-USDT', 'tdMode': 'cash', 'clOrdId': 'c2', 'side': 'buy', 'ordType': 'limit', 'px': '2', 'sz': '1'},\n",
    "    {'instId': 'BTC-USDT', 'tdMode': 'cash', 'clOrdId': 'c3', 'side': 'buy', 'ordType': 'limit', 'px': '3', 'sz': '1'},\n",
    "    {'instId': 'BTC-USDT', 'tdMode': 'cash', 'clOrdId': 'c4', 'side': 'buy', 'ordType': 'limit', 'px': '4', 'sz': '1'},\n",
    "    {'instId': 'BTC-USDT', 'tdMode': 'cash', 'clOrdId': 'c5', 'side': 'buy', 'ordType': 'limit', 'px': '5', 'sz': '1'},\n",
    "    {'instId': 'BTC-USDT', 'tdMode': 'cash', 'clOrdId': 'c6', 'side': 'buy', 'ordType': 'limit', 'px': '6', 'sz': '1'},\n",
    "]\n",
    "\n",
    "set_batch_orders_result = trade.set_batch_orders(orders)\n",
    "eprint(set_batch_orders_result)"
   ]
  },
  {
   "cell_type": "markdown",
   "id": "acb9da0a",
   "metadata": {},
   "source": [
    "## 4. 撤销订单"
   ]
  },
  {
   "cell_type": "markdown",
   "id": "65206e82",
   "metadata": {},
   "source": [
    "### 4.1 单个撤单 set_cancel_order"
   ]
  },
  {
   "cell_type": "code",
   "execution_count": 12,
   "id": "5d17834f",
   "metadata": {},
   "outputs": [
    {
     "name": "stdout",
     "output_type": "stream",
     "text": [
      "{'code': '0',\n",
      " 'data': [{'clOrdId': 'c1', 'ordId': '671415269805690888', 'sCode': '0', 'sMsg': ''}],\n",
      " 'inTime': '1706349897251936',\n",
      " 'msg': '',\n",
      " 'outTime': '1706349897253656'}\n"
     ]
    }
   ],
   "source": [
    "# 按照instId与ordId取消订单\n",
    "set_cancel_order_result = trade.set_cancel_order(\n",
    "    instId='BTC-USDT', ordId='671415269805690888'\n",
    ")\n",
    "eprint(set_cancel_order_result)"
   ]
  },
  {
   "cell_type": "markdown",
   "id": "96be17e8",
   "metadata": {},
   "source": [
    "### 4.2 批量撤单 set_cancel_batch_orders"
   ]
  },
  {
   "cell_type": "code",
   "execution_count": 13,
   "id": "bad5f13f",
   "metadata": {},
   "outputs": [
    {
     "name": "stdout",
     "output_type": "stream",
     "text": [
      "{'code': '0',\n",
      " 'data': [{'clOrdId': 'c2', 'ordId': '671415269805690889', 'sCode': '0', 'sMsg': ''},\n",
      "          {'clOrdId': 'c3', 'ordId': '671415269805690890', 'sCode': '0', 'sMsg': ''}],\n",
      " 'inTime': '1706349915482995',\n",
      " 'msg': '',\n",
      " 'outTime': '1706349915484811'}\n"
     ]
    }
   ],
   "source": [
    "# 按照instId与clOrdId取消订单\n",
    "orders = [\n",
    "    {'instId': 'BTC-USDT', 'clOrdId': 'c2'},\n",
    "    {'instId': 'BTC-USDT', 'clOrdId': 'c3'},\n",
    "]\n",
    "\n",
    "set_cancel_batch_orders_result = trade.set_cancel_batch_orders(orders)\n",
    "eprint(set_cancel_batch_orders_result)"
   ]
  },
  {
   "cell_type": "markdown",
   "id": "d379e733",
   "metadata": {},
   "source": [
    "## 5. 修改订单"
   ]
  },
  {
   "cell_type": "markdown",
   "id": "abacc53a",
   "metadata": {},
   "source": [
    "### 5.1 单个修改订单 set_amend_order"
   ]
  },
  {
   "cell_type": "code",
   "execution_count": 14,
   "id": "949c3116",
   "metadata": {},
   "outputs": [
    {
     "name": "stdout",
     "output_type": "stream",
     "text": [
      "{'code': '0',\n",
      " 'data': [{'clOrdId': 'c4', 'ordId': '671415269805690891', 'reqId': '', 'sCode': '0', 'sMsg': ''}],\n",
      " 'inTime': '1706349940406891',\n",
      " 'msg': '',\n",
      " 'outTime': '1706349940408895'}\n"
     ]
    }
   ],
   "source": [
    "# 修改购买价格为1U\n",
    "set_amend_order_result = trade.set_amend_order(\n",
    "    instId='BTC-USDT',\n",
    "    ordId='671415269805690891',\n",
    "    newSz='',\n",
    "    newPx='2',\n",
    ")\n",
    "eprint(set_amend_order_result)"
   ]
  },
  {
   "cell_type": "markdown",
   "id": "869b04ba",
   "metadata": {},
   "source": [
    "### 5.2 批量修改订单 set_amend_batch_orders"
   ]
  },
  {
   "cell_type": "code",
   "execution_count": 15,
   "id": "73bc4c66",
   "metadata": {},
   "outputs": [
    {
     "name": "stdout",
     "output_type": "stream",
     "text": [
      "{'code': '0',\n",
      " 'data': [{'clOrdId': 'c4', 'ordId': '671415269805690891', 'reqId': '', 'sCode': '0', 'sMsg': ''},\n",
      "          {'clOrdId': 'c5', 'ordId': '671415269805690892', 'reqId': '', 'sCode': '0', 'sMsg': ''},\n",
      "          {'clOrdId': 'c6', 'ordId': '671415269805690893', 'reqId': '', 'sCode': '0', 'sMsg': ''}],\n",
      " 'inTime': '1706349952414771',\n",
      " 'msg': '',\n",
      " 'outTime': '1706349952416942'}\n"
     ]
    }
   ],
   "source": [
    "orders = [\n",
    "    {'instId': 'BTC-USDT', 'clOrdId': 'c4', 'newPx': '2.1'},\n",
    "    {'instId': 'BTC-USDT', 'clOrdId': 'c5', 'newPx': '2.2'},\n",
    "    {'instId': 'BTC-USDT', 'clOrdId': 'c6', 'newPx': '2.3'},\n",
    "]\n",
    "\n",
    "set_amend_batch_orders_result = trade.set_amend_batch_orders(orders)\n",
    "eprint(set_amend_batch_orders_result)"
   ]
  },
  {
   "cell_type": "markdown",
   "id": "3427a028",
   "metadata": {},
   "source": [
    "## 6. 查询"
   ]
  },
  {
   "cell_type": "markdown",
   "id": "2452d946",
   "metadata": {},
   "source": [
    "### 6.1 获取未成交订单列表 get_orders_pending"
   ]
  },
  {
   "cell_type": "code",
   "execution_count": 16,
   "id": "e64f1a09",
   "metadata": {},
   "outputs": [
    {
     "name": "stdout",
     "output_type": "stream",
     "text": [
      "{'code': '0',\n",
      " 'data': [{'accFillSz': '0',\n",
      "           'algoClOrdId': '',\n",
      "           'algoId': '',\n",
      "           'attachAlgoClOrdId': '',\n",
      "           'attachAlgoOrds': [],\n",
      "           '...': '......'},\n",
      "          {'accFillSz': '0',\n",
      "           'algoClOrdId': '',\n",
      "           'algoId': '',\n",
      "           'attachAlgoClOrdId': '',\n",
      "           'attachAlgoOrds': [],\n",
      "           '...': '......'},\n",
      "          {'accFillSz': '0',\n",
      "           'algoClOrdId': '',\n",
      "           'algoId': '',\n",
      "           'attachAlgoClOrdId': '',\n",
      "           'attachAlgoOrds': [],\n",
      "           '...': '......'},\n",
      "          {'accFillSz': '0',\n",
      "           'algoClOrdId': '',\n",
      "           'algoId': '',\n",
      "           'attachAlgoClOrdId': '',\n",
      "           'attachAlgoOrds': [],\n",
      "           '...': '......'},\n",
      "          {'accFillSz': '0',\n",
      "           'algoClOrdId': '',\n",
      "           'algoId': '',\n",
      "           'attachAlgoClOrdId': '',\n",
      "           'attachAlgoOrds': [],\n",
      "           '...': '......'}],\n",
      " 'msg': ''}\n"
     ]
    }
   ],
   "source": [
    "# 获取币币交易未成单的订单列表\n",
    "orders_pending_result = trade.get_orders_pending(instType='SPOT')\n",
    "eprint(orders_pending_result)"
   ]
  },
  {
   "cell_type": "markdown",
   "id": "5ee02cc3",
   "metadata": {},
   "source": [
    "### 6.2 获取订单信息 get_order\n",
    "\n",
    "获取刚才BTC-USDT的挂单信息"
   ]
  },
  {
   "cell_type": "code",
   "execution_count": 17,
   "id": "b11f5375",
   "metadata": {},
   "outputs": [
    {
     "name": "stdout",
     "output_type": "stream",
     "text": [
      "{'code': '0',\n",
      " 'data': [{'accFillSz': '0',\n",
      "           'algoClOrdId': '',\n",
      "           'algoId': '',\n",
      "           'attachAlgoClOrdId': '',\n",
      "           'attachAlgoOrds': [],\n",
      "           '...': '......'}],\n",
      " 'msg': ''}\n"
     ]
    }
   ],
   "source": [
    "order_result = trade.get_order(\n",
    "    instId='BTC-USDT', ordId='671415269805690891'\n",
    ")\n",
    "eprint(order_result)"
   ]
  },
  {
   "cell_type": "markdown",
   "id": "dceef798",
   "metadata": {},
   "source": [
    "### 6.3 账单流水查询（近七天） get_orders_history\n",
    "\n",
    "获取最近7天挂单，且完全成交的订单数据，包括7天以前挂单，但近7天才成交的订单数据。按照订单创建时间倒序排序。\n",
    "\n",
    "已经撤销的未成交单 只保留2小时\n",
    "\n",
    "下述为查询永续合约的账单流水"
   ]
  },
  {
   "cell_type": "code",
   "execution_count": 18,
   "id": "411e5e3e",
   "metadata": {},
   "outputs": [
    {
     "name": "stdout",
     "output_type": "stream",
     "text": [
      "{'code': '0',\n",
      " 'data': [{'accFillSz': '1',\n",
      "           'algoClOrdId': '',\n",
      "           'algoId': '',\n",
      "           'attachAlgoClOrdId': '',\n",
      "           'attachAlgoOrds': [],\n",
      "           'avgPx': '0.4469',\n",
      "           'cTime': '1706349860635',\n",
      "           'cancelSource': '',\n",
      "           'cancelSourceReason': '',\n",
      "           'category': 'normal',\n",
      "           'ccy': '',\n",
      "           'clOrdId': '',\n",
      "           'fee': '-0.0022345',\n",
      "           'feeCcy': 'USDT',\n",
      "           'fillPx': '0.4469',\n",
      "           'fillSz': '1',\n",
      "           'fillTime': '1706349860637',\n",
      "           'instId': 'MANA-USDT-SWAP',\n",
      "           'instType': 'SWAP',\n",
      "           'lever': '1.0',\n",
      "           'ordId': '671415211173515270',\n",
      "           'ordType': 'market',\n",
      "           'pnl': '0.01',\n",
      "           'posSide': 'long',\n",
      "           'px': '',\n",
      "           'pxType': '',\n",
      "           'pxUsd': '',\n",
      "           'pxVol': '',\n",
      "           'quickMgnType': '',\n",
      "           'rebate': '0',\n",
      "           '...': '......'},\n",
      "          {'accFillSz': '1',\n",
      "           'algoClOrdId': '',\n",
      "           'algoId': '',\n",
      "           'attachAlgoClOrdId': '',\n",
      "           'attachAlgoOrds': [],\n",
      "           'avgPx': '0.4471',\n",
      "           'cTime': '1706349816895',\n",
      "           'cancelSource': '',\n",
      "           'cancelSourceReason': '',\n",
      "           'category': 'normal',\n",
      "           'ccy': '',\n",
      "           'clOrdId': '',\n",
      "           'fee': '-0.0022355',\n",
      "           'feeCcy': 'USDT',\n",
      "           'fillPx': '0.4471',\n",
      "           'fillSz': '1',\n",
      "           'fillTime': '1706349816897',\n",
      "           'instId': 'MANA-USDT-SWAP',\n",
      "           'instType': 'SWAP',\n",
      "           'lever': '1.0',\n",
      "           'ordId': '671415027714658304',\n",
      "           'ordType': 'market',\n",
      "           'pnl': '0',\n",
      "           'posSide': 'long',\n",
      "           'px': '',\n",
      "           'pxType': '',\n",
      "           'pxUsd': '',\n",
      "           'pxVol': '',\n",
      "           'quickMgnType': '',\n",
      "           'rebate': '0',\n",
      "           '...': '......'},\n",
      "          {'accFillSz': '1',\n",
      "           'algoClOrdId': '',\n",
      "           'algoId': '',\n",
      "           'attachAlgoClOrdId': '',\n",
      "           'attachAlgoOrds': [],\n",
      "           'avgPx': '0.4444',\n",
      "           'cTime': '1706343173376',\n",
      "           'cancelSource': '',\n",
      "           'cancelSourceReason': '',\n",
      "           'category': 'normal',\n",
      "           'ccy': '',\n",
      "           'clOrdId': '',\n",
      "           'fee': '-0.002222',\n",
      "           'feeCcy': 'USDT',\n",
      "           'fillPx': '0.4444',\n",
      "           'fillSz': '1',\n",
      "           'fillTime': '1706343173376',\n",
      "           'instId': 'MANA-USDT-SWAP',\n",
      "           'instType': 'SWAP',\n",
      "           'lever': '1.0',\n",
      "           'ordId': '671387162776342528',\n",
      "           'ordType': 'market',\n",
      "           'pnl': '0.001',\n",
      "           'posSide': 'short',\n",
      "           'px': '',\n",
      "           'pxType': '',\n",
      "           'pxUsd': '',\n",
      "           'pxVol': '',\n",
      "           'quickMgnType': '',\n",
      "           'rebate': '0',\n",
      "           '...': '......'},\n",
      "          '......'],\n",
      " 'msg': ''}\n"
     ]
    }
   ],
   "source": [
    "orders_history_result = trade.get_orders_history(instType='SWAP')\n",
    "eprint(orders_history_result, data_length=3, length=30)"
   ]
  },
  {
   "cell_type": "markdown",
   "id": "88179c3b",
   "metadata": {},
   "source": [
    "### 6.4 获取历史订单记录（近三个月） get_orders_history_archive\n",
    "\n",
    "获取最近3个月挂单，且完全成交的订单数据，包括3个月以前挂单，但近3个月才成交的订单数据。按照订单创建时间倒序排序。\n",
    "\n",
    "下述为获取币币交易的历史订单"
   ]
  },
  {
   "cell_type": "code",
   "execution_count": 19,
   "id": "db26da3f",
   "metadata": {},
   "outputs": [
    {
     "name": "stdout",
     "output_type": "stream",
     "text": [
      "{'code': '0',\n",
      " 'data': [{'accFillSz': '10',\n",
      "           'algoClOrdId': '',\n",
      "           'algoId': '',\n",
      "           'attachAlgoClOrdId': '',\n",
      "           'attachAlgoOrds': [],\n",
      "           'avgPx': '0.4463',\n",
      "           'cTime': '1706349752785',\n",
      "           'cancelSource': '',\n",
      "           'cancelSourceReason': '',\n",
      "           'category': 'normal',\n",
      "           'ccy': '',\n",
      "           'clOrdId': '',\n",
      "           'fee': '-0.004463',\n",
      "           'feeCcy': 'USDT',\n",
      "           'fillPx': '0.4463',\n",
      "           'fillSz': '10',\n",
      "           'fillTime': '1706349752787',\n",
      "           'instId': 'MANA-USDT',\n",
      "           'instType': 'SPOT',\n",
      "           'lever': '',\n",
      "           '...': '......'},\n",
      "          {'accFillSz': '22.37637',\n",
      "           'algoClOrdId': '',\n",
      "           'algoId': '',\n",
      "           'attachAlgoClOrdId': '',\n",
      "           'attachAlgoOrds': [],\n",
      "           'avgPx': '0.4469',\n",
      "           'cTime': '1706349654880',\n",
      "           'cancelSource': '',\n",
      "           'cancelSourceReason': '',\n",
      "           'category': 'normal',\n",
      "           'ccy': '',\n",
      "           'clOrdId': '',\n",
      "           'fee': '-0.02237637',\n",
      "           'feeCcy': 'MANA',\n",
      "           'fillPx': '0.4469',\n",
      "           'fillSz': '22.37637',\n",
      "           'fillTime': '1706349654882',\n",
      "           'instId': 'MANA-USDT',\n",
      "           'instType': 'SPOT',\n",
      "           'lever': '',\n",
      "           '...': '......'},\n",
      "          {'accFillSz': '5.651313',\n",
      "           'algoClOrdId': '',\n",
      "           'algoId': '',\n",
      "           'attachAlgoClOrdId': '',\n",
      "           'attachAlgoOrds': [],\n",
      "           'avgPx': '0.3539',\n",
      "           'cTime': '1698292242155',\n",
      "           'cancelSource': '',\n",
      "           'cancelSourceReason': '',\n",
      "           'category': 'normal',\n",
      "           'ccy': '',\n",
      "           'clOrdId': '',\n",
      "           'fee': '-0.005651313',\n",
      "           'feeCcy': 'MANA',\n",
      "           'fillPx': '0.3539',\n",
      "           'fillSz': '5.651313',\n",
      "           'fillTime': '1698292242157',\n",
      "           'instId': 'MANA-USDT',\n",
      "           'instType': 'SPOT',\n",
      "           'lever': '',\n",
      "           '...': '......'},\n",
      "          '......'],\n",
      " 'msg': ''}\n"
     ]
    }
   ],
   "source": [
    "orders_history_archive_result = trade.get_orders_history_archive(instType='SPOT')\n",
    "eprint(orders_history_archive_result, data_length=3, length=20)"
   ]
  },
  {
   "cell_type": "markdown",
   "id": "348aaa42",
   "metadata": {},
   "source": [
    "### 6.5 获取成交明细（近三天） get_fills"
   ]
  },
  {
   "cell_type": "code",
   "execution_count": 20,
   "id": "fb4b4d11",
   "metadata": {},
   "outputs": [
    {
     "name": "stdout",
     "output_type": "stream",
     "text": [
      "{'code': '0',\n",
      " 'data': [{'side': 'sell',\n",
      "           'fillSz': '1',\n",
      "           'fillPx': '0.4469',\n",
      "           'fillPxVol': '',\n",
      "           'fillFwdPx': '',\n",
      "           'fee': '-0.0022345',\n",
      "           'fillPnl': '0.01',\n",
      "           'ordId': '671415211173515270',\n",
      "           'instType': 'SWAP',\n",
      "           'fillPxUsd': '',\n",
      "           'instId': 'MANA-USDT-SWAP',\n",
      "           'clOrdId': '',\n",
      "           'posSide': 'long',\n",
      "           'billId': '671415211186098176',\n",
      "           'fillMarkVol': '',\n",
      "           'tag': '',\n",
      "           'fillTime': '1706349860637',\n",
      "           'execType': 'T',\n",
      "           'fillIdxPx': '0.4468',\n",
      "           'tradeId': '83443438',\n",
      "           '...': '......'},\n",
      "          {'side': 'buy',\n",
      "           'fillSz': '1',\n",
      "           'fillPx': '0.4471',\n",
      "           'fillPxVol': '',\n",
      "           'fillFwdPx': '',\n",
      "           'fee': '-0.0022355',\n",
      "           'fillPnl': '0',\n",
      "           'ordId': '671415027714658304',\n",
      "           'instType': 'SWAP',\n",
      "           'fillPxUsd': '',\n",
      "           'instId': 'MANA-USDT-SWAP',\n",
      "           'clOrdId': '',\n",
      "           'posSide': 'long',\n",
      "           'billId': '671415027723046914',\n",
      "           'fillMarkVol': '',\n",
      "           'tag': '',\n",
      "           'fillTime': '1706349816897',\n",
      "           'execType': 'T',\n",
      "           'fillIdxPx': '0.4466',\n",
      "           'tradeId': '83443406',\n",
      "           '...': '......'},\n",
      "          {'side': 'buy',\n",
      "           'fillSz': '1',\n",
      "           'fillPx': '0.4444',\n",
      "           'fillPxVol': '',\n",
      "           'fillFwdPx': '',\n",
      "           'fee': '-0.002222',\n",
      "           'fillPnl': '0.001',\n",
      "           'ordId': '671387162776342528',\n",
      "           'instType': 'SWAP',\n",
      "           'fillPxUsd': '',\n",
      "           'instId': 'MANA-USDT-SWAP',\n",
      "           'clOrdId': '',\n",
      "           'posSide': 'short',\n",
      "           'billId': '671387162784731137',\n",
      "           'fillMarkVol': '',\n",
      "           'tag': '',\n",
      "           'fillTime': '1706343173376',\n",
      "           'execType': 'T',\n",
      "           'fillIdxPx': '0.4444',\n",
      "           'tradeId': '83441388',\n",
      "           '...': '......'},\n",
      "          '......'],\n",
      " 'msg': ''}\n"
     ]
    }
   ],
   "source": [
    "# 获取永续合约成交明细\n",
    "fills_result = trade.get_fills(instType='SWAP')\n",
    "eprint(fills_result, data_length=3, length=20)"
   ]
  },
  {
   "cell_type": "markdown",
   "id": "41f52bc0",
   "metadata": {},
   "source": [
    "### 6.6 获取成交明细（近三个月） get_fills_history"
   ]
  },
  {
   "cell_type": "code",
   "execution_count": 21,
   "id": "7c3cf3d0",
   "metadata": {},
   "outputs": [
    {
     "name": "stdout",
     "output_type": "stream",
     "text": [
      "{'code': '0',\n",
      " 'data': [{'side': 'sell',\n",
      "           'fillSz': '1',\n",
      "           'fillPx': '0.4469',\n",
      "           'fillPxVol': '',\n",
      "           'fillFwdPx': '',\n",
      "           'fee': '-0.0022345',\n",
      "           'fillPnl': '0.01',\n",
      "           'ordId': '671415211173515270',\n",
      "           'instType': 'SWAP',\n",
      "           'fillPxUsd': '',\n",
      "           'instId': 'MANA-USDT-SWAP',\n",
      "           'clOrdId': '',\n",
      "           'posSide': 'long',\n",
      "           'billId': '671415211186098176',\n",
      "           'fillMarkVol': '',\n",
      "           'tag': '',\n",
      "           'fillTime': '1706349860637',\n",
      "           'execType': 'T',\n",
      "           'fillIdxPx': '0.4468',\n",
      "           'tradeId': '83443438',\n",
      "           '...': '......'},\n",
      "          {'side': 'buy',\n",
      "           'fillSz': '1',\n",
      "           'fillPx': '0.4471',\n",
      "           'fillPxVol': '',\n",
      "           'fillFwdPx': '',\n",
      "           'fee': '-0.0022355',\n",
      "           'fillPnl': '0',\n",
      "           'ordId': '671415027714658304',\n",
      "           'instType': 'SWAP',\n",
      "           'fillPxUsd': '',\n",
      "           'instId': 'MANA-USDT-SWAP',\n",
      "           'clOrdId': '',\n",
      "           'posSide': 'long',\n",
      "           'billId': '671415027723046914',\n",
      "           'fillMarkVol': '',\n",
      "           'tag': '',\n",
      "           'fillTime': '1706349816897',\n",
      "           'execType': 'T',\n",
      "           'fillIdxPx': '0.4466',\n",
      "           'tradeId': '83443406',\n",
      "           '...': '......'},\n",
      "          {'side': 'buy',\n",
      "           'fillSz': '1',\n",
      "           'fillPx': '0.4444',\n",
      "           'fillPxVol': '',\n",
      "           'fillFwdPx': '',\n",
      "           'fee': '-0.002222',\n",
      "           'fillPnl': '0.001',\n",
      "           'ordId': '671387162776342528',\n",
      "           'instType': 'SWAP',\n",
      "           'fillPxUsd': '',\n",
      "           'instId': 'MANA-USDT-SWAP',\n",
      "           'clOrdId': '',\n",
      "           'posSide': 'short',\n",
      "           'billId': '671387162784731137',\n",
      "           'fillMarkVol': '',\n",
      "           'tag': '',\n",
      "           'fillTime': '1706343173376',\n",
      "           'execType': 'T',\n",
      "           'fillIdxPx': '0.4444',\n",
      "           'tradeId': '83441388',\n",
      "           '...': '......'},\n",
      "          '......'],\n",
      " 'msg': ''}\n"
     ]
    }
   ],
   "source": [
    "# 获取永续合约成交明细\n",
    "fills_history_result = trade.get_fills_history(instType='SWAP')\n",
    "eprint(fills_history_result, data_length=3, length=20)"
   ]
  },
  {
   "cell_type": "markdown",
   "id": "002baeaf",
   "metadata": {},
   "source": [
    "## 7. 市价全平 set_close_position\n",
    "\n",
    "市价全平逐仓多仓位 BTC-USDT-SWAP，如果没有持仓，状态码为：'51023'\n",
    "\n",
    "需要取消正在平仓的订单，否则状态码为：51115'"
   ]
  },
  {
   "cell_type": "code",
   "execution_count": 22,
   "id": "1d8adb2f",
   "metadata": {},
   "outputs": [
    {
     "name": "stdout",
     "output_type": "stream",
     "text": [
      "{'code': '0', 'data': [{'clOrdId': '', 'instId': 'MANA-USDT-SWAP', 'posSide': 'long', 'tag': ''}], 'msg': ''}\n"
     ]
    }
   ],
   "source": [
    "# MANA-USDT-SWAP 逐仓 多仓 市价全屏\n",
    "set_close_position_result = trade.set_close_position(\n",
    "    instId='MANA-USDT-SWAP',\n",
    "    posSide='long',\n",
    "    mgnMode='isolated'\n",
    ")\n",
    "eprint(set_close_position_result)"
   ]
  }
 ],
 "metadata": {
  "kernelspec": {
   "display_name": "Python 3 (ipykernel)",
   "language": "python",
   "name": "python3"
  },
  "language_info": {
   "codemirror_mode": {
    "name": "ipython",
    "version": 3
   },
   "file_extension": ".py",
   "mimetype": "text/x-python",
   "name": "python",
   "nbconvert_exporter": "python",
   "pygments_lexer": "ipython3",
   "version": "3.8.4"
  }
 },
 "nbformat": 4,
 "nbformat_minor": 5
}