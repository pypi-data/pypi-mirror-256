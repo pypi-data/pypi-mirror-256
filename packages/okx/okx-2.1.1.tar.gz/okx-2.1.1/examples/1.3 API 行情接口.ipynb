{
 "cells": [
  {
   "cell_type": "markdown",
   "id": "fbf5d78f",
   "metadata": {},
   "source": [
    "## 1. API 行情接口总览"
   ]
  },
  {
   "cell_type": "markdown",
   "id": "d3731f2a",
   "metadata": {},
   "source": [
    "|方法|解释|Path|\n",
    "|:---|:---|:---|\n",
    "|get_tickers|获取所有产品行情信息|/api/v5/market/tickers|\n",
    "|get_ticker|获取单个产品行情信息|/api/v5/market/ticker|\n",
    "|get_books|获取产品深度|/api/v5/market/books|\n",
    "|get_books_lite|获取产品轻量深度|/api/v5/market/books-lite|\n",
    "|get_candles|获取交易产品K线数据|/api/v5/market/candles|\n",
    "|get_history_candles|获取交易产品历史K线数据|/api/v5/market/history-candles|\n",
    "|get_trades|获取交易产品公共成交数据|/api/v5/market/trades|\n",
    "|get_history_trades|获取交易产品公共历史成交数据|/api/v5/market/history-trades|\n",
    "|get_instrument_family_trades|获取期权品种公共成交数据|/api/v5/market/option/instrument-family-trades|\n",
    "|get_option_trades|获取期权公共成交数据|/api/v5/public/option-trades|\n",
    "|get_platform_24_volume|获取平台24小时总成交量|/api/v5/market/platform-24-volume|"
   ]
  },
  {
   "cell_type": "markdown",
   "id": "c475488a",
   "metadata": {},
   "source": [
    "## 2. 模型实例化"
   ]
  },
  {
   "cell_type": "code",
   "execution_count": 1,
   "id": "7c919775",
   "metadata": {},
   "outputs": [],
   "source": [
    "from okx.api import Market\n",
    "from okx.app.utils import eprint\n",
    "import datetime"
   ]
  },
  {
   "cell_type": "code",
   "execution_count": 2,
   "id": "271029b3",
   "metadata": {},
   "outputs": [],
   "source": [
    "# 行情数据不需要秘钥\n",
    "key = \"\"\n",
    "secret = \"\"\n",
    "passphrase = \"\"\n",
    "# 实盘：0，虚拟盘：1\n",
    "flag = '0'\n",
    "# 使用http和https代理，proxies={'http':'xxxxx','https:':'xxxxx'}，与requests中的proxies参数规则相同\n",
    "proxies = {}\n",
    "# 转发：需搭建转发服务器，可参考：https://github.com/pyted/okx_resender\n",
    "proxy_host = None\n",
    "\n",
    "# 实例化market\n",
    "market = Market(\n",
    "    key=key, secret=secret, passphrase=passphrase, flag=flag, proxies=proxies, proxy_host=proxy_host,\n",
    ")"
   ]
  },
  {
   "cell_type": "markdown",
   "id": "8db8d31d",
   "metadata": {},
   "source": [
    "## 3. 实时行情"
   ]
  },
  {
   "cell_type": "markdown",
   "id": "69ff7934",
   "metadata": {},
   "source": [
    "### 3.1 获取所有产品行情信息 get_tickers"
   ]
  },
  {
   "cell_type": "code",
   "execution_count": 3,
   "id": "2e53cb37",
   "metadata": {},
   "outputs": [
    {
     "name": "stdout",
     "output_type": "stream",
     "text": [
      "{'code': '0',\n",
      " 'msg': '',\n",
      " 'data': [{'instType': 'SPOT',\n",
      "           'instId': 'MDT-USDT',\n",
      "           'last': '0.04972',\n",
      "           'lastSz': '5936.367648',\n",
      "           'askPx': '0.0498',\n",
      "           'askSz': '8046.872213',\n",
      "           'bidPx': '0.04975',\n",
      "           'bidSz': '813.1751',\n",
      "           'open24h': '0.04816',\n",
      "           'high24h': '0.05044',\n",
      "           'low24h': '0.04816',\n",
      "           'volCcy24h': '48288.64771960838',\n",
      "           'vol24h': '975977.121252',\n",
      "           'ts': '1706342040010',\n",
      "           'sodUtc0': '0.05012',\n",
      "           'sodUtc8': '0.04951'},\n",
      "          {'instType': 'SPOT',\n",
      "           'instId': '1INCH-EUR',\n",
      "           'last': '0.3472',\n",
      "           'lastSz': '52.787154',\n",
      "           'askPx': '0.3566',\n",
      "           'askSz': '1292.684253',\n",
      "           'bidPx': '0.3554',\n",
      "           'bidSz': '1297.048972',\n",
      "           'open24h': '0.3472',\n",
      "           'high24h': '0.3472',\n",
      "           'low24h': '0.3472',\n",
      "           'volCcy24h': '0',\n",
      "           'vol24h': '0',\n",
      "           'ts': '1706342043664',\n",
      "           'sodUtc0': '0.3472',\n",
      "           'sodUtc8': '0.3472'},\n",
      "          {'instType': 'SPOT',\n",
      "           'instId': 'LUNA-USDC',\n",
      "           'last': '0.6473',\n",
      "           'lastSz': '81.7498',\n",
      "           'askPx': '0.6475',\n",
      "           'askSz': '107',\n",
      "           'bidPx': '0.647',\n",
      "           'bidSz': '492.9774',\n",
      "           'open24h': '0.5855',\n",
      "           'high24h': '0.7018',\n",
      "           'low24h': '0.5855',\n",
      "           'volCcy24h': '28761.15758618',\n",
      "           'vol24h': '44501.1314',\n",
      "           'ts': '1706342049207',\n",
      "           'sodUtc0': '0.62',\n",
      "           'sodUtc8': '0.6118'},\n",
      "          '......']}\n"
     ]
    }
   ],
   "source": [
    "# 现货\n",
    "tickers_result = market.get_tickers(instType='SPOT')\n",
    "eprint(tickers_result, data_length=3, length=20)"
   ]
  },
  {
   "cell_type": "markdown",
   "id": "284b9c67",
   "metadata": {},
   "source": [
    "### 3.2 获取单个产品行情信息 get_ticker"
   ]
  },
  {
   "cell_type": "code",
   "execution_count": 4,
   "id": "bc021130",
   "metadata": {},
   "outputs": [
    {
     "name": "stdout",
     "output_type": "stream",
     "text": [
      "{'code': '0',\n",
      " 'msg': '',\n",
      " 'data': [{'instType': 'SWAP',\n",
      "           'instId': 'BTC-USDT-SWAP',\n",
      "           'last': '41685.2',\n",
      "           'lastSz': '10',\n",
      "           'askPx': '41685.3',\n",
      "           'askSz': '522',\n",
      "           'bidPx': '41685.2',\n",
      "           'bidSz': '11',\n",
      "           'open24h': '39966',\n",
      "           'high24h': '42245',\n",
      "           'low24h': '39952.4',\n",
      "           'volCcy24h': '145150.78',\n",
      "           'vol24h': '14515078',\n",
      "           'ts': '1706342053106',\n",
      "           'sodUtc0': '41822',\n",
      "           'sodUtc8': '41420.1'}]}\n"
     ]
    }
   ],
   "source": [
    "# 永续合约 BTC-USDT-SWAP\n",
    "ticker_result = market.get_ticker(instId='BTC-USDT-SWAP')\n",
    "eprint(ticker_result, length=20)"
   ]
  },
  {
   "cell_type": "markdown",
   "id": "545c0538",
   "metadata": {},
   "source": [
    "## 4. 历史K线"
   ]
  },
  {
   "cell_type": "markdown",
   "id": "51bda107",
   "metadata": {},
   "source": [
    "### 4.1 获取交易产品K线数据 get_candles"
   ]
  },
  {
   "cell_type": "code",
   "execution_count": 5,
   "id": "cf9a3089",
   "metadata": {},
   "outputs": [
    {
     "name": "stdout",
     "output_type": "stream",
     "text": [
      "{'code': '0',\n",
      " 'msg': '',\n",
      " 'data': [['1706342040000',\n",
      "           '41679.7',\n",
      "           '41679.8',\n",
      "           '41674.1',\n",
      "           '41674.1',\n",
      "           '0.53468386',\n",
      "           '22283.846999109',\n",
      "           '22283.846999109',\n",
      "           '0'],\n",
      "          ['1706341980000',\n",
      "           '41672.1',\n",
      "           '41679.8',\n",
      "           '41668.1',\n",
      "           '41679.8',\n",
      "           '2.54986659',\n",
      "           '106260.495742419',\n",
      "           '106260.495742419',\n",
      "           '1'],\n",
      "          ['1706341920000',\n",
      "           '41676.3',\n",
      "           '41680.4',\n",
      "           '41672.1',\n",
      "           '41672.2',\n",
      "           '2.21611319',\n",
      "           '92363.219056819',\n",
      "           '92363.219056819',\n",
      "           '1'],\n",
      "          '......']}\n"
     ]
    }
   ],
   "source": [
    "candle_result = market.get_candles(\n",
    "    instId='BTC-USDT', before='',\n",
    "    after=str(int(datetime.datetime.now().timestamp() * 1000)), bar='1m',\n",
    "    limit='100'\n",
    ")\n",
    "eprint(candle_result, data_length=3, length=20)"
   ]
  },
  {
   "cell_type": "markdown",
   "id": "d8a1a4e0",
   "metadata": {},
   "source": [
    "### 4.2 获取交易产品历史K线数据 get_history_candles"
   ]
  },
  {
   "cell_type": "code",
   "execution_count": 6,
   "id": "deca81c8",
   "metadata": {},
   "outputs": [
    {
     "name": "stdout",
     "output_type": "stream",
     "text": [
      "{'code': '0',\n",
      " 'msg': '',\n",
      " 'data': [['1672505940000',\n",
      "           '16608.7',\n",
      "           '16608.7',\n",
      "           '16604.3',\n",
      "           '16604.3',\n",
      "           '1.49615667',\n",
      "           '24843.15681654',\n",
      "           '24843.15681654',\n",
      "           '1'],\n",
      "          ['1672505880000',\n",
      "           '16608.7',\n",
      "           '16608.7',\n",
      "           '16608.6',\n",
      "           '16608.7',\n",
      "           '0.27475771',\n",
      "           '4563.34348799',\n",
      "           '4563.34348799',\n",
      "           '1'],\n",
      "          ['1672505820000',\n",
      "           '16609.6',\n",
      "           '16609.6',\n",
      "           '16609.3',\n",
      "           '16609.3',\n",
      "           '2.6047389',\n",
      "           '43263.41842711',\n",
      "           '43263.41842711',\n",
      "           '1'],\n",
      "          '......']}\n"
     ]
    }
   ],
   "source": [
    "history_candle_result = market.get_history_candles(\n",
    "    instId='BTC-USDT',\n",
    "    before='1672502400000', after='1672506000000', bar='1m'\n",
    ")\n",
    "eprint(history_candle_result, data_length=3, length=20)"
   ]
  },
  {
   "cell_type": "markdown",
   "id": "a79e4b99",
   "metadata": {},
   "source": [
    "## 5. 深度信息"
   ]
  },
  {
   "cell_type": "markdown",
   "id": "3912484e",
   "metadata": {},
   "source": [
    "### 5.1 获取产品深度 get_books"
   ]
  },
  {
   "cell_type": "code",
   "execution_count": 7,
   "id": "317269bc",
   "metadata": {},
   "outputs": [
    {
     "name": "stdout",
     "output_type": "stream",
     "text": [
      "{'code': '0',\n",
      " 'msg': '',\n",
      " 'data': [{'asks': [['41672.4', '1.34100749', '0', '7']],\n",
      "           'bids': [['41672.3', '0.58653712', '0', '6']],\n",
      "           'ts': '1706342054552'}]}\n"
     ]
    }
   ],
   "source": [
    "books_result = market.get_books(instId='BTC-USDT')\n",
    "eprint(books_result)"
   ]
  },
  {
   "cell_type": "markdown",
   "id": "b7b3ce81",
   "metadata": {},
   "source": [
    "### 5.2 获取产品轻量深度 get_books_lite"
   ]
  },
  {
   "cell_type": "code",
   "execution_count": 8,
   "id": "917a7630",
   "metadata": {},
   "outputs": [
    {
     "name": "stdout",
     "output_type": "stream",
     "text": [
      "{'code': '0',\n",
      " 'msg': '',\n",
      " 'data': [{'asks': [['41672.4', '1.34508971', '0', '8'],\n",
      "                    ['41673.3', '0.04432389', '0', '1'],\n",
      "                    ['41673.9', '0.16281903', '0', '1'],\n",
      "                    ['41674', '0.27136495', '0', '2'],\n",
      "                    ['41674.2', '0.05849466', '0', '2'],\n",
      "                    ['41675.3', '0.14484007', '0', '1'],\n",
      "                    ['41675.4', '0.18370984', '0', '1'],\n",
      "                    ['41676', '0.2414', '0', '1'],\n",
      "                    ['41676.1', '0.30126735', '0', '1'],\n",
      "                    ['41676.5', '0.1041575', '0', '2'],\n",
      "                    ['41677.9', '0.1950556', '0', '1'],\n",
      "                    ['41678', '0.32509265', '0', '2'],\n",
      "                    ['41678.3', '0.00599783', '0', '1'],\n",
      "                    ['41679.6', '0.23326041', '0', '2'],\n",
      "                    ['41679.8', '0.50254055', '0', '5'],\n",
      "                    ['41679.9', '0.1', '0', '1'],\n",
      "                    ['41680', '0.2414', '0', '1'],\n",
      "                    ['41680.4', '0.1', '0', '1'],\n",
      "                    ['41680.6', '0.01759168', '0', '3'],\n",
      "                    ['41681.7', '0.16589526', '0', '1'],\n",
      "                    ['41681.9', '0.27649143', '0', '1'],\n",
      "                    ['41682', '0.2414', '0', '1'],\n",
      "                    ['41682.2', '0.09598921', '0', '1'],\n",
      "                    ['41682.3', '0.10073738', '0', '2'],\n",
      "                    ['41682.4', '0.02399098', '0', '1']],\n",
      "           'bids': [['41672.3', '0.58653712', '0', '6'],\n",
      "                    ['41671.6', '0.02993791', '0', '1'],\n",
      "                    ['41670.4', '0.0047304', '0', '1'],\n",
      "                    ['41670.3', '0.03794973', '0', '1'],\n",
      "                    ['41670.2', '0.15000005', '0', '1'],\n",
      "                    ['41670', '0.2414', '0', '1'],\n",
      "                    ['41669.6', '0.07198716', '0', '1'],\n",
      "                    ['41669', '0.01190051', '0', '1'],\n",
      "                    ['41668.7', '0.04762331', '0', '1'],\n",
      "                    ['41668.2', '0.79465889', '0', '1'],\n",
      "                    ['41668.1', '1.37714209', '0', '3'],\n",
      "                    ['41668', '0.2414', '0', '1'],\n",
      "                    ['41666.2', '0.2', '0', '1'],\n",
      "                    ['41665.8', '1.24289896', '0', '1'],\n",
      "                    ['41665.6', '0.09602719', '0', '1'],\n",
      "                    ['41665.5', '13.81964462', '0', '2'],\n",
      "                    ['41664.1', '0.04', '0', '1'],\n",
      "                    ['41663', '0.30222499', '0', '2'],\n",
      "                    ['41662.5', '0.01', '0', '1'],\n",
      "                    ['41661.9', '0.00004992', '0', '1'],\n",
      "                    ['41661.6', '0.00494287', '0', '2'],\n",
      "                    ['41660.7', '0.14903159', '0', '1'],\n",
      "                    ['41660.6', '0.30312124', '0', '2'],\n",
      "                    ['41660.3', '0.01198739', '0', '1'],\n",
      "                    ['41659.8', '0.55112951', '0', '2']],\n",
      "           'ts': '1706342054942'}]}\n"
     ]
    }
   ],
   "source": [
    "books_lite_result = market.get_books_lite(instId='BTC-USDT')\n",
    "eprint(books_lite_result)"
   ]
  },
  {
   "cell_type": "markdown",
   "id": "6ceb8f82",
   "metadata": {},
   "source": [
    "## 6. 公共成交"
   ]
  },
  {
   "cell_type": "markdown",
   "id": "7650ffa3",
   "metadata": {},
   "source": [
    "### 6.1 获取交易产品公共成交数据 get_trades"
   ]
  },
  {
   "cell_type": "code",
   "execution_count": 9,
   "id": "e25a3876",
   "metadata": {},
   "outputs": [
    {
     "name": "stdout",
     "output_type": "stream",
     "text": [
      "{'code': '0',\n",
      " 'msg': '',\n",
      " 'data': [{'instId': 'BTC-USDT',\n",
      "           'side': 'sell',\n",
      "           'sz': '0.09948846',\n",
      "           'px': '41674.1',\n",
      "           'tradeId': '478607151',\n",
      "           'ts': '1706342052662'},\n",
      "          {'instId': 'BTC-USDT',\n",
      "           'side': 'buy',\n",
      "           'sz': '0.00002399',\n",
      "           'px': '41674.2',\n",
      "           'tradeId': '478607150',\n",
      "           'ts': '1706342052292'},\n",
      "          {'instId': 'BTC-USDT',\n",
      "           'side': 'buy',\n",
      "           'sz': '0.07690609',\n",
      "           'px': '41674.2',\n",
      "           'tradeId': '478607149',\n",
      "           'ts': '1706342051379'},\n",
      "          '......']}\n"
     ]
    }
   ],
   "source": [
    "trades_result = market.get_trades(instId='BTC-USDT')\n",
    "eprint(trades_result, data_length=3, length=20)"
   ]
  },
  {
   "cell_type": "markdown",
   "id": "dc503ebd",
   "metadata": {},
   "source": [
    "### 6.2 获取交易产品公共历史成交数据 get_history_trades"
   ]
  },
  {
   "cell_type": "code",
   "execution_count": 10,
   "id": "18233d6c",
   "metadata": {},
   "outputs": [
    {
     "name": "stdout",
     "output_type": "stream",
     "text": [
      "{'code': '0',\n",
      " 'msg': '',\n",
      " 'data': [{'instId': 'BTC-USDT',\n",
      "           'side': 'sell',\n",
      "           'sz': '0.09948846',\n",
      "           'px': '41674.1',\n",
      "           'tradeId': '478607151',\n",
      "           'ts': '1706342052662'},\n",
      "          {'instId': 'BTC-USDT',\n",
      "           'side': 'buy',\n",
      "           'sz': '0.00002399',\n",
      "           'px': '41674.2',\n",
      "           'tradeId': '478607150',\n",
      "           'ts': '1706342052292'},\n",
      "          {'instId': 'BTC-USDT',\n",
      "           'side': 'buy',\n",
      "           'sz': '0.07690609',\n",
      "           'px': '41674.2',\n",
      "           'tradeId': '478607149',\n",
      "           'ts': '1706342051379'},\n",
      "          '......']}\n"
     ]
    }
   ],
   "source": [
    "history_trades_result = market.get_history_trades(instId='BTC-USDT')\n",
    "eprint(history_trades_result, data_length=3, length=20)"
   ]
  },
  {
   "cell_type": "markdown",
   "id": "92152967",
   "metadata": {},
   "source": [
    "### 6.3 获取期权品种公共成交数据 get_instrument_family_trades"
   ]
  },
  {
   "cell_type": "code",
   "execution_count": 11,
   "id": "507d1556",
   "metadata": {},
   "outputs": [
    {
     "name": "stdout",
     "output_type": "stream",
     "text": [
      "{'code': '0',\n",
      " 'msg': '',\n",
      " 'data': [{'optType': 'C',\n",
      "           'tradeInfo': [{'instId': 'BTC-USD-240129-42000-C', 'side': 'buy', '...': '......'},\n",
      "                         {'instId': 'BTC-USD-240129-42000-C', 'side': 'buy', '...': '......'},\n",
      "                         '......'],\n",
      "           '...': '......'},\n",
      "          {'optType': 'P',\n",
      "           'tradeInfo': [{'instId': 'BTC-USD-240202-40500-P', 'side': 'sell', '...': '......'},\n",
      "                         {'instId': 'BTC-USD-240128-41100-P', 'side': 'sell', '...': '......'},\n",
      "                         '......'],\n",
      "           '...': '......'}]}\n"
     ]
    }
   ],
   "source": [
    "instrument_family_trades_result = market.get_instrument_family_trades(instFamily='BTC-USD')\n",
    "eprint(instrument_family_trades_result, length=2)"
   ]
  },
  {
   "cell_type": "markdown",
   "id": "4001a940",
   "metadata": {},
   "source": [
    "### 6.4 获取期权公共成交数据 get_option_trades"
   ]
  },
  {
   "cell_type": "code",
   "execution_count": 12,
   "id": "8a602fc2",
   "metadata": {},
   "outputs": [
    {
     "name": "stdout",
     "output_type": "stream",
     "text": [
      "{'code': '0',\n",
      " 'data': [{'fillVol': '0.2075291162109375',\n",
      "           'fwdPx': '41690.94261282925',\n",
      "           'idxPx': '41671.6',\n",
      "           'instFamily': 'BTC-USD',\n",
      "           'instId': 'BTC-USD-240128-41600-C',\n",
      "           'markPx': '0.005646558085645801',\n",
      "           'optType': 'C',\n",
      "           'px': '0.0055',\n",
      "           'side': 'buy',\n",
      "           'sz': '6',\n",
      "           'tradeId': '10',\n",
      "           'ts': '1706342026364'},\n",
      "          {'fillVol': '0.3698823071289062',\n",
      "           'fwdPx': '41730.010593588144',\n",
      "           'idxPx': '41671.8',\n",
      "           'instFamily': 'BTC-USD',\n",
      "           'instId': 'BTC-USD-240202-40500-P',\n",
      "           'markPx': '0.007611078302762605',\n",
      "           'optType': 'P',\n",
      "           'px': '0.0075',\n",
      "           'side': 'sell',\n",
      "           'sz': '1',\n",
      "           'tradeId': '399',\n",
      "           'ts': '1706341985572'},\n",
      "          '......'],\n",
      " 'msg': ''}\n"
     ]
    }
   ],
   "source": [
    "option_trades_result = market.get_option_trades(instFamily='BTC-USD')\n",
    "eprint(option_trades_result, data_length=2, length=20)"
   ]
  },
  {
   "cell_type": "markdown",
   "id": "7a02d162",
   "metadata": {},
   "source": [
    "## 7. 平台数据"
   ]
  },
  {
   "cell_type": "markdown",
   "id": "e70a23a0",
   "metadata": {},
   "source": [
    "### 7.1 获取平台24小时总成交量 get_platform_24_volume"
   ]
  },
  {
   "cell_type": "code",
   "execution_count": 13,
   "id": "2f411a51",
   "metadata": {},
   "outputs": [
    {
     "name": "stdout",
     "output_type": "stream",
     "text": [
      "{'code': '0', 'msg': '', 'data': [{'volCny': '141267340886', 'volUsd': '19877211325'}]}\n"
     ]
    }
   ],
   "source": [
    "platform_24_volume_result = market.get_platform_24_volume()\n",
    "eprint(platform_24_volume_result)"
   ]
  }
 ],
 "metadata": {
  "kernelspec": {
   "display_name": "Python 3 (ipykernel)",
   "language": "python",
   "name": "python3"
  },
  "language_info": {
   "codemirror_mode": {
    "name": "ipython",
    "version": 3
   },
   "file_extension": ".py",
   "mimetype": "text/x-python",
   "name": "python",
   "nbconvert_exporter": "python",
   "pygments_lexer": "ipython3",
   "version": "3.8.4"
  }
 },
 "nbformat": 4,
 "nbformat_minor": 5
}