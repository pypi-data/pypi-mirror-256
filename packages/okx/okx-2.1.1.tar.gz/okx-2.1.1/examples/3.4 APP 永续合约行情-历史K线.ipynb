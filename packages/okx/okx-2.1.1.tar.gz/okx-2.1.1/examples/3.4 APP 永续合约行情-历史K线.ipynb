{
 "cells": [
  {
   "cell_type": "markdown",
   "id": "ae479902",
   "metadata": {},
   "source": [
    "## 1. APP 永续合约行情-历史K线函数总览"
   ]
  },
  {
   "cell_type": "markdown",
   "id": "fc045b03",
   "metadata": {},
   "source": [
    "|方法|解释|\n",
    "|:---|:---|\n",
    "|get_history_candle|获取产品的历史K线数据|\n",
    "|get_history_candle_latest|获取产品指定数量的最新历史K线数据|\n",
    "|get_history_candle_by_date|获取产品指定日期的历史K线数据|\n",
    "|get_history_candle_latest_ts|获取历史K线数据中最新的毫秒时间戳|\n",
    "|update_history_candle|更新产品历史K线数据到指定时间|\n",
    "|candle_to_df|将OKX的candle转化为DataFrame|"
   ]
  },
  {
   "cell_type": "markdown",
   "id": "209a4d3d",
   "metadata": {},
   "source": [
    "## 2. 模型实例化"
   ]
  },
  {
   "cell_type": "code",
   "execution_count": 1,
   "id": "2c4b7afb",
   "metadata": {},
   "outputs": [],
   "source": [
    "from okx.app import OkxSWAP\n",
    "from okx.app.utils import eprint\n",
    "import paux"
   ]
  },
  {
   "cell_type": "code",
   "execution_count": 2,
   "id": "841862d0",
   "metadata": {},
   "outputs": [
    {
     "name": "stdout",
     "output_type": "stream",
     "text": [
      "[FAILURE] 设置持仓方式为双向持仓失败，请手动设置：posMode=\"long_short_mode\"\n"
     ]
    }
   ],
   "source": [
    "# 永续合约行情不需要秘钥\n",
    "key = \"\"\n",
    "secret = \"\"\n",
    "passphrase = \"\"\n",
    "# 使用http和https代理，proxies={'http':'xxxxx','https:':'xxxxx'}，与requests中的proxies参数规则相同\n",
    "proxies = {}\n",
    "# 转发：需搭建转发服务器，可参考：https://github.com/pyted/okx_resender\n",
    "proxy_host = None\n",
    "\n",
    "# okxSPOT.market 等同于 marketSPOT\n",
    "okxSWAP = OkxSWAP(\n",
    "    key=key, secret=secret, passphrase=passphrase, proxies=proxies, proxy_host=proxy_host,\n",
    ")\n",
    "market = okxSWAP.market\n",
    "# 如果有挂单或持仓，会提示“设置持仓方式为双向持仓失败”，如果你的持仓模式已经是双向持仓，可以忽略这个警告"
   ]
  },
  {
   "cell_type": "markdown",
   "id": "3e915d89",
   "metadata": {},
   "source": [
    "## 3 获取产品的历史K线数据 get_history_candle\n",
    "\n",
    "- 通过起始时间获取历史K线\n",
    "- 可以接收更长跨度的时间段，会调用多次官方底层接口，合并数据，并严格验证，返回安全的K线数据\n",
    "- 起始字段支持多种数据类型：如时间格式的字符串、日期时间对象以及毫秒级时间戳"
   ]
  },
  {
   "cell_type": "code",
   "execution_count": 3,
   "id": "e8c08628",
   "metadata": {},
   "outputs": [
    {
     "name": "stdout",
     "output_type": "stream",
     "text": [
      "{'code': '0',\n",
      " 'data': array([[1.70403840e+12, 4.24699000e+04, 4.24989000e+04, ...,\n",
      "        3.59500000e+01, 1.52719044e+06, 1.00000000e+00],\n",
      "       [1.70403846e+12, 4.24988000e+04, 4.24989000e+04, ...,\n",
      "        3.55400000e+01, 1.50994446e+06, 1.00000000e+00],\n",
      "       [1.70403852e+12, 4.24662000e+04, 4.24700000e+04, ...,\n",
      "        1.61370000e+02, 6.85131256e+06, 1.00000000e+00],\n",
      "       ...,\n",
      "       [1.70412462e+12, 4.28239000e+04, 4.28240000e+04, ...,\n",
      "        3.65500000e+01, 1.56390790e+06, 1.00000000e+00],\n",
      "       [1.70412468e+12, 4.28000000e+04, 4.28000000e+04, ...,\n",
      "        1.11800000e+01, 4.78420926e+05, 1.00000000e+00],\n",
      "       [1.70412474e+12, 4.27853000e+04, 4.27999000e+04, ...,\n",
      "        1.94100000e+01, 8.30615617e+05, 1.00000000e+00]]),\n",
      " 'msg': ''}\n",
      "candle.shape= (1440, 9)\n"
     ]
    }
   ],
   "source": [
    "history_candle = market.get_history_candle(\n",
    "    instId='BTC-USDT-SWAP',\n",
    "    start='2024-01-01 00:00:00',\n",
    "    end='2024-01-01 23:59:00',\n",
    "    bar='1m',\n",
    ")\n",
    "\n",
    "eprint(history_candle)\n",
    "print('candle.shape=', history_candle['data'].shape)"
   ]
  },
  {
   "cell_type": "markdown",
   "id": "f1e08cdd",
   "metadata": {},
   "source": [
    "## 4. 获取产品指定数量的最新历史K线数据 get_history_candle_latest"
   ]
  },
  {
   "cell_type": "code",
   "execution_count": 4,
   "id": "1bf6116c",
   "metadata": {},
   "outputs": [
    {
     "name": "stdout",
     "output_type": "stream",
     "text": [
      "{'code': '0',\n",
      " 'data': array([[1.70636910e+12, 4.18307000e+04, 4.18560000e+04, ...,\n",
      "        2.67840000e+02, 1.12062192e+07, 1.00000000e+00],\n",
      "       [1.70636940e+12, 4.18534000e+04, 4.18680000e+04, ...,\n",
      "        2.02330000e+02, 8.46910089e+06, 1.00000000e+00],\n",
      "       [1.70636970e+12, 4.18529000e+04, 4.18800000e+04, ...,\n",
      "        1.81070000e+02, 7.57940647e+06, 1.00000000e+00],\n",
      "       ...,\n",
      "       [1.70642820e+12, 4.23949000e+04, 4.24068000e+04, ...,\n",
      "        2.13370000e+02, 9.04270513e+06, 1.00000000e+00],\n",
      "       [1.70642850e+12, 4.23640000e+04, 4.23928000e+04, ...,\n",
      "        8.56700000e+01, 3.63039071e+06, 1.00000000e+00],\n",
      "       [1.70642880e+12, 4.23928000e+04, 4.24409000e+04, ...,\n",
      "        4.97140000e+02, 2.10828778e+07, 1.00000000e+00]]),\n",
      " 'msg': ''}\n"
     ]
    }
   ],
   "source": [
    "history_candle_latest = market.get_history_candle_latest(\n",
    "    instId='BTC-USDT-SWAP',\n",
    "    length=200,\n",
    "    bar='5m'\n",
    ")\n",
    "eprint(history_candle_latest)"
   ]
  },
  {
   "cell_type": "markdown",
   "id": "6e48fd36",
   "metadata": {},
   "source": [
    "## 5. 获取产品指定日期的历史K线数据 get_history_candle_by_date"
   ]
  },
  {
   "cell_type": "code",
   "execution_count": 5,
   "id": "cd8a1ed1",
   "metadata": {},
   "outputs": [
    {
     "name": "stdout",
     "output_type": "stream",
     "text": [
      "{'code': '0',\n",
      " 'data': array([[1.70403840e+12, 4.24699000e+04, 4.24989000e+04, ...,\n",
      "        2.78660000e+02, 1.18330395e+07, 1.00000000e+00],\n",
      "       [1.70403870e+12, 4.24619000e+04, 4.25016000e+04, ...,\n",
      "        1.44700000e+02, 6.14724991e+06, 1.00000000e+00],\n",
      "       [1.70403900e+12, 4.25015000e+04, 4.25691000e+04, ...,\n",
      "        4.82330000e+02, 2.05206328e+07, 1.00000000e+00],\n",
      "       ...,\n",
      "       [1.70412390e+12, 4.28689000e+04, 4.28697000e+04, ...,\n",
      "        6.74440000e+02, 2.88889382e+07, 1.00000000e+00],\n",
      "       [1.70412420e+12, 4.27824000e+04, 4.28200000e+04, ...,\n",
      "        3.05300000e+02, 1.30662646e+07, 1.00000000e+00],\n",
      "       [1.70412450e+12, 4.28022000e+04, 4.28349000e+04, ...,\n",
      "        1.46610000e+02, 6.27521730e+06, 1.00000000e+00]]),\n",
      " 'msg': ''}\n"
     ]
    }
   ],
   "source": [
    "history_candle_by_date = market.get_history_candle_by_date(\n",
    "    instId='BTC-USDT-SWAP',\n",
    "    date='2024-01-01',\n",
    "    bar='5m'\n",
    ")\n",
    "eprint(history_candle_by_date)"
   ]
  },
  {
   "cell_type": "markdown",
   "id": "449d4624",
   "metadata": {},
   "source": [
    "## 6. 获取历史K线数据中最新的毫秒时间戳 history_candle_latest_ts"
   ]
  },
  {
   "cell_type": "code",
   "execution_count": 6,
   "id": "523b7ee7",
   "metadata": {},
   "outputs": [
    {
     "name": "stdout",
     "output_type": "stream",
     "text": [
      "{'code': '0', 'data': 1706429220000.0, 'msg': ''}\n"
     ]
    }
   ],
   "source": [
    "history_candle_latest_ts = market.get_history_candle_latest_ts()\n",
    "eprint(history_candle_latest_ts)"
   ]
  },
  {
   "cell_type": "markdown",
   "id": "ae0d7e3e",
   "metadata": {},
   "source": [
    "## 7.更新产品历史K线数据到指定时间 update_history_candle"
   ]
  },
  {
   "cell_type": "code",
   "execution_count": 7,
   "id": "6c854f63",
   "metadata": {},
   "outputs": [],
   "source": [
    "# 获取candle1，待更新\n",
    "candle1 = market.get_history_candle(\n",
    "    instId='BTC-USDT-SWAP',\n",
    "    start='2023-01-01 10:00:00',\n",
    "    end='2023-01-02 10:00:00',\n",
    "    bar='1m',\n",
    ")['data']"
   ]
  },
  {
   "cell_type": "code",
   "execution_count": 8,
   "id": "bf2d21b2",
   "metadata": {},
   "outputs": [
    {
     "name": "stdout",
     "output_type": "stream",
     "text": [
      "{'code': '0',\n",
      " 'data': array([[1.67258880e+12, 1.65592000e+04, 1.65600000e+04, ...,\n",
      "        2.59900000e+01, 4.30378595e+05, 1.00000000e+00],\n",
      "       [1.67258886e+12, 1.65590000e+04, 1.65650000e+04, ...,\n",
      "        5.04400000e+01, 8.35382835e+05, 1.00000000e+00],\n",
      "       [1.67258892e+12, 1.65650000e+04, 1.65862000e+04, ...,\n",
      "        2.62120000e+02, 4.34556150e+06, 1.00000000e+00],\n",
      "       ...,\n",
      "       [1.67267502e+12, 1.67384000e+04, 1.67384000e+04, ...,\n",
      "        2.03500000e+01, 3.40579454e+05, 1.00000000e+00],\n",
      "       [1.67267508e+12, 1.67343000e+04, 1.67343000e+04, ...,\n",
      "        1.56300000e+01, 2.61536807e+05, 1.00000000e+00],\n",
      "       [1.67267514e+12, 1.67305000e+04, 1.67371000e+04, ...,\n",
      "        3.66500000e+01, 6.13266093e+05, 1.00000000e+00]]),\n",
      " 'msg': ''}\n",
      "历史K线时间起点： 2023-01-02 00:00:00\n",
      "历史K线时间终点： 2023-01-02 23:59:00\n",
      "历史K线时间长度： 1440\n"
     ]
    }
   ],
   "source": [
    "# 更新candle1到指定日期时间(智能节约权重)\n",
    "candle_result = market.update_history_candle(\n",
    "    candle=candle1,  # 支持candle1为空\n",
    "    instId='BTC-USDT-SWAP',\n",
    "    length=1440,  # 保留数量\n",
    "    end='2023-01-02 23:59:00',  # end默认为本地计算机时间戳\n",
    "    bar='1m',\n",
    ")\n",
    "eprint(candle_result)\n",
    "\n",
    "candle_start = paux.date.to_fmt(\n",
    "    candle_result['data'][0, 0],\n",
    "    timezone='Asia/Shanghai',\n",
    ")\n",
    "\n",
    "candle_end = paux.date.to_fmt(\n",
    "    candle_result['data'][-1, 0],\n",
    "    timezone='Asia/Shanghai',\n",
    ")\n",
    "\n",
    "candle_length = candle_result['data'].shape[0]\n",
    "\n",
    "print('历史K线时间起点：', candle_start)\n",
    "print('历史K线时间终点：', candle_end)\n",
    "print('历史K线时间长度：', candle_length)"
   ]
  },
  {
   "cell_type": "markdown",
   "id": "94839528",
   "metadata": {},
   "source": [
    "## 8. 将OKX的candle转化为DataFrame candle_to_df"
   ]
  },
  {
   "cell_type": "code",
   "execution_count": 9,
   "id": "a42bab01",
   "metadata": {},
   "outputs": [
    {
     "data": {
      "text/html": [
       "<div>\n",
       "<style scoped>\n",
       "    .dataframe tbody tr th:only-of-type {\n",
       "        vertical-align: middle;\n",
       "    }\n",
       "\n",
       "    .dataframe tbody tr th {\n",
       "        vertical-align: top;\n",
       "    }\n",
       "\n",
       "    .dataframe thead th {\n",
       "        text-align: right;\n",
       "    }\n",
       "</style>\n",
       "<table border=\"1\" class=\"dataframe\">\n",
       "  <thead>\n",
       "    <tr style=\"text-align: right;\">\n",
       "      <th></th>\n",
       "      <th>ts</th>\n",
       "      <th>o</th>\n",
       "      <th>h</th>\n",
       "      <th>l</th>\n",
       "      <th>c</th>\n",
       "      <th>vol</th>\n",
       "      <th>volCcy</th>\n",
       "      <th>volCcyQuote</th>\n",
       "      <th>confirm</th>\n",
       "    </tr>\n",
       "  </thead>\n",
       "  <tbody>\n",
       "    <tr>\n",
       "      <th>0</th>\n",
       "      <td>2023-01-02 00:00:00</td>\n",
       "      <td>16559.2</td>\n",
       "      <td>16560.0</td>\n",
       "      <td>16558.7</td>\n",
       "      <td>16559.0</td>\n",
       "      <td>2599.0</td>\n",
       "      <td>25.99</td>\n",
       "      <td>430378.595</td>\n",
       "      <td>1</td>\n",
       "    </tr>\n",
       "    <tr>\n",
       "      <th>1</th>\n",
       "      <td>2023-01-02 00:01:00</td>\n",
       "      <td>16559.0</td>\n",
       "      <td>16565.0</td>\n",
       "      <td>16559.0</td>\n",
       "      <td>16565.0</td>\n",
       "      <td>5044.0</td>\n",
       "      <td>50.44</td>\n",
       "      <td>835382.835</td>\n",
       "      <td>1</td>\n",
       "    </tr>\n",
       "    <tr>\n",
       "      <th>2</th>\n",
       "      <td>2023-01-02 00:02:00</td>\n",
       "      <td>16565.0</td>\n",
       "      <td>16586.2</td>\n",
       "      <td>16564.9</td>\n",
       "      <td>16577.2</td>\n",
       "      <td>26212.0</td>\n",
       "      <td>262.12</td>\n",
       "      <td>4345561.497</td>\n",
       "      <td>1</td>\n",
       "    </tr>\n",
       "    <tr>\n",
       "      <th>3</th>\n",
       "      <td>2023-01-02 00:03:00</td>\n",
       "      <td>16577.2</td>\n",
       "      <td>16577.2</td>\n",
       "      <td>16567.8</td>\n",
       "      <td>16568.0</td>\n",
       "      <td>5310.0</td>\n",
       "      <td>53.10</td>\n",
       "      <td>879889.473</td>\n",
       "      <td>1</td>\n",
       "    </tr>\n",
       "    <tr>\n",
       "      <th>4</th>\n",
       "      <td>2023-01-02 00:04:00</td>\n",
       "      <td>16567.9</td>\n",
       "      <td>16567.9</td>\n",
       "      <td>16563.5</td>\n",
       "      <td>16563.5</td>\n",
       "      <td>2150.0</td>\n",
       "      <td>21.50</td>\n",
       "      <td>356162.576</td>\n",
       "      <td>1</td>\n",
       "    </tr>\n",
       "  </tbody>\n",
       "</table>\n",
       "</div>"
      ],
      "text/plain": [
       "                    ts        o        h        l        c      vol  volCcy  \\\n",
       "0  2023-01-02 00:00:00  16559.2  16560.0  16558.7  16559.0   2599.0   25.99   \n",
       "1  2023-01-02 00:01:00  16559.0  16565.0  16559.0  16565.0   5044.0   50.44   \n",
       "2  2023-01-02 00:02:00  16565.0  16586.2  16564.9  16577.2  26212.0  262.12   \n",
       "3  2023-01-02 00:03:00  16577.2  16577.2  16567.8  16568.0   5310.0   53.10   \n",
       "4  2023-01-02 00:04:00  16567.9  16567.9  16563.5  16563.5   2150.0   21.50   \n",
       "\n",
       "   volCcyQuote  confirm  \n",
       "0   430378.595        1  \n",
       "1   835382.835        1  \n",
       "2  4345561.497        1  \n",
       "3   879889.473        1  \n",
       "4   356162.576        1  "
      ]
     },
     "execution_count": 9,
     "metadata": {},
     "output_type": "execute_result"
    }
   ],
   "source": [
    "candle = candle_result['data']\n",
    "df = market.candle_to_df(candle)\n",
    "df.head()"
   ]
  }
 ],
 "metadata": {
  "kernelspec": {
   "display_name": "Python 3 (ipykernel)",
   "language": "python",
   "name": "python3"
  },
  "language_info": {
   "codemirror_mode": {
    "name": "ipython",
    "version": 3
   },
   "file_extension": ".py",
   "mimetype": "text/x-python",
   "name": "python",
   "nbconvert_exporter": "python",
   "pygments_lexer": "ipython3",
   "version": "3.8.4"
  }
 },
 "nbformat": 4,
 "nbformat_minor": 5
}