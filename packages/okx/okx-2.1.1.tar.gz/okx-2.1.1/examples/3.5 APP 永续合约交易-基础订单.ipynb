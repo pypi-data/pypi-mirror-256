{
 "cells": [
  {
   "cell_type": "markdown",
   "id": "3693caa9",
   "metadata": {},
   "source": [
    "## 1. APP 永续合约交易-基础订单函数总览"
   ]
  },
  {
   "cell_type": "markdown",
   "id": "d5cdf01d",
   "metadata": {},
   "source": [
    "|方法|解释|\n",
    "|:---|:---|\n",
    "|set_order|下单（API原始接口）|\n",
    "|get_order|查询订单（API原始接口）|\n",
    "|get_orders_pending|查看当前挂单|\n",
    "|get_orders_pending_open|查看当前购买挂单|\n",
    "|get_orders_pending_close|查看当前卖出挂单|\n",
    "|wait_order_FILLED|等待订单成交|\n",
    "|cancel_order|撤销订单（API原始接口）|"
   ]
  },
  {
   "cell_type": "markdown",
   "id": "709a4cea",
   "metadata": {},
   "source": [
    "## 2. 模型实例化"
   ]
  },
  {
   "cell_type": "code",
   "execution_count": 1,
   "id": "4103d1c2",
   "metadata": {},
   "outputs": [],
   "source": [
    "from okx.app import OkxSWAP\n",
    "from okx.app.utils import eprint"
   ]
  },
  {
   "cell_type": "code",
   "execution_count": 2,
   "id": "4d5bb867",
   "metadata": {},
   "outputs": [
    {
     "name": "stdout",
     "output_type": "stream",
     "text": [
      "[FAILURE] 设置持仓方式为双向持仓失败，请手动设置：posMode=\"long_short_mode\"\n"
     ]
    }
   ],
   "source": [
    "# 永续合约交易需要秘钥\n",
    "key = \"xxx\"\n",
    "secret = \"xxx\"\n",
    "passphrase = \"xxx\"\n",
    "# 实盘：0，虚拟盘：1\n",
    "flag = '0'\n",
    "# 使用http和https代理，proxies={'http':'xxxxx','https:':'xxxxx'}，与requests中的proxies参数规则相同\n",
    "proxies = {}\n",
    "# 转发：需搭建转发服务器，可参考：https://github.com/pyted/okx_resender\n",
    "proxy_host = None\n",
    "\n",
    "# okxSPOT.market 等同于 marketSPOT\n",
    "okxSWAP = OkxSWAP(\n",
    "    key=key, secret=secret, passphrase=passphrase, proxies=proxies, proxy_host=proxy_host,\n",
    ")\n",
    "\n",
    "trade = okxSWAP.trade\n",
    "# 如果有挂单或持仓，会提示“设置持仓方式为双向持仓失败”，如果你的持仓模式已经是双向持仓，可以忽略这个警告"
   ]
  },
  {
   "cell_type": "markdown",
   "id": "a67d10b7",
   "metadata": {},
   "source": [
    "## 3. 下单（API原始接口） set_order"
   ]
  },
  {
   "cell_type": "code",
   "execution_count": 3,
   "id": "ddb73e6e",
   "metadata": {},
   "outputs": [
    {
     "name": "stdout",
     "output_type": "stream",
     "text": [
      "{'code': '0',\n",
      " 'data': {'clOrdId': '', 'ordId': '671749644141367296', 'sCode': '0', 'sMsg': 'Order placed', 'tag': ''},\n",
      " 'inTime': '1706429595669616',\n",
      " 'msg': '',\n",
      " 'outTime': '1706429595670895'}\n"
     ]
    }
   ],
   "source": [
    "set_order_result = trade.set_order(\n",
    "    instId='MANA-USDT-SWAP',\n",
    "    tdMode='isolated',\n",
    "    side='buy',\n",
    "    ordType='limit',\n",
    "    posSide='long',\n",
    "    px='0.3',\n",
    "    sz='10',\n",
    ")\n",
    "eprint(set_order_result)"
   ]
  },
  {
   "cell_type": "markdown",
   "id": "c5e62531",
   "metadata": {},
   "source": [
    "## 4. 查询订单（API原始接口） get_order"
   ]
  },
  {
   "cell_type": "code",
   "execution_count": 4,
   "id": "d08af97f",
   "metadata": {},
   "outputs": [
    {
     "name": "stdout",
     "output_type": "stream",
     "text": [
      "{'code': '0',\n",
      " 'data': {'accFillSz': '0',\n",
      "          'algoClOrdId': '',\n",
      "          'algoId': '',\n",
      "          'attachAlgoClOrdId': '',\n",
      "          'attachAlgoOrds': [],\n",
      "          'avgPx': '',\n",
      "          'cTime': '1706429595668',\n",
      "          'cancelSource': '',\n",
      "          'cancelSourceReason': '',\n",
      "          'category': 'normal',\n",
      "          'ccy': '',\n",
      "          'clOrdId': '',\n",
      "          'fee': '0',\n",
      "          'feeCcy': 'USDT',\n",
      "          'fillPx': '',\n",
      "          'fillSz': '0',\n",
      "          'fillTime': '',\n",
      "          'instId': 'MANA-USDT-SWAP',\n",
      "          'instType': 'SWAP',\n",
      "          'lever': '1',\n",
      "          'ordId': '671749644141367296',\n",
      "          'ordType': 'limit',\n",
      "          'pnl': '0',\n",
      "          'posSide': 'long',\n",
      "          'px': '0.3',\n",
      "          'pxType': '',\n",
      "          'pxUsd': '',\n",
      "          'pxVol': '',\n",
      "          'quickMgnType': '',\n",
      "          'rebate': '0',\n",
      "          'rebateCcy': 'USDT',\n",
      "          '...': '......'},\n",
      " 'msg': ''}\n"
     ]
    }
   ],
   "source": [
    "get_order_result = trade.get_order(\n",
    "    instId='MANA-USDT-SWAP',\n",
    "    ordId='671749644141367296',\n",
    ")\n",
    "eprint(get_order_result)"
   ]
  },
  {
   "cell_type": "markdown",
   "id": "6cb6486a",
   "metadata": {},
   "source": [
    "## 5. 查看当前挂单 get_orders_pending"
   ]
  },
  {
   "cell_type": "code",
   "execution_count": 5,
   "id": "b7f1969c",
   "metadata": {},
   "outputs": [
    {
     "name": "stdout",
     "output_type": "stream",
     "text": [
      "{'code': '0',\n",
      " 'data': [{'accFillSz': '0',\n",
      "           'algoClOrdId': '',\n",
      "           'algoId': '',\n",
      "           'attachAlgoClOrdId': '',\n",
      "           'attachAlgoOrds': [],\n",
      "           'avgPx': '',\n",
      "           'cTime': '1706429748842',\n",
      "           'cancelSource': '',\n",
      "           'cancelSourceReason': '',\n",
      "           'category': 'normal',\n",
      "           'ccy': '',\n",
      "           'clOrdId': '',\n",
      "           'fee': '0',\n",
      "           'feeCcy': 'USDT',\n",
      "           'fillPx': '',\n",
      "           'fillSz': '0',\n",
      "           'fillTime': '',\n",
      "           'instId': 'MANA-USDT-SWAP',\n",
      "           'instType': 'SWAP',\n",
      "           'lever': '1',\n",
      "           '...': '......'},\n",
      "          {'accFillSz': '0',\n",
      "           'algoClOrdId': '',\n",
      "           'algoId': '',\n",
      "           'attachAlgoClOrdId': '',\n",
      "           'attachAlgoOrds': [],\n",
      "           'avgPx': '',\n",
      "           'cTime': '1706429696648',\n",
      "           'cancelSource': '',\n",
      "           'cancelSourceReason': '',\n",
      "           'category': 'normal',\n",
      "           'ccy': '',\n",
      "           'clOrdId': '',\n",
      "           'fee': '0',\n",
      "           'feeCcy': 'USDT',\n",
      "           'fillPx': '',\n",
      "           'fillSz': '0',\n",
      "           'fillTime': '',\n",
      "           'instId': 'ORDI-USDT-SWAP',\n",
      "           'instType': 'SWAP',\n",
      "           'lever': '1',\n",
      "           '...': '......'},\n",
      "          {'accFillSz': '0',\n",
      "           'algoClOrdId': '',\n",
      "           'algoId': '',\n",
      "           'attachAlgoClOrdId': '',\n",
      "           'attachAlgoOrds': [],\n",
      "           'avgPx': '',\n",
      "           'cTime': '1706429686113',\n",
      "           'cancelSource': '',\n",
      "           'cancelSourceReason': '',\n",
      "           'category': 'normal',\n",
      "           'ccy': '',\n",
      "           'clOrdId': '',\n",
      "           'fee': '0',\n",
      "           'feeCcy': 'USDT',\n",
      "           'fillPx': '',\n",
      "           'fillSz': '0',\n",
      "           'fillTime': '',\n",
      "           'instId': 'ORDI-USDT-SWAP',\n",
      "           'instType': 'SWAP',\n",
      "           'lever': '1',\n",
      "           '...': '......'},\n",
      "          {'accFillSz': '0',\n",
      "           'algoClOrdId': '',\n",
      "           'algoId': '',\n",
      "           'attachAlgoClOrdId': '',\n",
      "           'attachAlgoOrds': [],\n",
      "           'avgPx': '',\n",
      "           'cTime': '1706429595668',\n",
      "           'cancelSource': '',\n",
      "           'cancelSourceReason': '',\n",
      "           'category': 'normal',\n",
      "           'ccy': '',\n",
      "           'clOrdId': '',\n",
      "           'fee': '0',\n",
      "           'feeCcy': 'USDT',\n",
      "           'fillPx': '',\n",
      "           'fillSz': '0',\n",
      "           'fillTime': '',\n",
      "           'instId': 'MANA-USDT-SWAP',\n",
      "           'instType': 'SWAP',\n",
      "           'lever': '1',\n",
      "           '...': '......'}],\n",
      " 'msg': ''}\n"
     ]
    }
   ],
   "source": [
    "get_orders_pending = trade.get_orders_pending()\n",
    "eprint(get_orders_pending, length=20)"
   ]
  },
  {
   "cell_type": "markdown",
   "id": "f1bbb10d",
   "metadata": {},
   "source": [
    "## 6. 查看当前购买挂单 get_orders_pending_open"
   ]
  },
  {
   "cell_type": "code",
   "execution_count": 6,
   "id": "ddc5b5e8",
   "metadata": {},
   "outputs": [
    {
     "name": "stdout",
     "output_type": "stream",
     "text": [
      "{'code': '0',\n",
      " 'data': [{'accFillSz': '0',\n",
      "           'algoClOrdId': '',\n",
      "           'algoId': '',\n",
      "           'attachAlgoClOrdId': '',\n",
      "           'attachAlgoOrds': [],\n",
      "           'avgPx': '',\n",
      "           'cTime': '1706429696648',\n",
      "           'cancelSource': '',\n",
      "           'cancelSourceReason': '',\n",
      "           'category': 'normal',\n",
      "           'ccy': '',\n",
      "           'clOrdId': '',\n",
      "           'fee': '0',\n",
      "           'feeCcy': 'USDT',\n",
      "           'fillPx': '',\n",
      "           'fillSz': '0',\n",
      "           'fillTime': '',\n",
      "           'instId': 'ORDI-USDT-SWAP',\n",
      "           'instType': 'SWAP',\n",
      "           'lever': '1',\n",
      "           '...': '......'},\n",
      "          {'accFillSz': '0',\n",
      "           'algoClOrdId': '',\n",
      "           'algoId': '',\n",
      "           'attachAlgoClOrdId': '',\n",
      "           'attachAlgoOrds': [],\n",
      "           'avgPx': '',\n",
      "           'cTime': '1706429686113',\n",
      "           'cancelSource': '',\n",
      "           'cancelSourceReason': '',\n",
      "           'category': 'normal',\n",
      "           'ccy': '',\n",
      "           'clOrdId': '',\n",
      "           'fee': '0',\n",
      "           'feeCcy': 'USDT',\n",
      "           'fillPx': '',\n",
      "           'fillSz': '0',\n",
      "           'fillTime': '',\n",
      "           'instId': 'ORDI-USDT-SWAP',\n",
      "           'instType': 'SWAP',\n",
      "           'lever': '1',\n",
      "           '...': '......'},\n",
      "          {'accFillSz': '0',\n",
      "           'algoClOrdId': '',\n",
      "           'algoId': '',\n",
      "           'attachAlgoClOrdId': '',\n",
      "           'attachAlgoOrds': [],\n",
      "           'avgPx': '',\n",
      "           'cTime': '1706429595668',\n",
      "           'cancelSource': '',\n",
      "           'cancelSourceReason': '',\n",
      "           'category': 'normal',\n",
      "           'ccy': '',\n",
      "           'clOrdId': '',\n",
      "           'fee': '0',\n",
      "           'feeCcy': 'USDT',\n",
      "           'fillPx': '',\n",
      "           'fillSz': '0',\n",
      "           'fillTime': '',\n",
      "           'instId': 'MANA-USDT-SWAP',\n",
      "           'instType': 'SWAP',\n",
      "           'lever': '1',\n",
      "           '...': '......'}],\n",
      " 'msg': ''}\n"
     ]
    }
   ],
   "source": [
    "get_orders_pending_open = trade.get_orders_pending_open()\n",
    "eprint(get_orders_pending_open, length=20)"
   ]
  },
  {
   "cell_type": "markdown",
   "id": "107f98e8",
   "metadata": {},
   "source": [
    "## 7. 查看当前卖出挂单 get_orders_pending_close"
   ]
  },
  {
   "cell_type": "code",
   "execution_count": 7,
   "id": "298ee781",
   "metadata": {},
   "outputs": [
    {
     "name": "stdout",
     "output_type": "stream",
     "text": [
      "{'code': '0',\n",
      " 'data': [{'accFillSz': '0',\n",
      "           'algoClOrdId': '',\n",
      "           'algoId': '',\n",
      "           'attachAlgoClOrdId': '',\n",
      "           'attachAlgoOrds': [],\n",
      "           'avgPx': '',\n",
      "           'cTime': '1706429748842',\n",
      "           'cancelSource': '',\n",
      "           'cancelSourceReason': '',\n",
      "           'category': 'normal',\n",
      "           'ccy': '',\n",
      "           'clOrdId': '',\n",
      "           'fee': '0',\n",
      "           'feeCcy': 'USDT',\n",
      "           'fillPx': '',\n",
      "           'fillSz': '0',\n",
      "           'fillTime': '',\n",
      "           'instId': 'MANA-USDT-SWAP',\n",
      "           'instType': 'SWAP',\n",
      "           'lever': '1',\n",
      "           '...': '......'}],\n",
      " 'msg': ''}\n"
     ]
    }
   ],
   "source": [
    "get_orders_pending_close = trade.get_orders_pending_close()\n",
    "eprint(get_orders_pending_close, length=20)"
   ]
  },
  {
   "cell_type": "markdown",
   "id": "dff8e9f0",
   "metadata": {},
   "source": [
    "## 8. 等待订单成交 wait_order_FILLED"
   ]
  },
  {
   "cell_type": "code",
   "execution_count": 8,
   "id": "f2bf4c29",
   "metadata": {},
   "outputs": [
    {
     "name": "stdout",
     "output_type": "stream",
     "text": [
      "{'code': '0',\n",
      " 'data': {'accFillSz': '0',\n",
      "          'algoClOrdId': '',\n",
      "          'algoId': '',\n",
      "          'attachAlgoClOrdId': '',\n",
      "          'attachAlgoOrds': [],\n",
      "          'avgPx': '',\n",
      "          'cTime': '1706429595668',\n",
      "          'cancelSource': '',\n",
      "          'cancelSourceReason': '',\n",
      "          'category': 'normal',\n",
      "          'ccy': '',\n",
      "          'clOrdId': '',\n",
      "          'fee': '0',\n",
      "          'feeCcy': 'USDT',\n",
      "          'fillPx': '',\n",
      "          'fillSz': '0',\n",
      "          'fillTime': '',\n",
      "          'instId': 'MANA-USDT-SWAP',\n",
      "          'instType': 'SWAP',\n",
      "          'lever': '1',\n",
      "          'ordId': '671749644141367296',\n",
      "          'ordType': 'limit',\n",
      "          'pnl': '0',\n",
      "          'posSide': 'long',\n",
      "          'px': '0.3',\n",
      "          'pxType': '',\n",
      "          'pxUsd': '',\n",
      "          'pxVol': '',\n",
      "          'quickMgnType': '',\n",
      "          'rebate': '0',\n",
      "          'rebateCcy': 'USDT',\n",
      "          '...': '......'},\n",
      " 'msg': ''}\n"
     ]
    }
   ],
   "source": [
    "wait_order_FILLED = trade.wait_order_FILLED(\n",
    "    instId='MANA-USDT-SWAP',\n",
    "    ordId='671749644141367296',\n",
    "    timeout=5,\n",
    ")\n",
    "\n",
    "eprint(wait_order_FILLED)"
   ]
  },
  {
   "cell_type": "markdown",
   "id": "eb7e6fb5",
   "metadata": {},
   "source": [
    "## 9. 撤销订单（API原始接口） cancel_order"
   ]
  },
  {
   "cell_type": "code",
   "execution_count": 9,
   "id": "35788eb9",
   "metadata": {},
   "outputs": [
    {
     "name": "stdout",
     "output_type": "stream",
     "text": [
      "{'code': '0',\n",
      " 'data': {'clOrdId': '', 'ordId': '671749644141367296', 'sCode': '0', 'sMsg': ''},\n",
      " 'inTime': '1706429867245276',\n",
      " 'msg': '',\n",
      " 'outTime': '1706429867247381'}\n"
     ]
    }
   ],
   "source": [
    "cancel_order = trade.cancel_order(\n",
    "    instId='MANA-USDT-SWAP', ordId='671749644141367296'\n",
    ")\n",
    "eprint(cancel_order)"
   ]
  }
 ],
 "metadata": {
  "kernelspec": {
   "display_name": "Python 3 (ipykernel)",
   "language": "python",
   "name": "python3"
  },
  "language_info": {
   "codemirror_mode": {
    "name": "ipython",
    "version": 3
   },
   "file_extension": ".py",
   "mimetype": "text/x-python",
   "name": "python",
   "nbconvert_exporter": "python",
   "pygments_lexer": "ipython3",
   "version": "3.8.4"
  }
 },
 "nbformat": 4,
 "nbformat_minor": 5
}