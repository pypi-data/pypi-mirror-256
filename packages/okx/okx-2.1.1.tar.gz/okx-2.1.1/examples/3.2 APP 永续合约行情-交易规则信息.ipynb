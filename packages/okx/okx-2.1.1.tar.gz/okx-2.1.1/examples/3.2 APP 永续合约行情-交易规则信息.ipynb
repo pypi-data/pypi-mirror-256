{
 "cells": [
  {
   "cell_type": "markdown",
   "id": "47ecaab6",
   "metadata": {},
   "source": [
    "## 1. APP 永续合约行情-交易规则信息函数总览"
   ]
  },
  {
   "cell_type": "markdown",
   "id": "d7c475c4",
   "metadata": {},
   "source": [
    "|方法|解释|\n",
    "|:---|:---|\n",
    "|get_exchangeInfo|以缓存的方式获取一个产品的交易规则与交易对|\n",
    "|get_exchangeInfos|以缓存的方式获取全部产品的交易规则与交易对|\n",
    "|get_instIds_trading_on|获取可以交易的产品列表|\n",
    "|get_instIds_trading_off|获取不可交易的产品列表|\n",
    "|get_instIds_all|获取全部的产品列表|"
   ]
  },
  {
   "cell_type": "markdown",
   "id": "88837777",
   "metadata": {},
   "source": [
    "## 2. 模型实例化"
   ]
  },
  {
   "cell_type": "code",
   "execution_count": 1,
   "id": "fe90cce7",
   "metadata": {},
   "outputs": [],
   "source": [
    "from okx.app import OkxSWAP\n",
    "from okx.app.utils import eprint"
   ]
  },
  {
   "cell_type": "code",
   "execution_count": 2,
   "id": "1e518f6b",
   "metadata": {},
   "outputs": [
    {
     "name": "stdout",
     "output_type": "stream",
     "text": [
      "[FAILURE] 设置持仓方式为双向持仓失败，请手动设置：posMode=\"long_short_mode\"\n"
     ]
    }
   ],
   "source": [
    "# 永续合约行情不需要秘钥\n",
    "key = \"\"\n",
    "secret = \"\"\n",
    "passphrase = \"\"\n",
    "# 使用http和https代理，proxies={'http':'xxxxx','https:':'xxxxx'}，与requests中的proxies参数规则相同\n",
    "proxies = {}\n",
    "# 转发：需搭建转发服务器，可参考：https://github.com/pyted/okx_resender\n",
    "proxy_host = None\n",
    "\n",
    "# okxSPOT.market 等同于 marketSPOT\n",
    "okxSWAP = OkxSWAP(\n",
    "    key=key, secret=secret, passphrase=passphrase, proxies=proxies, proxy_host=proxy_host,\n",
    ")\n",
    "market = okxSWAP.market\n",
    "# 如果有挂单或持仓，会提示“设置持仓方式为双向持仓失败”，如果你的持仓模式已经是双向持仓，可以忽略这个警告"
   ]
  },
  {
   "cell_type": "markdown",
   "id": "8adfe536",
   "metadata": {},
   "source": [
    "## 3. 以缓存的方式获取一个产品的交易规则与交易对 get_exchangeInfo"
   ]
  },
  {
   "cell_type": "code",
   "execution_count": 3,
   "id": "bfc0cccd",
   "metadata": {},
   "outputs": [
    {
     "name": "stdout",
     "output_type": "stream",
     "text": [
      "{'code': '0',\n",
      " 'data': {'alias': '',\n",
      "          'baseCcy': '',\n",
      "          'category': '1',\n",
      "          'ctMult': '1',\n",
      "          'ctType': 'linear',\n",
      "          'ctVal': '0.01',\n",
      "          'ctValCcy': 'BTC',\n",
      "          'expTime': '',\n",
      "          'instFamily': 'BTC-USDT',\n",
      "          'instId': 'BTC-USDT-SWAP',\n",
      "          'instType': 'SWAP',\n",
      "          'lever': '100',\n",
      "          'listTime': '1611916828000',\n",
      "          'lotSz': '1',\n",
      "          'maxIcebergSz': '100000000.0000000000000000',\n",
      "          'maxLmtAmt': '20000000',\n",
      "          'maxLmtSz': '100000000',\n",
      "          'maxMktAmt': '',\n",
      "          'maxMktSz': '12000',\n",
      "          'maxStopSz': '12000',\n",
      "          'maxTriggerSz': '100000000.0000000000000000',\n",
      "          'maxTwapSz': '100000000.0000000000000000',\n",
      "          'minSz': '1',\n",
      "          'optType': '',\n",
      "          'quoteCcy': '',\n",
      "          'settleCcy': 'USDT',\n",
      "          'state': 'live',\n",
      "          'stk': '',\n",
      "          'tickSz': '0.1',\n",
      "          'uly': 'BTC-USDT'},\n",
      " 'msg': ''}\n"
     ]
    }
   ],
   "source": [
    "exchangeInfos_result = market.get_exchangeInfo(instId='BTC-USDT-SWAP')\n",
    "eprint(exchangeInfos_result)"
   ]
  },
  {
   "cell_type": "markdown",
   "id": "628b8b40",
   "metadata": {},
   "source": [
    "## 4. 以缓存的方式获取全部产品的交易规则与交易对 get_exchangeInfos"
   ]
  },
  {
   "cell_type": "code",
   "execution_count": 4,
   "id": "a985f8a8",
   "metadata": {},
   "outputs": [
    {
     "name": "stdout",
     "output_type": "stream",
     "text": [
      "{'code': '0',\n",
      " 'data': [{'alias': '',\n",
      "           'baseCcy': '',\n",
      "           'category': '1',\n",
      "           'ctMult': '1',\n",
      "           'ctType': 'inverse',\n",
      "           'ctVal': '100',\n",
      "           'ctValCcy': 'USD',\n",
      "           'expTime': '',\n",
      "           'instFamily': 'BTC-USD',\n",
      "           'instId': 'BTC-USD-SWAP',\n",
      "           '...': '......'},\n",
      "          {'alias': '',\n",
      "           'baseCcy': '',\n",
      "           'category': '1',\n",
      "           'ctMult': '1',\n",
      "           'ctType': 'inverse',\n",
      "           'ctVal': '10',\n",
      "           'ctValCcy': 'USD',\n",
      "           'expTime': '',\n",
      "           'instFamily': 'ETH-USD',\n",
      "           'instId': 'ETH-USD-SWAP',\n",
      "           '...': '......'},\n",
      "          {'alias': '',\n",
      "           'baseCcy': '',\n",
      "           'category': '1',\n",
      "           'ctMult': '1',\n",
      "           'ctType': 'inverse',\n",
      "           'ctVal': '10',\n",
      "           'ctValCcy': 'USD',\n",
      "           'expTime': '',\n",
      "           'instFamily': 'XRP-USD',\n",
      "           'instId': 'XRP-USD-SWAP',\n",
      "           '...': '......'},\n",
      "          {'alias': '',\n",
      "           'baseCcy': '',\n",
      "           'category': '1',\n",
      "           'ctMult': '1',\n",
      "           'ctType': 'inverse',\n",
      "           'ctVal': '10',\n",
      "           'ctValCcy': 'USD',\n",
      "           'expTime': '',\n",
      "           'instFamily': 'SOL-USD',\n",
      "           'instId': 'SOL-USD-SWAP',\n",
      "           '...': '......'},\n",
      "          {'alias': '',\n",
      "           'baseCcy': '',\n",
      "           'category': '1',\n",
      "           'ctMult': '1',\n",
      "           'ctType': 'inverse',\n",
      "           'ctVal': '10',\n",
      "           'ctValCcy': 'USD',\n",
      "           'expTime': '',\n",
      "           'instFamily': 'DOGE-USD',\n",
      "           'instId': 'DOGE-USD-SWAP',\n",
      "           '...': '......'},\n",
      "          '......'],\n",
      " 'msg': ''}\n"
     ]
    }
   ],
   "source": [
    "exchangeInfos_result = market.get_exchangeInfos()\n",
    "eprint(exchangeInfos_result, data_length=5, length=10)"
   ]
  },
  {
   "cell_type": "markdown",
   "id": "5e8966a8",
   "metadata": {},
   "source": [
    "## 5. 获取可以交易的产品列表 get_instIds_trading_on"
   ]
  },
  {
   "cell_type": "code",
   "execution_count": 5,
   "id": "870bfcd2",
   "metadata": {},
   "outputs": [
    {
     "name": "stdout",
     "output_type": "stream",
     "text": [
      "{'code': '0',\n",
      " 'data': ['BTC-USD-SWAP',\n",
      "          'ETH-USD-SWAP',\n",
      "          'XRP-USD-SWAP',\n",
      "          'SOL-USD-SWAP',\n",
      "          'DOGE-USD-SWAP',\n",
      "          '1INCH-USD-SWAP',\n",
      "          'ADA-USD-SWAP',\n",
      "          'ALGO-USD-SWAP',\n",
      "          'ATOM-USD-SWAP',\n",
      "          'AVAX-USD-SWAP',\n",
      "          'BCH-USD-SWAP',\n",
      "          'BSV-USD-SWAP',\n",
      "          'CRV-USD-SWAP',\n",
      "          'DOT-USD-SWAP',\n",
      "          'EOS-USD-SWAP',\n",
      "          'ETC-USD-SWAP',\n",
      "          'FIL-USD-SWAP',\n",
      "          'GRT-USD-SWAP',\n",
      "          'KSM-USD-SWAP',\n",
      "          'LINK-USD-SWAP',\n",
      "          'LTC-USD-SWAP',\n",
      "          'MANA-USD-SWAP',\n",
      "          'NEO-USD-SWAP',\n",
      "          'SAND-USD-SWAP',\n",
      "          'SUSHI-USD-SWAP',\n",
      "          'THETA-USD-SWAP',\n",
      "          'TRX-USD-SWAP',\n",
      "          'UNI-USD-SWAP',\n",
      "          'XLM-USD-SWAP',\n",
      "          'YFI-USD-SWAP',\n",
      "          '......'],\n",
      " 'msg': ''}\n"
     ]
    }
   ],
   "source": [
    "instIds_trading_on_result = market.get_instIds_trading_on()\n",
    "eprint(instIds_trading_on_result)"
   ]
  },
  {
   "cell_type": "markdown",
   "id": "443bde86",
   "metadata": {},
   "source": [
    "## 5. 获取不可交易的产品列表 get_instIds_trading_off"
   ]
  },
  {
   "cell_type": "code",
   "execution_count": 6,
   "id": "1a4516f7",
   "metadata": {},
   "outputs": [
    {
     "name": "stdout",
     "output_type": "stream",
     "text": [
      "{'code': '0', 'data': [], 'msg': ''}\n"
     ]
    }
   ],
   "source": [
    "instIds_trading_off_result = market.get_instIds_trading_off()\n",
    "eprint(instIds_trading_off_result)"
   ]
  },
  {
   "cell_type": "markdown",
   "id": "c00b0b51",
   "metadata": {},
   "source": [
    "## 6. 获取全部的产品列表 get_instIds_all"
   ]
  },
  {
   "cell_type": "code",
   "execution_count": 7,
   "id": "6ef3aee8",
   "metadata": {},
   "outputs": [
    {
     "name": "stdout",
     "output_type": "stream",
     "text": [
      "{'code': '0',\n",
      " 'data': ['BTC-USD-SWAP',\n",
      "          'ETH-USD-SWAP',\n",
      "          'XRP-USD-SWAP',\n",
      "          'SOL-USD-SWAP',\n",
      "          'DOGE-USD-SWAP',\n",
      "          '1INCH-USD-SWAP',\n",
      "          'ADA-USD-SWAP',\n",
      "          'ALGO-USD-SWAP',\n",
      "          'ATOM-USD-SWAP',\n",
      "          'AVAX-USD-SWAP',\n",
      "          'BCH-USD-SWAP',\n",
      "          'BSV-USD-SWAP',\n",
      "          'CRV-USD-SWAP',\n",
      "          'DOT-USD-SWAP',\n",
      "          'EOS-USD-SWAP',\n",
      "          'ETC-USD-SWAP',\n",
      "          'FIL-USD-SWAP',\n",
      "          'GRT-USD-SWAP',\n",
      "          'KSM-USD-SWAP',\n",
      "          'LINK-USD-SWAP',\n",
      "          'LTC-USD-SWAP',\n",
      "          'MANA-USD-SWAP',\n",
      "          'NEO-USD-SWAP',\n",
      "          'SAND-USD-SWAP',\n",
      "          'SUSHI-USD-SWAP',\n",
      "          'THETA-USD-SWAP',\n",
      "          'TRX-USD-SWAP',\n",
      "          'UNI-USD-SWAP',\n",
      "          'XLM-USD-SWAP',\n",
      "          'YFI-USD-SWAP',\n",
      "          '......'],\n",
      " 'msg': ''}\n"
     ]
    }
   ],
   "source": [
    "get_instIds_all_result = market.get_instIds_all()\n",
    "eprint(get_instIds_all_result)"
   ]
  }
 ],
 "metadata": {
  "kernelspec": {
   "display_name": "Python 3 (ipykernel)",
   "language": "python",
   "name": "python3"
  },
  "language_info": {
   "codemirror_mode": {
    "name": "ipython",
    "version": 3
   },
   "file_extension": ".py",
   "mimetype": "text/x-python",
   "name": "python",
   "nbconvert_exporter": "python",
   "pygments_lexer": "ipython3",
   "version": "3.8.4"
  }
 },
 "nbformat": 4,
 "nbformat_minor": 5
}