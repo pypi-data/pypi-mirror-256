{
 "cells": [
  {
   "cell_type": "markdown",
   "id": "18b24bc1",
   "metadata": {},
   "source": [
    "## 1. APP 永续合约交易-价格与数量函数总览"
   ]
  },
  {
   "cell_type": "markdown",
   "id": "8ebe3cc2",
   "metadata": {},
   "source": [
    "|方法|解释|\n",
    "|:---|:---|\n",
    "|round_quantity|下单数量圆整（合约张数）|\n",
    "|round_price|价格圆整|\n",
    "|get_quantity|根据产品的开仓金额、杠杆倍数、开仓价格获取可开合约张数|\n",
    "|quantity_to_f|将下单数量转化为字符串（合约张数）|\n",
    "|price_to_f|将价格转化为字符串|"
   ]
  },
  {
   "cell_type": "markdown",
   "id": "8f2cccbe",
   "metadata": {},
   "source": [
    "## 2. 模型实例化"
   ]
  },
  {
   "cell_type": "code",
   "execution_count": 1,
   "id": "354353b7",
   "metadata": {},
   "outputs": [],
   "source": [
    "from okx.app import OkxSWAP\n",
    "from okx.app.utils import eprint"
   ]
  },
  {
   "cell_type": "code",
   "execution_count": 2,
   "id": "3c9dfaa9",
   "metadata": {},
   "outputs": [
    {
     "name": "stdout",
     "output_type": "stream",
     "text": [
      "[FAILURE] 设置持仓方式为双向持仓失败，请手动设置：posMode=\"long_short_mode\"\n"
     ]
    }
   ],
   "source": [
    "# 永续合约交易需要秘钥\n",
    "key = \"xxx\"\n",
    "secret = \"xxx\"\n",
    "passphrase = \"xxx\"\n",
    "# 实盘：0，虚拟盘：1\n",
    "flag = '0'\n",
    "# 使用http和https代理，proxies={'http':'xxxxx','https:':'xxxxx'}，与requests中的proxies参数规则相同\n",
    "proxies = {}\n",
    "# 转发：需搭建转发服务器，可参考：https://github.com/pyted/okx_resender\n",
    "proxy_host = None\n",
    "\n",
    "okxSWAP = OkxSWAP(\n",
    "    key=key, secret=secret, passphrase=passphrase, proxies=proxies, proxy_host=proxy_host,\n",
    ")\n",
    "\n",
    "trade = okxSWAP.trade\n",
    "# 如果有挂单或持仓，会提示“设置持仓方式为双向持仓失败”，如果你的持仓模式已经是双向持仓，可以忽略这个警告"
   ]
  },
  {
   "cell_type": "markdown",
   "id": "8c2ccb6c",
   "metadata": {},
   "source": [
    "## 3. 下单数量圆整 round_quantity"
   ]
  },
  {
   "cell_type": "code",
   "execution_count": 3,
   "id": "527fd90a",
   "metadata": {},
   "outputs": [
    {
     "name": "stdout",
     "output_type": "stream",
     "text": [
      "{'code': '0', 'data': 2, 'msg': ''}\n"
     ]
    }
   ],
   "source": [
    "round_quantity_result = trade.round_quantity(\n",
    "    quantity=2.12323234234234,\n",
    "    instId='MANA-USDT-SWAP',\n",
    "    ordType='market',  # market | limit\n",
    ")\n",
    "eprint(round_quantity_result)"
   ]
  },
  {
   "cell_type": "markdown",
   "id": "1683eeb6",
   "metadata": {},
   "source": [
    "## 4. 圆整下单价格 round_price\n",
    "\n",
    "FLOOR:向下圆整 CEIL:向上圆整"
   ]
  },
  {
   "cell_type": "code",
   "execution_count": 4,
   "id": "b28c8016",
   "metadata": {},
   "outputs": [
    {
     "name": "stdout",
     "output_type": "stream",
     "text": [
      "{'code': '0', 'data': 0.1231, 'msg': ''}\n"
     ]
    }
   ],
   "source": [
    "round_price_result = trade.round_price(\n",
    "    price=0.123123123,\n",
    "    instId='MANA-USDT-SWAP',\n",
    "    type='FLOOR',  # FLOOR:向下圆整 CEIL:向上圆整\n",
    ")\n",
    "eprint(round_price_result)"
   ]
  },
  {
   "cell_type": "markdown",
   "id": "388ee992",
   "metadata": {},
   "source": [
    "## 5. 根据产品的开仓金额、杠杆倍数、开仓价格获取可开合约张数 get_quantity"
   ]
  },
  {
   "cell_type": "code",
   "execution_count": 5,
   "id": "82955c7e",
   "metadata": {},
   "outputs": [
    {
     "name": "stdout",
     "output_type": "stream",
     "text": [
      "{'code': '0', 'data': 71, 'msg': ''}\n"
     ]
    }
   ],
   "source": [
    "get_quantity_result = trade.get_quantity(\n",
    "    openPrice=0.14,\n",
    "    openMoney=20,\n",
    "    instId='MANA-USDT-SWAP',\n",
    "    ordType='limit',\n",
    "    leverage=5,\n",
    ")\n",
    "eprint(get_quantity_result)"
   ]
  },
  {
   "cell_type": "markdown",
   "id": "352ee999",
   "metadata": {},
   "source": [
    "## 6. 将下单数量转化为字符串（合约张数） quantity_to_f\n",
    "\n",
    "避免向官方发送科学计数法规则的数字，字符串传输更安全"
   ]
  },
  {
   "cell_type": "code",
   "execution_count": 6,
   "id": "3de4924b",
   "metadata": {},
   "outputs": [
    {
     "name": "stdout",
     "output_type": "stream",
     "text": [
      "{'code': '0', 'data': '71', 'msg': ''}\n"
     ]
    }
   ],
   "source": [
    "quantity_to_f_result = trade.quantity_to_f(\n",
    "    quantity=get_quantity_result['data'],\n",
    "    instId='MANA-USDT-SWAP',\n",
    ")\n",
    "eprint(quantity_to_f_result)"
   ]
  },
  {
   "cell_type": "markdown",
   "id": "763ad5df",
   "metadata": {},
   "source": [
    "## 7. 将下单价格转化为字符串 price_to_f"
   ]
  },
  {
   "cell_type": "code",
   "execution_count": 7,
   "id": "15f26bef",
   "metadata": {},
   "outputs": [
    {
     "name": "stdout",
     "output_type": "stream",
     "text": [
      "{'code': '0', 'data': '0.1231', 'msg': ''}\n"
     ]
    }
   ],
   "source": [
    "price_to_f_result = trade.price_to_f(\n",
    "    price=round_price_result['data'],\n",
    "    instId='MANA-USDT-SWAP',\n",
    ")\n",
    "eprint(price_to_f_result)"
   ]
  }
 ],
 "metadata": {
  "kernelspec": {
   "display_name": "Python 3 (ipykernel)",
   "language": "python",
   "name": "python3"
  },
  "language_info": {
   "codemirror_mode": {
    "name": "ipython",
    "version": 3
   },
   "file_extension": ".py",
   "mimetype": "text/x-python",
   "name": "python",
   "nbconvert_exporter": "python",
   "pygments_lexer": "ipython3",
   "version": "3.8.4"
  }
 },
 "nbformat": 4,
 "nbformat_minor": 5
}