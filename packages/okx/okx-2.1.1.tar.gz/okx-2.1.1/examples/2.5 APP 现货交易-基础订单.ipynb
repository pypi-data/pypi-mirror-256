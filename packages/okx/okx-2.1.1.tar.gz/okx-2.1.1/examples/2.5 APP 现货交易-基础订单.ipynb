{
 "cells": [
  {
   "cell_type": "markdown",
   "id": "fa691cae",
   "metadata": {},
   "source": [
    "## 1. APP 现货交易-基础订单函数总览"
   ]
  },
  {
   "cell_type": "markdown",
   "id": "2a51a633",
   "metadata": {},
   "source": [
    "|方法|解释|\n",
    "|:---|:---|\n",
    "|set_order|下单（API原始接口）|\n",
    "|get_order|查询订单（API原始接口）|\n",
    "|get_orders_pending|查看当前挂单|\n",
    "|get_orders_pending_open|查看当前购买挂单|\n",
    "|get_orders_pending_close|查看当前卖出挂单|\n",
    "|wait_order_FILLED|等待订单成交|\n",
    "|cancel_order|撤销订单（API原始接口）|"
   ]
  },
  {
   "cell_type": "markdown",
   "id": "4338676d",
   "metadata": {},
   "source": [
    "## 2. 模型实例化"
   ]
  },
  {
   "cell_type": "code",
   "execution_count": 1,
   "id": "5af5ce75",
   "metadata": {},
   "outputs": [],
   "source": [
    "from okx.app import OkxSPOT\n",
    "from okx.app.utils import eprint"
   ]
  },
  {
   "cell_type": "code",
   "execution_count": 2,
   "id": "201abb72",
   "metadata": {},
   "outputs": [],
   "source": [
    "# 现货交易账户需要秘钥\n",
    "key = \"xxx\"\n",
    "secret = \"xxx\"\n",
    "passphrase = \"xxx\"\n",
    "# 实盘：0，虚拟盘：1\n",
    "flag = '0'\n",
    "# 使用http和https代理，proxies={'http':'xxxxx','https:':'xxxxx'}，与requests中的proxies参数规则相同\n",
    "proxies = {}\n",
    "# 转发：需搭建转发服务器，可参考：https://github.com/pyted/okx_resender\n",
    "proxy_host = None\n",
    "\n",
    "okxSPOT = OkxSPOT(\n",
    "    key=key, secret=secret, passphrase=passphrase, proxies=proxies, proxy_host=proxy_host,\n",
    ")\n",
    "trade = okxSPOT.trade"
   ]
  },
  {
   "cell_type": "markdown",
   "id": "00ba5938",
   "metadata": {},
   "source": [
    "## 3. 下单（API原始接口） set_order"
   ]
  },
  {
   "cell_type": "code",
   "execution_count": 3,
   "id": "aa3d99b7",
   "metadata": {},
   "outputs": [
    {
     "name": "stdout",
     "output_type": "stream",
     "text": [
      "{'code': '0',\n",
      " 'data': {'clOrdId': '', 'ordId': '671464636889600003', 'sCode': '0', 'sMsg': 'Order placed', 'tag': ''},\n",
      " 'inTime': '1706361644644550',\n",
      " 'msg': '',\n",
      " 'outTime': '1706361644646610'}\n"
     ]
    }
   ],
   "source": [
    "set_order_result = trade.set_order(\n",
    "    instId='MANA-USDT',\n",
    "    tdMode='cash',\n",
    "    side='buy',\n",
    "    ordType='limit',\n",
    "    px='0.3',\n",
    "    sz='10',\n",
    ")\n",
    "eprint(set_order_result)"
   ]
  },
  {
   "cell_type": "markdown",
   "id": "eaca5ce6",
   "metadata": {},
   "source": [
    "## 4. 查询订单（API原始接口） get_order"
   ]
  },
  {
   "cell_type": "code",
   "execution_count": 4,
   "id": "e29b6997",
   "metadata": {},
   "outputs": [
    {
     "name": "stdout",
     "output_type": "stream",
     "text": [
      "{'code': '0',\n",
      " 'data': {'accFillSz': '0',\n",
      "          'algoClOrdId': '',\n",
      "          'algoId': '',\n",
      "          'attachAlgoClOrdId': '',\n",
      "          'attachAlgoOrds': [],\n",
      "          'avgPx': '',\n",
      "          'cTime': '1706361644644',\n",
      "          'cancelSource': '',\n",
      "          'cancelSourceReason': '',\n",
      "          'category': 'normal',\n",
      "          'ccy': '',\n",
      "          'clOrdId': '',\n",
      "          'fee': '0',\n",
      "          'feeCcy': 'MANA',\n",
      "          'fillPx': '',\n",
      "          'fillSz': '0',\n",
      "          'fillTime': '',\n",
      "          'instId': 'MANA-USDT',\n",
      "          'instType': 'SPOT',\n",
      "          'lever': '',\n",
      "          'ordId': '671464636889600003',\n",
      "          'ordType': 'limit',\n",
      "          'pnl': '0',\n",
      "          'posSide': 'net',\n",
      "          'px': '0.3',\n",
      "          'pxType': '',\n",
      "          'pxUsd': '',\n",
      "          'pxVol': '',\n",
      "          'quickMgnType': '',\n",
      "          'rebate': '0',\n",
      "          'rebateCcy': 'USDT',\n",
      "          '...': '......'},\n",
      " 'msg': ''}\n"
     ]
    }
   ],
   "source": [
    "get_order_result = trade.get_order(\n",
    "    instId='MANA-USDT',\n",
    "    ordId='671464636889600003',\n",
    ")\n",
    "eprint(get_order_result)"
   ]
  },
  {
   "cell_type": "markdown",
   "id": "4edde685",
   "metadata": {},
   "source": [
    "## 5. 查看当前挂单 get_orders_pending"
   ]
  },
  {
   "cell_type": "code",
   "execution_count": 5,
   "id": "b1f4e107",
   "metadata": {},
   "outputs": [
    {
     "name": "stdout",
     "output_type": "stream",
     "text": [
      "{'code': '0',\n",
      " 'data': [{'accFillSz': '0',\n",
      "           'algoClOrdId': '',\n",
      "           'algoId': '',\n",
      "           'attachAlgoClOrdId': '',\n",
      "           'attachAlgoOrds': [],\n",
      "           'avgPx': '',\n",
      "           'cTime': '1706361845111',\n",
      "           'cancelSource': '',\n",
      "           'cancelSourceReason': '',\n",
      "           'category': 'normal',\n",
      "           'ccy': '',\n",
      "           'clOrdId': '',\n",
      "           'fee': '0',\n",
      "           'feeCcy': 'USDT',\n",
      "           'fillPx': '',\n",
      "           'fillSz': '0',\n",
      "           'fillTime': '',\n",
      "           'instId': 'MANA-USDT',\n",
      "           'instType': 'SPOT',\n",
      "           'lever': '',\n",
      "           '...': '......'},\n",
      "          {'accFillSz': '0',\n",
      "           'algoClOrdId': '',\n",
      "           'algoId': '',\n",
      "           'attachAlgoClOrdId': '',\n",
      "           'attachAlgoOrds': [],\n",
      "           'avgPx': '',\n",
      "           'cTime': '1706361825663',\n",
      "           'cancelSource': '',\n",
      "           'cancelSourceReason': '',\n",
      "           'category': 'normal',\n",
      "           'ccy': '',\n",
      "           'clOrdId': '',\n",
      "           'fee': '0',\n",
      "           'feeCcy': 'USDT',\n",
      "           'fillPx': '',\n",
      "           'fillSz': '0',\n",
      "           'fillTime': '',\n",
      "           'instId': 'BTC-USDT',\n",
      "           'instType': 'SPOT',\n",
      "           'lever': '',\n",
      "           '...': '......'},\n",
      "          {'accFillSz': '0',\n",
      "           'algoClOrdId': '',\n",
      "           'algoId': '',\n",
      "           'attachAlgoClOrdId': '',\n",
      "           'attachAlgoOrds': [],\n",
      "           'avgPx': '',\n",
      "           'cTime': '1706361808934',\n",
      "           'cancelSource': '',\n",
      "           'cancelSourceReason': '',\n",
      "           'category': 'normal',\n",
      "           'ccy': '',\n",
      "           'clOrdId': '',\n",
      "           'fee': '0',\n",
      "           'feeCcy': 'BTC',\n",
      "           'fillPx': '',\n",
      "           'fillSz': '0',\n",
      "           'fillTime': '',\n",
      "           'instId': 'BTC-USDT',\n",
      "           'instType': 'SPOT',\n",
      "           'lever': '',\n",
      "           '...': '......'},\n",
      "          {'accFillSz': '0',\n",
      "           'algoClOrdId': '',\n",
      "           'algoId': '',\n",
      "           'attachAlgoClOrdId': '',\n",
      "           'attachAlgoOrds': [],\n",
      "           'avgPx': '',\n",
      "           'cTime': '1706361644644',\n",
      "           'cancelSource': '',\n",
      "           'cancelSourceReason': '',\n",
      "           'category': 'normal',\n",
      "           'ccy': '',\n",
      "           'clOrdId': '',\n",
      "           'fee': '0',\n",
      "           'feeCcy': 'MANA',\n",
      "           'fillPx': '',\n",
      "           'fillSz': '0',\n",
      "           'fillTime': '',\n",
      "           'instId': 'MANA-USDT',\n",
      "           'instType': 'SPOT',\n",
      "           'lever': '',\n",
      "           '...': '......'}],\n",
      " 'msg': ''}\n"
     ]
    }
   ],
   "source": [
    "get_orders_pending = trade.get_orders_pending()\n",
    "eprint(get_orders_pending, length=20)"
   ]
  },
  {
   "cell_type": "markdown",
   "id": "db7dc2bc",
   "metadata": {},
   "source": [
    "## 6. 查看当前购买挂单 get_orders_pending_open"
   ]
  },
  {
   "cell_type": "code",
   "execution_count": 6,
   "id": "f0602091",
   "metadata": {},
   "outputs": [
    {
     "name": "stdout",
     "output_type": "stream",
     "text": [
      "{'code': '0',\n",
      " 'data': [{'accFillSz': '0',\n",
      "           'algoClOrdId': '',\n",
      "           'algoId': '',\n",
      "           'attachAlgoClOrdId': '',\n",
      "           'attachAlgoOrds': [],\n",
      "           'avgPx': '',\n",
      "           'cTime': '1706361808934',\n",
      "           'cancelSource': '',\n",
      "           'cancelSourceReason': '',\n",
      "           'category': 'normal',\n",
      "           'ccy': '',\n",
      "           'clOrdId': '',\n",
      "           'fee': '0',\n",
      "           'feeCcy': 'BTC',\n",
      "           'fillPx': '',\n",
      "           'fillSz': '0',\n",
      "           'fillTime': '',\n",
      "           'instId': 'BTC-USDT',\n",
      "           'instType': 'SPOT',\n",
      "           'lever': '',\n",
      "           '...': '......'},\n",
      "          {'accFillSz': '0',\n",
      "           'algoClOrdId': '',\n",
      "           'algoId': '',\n",
      "           'attachAlgoClOrdId': '',\n",
      "           'attachAlgoOrds': [],\n",
      "           'avgPx': '',\n",
      "           'cTime': '1706361644644',\n",
      "           'cancelSource': '',\n",
      "           'cancelSourceReason': '',\n",
      "           'category': 'normal',\n",
      "           'ccy': '',\n",
      "           'clOrdId': '',\n",
      "           'fee': '0',\n",
      "           'feeCcy': 'MANA',\n",
      "           'fillPx': '',\n",
      "           'fillSz': '0',\n",
      "           'fillTime': '',\n",
      "           'instId': 'MANA-USDT',\n",
      "           'instType': 'SPOT',\n",
      "           'lever': '',\n",
      "           '...': '......'}],\n",
      " 'msg': ''}\n"
     ]
    }
   ],
   "source": [
    "get_orders_pending_open = trade.get_orders_pending_open()\n",
    "eprint(get_orders_pending_open, length=20)"
   ]
  },
  {
   "cell_type": "markdown",
   "id": "3a843abf",
   "metadata": {},
   "source": [
    "## 7. 查看当前卖出挂单 get_orders_pending_close"
   ]
  },
  {
   "cell_type": "code",
   "execution_count": 7,
   "id": "ac4ad323",
   "metadata": {},
   "outputs": [
    {
     "name": "stdout",
     "output_type": "stream",
     "text": [
      "{'code': '0',\n",
      " 'data': [{'accFillSz': '0',\n",
      "           'algoClOrdId': '',\n",
      "           'algoId': '',\n",
      "           'attachAlgoClOrdId': '',\n",
      "           'attachAlgoOrds': [],\n",
      "           'avgPx': '',\n",
      "           'cTime': '1706361845111',\n",
      "           'cancelSource': '',\n",
      "           'cancelSourceReason': '',\n",
      "           'category': 'normal',\n",
      "           'ccy': '',\n",
      "           'clOrdId': '',\n",
      "           'fee': '0',\n",
      "           'feeCcy': 'USDT',\n",
      "           'fillPx': '',\n",
      "           'fillSz': '0',\n",
      "           'fillTime': '',\n",
      "           'instId': 'MANA-USDT',\n",
      "           'instType': 'SPOT',\n",
      "           'lever': '',\n",
      "           '...': '......'},\n",
      "          {'accFillSz': '0',\n",
      "           'algoClOrdId': '',\n",
      "           'algoId': '',\n",
      "           'attachAlgoClOrdId': '',\n",
      "           'attachAlgoOrds': [],\n",
      "           'avgPx': '',\n",
      "           'cTime': '1706361825663',\n",
      "           'cancelSource': '',\n",
      "           'cancelSourceReason': '',\n",
      "           'category': 'normal',\n",
      "           'ccy': '',\n",
      "           'clOrdId': '',\n",
      "           'fee': '0',\n",
      "           'feeCcy': 'USDT',\n",
      "           'fillPx': '',\n",
      "           'fillSz': '0',\n",
      "           'fillTime': '',\n",
      "           'instId': 'BTC-USDT',\n",
      "           'instType': 'SPOT',\n",
      "           'lever': '',\n",
      "           '...': '......'}],\n",
      " 'msg': ''}\n"
     ]
    }
   ],
   "source": [
    "get_orders_pending_close = trade.get_orders_pending_close()\n",
    "eprint(get_orders_pending_close, length=20)"
   ]
  },
  {
   "cell_type": "markdown",
   "id": "96782505",
   "metadata": {},
   "source": [
    "## 8. 等待订单成交 wait_order_FILLED"
   ]
  },
  {
   "cell_type": "code",
   "execution_count": 8,
   "id": "054ba9b0",
   "metadata": {},
   "outputs": [
    {
     "name": "stdout",
     "output_type": "stream",
     "text": [
      "{'code': '0',\n",
      " 'data': {'accFillSz': '0',\n",
      "          'algoClOrdId': '',\n",
      "          'algoId': '',\n",
      "          'attachAlgoClOrdId': '',\n",
      "          'attachAlgoOrds': [],\n",
      "          'avgPx': '',\n",
      "          'cTime': '1706361644644',\n",
      "          'cancelSource': '',\n",
      "          'cancelSourceReason': '',\n",
      "          'category': 'normal',\n",
      "          'ccy': '',\n",
      "          'clOrdId': '',\n",
      "          'fee': '0',\n",
      "          'feeCcy': 'MANA',\n",
      "          'fillPx': '',\n",
      "          'fillSz': '0',\n",
      "          'fillTime': '',\n",
      "          'instId': 'MANA-USDT',\n",
      "          'instType': 'SPOT',\n",
      "          'lever': '',\n",
      "          'ordId': '671464636889600003',\n",
      "          'ordType': 'limit',\n",
      "          'pnl': '0',\n",
      "          'posSide': 'net',\n",
      "          'px': '0.3',\n",
      "          'pxType': '',\n",
      "          'pxUsd': '',\n",
      "          'pxVol': '',\n",
      "          'quickMgnType': '',\n",
      "          'rebate': '0',\n",
      "          'rebateCcy': 'USDT',\n",
      "          '...': '......'},\n",
      " 'msg': ''}\n"
     ]
    }
   ],
   "source": [
    "wait_order_FILLED = trade.wait_order_FILLED(\n",
    "    instId='MANA-USDT',\n",
    "    ordId='671464636889600003',\n",
    "    timeout=5,\n",
    ")\n",
    "\n",
    "eprint(wait_order_FILLED)"
   ]
  },
  {
   "cell_type": "markdown",
   "id": "fab01d2a",
   "metadata": {},
   "source": [
    "## 9. 撤销订单（API原始接口） cancel_order"
   ]
  },
  {
   "cell_type": "code",
   "execution_count": 9,
   "id": "eaf680e0",
   "metadata": {},
   "outputs": [
    {
     "name": "stdout",
     "output_type": "stream",
     "text": [
      "{'code': '0',\n",
      " 'data': {'clOrdId': '', 'ordId': '671464636889600003', 'sCode': '0', 'sMsg': ''},\n",
      " 'inTime': '1706362029301637',\n",
      " 'msg': '',\n",
      " 'outTime': '1706362029302843'}\n"
     ]
    }
   ],
   "source": [
    "cancel_order = trade.cancel_order(\n",
    "    instId='MANA-USDT', ordId='671464636889600003'\n",
    ")\n",
    "eprint(cancel_order)"
   ]
  }
 ],
 "metadata": {
  "kernelspec": {
   "display_name": "Python 3 (ipykernel)",
   "language": "python",
   "name": "python3"
  },
  "language_info": {
   "codemirror_mode": {
    "name": "ipython",
    "version": 3
   },
   "file_extension": ".py",
   "mimetype": "text/x-python",
   "name": "python",
   "nbconvert_exporter": "python",
   "pygments_lexer": "ipython3",
   "version": "3.8.4"
  }
 },
 "nbformat": 4,
 "nbformat_minor": 5
}