{
 "cells": [
  {
   "cell_type": "markdown",
   "id": "be0dd1c0",
   "metadata": {},
   "source": [
    "## 1. APP 现货行情-交易规则信息函数总览"
   ]
  },
  {
   "cell_type": "markdown",
   "id": "01350ee8",
   "metadata": {},
   "source": [
    "|方法|解释|\n",
    "|:---|:---|\n",
    "|get_exchangeInfo|以缓存的方式获取一个产品的交易规则与交易对|\n",
    "|get_exchangeInfos|以缓存的方式获取全部产品的交易规则与交易对|\n",
    "|get_instIds_trading_on|获取可以交易的产品列表|\n",
    "|get_instIds_trading_off|获取不可交易的产品列表|\n",
    "|get_instIds_all|获取全部的产品列表|"
   ]
  },
  {
   "cell_type": "markdown",
   "id": "871bcabe",
   "metadata": {},
   "source": [
    "## 2. 模型实例化"
   ]
  },
  {
   "cell_type": "code",
   "execution_count": 1,
   "id": "0f0e58ea",
   "metadata": {},
   "outputs": [],
   "source": [
    "from okx.app import OkxSPOT\n",
    "from okx.app.utils import eprint"
   ]
  },
  {
   "cell_type": "code",
   "execution_count": 2,
   "id": "cb25b876",
   "metadata": {},
   "outputs": [],
   "source": [
    "# 现货行情不需要秘钥\n",
    "key = \"\"\n",
    "secret = \"\"\n",
    "passphrase = \"\"\n",
    "# 使用http和https代理，proxies={'http':'xxxxx','https:':'xxxxx'}，与requests中的proxies参数规则相同\n",
    "proxies = {}\n",
    "# 转发：需搭建转发服务器，可参考：https://github.com/pyted/okx_resender\n",
    "proxy_host = None\n",
    "\n",
    "# okxSPOT.market 等同于 marketSPOT\n",
    "okxSPOT = OkxSPOT(\n",
    "    key=key, secret=secret, passphrase=passphrase, proxies=proxies, proxy_host=proxy_host,\n",
    ")\n",
    "market = okxSPOT.market"
   ]
  },
  {
   "cell_type": "markdown",
   "id": "bd180b67",
   "metadata": {},
   "source": [
    "## 3. 以缓存的方式获取一个产品的交易规则与交易对 get_exchangeInfo"
   ]
  },
  {
   "cell_type": "code",
   "execution_count": 3,
   "id": "825effcf",
   "metadata": {},
   "outputs": [
    {
     "name": "stdout",
     "output_type": "stream",
     "text": [
      "{'code': '0',\n",
      " 'data': {'alias': '',\n",
      "          'baseCcy': 'BTC',\n",
      "          'category': '1',\n",
      "          'ctMult': '',\n",
      "          'ctType': '',\n",
      "          'ctVal': '',\n",
      "          'ctValCcy': '',\n",
      "          'expTime': '',\n",
      "          'instFamily': '',\n",
      "          'instId': 'BTC-USDT',\n",
      "          'instType': 'SPOT',\n",
      "          'lever': '10',\n",
      "          'listTime': '1548133413000',\n",
      "          'lotSz': '0.00000001',\n",
      "          'maxIcebergSz': '9999999999.0000000000000000',\n",
      "          'maxLmtAmt': '20000000',\n",
      "          'maxLmtSz': '9999999999',\n",
      "          'maxMktAmt': '1000000',\n",
      "          'maxMktSz': '1000000',\n",
      "          'maxStopSz': '1000000',\n",
      "          'maxTriggerSz': '9999999999.0000000000000000',\n",
      "          'maxTwapSz': '9999999999.0000000000000000',\n",
      "          'minSz': '0.00001',\n",
      "          'optType': '',\n",
      "          'quoteCcy': 'USDT',\n",
      "          'settleCcy': '',\n",
      "          'state': 'live',\n",
      "          'stk': '',\n",
      "          'tickSz': '0.1',\n",
      "          'uly': ''},\n",
      " 'msg': ''}\n"
     ]
    }
   ],
   "source": [
    "exchangeInfos_result = market.get_exchangeInfo(instId='BTC-USDT')\n",
    "eprint(exchangeInfos_result)"
   ]
  },
  {
   "cell_type": "markdown",
   "id": "ac73e665",
   "metadata": {},
   "source": [
    "## 4. 以缓存的方式获取全部产品的交易规则与交易对 get_exchangeInfos"
   ]
  },
  {
   "cell_type": "code",
   "execution_count": 4,
   "id": "c26fa1de",
   "metadata": {},
   "outputs": [
    {
     "name": "stdout",
     "output_type": "stream",
     "text": [
      "{'code': '0',\n",
      " 'data': [{'alias': '',\n",
      "           'baseCcy': 'BTC',\n",
      "           'category': '1',\n",
      "           'ctMult': '',\n",
      "           'ctType': '',\n",
      "           'ctVal': '',\n",
      "           'ctValCcy': '',\n",
      "           'expTime': '',\n",
      "           'instFamily': '',\n",
      "           'instId': 'BTC-EUR',\n",
      "           '...': '......'},\n",
      "          {'alias': '',\n",
      "           'baseCcy': 'ETH',\n",
      "           'category': '1',\n",
      "           'ctMult': '',\n",
      "           'ctType': '',\n",
      "           'ctVal': '',\n",
      "           'ctValCcy': '',\n",
      "           'expTime': '',\n",
      "           'instFamily': '',\n",
      "           'instId': 'ETH-EUR',\n",
      "           '...': '......'},\n",
      "          {'alias': '',\n",
      "           'baseCcy': 'SOL',\n",
      "           'category': '1',\n",
      "           'ctMult': '',\n",
      "           'ctType': '',\n",
      "           'ctVal': '',\n",
      "           'ctValCcy': '',\n",
      "           'expTime': '',\n",
      "           'instFamily': '',\n",
      "           'instId': 'SOL-EUR',\n",
      "           '...': '......'},\n",
      "          {'alias': '',\n",
      "           'baseCcy': 'DOGE',\n",
      "           'category': '1',\n",
      "           'ctMult': '',\n",
      "           'ctType': '',\n",
      "           'ctVal': '',\n",
      "           'ctValCcy': '',\n",
      "           'expTime': '',\n",
      "           'instFamily': '',\n",
      "           'instId': 'DOGE-EUR',\n",
      "           '...': '......'},\n",
      "          {'alias': '',\n",
      "           'baseCcy': '1INCH',\n",
      "           'category': '1',\n",
      "           'ctMult': '',\n",
      "           'ctType': '',\n",
      "           'ctVal': '',\n",
      "           'ctValCcy': '',\n",
      "           'expTime': '',\n",
      "           'instFamily': '',\n",
      "           'instId': '1INCH-EUR',\n",
      "           '...': '......'},\n",
      "          '......'],\n",
      " 'msg': ''}\n"
     ]
    }
   ],
   "source": [
    "exchangeInfos_result = market.get_exchangeInfos()\n",
    "eprint(exchangeInfos_result, data_length=5, length=10)"
   ]
  },
  {
   "cell_type": "markdown",
   "id": "db90b371",
   "metadata": {},
   "source": [
    "## 5. 获取可以交易的产品列表 get_instIds_trading_on"
   ]
  },
  {
   "cell_type": "code",
   "execution_count": 5,
   "id": "d549244a",
   "metadata": {},
   "outputs": [
    {
     "name": "stdout",
     "output_type": "stream",
     "text": [
      "{'code': '0',\n",
      " 'data': ['BTC-EUR',\n",
      "          'ETH-EUR',\n",
      "          'SOL-EUR',\n",
      "          'DOGE-EUR',\n",
      "          '1INCH-EUR',\n",
      "          'ADA-EUR',\n",
      "          'AVAX-EUR',\n",
      "          'COMP-EUR',\n",
      "          'CRV-EUR',\n",
      "          'DOT-EUR',\n",
      "          'DYDX-EUR',\n",
      "          'EOS-EUR',\n",
      "          'LINK-EUR',\n",
      "          'LTC-EUR',\n",
      "          'SHIB-EUR',\n",
      "          'SUSHI-EUR',\n",
      "          'TRX-EUR',\n",
      "          'UNI-EUR',\n",
      "          'USDT-EUR',\n",
      "          'USDC-EUR',\n",
      "          'BTC-TRY',\n",
      "          'ETH-TRY',\n",
      "          'USDT-TRY',\n",
      "          'BTC-USDT',\n",
      "          'ETH-USDT',\n",
      "          'OKB-USDT',\n",
      "          'MATIC-USDT',\n",
      "          'XRP-USDT',\n",
      "          'SOL-USDT',\n",
      "          'DOGE-USDT',\n",
      "          '......'],\n",
      " 'msg': ''}\n"
     ]
    }
   ],
   "source": [
    "instIds_trading_on_result = market.get_instIds_trading_on()\n",
    "eprint(instIds_trading_on_result)"
   ]
  },
  {
   "cell_type": "markdown",
   "id": "1989d733",
   "metadata": {},
   "source": [
    "## 5. 获取不可交易的产品列表 get_instIds_trading_off"
   ]
  },
  {
   "cell_type": "code",
   "execution_count": 6,
   "id": "ec4940bf",
   "metadata": {},
   "outputs": [
    {
     "name": "stdout",
     "output_type": "stream",
     "text": [
      "{'code': '0', 'data': [], 'msg': ''}\n"
     ]
    }
   ],
   "source": [
    "instIds_trading_off_result = okxSPOT.market.get_instIds_trading_off()\n",
    "eprint(instIds_trading_off_result)"
   ]
  },
  {
   "cell_type": "markdown",
   "id": "db1d9b6f",
   "metadata": {},
   "source": [
    "## 6. 获取全部的产品列表 get_instIds_all"
   ]
  },
  {
   "cell_type": "code",
   "execution_count": 7,
   "id": "e2546b4d",
   "metadata": {},
   "outputs": [
    {
     "name": "stdout",
     "output_type": "stream",
     "text": [
      "{'code': '0',\n",
      " 'data': ['BTC-EUR',\n",
      "          'ETH-EUR',\n",
      "          'SOL-EUR',\n",
      "          'DOGE-EUR',\n",
      "          '1INCH-EUR',\n",
      "          'ADA-EUR',\n",
      "          'AVAX-EUR',\n",
      "          'COMP-EUR',\n",
      "          'CRV-EUR',\n",
      "          'DOT-EUR',\n",
      "          'DYDX-EUR',\n",
      "          'EOS-EUR',\n",
      "          'LINK-EUR',\n",
      "          'LTC-EUR',\n",
      "          'SHIB-EUR',\n",
      "          'SUSHI-EUR',\n",
      "          'TRX-EUR',\n",
      "          'UNI-EUR',\n",
      "          'USDT-EUR',\n",
      "          'USDC-EUR',\n",
      "          'BTC-TRY',\n",
      "          'ETH-TRY',\n",
      "          'USDT-TRY',\n",
      "          'BTC-USDT',\n",
      "          'ETH-USDT',\n",
      "          'OKB-USDT',\n",
      "          'MATIC-USDT',\n",
      "          'XRP-USDT',\n",
      "          'SOL-USDT',\n",
      "          'DOGE-USDT',\n",
      "          '......'],\n",
      " 'msg': ''}\n"
     ]
    }
   ],
   "source": [
    "get_instIds_all_result = market.get_instIds_all()\n",
    "eprint(get_instIds_all_result)"
   ]
  }
 ],
 "metadata": {
  "kernelspec": {
   "display_name": "Python 3 (ipykernel)",
   "language": "python",
   "name": "python3"
  },
  "language_info": {
   "codemirror_mode": {
    "name": "ipython",
    "version": 3
   },
   "file_extension": ".py",
   "mimetype": "text/x-python",
   "name": "python",
   "nbconvert_exporter": "python",
   "pygments_lexer": "ipython3",
   "version": "3.8.4"
  }
 },
 "nbformat": 4,
 "nbformat_minor": 5
}