{
 "cells": [
  {
   "cell_type": "markdown",
   "id": "eaa61335",
   "metadata": {},
   "source": [
    "## 1. OKX（库）安装与介绍\n",
    "\n",
    "\n",
    "pip3 install okx --upgrade"
   ]
  },
  {
   "cell_type": "markdown",
   "id": "752e8673",
   "metadata": {},
   "source": [
    "## 2. OKX（库）介绍 \n",
    "\n",
    "OKX包含对Rest API接口的完全封装与APP高级封装，并长期更新维护，保证框架的有效性。\n",
    "\n",
    "**框架结构**\n",
    "\n",
    "OKX:\n",
    "\n",
    "- API 官方原始接口封装\n",
    "    - account 交易账户\n",
    "    - trade 交易\n",
    "    - algotrade 策略交易\n",
    "    - gridtrade 网格交易\n",
    "    - signalbottrade 信号交易\n",
    "    - recurringbuy 定投\n",
    "    - copytrade 跟单\n",
    "    - market 行情数据\n",
    "    - blocktrade 大宗交易\n",
    "    - spreadtrade 价差交易\n",
    "    - public 公共数据\n",
    "    - tradingstatistics 交易大数据\n",
    "    - fundingaccount 资金账户\n",
    "    - subaccount 子账户\n",
    "    - earn 赚币\n",
    "    - savings 余币宝\n",
    "    - status 状态\n",
    "- APP 常用接口与便捷功能封装\n",
    "    - account（账户APP）\n",
    "        - AccountSPOT\n",
    "        - AccountSWAP\n",
    "    - market（行情APP）\n",
    "        - MarketSPOT\n",
    "        - MarketSWAP\n",
    "    - trade（便捷交易APP，支持异步下单，挂单超时取消等）\n",
    "        - TradeSPOT\n",
    "        - TradeSWAP\n",
    "    - candle_server（K线服务，支持实时多产品K线异步维护）\n",
    "        - CandleServer\n",
    "        - CandleRule"
   ]
  },
  {
   "cell_type": "code",
   "execution_count": null,
   "id": "077b5a47",
   "metadata": {},
   "outputs": [],
   "source": []
  }
 ],
 "metadata": {
  "kernelspec": {
   "display_name": "Python 3 (ipykernel)",
   "language": "python",
   "name": "python3"
  },
  "language_info": {
   "codemirror_mode": {
    "name": "ipython",
    "version": 3
   },
   "file_extension": ".py",
   "mimetype": "text/x-python",
   "name": "python",
   "nbconvert_exporter": "python",
   "pygments_lexer": "ipython3",
   "version": "3.8.4"
  }
 },
 "nbformat": 4,
 "nbformat_minor": 5
}
