{
 "cells": [
  {
   "cell_type": "markdown",
   "id": "d5c3764e",
   "metadata": {},
   "source": [
    "## 1. API 公共数据接口总览"
   ]
  },
  {
   "cell_type": "markdown",
   "id": "781224ee",
   "metadata": {},
   "source": [
    "|方法|解释|Path|\n",
    "|:---|:---|:---|\n",
    "|get_instruments|获取交易产品基础信息|/api/v5/public/instruments|\n",
    "|get_delivery_exercise_history|获取交割和行权记录|/api/v5/public/delivery-exercise-history|\n",
    "|get_open_interest|获取持仓总量|/api/v5/public/open-interest|\n",
    "|get_funding_rate|获取永续合约当前资金费率|/api/v5/public/funding-rate|\n",
    "|get_funding_rate_history|获取永续合约历史资金费率|/api/v5/public/funding-rate-history|\n",
    "|get_price_limit|获取限价|/api/v5/public/price-limit|\n",
    "|get_opt_summary|获取期权定价|/api/v5/public/opt-summary|\n",
    "|get_estimated_price|获取预估交割/行权价格|/api/v5/public/estimated-price|\n",
    "|get_discount_rate_interest_free_quota|获取免息额度和币种折算率等级|/api/v5/public/discount-rate-interest-free-quota|\n",
    "|get_time|获取系统时间|/api/v5/public/time|\n",
    "|get_mark_price|获取标记价格|/api/v5/public/mark-price|\n",
    "|get_position_tiers|获取衍生品仓位档位|/api/v5/public/position-tiers|\n",
    "|get_interest_rate_loan_quota|获取市场借币杠杆利率和借币限额|/api/v5/public/interest-rate-loan-quota|\n",
    "|get_vip_interest_rate_loan_quota|获取尊享借币杠杆利率和借币限额|/api/v5/public/vip-interest-rate-loan-quota|\n",
    "|get_underlying|获取衍生品标的指数|/api/v5/public/underlying|\n",
    "|get_insurance_fund|获取风险准备金余额|/api/v5/public/insurance-fund|\n",
    "|get_convert_contract_coin|张币转换|/api/v5/public/convert-contract-coin|\n",
    "|get_instrument_tick_bands|获取期权价格梯度|/api/v5/public/instrument-tick-bands|\n",
    "|get_index_tickers|获取指数行情|/api/v5/market/index-tickers|\n",
    "|get_index_candles|获取指数K线数据|/api/v5/market/index-candles|\n",
    "|get_history_index_candles|获取指数历史K线数据|/api/v5/market/history-index-candles|\n",
    "|get_mark_price_candles|获取标记价格K线数据|/api/v5/market/mark-price-candles|\n",
    "|get_history_mark_price_candles|获取标记价格历史K线数据|/api/v5/market/history-mark-price-candles|\n",
    "|get_open_oracle|Oracle 上链交易数据|/api/v5/market/open-oracle|\n",
    "|get_exchange_rate|获取法币汇率|/api/v5/market/exchange-rate|\n",
    "|get_index_components|获取指数成分数据|/api/v5/market/index-components|"
   ]
  },
  {
   "cell_type": "markdown",
   "id": "e5e19d6c",
   "metadata": {},
   "source": [
    "## 2. 模型实例化"
   ]
  },
  {
   "cell_type": "code",
   "execution_count": 1,
   "id": "3e80f7ef",
   "metadata": {},
   "outputs": [],
   "source": [
    "from okx.api import Public\n",
    "from okx.app.utils import eprint"
   ]
  },
  {
   "cell_type": "code",
   "execution_count": 2,
   "id": "0093b676",
   "metadata": {},
   "outputs": [],
   "source": [
    "# 公共数据不需要秘钥\n",
    "key = \"\"\n",
    "secret = \"\"\n",
    "passphrase = \"\"\n",
    "# 实盘：0，虚拟盘：1\n",
    "flag = '0'\n",
    "# 使用http和https代理，proxies={'http':'xxxxx','https:':'xxxxx'}，与requests中的proxies参数规则相同\n",
    "proxies = {}\n",
    "# 转发：需搭建转发服务器，可参考：https://github.com/pyted/okx_resender\n",
    "proxy_host = None\n",
    "\n",
    "public = Public(\n",
    "    key=key, secret=secret, passphrase=passphrase, flag=flag, proxies=proxies, proxy_host=proxy_host,\n",
    ")"
   ]
  },
  {
   "cell_type": "markdown",
   "id": "35c09237",
   "metadata": {},
   "source": [
    "## 3. 获取交易产品基础信息 get_instruments\n",
    "\n",
    "这个接口可以用于价格与数量圆整，币张转换"
   ]
  },
  {
   "cell_type": "code",
   "execution_count": 3,
   "id": "335fb39f",
   "metadata": {},
   "outputs": [
    {
     "name": "stdout",
     "output_type": "stream",
     "text": [
      "{'code': '0',\n",
      " 'data': [{'alias': '',\n",
      "           'baseCcy': '',\n",
      "           'category': '1',\n",
      "           'ctMult': '1',\n",
      "           'ctType': 'inverse',\n",
      "           'ctVal': '100',\n",
      "           'ctValCcy': 'USD',\n",
      "           'expTime': '',\n",
      "           'instFamily': 'BTC-USD',\n",
      "           'instId': 'BTC-USD-SWAP',\n",
      "           '...': '......'},\n",
      "          {'alias': '',\n",
      "           'baseCcy': '',\n",
      "           'category': '1',\n",
      "           'ctMult': '1',\n",
      "           'ctType': 'inverse',\n",
      "           'ctVal': '10',\n",
      "           'ctValCcy': 'USD',\n",
      "           'expTime': '',\n",
      "           'instFamily': 'ETH-USD',\n",
      "           'instId': 'ETH-USD-SWAP',\n",
      "           '...': '......'},\n",
      "          {'alias': '',\n",
      "           'baseCcy': '',\n",
      "           'category': '1',\n",
      "           'ctMult': '1',\n",
      "           'ctType': 'inverse',\n",
      "           'ctVal': '10',\n",
      "           'ctValCcy': 'USD',\n",
      "           'expTime': '',\n",
      "           'instFamily': 'XRP-USD',\n",
      "           'instId': 'XRP-USD-SWAP',\n",
      "           '...': '......'},\n",
      "          '......'],\n",
      " 'msg': ''}\n"
     ]
    }
   ],
   "source": [
    "instruments_result = public.get_instruments(instType='SWAP')\n",
    "eprint(instruments_result, data_length=3, length=10)"
   ]
  },
  {
   "cell_type": "markdown",
   "id": "3f9317ac",
   "metadata": {},
   "source": [
    "## 4. 获取永续合约当前资金费率 get_funding_rate"
   ]
  },
  {
   "cell_type": "code",
   "execution_count": 4,
   "id": "c8469c73",
   "metadata": {},
   "outputs": [
    {
     "name": "stdout",
     "output_type": "stream",
     "text": [
      "{'code': '0',\n",
      " 'data': [{'fundingRate': '0.0001344933624840',\n",
      "           'fundingTime': '1706371200000',\n",
      "           'instId': 'BTC-USDT-SWAP',\n",
      "           'instType': 'SWAP',\n",
      "           'maxFundingRate': '0.00375',\n",
      "           '...': '......'}],\n",
      " 'msg': ''}\n"
     ]
    }
   ],
   "source": [
    "funding_rate_result = public.get_funding_rate(instId='BTC-USDT-SWAP')\n",
    "eprint(funding_rate_result)"
   ]
  }
 ],
 "metadata": {
  "kernelspec": {
   "display_name": "Python 3 (ipykernel)",
   "language": "python",
   "name": "python3"
  },
  "language_info": {
   "codemirror_mode": {
    "name": "ipython",
    "version": 3
   },
   "file_extension": ".py",
   "mimetype": "text/x-python",
   "name": "python",
   "nbconvert_exporter": "python",
   "pygments_lexer": "ipython3",
   "version": "3.8.4"
  }
 },
 "nbformat": 4,
 "nbformat_minor": 5
}