{
 "cells": [
  {
   "cell_type": "markdown",
   "metadata": {},
   "source": [
    "# Validate Phanotate using the metagenomes in the SRA\n",
    "\n",
    "This Jupyter Notebook accompanies the GitHub repository for phanotate, and demonstrates how to parse the `counts_type.tsv` file and perform the statistical analysis.\n",
    "\n",
    "Note that this notebook does not demonstrate how to actually create the `counts_type.tsv` file, that is covered in the GitHub repository READMEs.\n",
    "\n",
    "For more information about this please contact Rob Edwards or Kate McNair.\n",
    "\n",
    "`Copyright 2018. Robert Edwards and Kate McNair. This is licensed under the same license as the GitHub repository in which it resides.`\n"
   ]
  },
  {
   "cell_type": "code",
   "execution_count": 1,
   "metadata": {},
   "outputs": [],
   "source": [
    "import os\n",
    "import sys\n",
    "\n",
    "from math import log,e,sqrt\n",
    "\n",
    "%matplotlib inline\n",
    "import pandas as pd\n",
    "import seaborn as sb\n",
    "import numpy as np\n",
    "import matplotlib.pyplot as plt\n",
    "from scipy import stats\n",
    "\n",
    "import statsmodels\n",
    "import statsmodels.api as sm\n",
    "from statsmodels.formula.api import ols\n",
    "from statsmodels.stats.multicomp import pairwise_tukeyhsd, tukeyhsd, MultiComparison"
   ]
  },
  {
   "cell_type": "code",
   "execution_count": 2,
   "metadata": {},
   "outputs": [],
   "source": [
    "# this is a neat trick for getting markdown in our output\n",
    "# see https://stackoverflow.com/questions/23271575/printing-bold-colored-etc-text-in-ipython-qtconsole\n",
    "# for the inspiration\n",
    "from IPython.display import Markdown, display\n",
    "def printmd(string, color=None):\n",
    "    colorstr = \"<span style='color:{}'>{}</span>\".format(color, string)\n",
    "    display(Markdown(colorstr))"
   ]
  },
  {
   "cell_type": "markdown",
   "metadata": {},
   "source": [
    "# Effect Size Calculations\n",
    "\n",
    "Our datasets are so large that even small effect sizes may have statistically significant differences. There is lots of discussion about this, for example see these posts and articles:\n",
    "\n",
    "* [Effect size, confidence interval and statistical significance: a practical guide for biologists](https://people.kth.se/~lang/Effect_size.pdf)\n",
    "* [It's the Effect Size, Stupid! What effect size is and why it is important](http://www.leeds.ac.uk/educol/documents/00002182.htm)\n",
    "* [Large scale statistical analysis discussion on stats stackexchange](https://stats.stackexchange.com/questions/7815/what-skills-are-required-to-perform-large-scale-statistical-analyses)\n",
    "* [Large data sets and hypothesis testing](https://stats.stackexchange.com/questions/2516/are-large-data-sets-inappropriate-for-hypothesis-testing)\n",
    "* [The Dangers of Large Data Sets: A Tale of P values, Error Rates, and Bonferroni Corrections](https://thelogicofscience.com/2015/04/07/basic-statistics-part-3-the-dangers-of-large-data-sets-a-tale-of-p-values-error-rates-and-bonferroni-corrections/)\n",
    "* [The Unofficial Google Data Blog](http://www.unofficialgoogledatascience.com/2016/10/practical-advice-for-analysis-of-large.html)\n",
    "\n",
    "Because of these concerns, we include two measures of effect size.\n",
    "\n",
    "## Cohen's f<sup>2</sup>\n",
    "\n",
    "This is a measure of the effect size from the ANOVA:\n",
    "\n",
    "f<sup>2</sup> = &#x003B7;<sup>2</sup>/(1 - &#x003B7;<sup>2</sup>)\n",
    "\n",
    "This measures the combined effect size, and does not provide a pairwise comparison of the data.\n",
    "\n",
    "According to Cohen (1988; pg. 413; Chapter 9) the effect sizes are: \n",
    "\n",
    " * small effect size: f<sup>2</sup> = 0.02\n",
    " * medium effect size: f<sup>2</sup> = 0.15\n",
    " * large effect size: f<sup>2</sup> = 0.35\n",
    "\n",
    "See chapter 9 of [Cohen J. E. (1988). Statistical Power Analysis for the Behavioral Sciences. Hillsdale, NJ: Lawrence Erlbaum Associates, Inc](http://www.utstat.toronto.edu/~brunner/oldclass/378f16/readings/CohenPower.pdf)"
   ]
  },
  {
   "cell_type": "code",
   "execution_count": 3,
   "metadata": {},
   "outputs": [],
   "source": [
    "def cohen_f(ssr,sse):\n",
    "    \"\"\"\n",
    "    Calculate Cohen's f-squared from the Sum of Squares of Regression (SSR)\n",
    "    and the Sum of Squares of Error (SSE).\n",
    "    \n",
    "    SSR is from the anova table as aov_table['sum_sq'][0]\n",
    "    SSE is from the anova table as aov_table['sum_sq'][1]\n",
    "    \"\"\"\n",
    "    \n",
    "    rsq = ssr / (ssr + sse) # R^2 = SSR/SST\n",
    "    return rsq / (1-rsq)"
   ]
  },
  {
   "cell_type": "markdown",
   "metadata": {},
   "source": [
    "# Cohen's d\n",
    "\n",
    "This is a pairwise measure of the effect size, and can be used to compare our different groups or samples thereof.\n",
    "\n",
    "According to Cohen (1988; pg. 26; Chapter 2) the effect sizes are:\n",
    "\n",
    " * small effect size: d = 0.2\n",
    " * medium effect size: d = 0.5\n",
    " * large effect size: d = 0.8\n",
    " \n",
    "For a detailed exposition, see chapter 2 of [Cohen J. E. (1988). Statistical Power Analysis for the Behavioral Sciences. Hillsdale, NJ: Lawrence Erlbaum Associates, Inc](http://www.utstat.toronto.edu/~brunner/oldclass/378f16/readings/CohenPower.pdf)"
   ]
  },
  {
   "cell_type": "code",
   "execution_count": 4,
   "metadata": {},
   "outputs": [],
   "source": [
    "def cohen_d(x,y):\n",
    "    nx = len(x)\n",
    "    ny = len(y)\n",
    "    dof = nx + ny - 2\n",
    "    return (np.mean(x) - np.mean(y)) / np.sqrt(((nx-1)*np.std(x, ddof=1) ** 2 + (ny-1)*np.std(y, ddof=1) ** 2) / dof)"
   ]
  },
  {
   "cell_type": "markdown",
   "metadata": {},
   "source": [
    "## Read the data.\n",
    "Read the tab separated file into a [pandas data frame](https://pandas.pydata.org/). Note that we set the column headers and the data types, too, as we're reading the data.\n",
    "\n",
    "In this case, we have a compressed file, and we read it without separately decompressing it.\n",
    "\n",
    "The head() command shows us the first few lines so we can grok the data."
   ]
  },
  {
   "cell_type": "code",
   "execution_count": 5,
   "metadata": {},
   "outputs": [
    {
     "data": {
      "text/html": [
       "<div>\n",
       "<style scoped>\n",
       "    .dataframe tbody tr th:only-of-type {\n",
       "        vertical-align: middle;\n",
       "    }\n",
       "\n",
       "    .dataframe tbody tr th {\n",
       "        vertical-align: top;\n",
       "    }\n",
       "\n",
       "    .dataframe thead th {\n",
       "        text-align: right;\n",
       "    }\n",
       "</style>\n",
       "<table border=\"1\" class=\"dataframe\">\n",
       "  <thead>\n",
       "    <tr style=\"text-align: right;\">\n",
       "      <th></th>\n",
       "      <th>source</th>\n",
       "      <th>peg</th>\n",
       "      <th>count</th>\n",
       "    </tr>\n",
       "  </thead>\n",
       "  <tbody>\n",
       "    <tr>\n",
       "      <th>0</th>\n",
       "      <td>ANY</td>\n",
       "      <td>NC_000867.77</td>\n",
       "      <td>32</td>\n",
       "    </tr>\n",
       "    <tr>\n",
       "      <th>1</th>\n",
       "      <td>ANY</td>\n",
       "      <td>NC_000867.850</td>\n",
       "      <td>8</td>\n",
       "    </tr>\n",
       "    <tr>\n",
       "      <th>2</th>\n",
       "      <td>ANY</td>\n",
       "      <td>NC_000867.1581</td>\n",
       "      <td>0</td>\n",
       "    </tr>\n",
       "    <tr>\n",
       "      <th>3</th>\n",
       "      <td>ANY</td>\n",
       "      <td>NC_000867.1820</td>\n",
       "      <td>0</td>\n",
       "    </tr>\n",
       "    <tr>\n",
       "      <th>4</th>\n",
       "      <td>ANY</td>\n",
       "      <td>NC_000867.3717</td>\n",
       "      <td>5285</td>\n",
       "    </tr>\n",
       "  </tbody>\n",
       "</table>\n",
       "</div>"
      ],
      "text/plain": [
       "  source             peg  count\n",
       "0    ANY    NC_000867.77     32\n",
       "1    ANY   NC_000867.850      8\n",
       "2    ANY  NC_000867.1581      0\n",
       "3    ANY  NC_000867.1820      0\n",
       "4    ANY  NC_000867.3717   5285"
      ]
     },
     "execution_count": 5,
     "metadata": {},
     "output_type": "execute_result"
    }
   ],
   "source": [
    "df = pd.read_csv('counts_type.tsv.gz', compression='gzip', sep='\\t', header=None, names=['source', 'peg', 'count'], dtype={'source' : str, 'peg' : str, 'count': int})\n",
    "df.head()"
   ]
  },
  {
   "cell_type": "markdown",
   "metadata": {},
   "source": [
    "## Normalize the data.\n",
    "\n",
    "Normalize the data using the natural log of the count."
   ]
  },
  {
   "cell_type": "code",
   "execution_count": 6,
   "metadata": {},
   "outputs": [],
   "source": [
    "df['logcount']=df.apply(lambda x: log(x['count'] + 1), axis=1)"
   ]
  },
  {
   "cell_type": "markdown",
   "metadata": {},
   "source": [
    "## Show counts\n",
    "\n",
    "These are the counts of all the data, so we can see how many entries we have."
   ]
  },
  {
   "cell_type": "code",
   "execution_count": 7,
   "metadata": {},
   "outputs": [
    {
     "name": "stdout",
     "output_type": "stream",
     "text": [
      "ANY: 223386\n",
      "NONE: 1122336\n",
      "PHAN: 15755\n"
     ]
    }
   ],
   "source": [
    "for t in [\"ANY\", \"NONE\", \"PHAN\"]:\n",
    "    print(\"{}: {}\".format(t, df[df['source'] == t]['source'].count()))"
   ]
  },
  {
   "cell_type": "markdown",
   "metadata": {},
   "source": [
    "## Plot the data.\n",
    "\n",
    "Make a violin plot of the data, scaled by width. Here we are plotting `source` against `log of the count`."
   ]
  },
  {
   "cell_type": "code",
   "execution_count": 8,
   "metadata": {},
   "outputs": [
    {
     "data": {
      "text/plain": [
       "<matplotlib.axes._subplots.AxesSubplot at 0x7f4e406f7a20>"
      ]
     },
     "execution_count": 8,
     "metadata": {},
     "output_type": "execute_result"
    },
    {
     "data": {
      "image/png": "[encoded data removed]",
      "text/plain": [
       "<Figure size 432x288 with 1 Axes>"
      ]
     },
     "metadata": {},
     "output_type": "display_data"
    }
   ],
   "source": [
    "sb.violinplot(x='source', y='logcount', data=df, orient='v', scale='width')"
   ]
  },
  {
   "cell_type": "markdown",
   "metadata": {},
   "source": [
    "## Remove the zero's\n",
    "\n",
    "This data has lots of zero's so we filter them out of the data frame. These are predicted proteins that are never seen in any of the metagenomes.\n",
    "\n",
    "We make a new frame (dataframe no zero's) with the data, and repeat the counts and plot from above."
   ]
  },
  {
   "cell_type": "code",
   "execution_count": 9,
   "metadata": {},
   "outputs": [],
   "source": [
    "dfnz=df[df['count'] > 0]"
   ]
  },
  {
   "cell_type": "markdown",
   "metadata": {},
   "source": [
    "Count the data, showing the original counts, and how many were removed."
   ]
  },
  {
   "cell_type": "code",
   "execution_count": 10,
   "metadata": {},
   "outputs": [
    {
     "name": "stdout",
     "output_type": "stream",
     "text": [
      "ANY:\ttotal: 223386\tnon-zero 149771\tzero entries removed: 73615 (32.95 %)\n",
      "NONE:\ttotal: 1122336\tnon-zero 245572\tzero entries removed: 876764 (78.12 %)\n",
      "PHAN:\ttotal: 15755\tnon-zero 5138\tzero entries removed: 10617 (67.39 %)\n"
     ]
    }
   ],
   "source": [
    "for t in [\"ANY\", \"NONE\", \"PHAN\"]:\n",
    "    z = df[df['source'] == t]['source'].count() - dfnz[dfnz['source'] == t]['source'].count()\n",
    "    zp = 100.0 * (z/df[df['source'] == t]['source'].count())\n",
    "    print(\"{}:\\ttotal: {}\\tnon-zero {}\".format(t, \n",
    "                df[df['source'] == t]['source'].count(),\n",
    "                dfnz[dfnz['source'] == t]['source'].count()), \n",
    "                end=\"\")\n",
    "    print(\"\\tzero entries removed: {0:d}\".format(z), end=\"\")\n",
    "    print(\" ({0:.2f} %)\".format(zp))"
   ]
  },
  {
   "cell_type": "markdown",
   "metadata": {},
   "source": [
    "### Violin plot of the data.\n",
    "\n",
    "Create a violin plot of the data to examine the distributions."
   ]
  },
  {
   "cell_type": "code",
   "execution_count": 11,
   "metadata": {},
   "outputs": [
    {
     "name": "stderr",
     "output_type": "stream",
     "text": [
      "/usr/local/lib/python3.6/dist-packages/matplotlib/figure.py:459: UserWarning: matplotlib is currently using a non-GUI backend, so cannot show the figure\n",
      "  \"matplotlib is currently using a non-GUI backend, \"\n"
     ]
    },
    {
     "data": {
      "image/png": "[encoded data removed]",
      "text/plain": [
       "<Figure size 576x432 with 1 Axes>"
      ]
     },
     "metadata": {},
     "output_type": "display_data"
    }
   ],
   "source": [
    "vp = sb.violinplot(x='source', y='logcount', data=dfnz, orient='v', scale='width')\n",
    "vp.set_ylabel(\"ln(number of reads that map)\")\n",
    "vp.set_xlabel(\"Protein prediction algorithm\")\n",
    "labels = [item.get_text() for item in vp.get_xticklabels()]\n",
    "labels[0] = \"Prodigal, Glimmer,\\nor GeneMarkS\"\n",
    "labels[1] = \"Negative control\"\n",
    "labels[2] = \"Phanotate only\"\n",
    "vp.set_xticklabels(labels)\n",
    "vpfig = vp.get_figure()\n",
    "vpfig.set_size_inches(8,6)\n",
    "# vpfig.savefig('violinplot.svg')\n",
    "vpfig.show()"
   ]
  },
  {
   "cell_type": "markdown",
   "metadata": {},
   "source": [
    "# Statistics\n",
    "\n",
    "Here we compare both the data including zeros, and then on the data without the zero's.\n",
    "\n",
    "## Including the zeros\n",
    "\n",
    "First, a one-way anova that tests whether the means of the samples are different or not"
   ]
  },
  {
   "cell_type": "code",
   "execution_count": 12,
   "metadata": {},
   "outputs": [
    {
     "name": "stdout",
     "output_type": "stream",
     "text": [
      "F: 184913.78\n",
      "p: 0.00\n"
     ]
    }
   ],
   "source": [
    "F, p = stats.f_oneway(df[df[\"source\"] == 'ANY']['logcount'], df[df[\"source\"] == \"NONE\"]['logcount'], df[df[\"source\"] == \"PHAN\"]['logcount'])\n",
    "print(\"F: {0:.2f}\".format(F))\n",
    "print(\"p: {0:.2f}\".format(p))"
   ]
  },
  {
   "cell_type": "code",
   "execution_count": 13,
   "metadata": {},
   "outputs": [
    {
     "name": "stdout",
     "output_type": "stream",
     "text": [
      "                sum_sq         df              F  PR(>F)\n",
      "source    1.086660e+06        2.0  184913.776038     0.0\n",
      "Residual  4.000402e+06  1361474.0            NaN     NaN\n",
      "\n"
     ]
    },
    {
     "data": {
      "text/markdown": [
       "<span style='color:None'>\n",
       "Report as: *F*(2, 1361474) = 184913.78, *p* = 0.0</span>"
      ],
      "text/plain": [
       "<IPython.core.display.Markdown object>"
      ]
     },
     "metadata": {},
     "output_type": "display_data"
    }
   ],
   "source": [
    "mod = ols('logcount ~ source', data=df).fit()\n",
    "aov_table = sm.stats.anova_lm(mod, typ=2)\n",
    "print(aov_table)\n",
    "print()\n",
    "printmd(\"\\nReport as: *F*({}, {}) = {}, *p* = {}\".format(\n",
    "    int(aov_table.df['source']), \n",
    "    int(aov_table.df['Residual']),\n",
    "    round(aov_table.F['source'], 2),\n",
    "    round(aov_table.get(\"PR(>F)\")['source'], 4)\n",
    "))"
   ]
  },
  {
   "cell_type": "markdown",
   "metadata": {},
   "source": [
    "The anova shows that the means are significantly different, but at the moment we don't know whether the means of all three samples are different, or just a couple of them. To that end, we'll run a Tukey's Honest Significant Difference test (HSD) on the data.\n",
    "\n",
    "In the Tukey's HSD the null hypothesis is that the means are the same. In this case, we reject them if the means are different with p<=0.05 "
   ]
  },
  {
   "cell_type": "code",
   "execution_count": 14,
   "metadata": {
    "scrolled": true
   },
   "outputs": [
    {
     "name": "stdout",
     "output_type": "stream",
     "text": [
      "Multiple Comparison of Means - Tukey HSD,FWER=0.05\n",
      "=============================================\n",
      "group1 group2 meandiff  lower   upper  reject\n",
      "---------------------------------------------\n",
      " ANY    NONE  -2.4147   -2.424 -2.4054  True \n",
      " ANY    PHAN  -1.8676  -1.9007 -1.8344  True \n",
      " NONE   PHAN   0.5472   0.5149  0.5794  True \n",
      "---------------------------------------------\n"
     ]
    }
   ],
   "source": [
    "rec = pairwise_tukeyhsd(df['logcount'], df['source'])\n",
    "print(rec)"
   ]
  },
  {
   "cell_type": "markdown",
   "metadata": {},
   "source": [
    "# Effect size\n",
    "\n",
    "Calculate Cohen's f<sup>2</sup> effect size measure on the data from the anova, and Cohen's d to measure the pairwise effect sizes. "
   ]
  },
  {
   "cell_type": "code",
   "execution_count": 15,
   "metadata": {},
   "outputs": [
    {
     "name": "stdout",
     "output_type": "stream",
     "text": [
      "Cohen's f-squared: 0.27\n",
      "\n",
      "Cohen's d for ANY : ANY = 0.0\n",
      "Cohen's d for ANY : PHAN = 0.65\n",
      "Cohen's d for ANY : NONE = 1.41\n",
      "Cohen's d for PHAN : PHAN = 0.0\n",
      "Cohen's d for PHAN : NONE = 0.4\n",
      "Cohen's d for NONE : NONE = 0.0\n"
     ]
    }
   ],
   "source": [
    "print(\"Cohen's f-squared: {}\\n\".format(round(cohen_f(aov_table.sum_sq['source'], aov_table.sum_sq['Residual']), 2)))\n",
    "ts = [\"ANY\", \"PHAN\", \"NONE\"]\n",
    "for i, t in enumerate(ts):\n",
    "    for j in range(i, len(ts)):\n",
    "        s = ts[j]\n",
    "        print(\"Cohen's d for {} : {} = {}\".format(t, s, round(cohen_d(df[df['source'] == t]['logcount'], df[df['source'] == s]['logcount']),2)))"
   ]
  },
  {
   "cell_type": "markdown",
   "metadata": {},
   "source": [
    "In this case, we reject all the tests, therefore the means of all three groups are significantly different. Lets take a quick look at some of the data to see what we have:\n",
    "\n",
    "Note that the standard deviations are also quite different here, we will test the difference in distributions with a Levene test shortly"
   ]
  },
  {
   "cell_type": "code",
   "execution_count": 16,
   "metadata": {},
   "outputs": [
    {
     "name": "stdout",
     "output_type": "stream",
     "text": [
      "Type: ANY Min: 0.0 Max: 13.902029480384721 Mean: 2.9763683504319287 Stdev 2.910988238167355\n",
      "Type: PHAN Min: 0.0 Max: 10.51961869044739 Mean: 1.1088080662205806 Stdev 2.017981351094044\n",
      "Type: NONE Min: 0.0 Max: 12.314074669331452 Mean: 0.5616393229743065 Stdev 1.3492892280070363\n"
     ]
    }
   ],
   "source": [
    "for t in [\"ANY\", \"PHAN\", \"NONE\"]:\n",
    "    print(\"Type: {} Min: {} Max: {} Mean: {} Stdev {}\".format(\n",
    "                 t,\n",
    "                 min(df[df['source'] == t]['logcount']), \n",
    "                 max(df[df['source'] == t]['logcount']), \n",
    "                 np.mean(df[df['source'] == t]['logcount']),\n",
    "                 np.std(df[df['source'] == t]['logcount']),\n",
    "                ))"
   ]
  },
  {
   "cell_type": "markdown",
   "metadata": {},
   "source": [
    "The Levene test tests the null hypothesis that all input samples are from populations with equal variances (i.e. homogeneity of variance). This shows that we reject the null hypothesis that the variances are equal, and therefore there is a difference between the variance. This may suggest that we need a different transformation on our data, however a square-root transform of the data does not improve the significance (that is not shown, but replace log for sqrt!)"
   ]
  },
  {
   "cell_type": "code",
   "execution_count": 17,
   "metadata": {},
   "outputs": [
    {
     "name": "stdout",
     "output_type": "stream",
     "text": [
      "F: 179355.34\n",
      "p: 0.00\n"
     ]
    }
   ],
   "source": [
    "F, p = stats.levene(df[df['source'] == \"ANY\"]['logcount'], df[df['source'] == \"NONE\"]['logcount'], df[df['source'] == \"PHAN\"]['logcount'])\n",
    "print(\"F: {0:.2f}\".format(F))\n",
    "print(\"p: {0:.2f}\".format(p))"
   ]
  },
  {
   "cell_type": "markdown",
   "metadata": {},
   "source": [
    "## Ignoring the zeros\n",
    "\n",
    "We can run the same tests without the zero data.\n",
    "\n",
    "As we can see, statistically, this makes no difference."
   ]
  },
  {
   "cell_type": "code",
   "execution_count": 18,
   "metadata": {},
   "outputs": [
    {
     "name": "stdout",
     "output_type": "stream",
     "text": [
      "F: 37899.92\n",
      "p: 0.00\n"
     ]
    }
   ],
   "source": [
    "F, p = stats.f_oneway(dfnz[dfnz[\"source\"] == 'ANY']['logcount'], dfnz[dfnz[\"source\"] == \"NONE\"]['logcount'], dfnz[dfnz[\"source\"] == \"PHAN\"]['logcount'])\n",
    "print(\"F: {0:.2f}\".format(F))\n",
    "print(\"p: {0:.2f}\".format(p))"
   ]
  },
  {
   "cell_type": "code",
   "execution_count": 19,
   "metadata": {},
   "outputs": [
    {
     "name": "stdout",
     "output_type": "stream",
     "text": [
      "Multiple Comparison of Means - Tukey HSD,FWER=0.05\n",
      "=============================================\n",
      "group1 group2 meandiff  lower   upper  reject\n",
      "---------------------------------------------\n",
      " ANY    NONE  -1.8724  -1.8884 -1.8565  True \n",
      " ANY    PHAN  -1.0393  -1.1083 -0.9703  True \n",
      " NONE   PHAN   0.8332   0.7646  0.9017  True \n",
      "---------------------------------------------\n"
     ]
    }
   ],
   "source": [
    "rec = pairwise_tukeyhsd(dfnz['logcount'], dfnz['source'])\n",
    "print(rec)"
   ]
  },
  {
   "cell_type": "code",
   "execution_count": 20,
   "metadata": {},
   "outputs": [
    {
     "name": "stdout",
     "output_type": "stream",
     "text": [
      "Type: ANY Min: 0.6931471805599453 Max: 13.902029480384721 Mean: 4.439304139850751 Stdev 2.4788058829114203\n",
      "Type: PHAN Min: 0.6931471805599453 Max: 10.51961869044739 Mean: 3.400013834820018 Stdev 2.167229304005275\n",
      "Type: NONE Min: 0.6931471805599453 Max: 12.314074669331452 Mean: 2.5668562832476467 Stdev 1.7814283102675788\n"
     ]
    }
   ],
   "source": [
    "for t in [\"ANY\", \"PHAN\", \"NONE\"]:\n",
    "    print(\"Type: {} Min: {} Max: {} Mean: {} Stdev {}\".format(\n",
    "                     t,\n",
    "                     min(dfnz[dfnz['source'] == t]['logcount']), \n",
    "                     max(dfnz[dfnz['source'] == t]['logcount']), \n",
    "                     np.mean(dfnz[dfnz['source'] == t]['logcount']),\n",
    "                     np.std(dfnz[dfnz['source'] == t]['logcount']),\n",
    "                    ))"
   ]
  },
  {
   "cell_type": "code",
   "execution_count": 21,
   "metadata": {},
   "outputs": [
    {
     "name": "stdout",
     "output_type": "stream",
     "text": [
      "                sum_sq        df             F  PR(>F)\n",
      "source    3.262537e+05       2.0  37899.915322     0.0\n",
      "Residual  1.723717e+06  400478.0           NaN     NaN\n",
      "\n"
     ]
    },
    {
     "data": {
      "text/markdown": [
       "<span style='color:None'>\n",
       "Report as: *F*(2, 400478) = 37899.92, *p* = 0.0</span>"
      ],
      "text/plain": [
       "<IPython.core.display.Markdown object>"
      ]
     },
     "metadata": {},
     "output_type": "display_data"
    }
   ],
   "source": [
    "mod_nz = ols('logcount ~ source', data=dfnz).fit()\n",
    "aov_table_nz = sm.stats.anova_lm(mod_nz, typ=2)\n",
    "print(aov_table_nz)\n",
    "print()\n",
    "printmd(\"\\nReport as: *F*({}, {}) = {}, *p* = {}\".format(\n",
    "    int(aov_table_nz.df['source']), \n",
    "    int(aov_table_nz.df['Residual']),\n",
    "    round(aov_table_nz.F['source'], 2),\n",
    "    round(aov_table_nz.get(\"PR(>F)\")['source'], 4)\n",
    "))"
   ]
  },
  {
   "cell_type": "code",
   "execution_count": 22,
   "metadata": {},
   "outputs": [
    {
     "name": "stdout",
     "output_type": "stream",
     "text": [
      "Cohen's f-squared: 0.19\n",
      "\n",
      "Cohen's d for ANY : ANY = 0.0\n",
      "Cohen's d for ANY : PHAN = 0.42\n",
      "Cohen's d for ANY : NONE = 0.9\n",
      "Cohen's d for PHAN : PHAN = 0.0\n",
      "Cohen's d for PHAN : NONE = 0.47\n",
      "Cohen's d for NONE : NONE = 0.0\n"
     ]
    }
   ],
   "source": [
    "print(\"Cohen's f-squared: {}\\n\".format(round(cohen_f(aov_table_nz.sum_sq['source'], aov_table_nz.sum_sq['Residual']), 2)))\n",
    "ts = [\"ANY\", \"PHAN\", \"NONE\"]\n",
    "for i, t in enumerate(ts):\n",
    "    for j in range(i, len(ts)):\n",
    "        s = ts[j]\n",
    "        print(\"Cohen's d for {} : {} = {}\".format(t, s, round(cohen_d(dfnz[dfnz['source'] == t]['logcount'], dfnz[dfnz['source'] == s]['logcount']),2)))"
   ]
  },
  {
   "cell_type": "markdown",
   "metadata": {},
   "source": [
    "## Subsampling the data\n",
    "\n",
    "Part of the problem is we have so much data. Even ignoring the zero's we have 245,572 entries in the NONE dataset, which means pretty much anything we look at is statistically significant. The solution is to subsample some elements from the data, and test them separately. \n",
    "\n",
    "Here, we subsample 1,000 elements and run the statistics 1,000 times.\n",
    "\n",
    "Note that we are sampling with replacement &mdash; we don't normalize the samples so we have the same number of proteins from all gene callers as that would bias our results."
   ]
  },
  {
   "cell_type": "code",
   "execution_count": 23,
   "metadata": {},
   "outputs": [
    {
     "name": "stdout",
     "output_type": "stream",
     "text": [
      "Out of 1000 runs of the random subsample with replacement\n",
      "ANOVA significant (i.e. means are different): 100.00 %\n",
      "Levene significant (ie. stdev are different): 100.00 %\n",
      "Levene significant ANY-NONE (ie. stdev are different): 100.00 %\n",
      "Levene significant ANY-PHAN (ie. stdev are different): 14.00 %\n",
      "Levene significant PHAN-NONE (ie. stdev are different): 13.50 %\n",
      "Mean of ANY  is the same as mean of NONE: 0.00 %\n",
      "Mean of ANY  is the same as mean of PHAN: 71.80 %\n",
      "Mean of NONE is the same as mean of PHAN: 79.20 %\n"
     ]
    }
   ],
   "source": [
    "counting_matches = {'True': [0, 0, 0], 'False': [0, 0, 0]} # we count both true and false even though we only display one result\n",
    "anova_sig = 0 # is the anova < 0.05\n",
    "levene_sig = 0 # is the Levene test significant\n",
    "\n",
    "# pairwise tests of levene\n",
    "levene_any_none = 0\n",
    "levene_any_phan = 0\n",
    "levene_phan_none = 0\n",
    "\n",
    "n = 0 # how many times we ran\n",
    "for i in range(1000):\n",
    "    dfsample = dfnz.sample(n=1000)\n",
    "    n += 1\n",
    "    \n",
    "    # run the anova significance\n",
    "    F, p = stats.f_oneway(dfsample[dfsample[\"source\"] == 'ANY']['logcount'], dfsample[dfsample[\"source\"] == \"NONE\"]['logcount'], dfsample[dfsample[\"source\"] == \"PHAN\"]['logcount'])\n",
    "    if p < 0.05:\n",
    "        anova_sig += 1\n",
    "    \n",
    "    # run the Tukey's test\n",
    "    rec = pairwise_tukeyhsd(dfsample['logcount'], dfsample['source'])\n",
    "    # print(rec)\n",
    "    \n",
    "    # the results are always [Any -> None, Any -> Phan, None -> Phan]\n",
    "    for i, t in enumerate(rec.reject):\n",
    "        if t:\n",
    "            counting_matches['True'][i] += 1\n",
    "        else:\n",
    "            counting_matches['False'][i] += 1\n",
    "       \n",
    "        \n",
    "    # run the Levene test\n",
    "    F, p = stats.levene(dfsample[dfsample['source'] == \"ANY\"]['logcount'], dfsample[dfsample['source'] == \"NONE\"]['logcount'], dfsample[dfsample['source'] == \"PHAN\"]['logcount'])\n",
    "    if p < 0.05:\n",
    "        levene_sig += 1\n",
    "\n",
    "    # run the Levene test for pairwise samples\n",
    "    F, p = stats.levene(dfsample[dfsample['source'] == \"ANY\"]['logcount'], dfsample[dfsample['source'] == \"NONE\"]['logcount'])\n",
    "    if p < 0.05:\n",
    "        levene_any_none += 1\n",
    "        \n",
    "    F, p = stats.levene(dfsample[dfsample['source'] == \"ANY\"]['logcount'], dfsample[dfsample['source'] == \"PHAN\"]['logcount'])\n",
    "    if p < 0.05:\n",
    "        levene_any_phan += 1\n",
    "        \n",
    "    F, p = stats.levene(dfsample[dfsample['source'] == \"PHAN\"]['logcount'], dfsample[dfsample['source'] == \"NONE\"]['logcount'])\n",
    "    if p < 0.05:\n",
    "        levene_phan_none += 1\n",
    "        \n",
    "        \n",
    "print(\"Out of {} runs of the random subsample with replacement\".format(n))\n",
    "print(\"ANOVA significant (i.e. means are different): {0:.2f} %\".format(anova_sig/n*100))\n",
    "print(\"Levene significant (ie. stdev are different): {0:.2f} %\".format(levene_sig/n*100))\n",
    "print(\"Levene significant ANY-NONE (ie. stdev are different): {0:.2f} %\".format(levene_any_none/n*100))\n",
    "print(\"Levene significant ANY-PHAN (ie. stdev are different): {0:.2f} %\".format(levene_any_phan/n*100))\n",
    "print(\"Levene significant PHAN-NONE (ie. stdev are different): {0:.2f} %\".format(levene_phan_none/n*100))\n",
    "print(\"Mean of ANY  is the same as mean of NONE: {0:.2f} %\".format(counting_matches['False'][0]/n*100))\n",
    "print(\"Mean of ANY  is the same as mean of PHAN: {0:.2f} %\".format(counting_matches['False'][1]/n*100))\n",
    "print(\"Mean of NONE is the same as mean of PHAN: {0:.2f} %\".format(counting_matches['False'][2]/n*100))"
   ]
  },
  {
   "cell_type": "markdown",
   "metadata": {},
   "source": [
    "This shows that ANY is *never* like NONE &mdash; in other words our basic hypothesis that if proteins are functional they are more likely to be conserved in the metagenomics datasets has been supported. We can therefore use this to test whether the proteins we predict are likely to be real or likely to be erroneous.\n",
    "\n",
    "When we ran this sample, 79% of the time ORFs predicted to be genes by Phanotate were similar to the NONE set of ORFs, but 72% of the time they were similar to the ANY set of predicted proteins."
   ]
  },
  {
   "cell_type": "markdown",
   "metadata": {},
   "source": [
    "# Summary\n",
    "\n",
    "The raw statistics suggest that all three data sets are diferrent, but the numbers are so huge that any statistical test is skewed by the large numbers. \n",
    "\n",
    "Cohen's f<sup>2</sup> suggests that the effect size is only moderate.\n",
    "\n",
    "However, the subsampling suggests that ANY and PHAN are similar, and NONE and PHAN are similar, but that ANY and NONE are completely different from each other. I never see ANY and NONE having the same mean.\n",
    "\n",
    "In other words, the mean of PHAN is somewhere between the mean of NONE and the mean of ANY. Therefore, the ORFs that we predict with Phanotate are often likely to have more similarity to DNA sequences in the Short Read Archive and could plausibly be real proteins."
   ]
  }
 ],
 "metadata": {
  "kernelspec": {
   "display_name": "Python 3",
   "language": "python",
   "name": "python3"
  },
  "language_info": {
   "codemirror_mode": {
    "name": "ipython",
    "version": 3
   },
   "file_extension": ".py",
   "mimetype": "text/x-python",
   "name": "python",
   "nbconvert_exporter": "python",
   "pygments_lexer": "ipython3",
   "version": "3.6.7"
  }
 },
 "nbformat": 4,
 "nbformat_minor": 2
}
