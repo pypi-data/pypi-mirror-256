{
 "cells": [
  {
   "cell_type": "markdown",
   "id": "b191e683-79c3-48a4-a75b-ca5fee281286",
   "metadata": {},
   "source": [
    "# Tutorial 1: Vector Operations\n",
    "\n",
    "At LineVision, we frequently work with 3D geometric calculations, and vectors play a crucial role in simplifying these complex tasks. By embracing the vector philosophy in our mathematical and physical models, we can improve efficiency, readability, and adaptability. Vectors allow us to:\n",
    "\n",
    "- Condense complex expressions for better understanding and execution\n",
    "- Work without depending on a specific coordinate system\n",
    "- Represent physical quantities like forces, velocities, and displacements intuitively\n",
    "- Reduce errors from handling components\n",
    "- Enhance collaboration and communication through concise, universally understood notation\n",
    "\n",
    "In this tutorial, we will focus on the core vector operations provided by the `lv_physics.core.vectors` module, which are essential for various applications within LineVision.\n",
    "\n",
    "What is a Vector?\n",
    "\n",
    "A **vector** is a mathematical entity that represents a quantity with both magnitude and direction in 3D space. Vectors are denoted by bold letters, such as **v**. Vectors are used in various fields, including physics and engineering, to describe quantities that cannot be represented by just a single value.\n",
    "\n",
    "### Vectors: Geometric Objects and Coordinate Independence\n",
    "\n",
    "A vector can be represented in terms of its components, which depend on the coordinate system. In a Cartesian coordinate system, a vector **v** is written as:\n",
    "\n",
    "$$\n",
    "\\mathbf{v} = (v_x, v_y, v_z)\n",
    "$$\n",
    "\n",
    "where $v_x$, $v_y$, and $v_z$ are the components of the vector along the x, y, and z axes, respectively.\n",
    "\n",
    "One of the key advantages of using vector notation is the ability to express geometric relationships without having to depend on a specific coordinate system. This property is known as **coordinate independence**. When we write down calculations in terms of vectors, we are working with geometric objects that are independent of the choice of coordinates.\n",
    "\n",
    "For example, consider the dot product and cross product of two vectors **u** and **v**.  The calculations under the hood involve the vector components of **u** and **v**.\n",
    "\n",
    "$$\n",
    "\\mathbf{u} \\cdot \\mathbf{v} = u_x v_x + u_y v_y + u_z v_z\n",
    "$$\n",
    "\n",
    "and\n",
    "\n",
    "$$\n",
    "\\mathbf{u} \\times \\mathbf{v} = (u_y v_z - u_z v_y) \\ \\mathbf{\\hat{x}} \\ + \\ \n",
    "                               (u_z v_x - u_x v_z) \\ \\mathbf{\\hat{y}} \\ + \\ \n",
    "                               (u_x v_y - u_y v_x) \\ \\mathbf{\\hat{z}}\n",
    "$$\n",
    "\n",
    "Once we have these vector operations at our disposal, say in some functions `dot(u, v)` and `cross(u, v)`, we no longer have to keep track of the vector components.  We simply relate the geometric quantities we are concerned with in relation to the dot and cross products themselves.\n",
    "\n",
    "The dot product tells us about the angle between two vectors **u** and **v**:\n",
    "\n",
    "$$\\mathbf{u} \\cdot \\mathbf{v} = |\\mathbf{u}| |\\mathbf{v}| \\cos(\\theta)$$\n",
    "\n",
    "The cross product gives us a new vector **w** that is perpendicular to **u** and **v**:\n",
    "\n",
    "$$\\mathbf{w} = \\mathbf{u} \\times \\mathbf{v}$$\n",
    "\n",
    "By working with vectors as geometric objects, we can simplify complex calculations and focus on the underlying\n",
    "relationships between quantities, making our work more efficient, adaptable, and robust."
   ]
  },
  {
   "cell_type": "markdown",
   "id": "5444ac96-42ae-49fc-9d9b-eeca07ac9596",
   "metadata": {},
   "source": [
    "# Tutorial 1: Vector Operations\n",
    "\n",
    "At LineVision, we frequently work with 3D geometric calculations, and vectors play a crucial role in simplifying these complex tasks. By embracing the vector philosophy in our mathematical and physical models, we can improve efficiency, readability, and adaptability. Vectors allow us to:\n",
    "\n",
    "- Condense complex expressions for better understanding and execution\n",
    "- Work without depending on a specific coordinate system\n",
    "- Represent physical quantities like forces, velocities, and displacements intuitively\n",
    "- Reduce errors from handling components\n",
    "- Enhance collaboration and communication through concise, universally understood notation\n",
    "\n",
    "In this tutorial, we will focus on the core vector operations provided by the `lv_physics.core.vectors` module, which are essential for various applications within LineVision.\n",
    "\n",
    "What is a Vector?\n",
    "\n",
    "A **vector** is a mathematical entity that represents a quantity with both magnitude and direction in 3D space. Vectors are denoted by bold letters, such as **v**. Vectors are used in various fields, including physics and engineering, to describe quantities that cannot be represented by just a single value.\n",
    "\n",
    "### Vectors: Geometric Objects and Coordinate Independence\n",
    "\n",
    "A vector can be represented in terms of its components, which depend on the coordinate system. In a Cartesian coordinate system, a vector **v** is written as:\n",
    "\n",
    "$$\n",
    "\\mathbf{v} = (v_x, v_y, v_z)\n",
    "$$\n",
    "\n",
    "where $v_x$, $v_y$, and $v_z$ are the components of the vector along the x, y, and z axes, respectively.\n",
    "\n",
    "One of the key advantages of using vector notation is the ability to express geometric relationships without having to depend on a specific coordinate system. This property is known as **coordinate independence**. When we write down calculations in terms of vectors, we are working with geometric objects that are independent of the choice of coordinates.\n",
    "\n",
    "For example, consider the dot product and cross product of two vectors **u** and **v**.  The calculations under the hood involve the vector components of **u** and **v**.\n",
    "\n",
    "$$\n",
    "\\mathbf{u} \\cdot \\mathbf{v} = u_x v_x + u_y v_y + u_z v_z\n",
    "$$\n",
    "\n",
    "and\n",
    "\n",
    "$$\n",
    "\\mathbf{u} \\times \\mathbf{v} = (u_y v_z - u_z v_y) \\ \\mathbf{\\hat{x}} \\ + \\ \n",
    "                               (u_z v_x - u_x v_z) \\ \\mathbf{\\hat{y}} \\ + \\ \n",
    "                               (u_x v_y - u_y v_x) \\ \\mathbf{\\hat{z}}\n",
    "$$\n",
    "\n",
    "Once we have these vector operations at our disposal, say in some functions `dot(u, v)` and `cross(u, v)`, we no longer have to keep track of the vector components.  We simply relate the geometric quantities we are concerned with in relation to the dot and cross products themselves.\n",
    "\n",
    "The dot product tells us about the angle between two vectors **u** and **v**:\n",
    "\n",
    "$$\\mathbf{u} \\cdot \\mathbf{v} = |\\mathbf{u}| |\\mathbf{v}| \\cos(\\theta)$$\n",
    "\n",
    "The cross product gives us a new vector **w** that is perpendicular to **u** and **v**:\n",
    "\n",
    "$$\\mathbf{w} = \\mathbf{u} \\times \\mathbf{v}$$\n",
    "\n",
    "By working with vectors as geometric objects, we can simplify complex calculations and focus on the underlying\n",
    "relationships between quantities, making our work more efficient, adaptable, and robust."
   ]
  },
  {
   "cell_type": "markdown",
   "id": "8faa7276-f582-476c-a2a2-37dfc7860a29",
   "metadata": {},
   "source": [
    "## LV-Physics Vectors\n",
    "\n",
    "The `lv-physics` library provides core utility functions for performing operations on or between vectors, tensors, and general matrices. The main operations are performed using the `numpy.einsum()` function, which takes advantage of the Einstein summation convention and works highly efficiently under the hood.\n",
    "\n",
    "The library supports operations on both vectors and N-vectors, which are (N x 3) arrays. The functions in `vectors.py` and `rotations.py` can handle both types interchangeably.\n",
    "\n",
    "The main functions provided in the `vectors.py` file are:\n",
    "\n",
    "1. `mag(v)`: Returns the magnitude of the vector v.\n",
    "2. `unit(v)`: Returns a unit vector along the direction of vector v.\n",
    "3. `dot(u, v)`: Returns the dot product of vectors u and v.\n",
    "4. `cross(u, v)`: Returns the cross product of vectors u and v.\n",
    "5. `angle_between(u, v)`: Returns the absolute value of the angle between vectors u and v.\n",
    "6. `project_onto_axis(v, a, b)`: Projects the input vectors onto the axis formed by vectors a and b.\n",
    "7. `spherical_transform(v)`: Transforms the input vectors from Cartesian to spherical coordinates.\n",
    "8. `cartesian_transform(v)`: Transforms the input vectors from spherical to Cartesian coordinates.\n",
    "\n",
    "These functions can handle both vectors and N-vectors as inputs, allowing for flexibility in handling various types of data. Note that complex vectors raise an error for some functions, as they require alternative definitions when dealing with dot products in a complex phase space."
   ]
  },
  {
   "cell_type": "markdown",
   "id": "663346c2",
   "metadata": {},
   "source": [
    "## Vector Operations Examples\n",
    "\n",
    "In this section, we will explore some examples for each of the 8 functions provided in the `lv-physics` module. We will create vectors, discuss the purpose of each function, and then demonstrate their usage in Python.\n",
    "\n",
    "First, let's import the required libraries and functions from `lv-physics`:"
   ]
  },
  {
   "cell_type": "code",
   "execution_count": 1,
   "id": "8cc2afe1",
   "metadata": {},
   "outputs": [],
   "source": [
    "import matplotlib.pyplot as plt\n",
    "import numpy as np\n",
    "\n",
    "from lv_physics.core.vectors import (\n",
    "  dot, mag, unit, cross, angle_between, project_onto_axis, spherical_transform, cartesian_transform\n",
    ")"
   ]
  },
  {
   "cell_type": "markdown",
   "id": "8d065620",
   "metadata": {},
   "source": [
    "### Vector Components, Magnitude, and Unit Vector\n",
    "\n",
    "The `mag` function computes the magnitude (or length) of a vector. It can be used to normalize a vector, compute the distance between two points, or find the size of a physical quantity.\n",
    "\n",
    "The `unit` function computes the unit vector of a given vector. A unit vector is a vector with magnitude 1, pointing in the same direction as the original vector. It can be used to normalize a vector or describe a direction.\n",
    "\n",
    "Let's define a couple of vectors **u** and **v**, and explore their components, magnitudes, and unit vectors."
   ]
  },
  {
   "cell_type": "code",
   "execution_count": 2,
   "id": "984c7a25",
   "metadata": {},
   "outputs": [
    {
     "name": "stdout",
     "output_type": "stream",
     "text": [
      "magnitudes: |u| = 2.4, |v| = 3.7\n",
      "unit vectors: u = [0.4 0.8 0.4], v = [0.5 0.3 0.8]\n"
     ]
    }
   ],
   "source": [
    "# Define vectors u and v\n",
    "u = np.array([1., 2., 1.])\n",
    "v = np.array([2., 1., 3.])\n",
    "\n",
    "# Magnitudes\n",
    "u_mag = mag(u)\n",
    "v_mag = mag(v)\n",
    "print(f\"magnitudes: |u| = {u_mag.round(1)}, |v| = {v_mag.round(1)}\")\n",
    "\n",
    "# Unit vectors\n",
    "u_unit = unit(u)\n",
    "v_unit = unit(v)\n",
    "print(f\"unit vectors: u = {u_unit.round(1)}, v = {v_unit.round(1)}\")"
   ]
  },
  {
   "cell_type": "markdown",
   "id": "6039caae",
   "metadata": {},
   "source": [
    "### Dot and Cross Products\n",
    "\n",
    "The `dot` function computes the dot product of two vectors. The dot product is a scalar value representing the\n",
    "projection of one vector onto another. It can be used to calculate the angle between two vectors, test if they are\n",
    "orthogonal, or compute the work done by a force.\n",
    "\n",
    "The `cross` function computes the cross product of two vectors. The cross product is a vector perpendicular to the plane containing the input vectors, and its magnitude is equal to the area of the parallelogram formed by the input vectors. It can be used to find the normal vector to a surface, compute torque, or test if two vectors are parallel.\n",
    "\n",
    "These two operations are the building blocks for many vector operations and geometric calculations in 3D."
   ]
  },
  {
   "cell_type": "code",
   "execution_count": 3,
   "id": "2242d027",
   "metadata": {},
   "outputs": [
    {
     "name": "stdout",
     "output_type": "stream",
     "text": [
      "u . v = 7.0  # a scalar\n",
      "w = u x v = [ 5. -1. -3.]  # a vector\n"
     ]
    }
   ],
   "source": [
    "# The dot product - a scalar\n",
    "uv_dot = dot(u, v)\n",
    "print(f\"u . v = {uv_dot.round(1)}  # a scalar\")\n",
    "\n",
    "# The cross product - a vector\n",
    "w = cross(u, v)\n",
    "print(f\"w = u x v = {w.round(1)}  # a vector\")"
   ]
  },
  {
   "cell_type": "markdown",
   "id": "9c5248d9",
   "metadata": {},
   "source": [
    "### Angle Between\n",
    "\n",
    "The `angle_between` function computes the angle between two vectors. It can be used to measure the similarity between vectors, compute the angle between two lines or planes, or find the orientation of an object."
   ]
  },
  {
   "cell_type": "code",
   "execution_count": 4,
   "id": "62f475a8",
   "metadata": {},
   "outputs": [
    {
     "name": "stdout",
     "output_type": "stream",
     "text": [
      "theta = 0.7 rad\n"
     ]
    }
   ],
   "source": [
    "# The angle between\n",
    "theta = angle_between(u, v)\n",
    "print(f\"theta = {theta.round(1)} rad\")"
   ]
  },
  {
   "cell_type": "markdown",
   "id": "51dd4dba",
   "metadata": {},
   "source": [
    "### Project onto Axis\n",
    "\n",
    "The `project_onto_axis` function projects a vector onto a specified axis defined by two points. This function has various applications, such as calculating shadows, determining the component of a vector along a specific direction, or transforming coordinates.\n",
    "\n",
    "Consider three vectors: **a** and **b** are position vectors that lie in the xy-plane, while **c** is a vector positioned above them in xyz-space. The projection of **c** onto the axis formed by **a** and **b** is the point on the ab-axis where a line drawn from **c** and perpendicular to the ab-axis intersects it."
   ]
  },
  {
   "cell_type": "code",
   "execution_count": 5,
   "id": "54123144",
   "metadata": {},
   "outputs": [
    {
     "name": "stdout",
     "output_type": "stream",
     "text": [
      "a = [1. 1. 0.]\n",
      "b = [2. 2. 0.]\n",
      "c = [1.5 1.5 1.5]\n",
      "c_proj = [1.5 1.5 0. ]\n"
     ]
    }
   ],
   "source": [
    "# Create the vectors a, b, and c\n",
    "a = np.array([1., 1., 0.])\n",
    "b = np.array([2., 2., 0.])\n",
    "c = np.array([1.5, 1.5, 1.5])\n",
    "\n",
    "# Project c onto the ab-axis\n",
    "c_proj = project_onto_axis(c, a, b)\n",
    "print(f\"a = {a.round(1)}\")\n",
    "print(f\"b = {b.round(1)}\")\n",
    "print(f\"c = {c.round(1)}\")\n",
    "print(f\"c_proj = {c_proj.round(1)}\")"
   ]
  },
  {
   "cell_type": "markdown",
   "id": "7cb7a637",
   "metadata": {},
   "source": [
    "### Spherical and Cartesian Transformations\n",
    "\n",
    "The same point in 3D space can be expressed in terms of spherical and cartesian coordinates.  Some problems lend themselves more readily to one set of coordinates over the other, so it is important to be able to go back and forth between the two.\n",
    "\n",
    "The spherical coordinates used in LineVision are given in $(r, \\phi, \\theta)$, where $\\phi$ is the azimuthal angle and $\\theta$ is the elevation in radians, and $\\phi = 0$ and $\\theta = 0$ are aligned with the y-axis.  This is a somewhat peculiar choice, but has to do with the coordinate system which is most natural and consistent with our span geometry and LiDAR, and is of course consistent with the \"right-hand-rule\"."
   ]
  },
  {
   "cell_type": "code",
   "execution_count": 6,
   "id": "a34bd731",
   "metadata": {
    "tags": []
   },
   "outputs": [
    {
     "name": "stdout",
     "output_type": "stream",
     "text": [
      "p_sph = [ 1.4  0.  45. ]\n",
      "q_sph = [  1.7 -45.   35.3]\n",
      "r_p = 1.4, mag(p) = 1.4\n",
      "r_q = 1.7, mag(q) = 1.7\n"
     ]
    }
   ],
   "source": [
    "# Conversion to degrees\n",
    "deg = np.array([1., 180. / np.pi, 180. / np.pi])\n",
    "\n",
    "# Define some vectors\n",
    "p = np.array([0., 1., 1.])\n",
    "q = np.array([1., 1., 1.])\n",
    "\n",
    "# Convert these to spherical coordinates\n",
    "p_sph = spherical_transform(p)\n",
    "q_sph = spherical_transform(q)\n",
    "print(f\"p_sph = {(p_sph * deg).round(1)}\")\n",
    "print(f\"q_sph = {(q_sph * deg).round(1)}\")\n",
    "\n",
    "# Compare the radius to the magnitude\n",
    "r_p = p_sph[0]\n",
    "r_q = q_sph[0]\n",
    "print(f\"r_p = {r_p.round(1)}, mag(p) = {mag(p).round(1)}\")\n",
    "print(f\"r_q = {r_q.round(1)}, mag(q) = {mag(q).round(1)}\")"
   ]
  }
 ],
 "metadata": {
  "kernelspec": {
   "display_name": "Python 3 (ipykernel)",
   "language": "python",
   "name": "python3"
  },
  "language_info": {
   "codemirror_mode": {
    "name": "ipython",
    "version": 3
   },
   "file_extension": ".py",
   "mimetype": "text/x-python",
   "name": "python",
   "nbconvert_exporter": "python",
   "pygments_lexer": "ipython3",
   "version": "3.11.1"
  }
 },
 "nbformat": 4,
 "nbformat_minor": 5
}
