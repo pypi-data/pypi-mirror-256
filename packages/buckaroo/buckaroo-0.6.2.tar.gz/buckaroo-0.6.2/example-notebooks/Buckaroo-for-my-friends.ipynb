{
 "cells": [
  {
   "cell_type": "markdown",
   "id": "e5bfa003-1fc5-436f-863d-72c368d44b14",
   "metadata": {},
   "source": [
    "# Explaining Buckaroo to my friends and family\n",
    "\n",
    "I have been building the Buckaroo table widget for a year. This is an explainer for my less techincal friends and family members.\n",
    "In this document I walk through the PyData ecosystem that Bukcaroo exists in, and explain how Buckaroo improves the workflow for users their.\n",
    "\n",
    "## How programming languages do math\n",
    "Bear with me, I need to lay some groundwork before we get to exciting charts, graphs, tables and interactive programs.  This whole demo takes 5 minutes.\n",
    "\n",
    "For most commonly used programming environments like python, javascript, and excel mathematical operations are relatively slow. Everytime a langugae evaluates `c = a + b`.  The computer must first figure out is `a` an integer, decimal point number or string.  Then it must figure out the same for `b`, the it figures out the correct way to add these two types, and assigns the result to `c`.\n",
    "\n",
    "## Matrix math, why it matters and how NumPy makes it fast.\n",
    "\n",
    "Matrix math is at the core of linear regression, image recognition, recommendation systems, and AI like chatGPT.  Performing operations on matrices very quickly is at the core of each of these technogies.  In a regular programming language if you wanted to add two 1000x1000 2 dimensional arrays (1_00_000 elements each), for each element the programming language needs to figure out the type, then add them together.\n",
    "\n",
    "In 2005 Travis Oliphant created NumPy which is built to deal with arrays and matrices.  NumPy determines the type of the whole first matrix, then the type of the whole second matrix, then iterates over the 10_000 elements and adds them together.  This is much much faster... I will show you"
   ]
  },
  {
   "cell_type": "code",
   "execution_count": 29,
   "id": "26e9a7f0-4c06-4248-beee-75b8137acd1a",
   "metadata": {
    "tags": []
   },
   "outputs": [
    {
     "name": "stdout",
     "output_type": "stream",
     "text": [
      "37.8 ms ± 1.7 ms per loop (mean ± std. dev. of 7 runs, 10 loops each)\n"
     ]
    }
   ],
   "source": [
    "ELEMENTS = 1_000_000\n",
    "py_a = [x for x in range(ELEMENTS)]\n",
    "py_b = [x for x in range(ELEMENTS*10, 0, -10)]\n",
    "%timeit -n 10 [py_a[i] + py_b[i] for i in range(ELEMENTS)] "
   ]
  },
  {
   "cell_type": "code",
   "execution_count": 30,
   "id": "b937620f-eb44-492f-ba3d-7506e2c89ff5",
   "metadata": {
    "tags": []
   },
   "outputs": [
    {
     "name": "stdout",
     "output_type": "stream",
     "text": [
      "895 µs ± 167 µs per loop (mean ± std. dev. of 7 runs, 10 loops each)\n"
     ]
    }
   ],
   "source": [
    "import numpy as np\n",
    "np_a = np.arange(ELEMENTS)\n",
    "np_b = np.arange(ELEMENTS * 10, 0, -10)\n",
    "%timeit -n 10 np_a + np_b"
   ]
  },
  {
   "cell_type": "markdown",
   "id": "c33cfbd3-4edd-4ddb-a02c-03b565605d37",
   "metadata": {},
   "source": [
    "# How much faster\n",
    "37.8 milliseconds vs 895 microseconds, or about 50 times faster. A microsecond is a milionth of a second, a milliseconds is a thousandth"
   ]
  },
  {
   "cell_type": "code",
   "execution_count": null,
   "id": "805df0ba-4349-4ea3-a337-8a19cef0e2c2",
   "metadata": {},
   "outputs": [],
   "source": []
  }
 ],
 "metadata": {
  "kernelspec": {
   "display_name": "Python 3 (ipykernel)",
   "language": "python",
   "name": "python3"
  },
  "language_info": {
   "codemirror_mode": {
    "name": "ipython",
    "version": 3
   },
   "file_extension": ".py",
   "mimetype": "text/x-python",
   "name": "python",
   "nbconvert_exporter": "python",
   "pygments_lexer": "ipython3",
   "version": "3.11.7"
  },
  "widgets": {
   "application/vnd.jupyter.widget-state+json": {
    "state": {},
    "version_major": 2,
    "version_minor": 0
   }
  }
 },
 "nbformat": 4,
 "nbformat_minor": 5
}
