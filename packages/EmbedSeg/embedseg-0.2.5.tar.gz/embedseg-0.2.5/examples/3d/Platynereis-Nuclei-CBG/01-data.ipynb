{
 "cells": [
  {
   "cell_type": "code",
   "execution_count": 1,
   "metadata": {},
   "outputs": [],
   "source": [
    "from tqdm import tqdm\n",
    "from glob import glob\n",
    "import tifffile\n",
    "import numpy as np\n",
    "import os\n",
    "from EmbedSeg.utils.preprocess_data import extract_data, split_train_val, split_train_test, get_data_properties\n",
    "from EmbedSeg.utils.generate_crops import *\n",
    "from EmbedSeg.utils.visualize import visualize_crop_3d\n",
    "import json\n",
    "from matplotlib.colors import ListedColormap"
   ]
  },
  {
   "cell_type": "markdown",
   "metadata": {},
   "source": [
    "### Download Data"
   ]
  },
  {
   "cell_type": "code",
   "execution_count": 2,
   "metadata": {},
   "outputs": [],
   "source": [
    "data_dir = '../../../data'\n",
    "project_name = 'Platynereis-Nuclei-CBG'"
   ]
  },
  {
   "cell_type": "markdown",
   "metadata": {},
   "source": [
    "Ideally, <b>*.tif</b>-type images and the corresponding masks should be respectively present under <b>images</b> and <b>masks</b>, under directories <b>train</b>, <b>val</b> and <b>test</b>, which can be present at any location on your workstation, pointed to by the variable <i>data_dir</i>. (In order to prepare such instance masks, one could use the Fiji plugin <b>Labkit</b> as detailed <a href= \"https://github.com/juglab/EmbedSeg/wiki/01---Use-Labkit-to-prepare-instance-masks\"> here</a>). The following would be the desired structure as to how data should be present. \n",
    "\n",
    "<img src=\"https://raw.githubusercontent.com/juglab/EmbedSeg/v0.2.4/directory_pngs/png/01_dir_structure.png\" width=\"100\"/>\n",
    "\n",
    "If you already have your data available in the above style, please skip to the <b><a href=\"#center\">third</a></b> section of this notebook, where you specify the kind of center to which constitutive pixels of an object should embed. \n",
    "Since for the <b> Platynereis-Nuclei-CBG</b> dataset, we do not have the data in this format yet, we firstly download the data from an external url in the following cells, next we split this data to create our `train`, `val` and `test` directories. "
   ]
  },
  {
   "cell_type": "markdown",
   "metadata": {},
   "source": [
    "The images and corresponding masks are downloaded from an external url, specified by `zip_url` to the path specified by the variables `data_dir` and `project_name`. The following structure is generated after executing the `extract_data`, `split_train_test` and `split_train_val` methods below:\n",
    "\n",
    "<img src=\"https://raw.githubusercontent.com/juglab/EmbedSeg/v0.2.4/directory_pngs/png/06_platynereis-nuclei-cbg.png\" width=\"500\"/>"
   ]
  },
  {
   "cell_type": "code",
   "execution_count": 3,
   "metadata": {},
   "outputs": [
    {
     "name": "stdout",
     "output_type": "stream",
     "text": [
      "Downloaded data as ../../../data/Platynereis-Nuclei-CBG.zip\n",
      "Unzipped data to ../../../data/Platynereis-Nuclei-CBG/download/\n"
     ]
    }
   ],
   "source": [
    "extract_data(\n",
    "    zip_url = 'https://github.com/juglab/EmbedSeg/releases/download/v0.1.0/Platynereis-Nuclei-CBG.zip',\n",
    "    data_dir = data_dir,\n",
    "    project_name = project_name,\n",
    ")"
   ]
  },
  {
   "cell_type": "markdown",
   "metadata": {},
   "source": [
    "### Reserve Data for Evaluation"
   ]
  },
  {
   "cell_type": "markdown",
   "metadata": {},
   "source": [
    "Now, we would like to reserve a small fraction (2 images by default) of the provided dataset as test data, which we would use to evaluate our trained model in `03-predict.ipynb` notebook."
   ]
  },
  {
   "cell_type": "code",
   "execution_count": 4,
   "metadata": {},
   "outputs": [
    {
     "name": "stdout",
     "output_type": "stream",
     "text": [
      "Created new directory : ../../../data/Platynereis-Nuclei-CBG/download/test/images\n",
      "Created new directory : ../../../data/Platynereis-Nuclei-CBG/download/test/masks\n",
      "Train-Test Images/Masks saved at ../../../data/Platynereis-Nuclei-CBG/download\n"
     ]
    }
   ],
   "source": [
    "split_train_test(\n",
    "    data_dir = data_dir,\n",
    "    project_name = project_name, \n",
    "    train_test_name = 'train',\n",
    "    subset = 2, \n",
    "    by_fraction = False)"
   ]
  },
  {
   "cell_type": "markdown",
   "metadata": {},
   "source": [
    "### Split Data into `train`, `val` \\& `test`"
   ]
  },
  {
   "cell_type": "markdown",
   "metadata": {},
   "source": [
    "Now, we would like to reserve a small fraction (2 images by default) of the available train dataset as validation data. Here, in case you would like to repeat multiple experiments with the same partition, you may continue and press <kbd>Shift</kbd> + <kbd>Enter</kbd> on the next cell - but in case, you would like different partitions each time, please add the `seed` attribute equal to a different integer (For example, \n",
    "```\n",
    "split_train_val(\n",
    "data_dir = data_dir, \n",
    "project_name = project_name, \n",
    "train_val_name = 'train', \n",
    "subset = 2,\n",
    "by_fraction = False,\n",
    "seed = 1000)\n",
    "```\n",
    ")"
   ]
  },
  {
   "cell_type": "code",
   "execution_count": 5,
   "metadata": {},
   "outputs": [
    {
     "name": "stdout",
     "output_type": "stream",
     "text": [
      "Created new directory : ../../../data/Platynereis-Nuclei-CBG/train/images/\n",
      "Created new directory : ../../../data/Platynereis-Nuclei-CBG/train/masks/\n",
      "Created new directory : ../../../data/Platynereis-Nuclei-CBG/val/images/\n",
      "Created new directory : ../../../data/Platynereis-Nuclei-CBG/val/masks/\n",
      "Created new directory : ../../../data/Platynereis-Nuclei-CBG/test/images/\n",
      "Created new directory : ../../../data/Platynereis-Nuclei-CBG/test/masks/\n",
      "Train-Val-Test Images/Masks copied to ../../../data/Platynereis-Nuclei-CBG\n"
     ]
    }
   ],
   "source": [
    "split_train_val(\n",
    "    data_dir = data_dir,\n",
    "    project_name = project_name, \n",
    "    train_val_name = 'train',\n",
    "    subset = 2,\n",
    "    by_fraction = False)"
   ]
  },
  {
   "cell_type": "markdown",
   "metadata": {},
   "source": [
    "### Calculate some dataset specific properties "
   ]
  },
  {
   "cell_type": "markdown",
   "metadata": {},
   "source": [
    "In the next cell, we will calculate properties of the data such as `min_object_size`, `foreground_weight` etc. <br>\n",
    "We will also specify some properties, for example,  \n",
    "\n",
    "* set `data_properties_dir['data_type']='16-bit'` if the images are of datatype `unsigned 16 bit` and \n",
    "    `data_properties_dir['data_type']='8-bit'` if the images are of datatype `unsigned 8 bit`.\n",
    "\n",
    "Lastly, we will save the dictionary `data_properties_dir` in a json file, which we will access in the `02-train` and `03-predict` notebooks."
   ]
  },
  {
   "cell_type": "code",
   "execution_count": 6,
   "metadata": {},
   "outputs": [
    {
     "name": "stderr",
     "output_type": "stream",
     "text": [
      "100%|█████████████████████████████████████████████| 7/7 [00:46<00:00,  6.64s/it]\n",
      "  0%|                                                     | 0/7 [00:00<?, ?it/s]"
     ]
    },
    {
     "name": "stdout",
     "output_type": "stream",
     "text": [
      "Foreground weight of the `Platynereis-Nuclei-CBG` dataset set equal to 90.676\n"
     ]
    },
    {
     "name": "stderr",
     "output_type": "stream",
     "text": [
      "100%|████████████████████████████████████████████| 7/7 [14:23<00:00, 123.38s/it]\n",
      "100%|█████████████████████████████████████████████| 2/2 [00:00<00:00, 11.31it/s]\n",
      "  0%|                                                     | 0/7 [00:00<?, ?it/s]"
     ]
    },
    {
     "name": "stdout",
     "output_type": "stream",
     "text": [
      "Minimum object size of the `Platynereis-Nuclei-CBG` dataset is equal to 31\n",
      "Average object size of the `Platynereis-Nuclei-CBG` dataset along `x` is equal to 26.245\n",
      "Std. dev object size of the `Platynereis-Nuclei-CBG` dataset along `x` is equal to 10.578\n",
      "Average object size of the `Platynereis-Nuclei-CBG` dataset along `y` is equal to 26.219\n",
      "Std. dev object size of the `Platynereis-Nuclei-CBG` dataset along `y` is equal to 10.306\n",
      "Average object size of the `Platynereis-Nuclei-CBG` dataset along `z` is equal to 5.965\n",
      "Std. dev object size of the `Platynereis-Nuclei-CBG` dataset along `z` is equal to 2.156\n",
      "Maximum evaluation image size of the `Platynereis-Nuclei-CBG` dataset set equal to  (n_z = 120, n_y = 704, n_x = 704)\n"
     ]
    },
    {
     "name": "stderr",
     "output_type": "stream",
     "text": [
      "100%|█████████████████████████████████████████████| 7/7 [00:03<00:00,  1.94it/s]"
     ]
    },
    {
     "name": "stdout",
     "output_type": "stream",
     "text": [
      "Average background intensity of the `Platynereis-Nuclei-CBG` dataset set equal to 5.460\n",
      "Dataset properies of the `Platynereis-Nuclei-CBG` dataset is saved to `data_properties.json`\n"
     ]
    },
    {
     "name": "stderr",
     "output_type": "stream",
     "text": [
      "\n"
     ]
    }
   ],
   "source": [
    "data_properties_dir = get_data_properties(data_dir, project_name, train_val_name=['train', 'val'], \n",
    "                                          test_name=['test'], mode='3d')\n",
    "\n",
    "data_properties_dir['data_type']='16-bit'\n",
    "data_properties_dir['pixel_size_x_microns']=0.406 # set equal to voxel size (microns) in x dimension\n",
    "data_properties_dir['pixel_size_y_microns']=0.406 # set equal to voxel size (microns) in y dimension\n",
    "data_properties_dir['pixel_size_z_microns']=2.031 # set equal to voxel size (microns) in z dimension\n",
    "\n",
    "with open('data_properties.json', 'w') as outfile:\n",
    "    json.dump(data_properties_dir, outfile)\n",
    "    print(\"Dataset properies of the `{}` dataset is saved to `data_properties.json`\".format(project_name))"
   ]
  },
  {
   "cell_type": "markdown",
   "metadata": {},
   "source": [
    "### Specify desired centre location for spatial embedding of pixels"
   ]
  },
  {
   "cell_type": "markdown",
   "metadata": {},
   "source": [
    "Interior pixels of an object instance can either be embedded at the `centroid` (evaluated in $\\mathcal{O(n)}$ operations, where $\\mathcal{n}$ is the number of pixels in an object instance), or the `medoid` (evaluated in $\\mathcal{O(n^{2})}$ operations). Please note that evaluating `medoid` of the instances could be slow especially if you choose a large `crop_size` later: in such a scenario, a quicker alternative is opting for a higher <b><a href='#speed_up'>`speed_up`</a></b> factor."
   ]
  },
  {
   "cell_type": "code",
   "execution_count": 7,
   "metadata": {},
   "outputs": [
    {
     "name": "stdout",
     "output_type": "stream",
     "text": [
      "Spatial Embedding Location chosen as : medoid\n"
     ]
    }
   ],
   "source": [
    "center = 'medoid' # 'medoid', 'centroid'\n",
    "try:\n",
    "    assert center in {'medoid', 'centroid'}\n",
    "    print(\"Spatial Embedding Location chosen as : {}\".format(center))\n",
    "except AssertionError as e:\n",
    "    e.args += ('Please specify center as one of : {\"medoid\", \"centroid\"}', 42)\n",
    "    raise\n",
    "\n"
   ]
  },
  {
   "cell_type": "markdown",
   "metadata": {},
   "source": [
    "### Specify cropping configuration parameters"
   ]
  },
  {
   "cell_type": "markdown",
   "metadata": {},
   "source": [
    "Images and the corresponding masks are cropped into patches centred around an object instance, which are pre-saved prior to initiating the training. Note that the cropped images, masks and center-images would be saved at the path specified by `crops_dir` (The parameter `crops_dir` is set to ```./crops``` by default, which creates a directory at the same location as this notebook). Here, `data_subset` defines the directory which is processed. \n",
    "\n",
    "Note that we automatically calculate  the `crop_size` by using the `avg_object_size` and `std_object_size` through the relation:\n",
    "$\\text{crop_size_i} = \\text{avg_obj_size_i} + \\text{n_sigma} \\times \\text{std_obj_size_i}$ where $i \\in \\{x,y,z\\}$ and `n_sigma` equals `5` by default.\n",
    "\n",
    "Please feel free to reduce the parameter `n_sigma` to be equal to `3-4` in case of lower GPU memory. "
   ]
  },
  {
   "cell_type": "markdown",
   "metadata": {},
   "source": [
    "<a id=\"speed_up\"></a>"
   ]
  },
  {
   "cell_type": "code",
   "execution_count": 8,
   "metadata": {},
   "outputs": [],
   "source": [
    "n_sigma = 5"
   ]
  },
  {
   "cell_type": "code",
   "execution_count": 9,
   "metadata": {},
   "outputs": [],
   "source": [
    "def round_up_8(x):\n",
    "    return (x.astype(int)+7) & (-8)"
   ]
  },
  {
   "cell_type": "code",
   "execution_count": 10,
   "metadata": {},
   "outputs": [
    {
     "name": "stdout",
     "output_type": "stream",
     "text": [
      "Crop size in x and y will be set equal to 80. Crop size in z is set equal to 16\n"
     ]
    }
   ],
   "source": [
    "crops_dir = './crops'\n",
    "data_subsets = ['train', 'val'] \n",
    "crop_size_z = round_up_8(data_properties_dir['avg_object_size_z'] + n_sigma*data_properties_dir['stdev_object_size_z'])\n",
    "crop_size_y = np.maximum(round_up_8(data_properties_dir['avg_object_size_y'] + n_sigma*data_properties_dir['stdev_object_size_y']),\n",
    "round_up_8(data_properties_dir['avg_object_size_x'] + n_sigma*data_properties_dir['stdev_object_size_x']))\n",
    "crop_size_x = crop_size_y\n",
    "print(\"Crop size in x and y will be set equal to {}. Crop size in z is set equal to {}\".format(crop_size_x, crop_size_z))"
   ]
  },
  {
   "cell_type": "markdown",
   "metadata": {},
   "source": [
    "The `anisotropy_factor` is set equal to the ratio of voxel sizes in z to voxel sizes in x or y. <br>\n",
    "\n",
    "In case, there are out-of-memory issues or cropping takes too long, please try increasing the <b>`speed_up`</b> parameter by steps of 1. "
   ]
  },
  {
   "cell_type": "code",
   "execution_count": 11,
   "metadata": {},
   "outputs": [],
   "source": [
    "anisotropy_factor = data_properties_dir['pixel_size_z_microns']/data_properties_dir['pixel_size_x_microns']\n",
    "speed_up = 2"
   ]
  },
  {
   "cell_type": "markdown",
   "metadata": {},
   "source": [
    "### Generate Crops"
   ]
  },
  {
   "cell_type": "markdown",
   "metadata": {},
   "source": [
    "<div class=\"alert alert-block alert-warning\"> \n",
    "    The cropped images and masks are saved at the same-location as the example notebooks. <br>\n",
    "    Generating the crops would take a little while!\n",
    "</div>"
   ]
  },
  {
   "cell_type": "markdown",
   "metadata": {},
   "source": [
    "While cropping images, we normalize them by following any one of three strategies: \n",
    "\n",
    "(i) `min-max-percentile` (default) \n",
    "(ii) `mean-std` \n",
    "(iii) `absolute` "
   ]
  },
  {
   "cell_type": "code",
   "execution_count": 14,
   "metadata": {},
   "outputs": [
    {
     "name": "stdout",
     "output_type": "stream",
     "text": [
      "Normalization chosen as : min-max-percentile\n"
     ]
    }
   ],
   "source": [
    "norm = 'min-max-percentile'\n",
    "try:\n",
    "    assert norm in {'min-max-percentile', 'mean-std', 'absolute'}\n",
    "    print(\"Normalization chosen as : {}\".format(norm))\n",
    "except AssertionError as e:\n",
    "    e.args += ('Please specify norm as one of : {\"min-max-percentile\", \"mean-std\", \"absolute\"}', 42)\n",
    "    raise"
   ]
  },
  {
   "cell_type": "code",
   "execution_count": 16,
   "metadata": {},
   "outputs": [
    {
     "name": "stderr",
     "output_type": "stream",
     "text": [
      "100%|█████████████████████████████████████████████| 5/5 [05:05<00:00, 61.14s/it]\n",
      "  0%|                                                     | 0/2 [00:00<?, ?it/s]"
     ]
    },
    {
     "name": "stdout",
     "output_type": "stream",
     "text": [
      "Cropping of images, instances and centre_images for data_subset = `train` done!\n",
      "Created new directory : ./crops/Platynereis-Nuclei-CBG/val/images/\n",
      "Created new directory : ./crops/Platynereis-Nuclei-CBG/val/masks/\n",
      "Created new directory : ./crops/Platynereis-Nuclei-CBG/val/center-medoid/\n"
     ]
    },
    {
     "name": "stderr",
     "output_type": "stream",
     "text": [
      "100%|█████████████████████████████████████████████| 2/2 [01:33<00:00, 46.51s/it]"
     ]
    },
    {
     "name": "stdout",
     "output_type": "stream",
     "text": [
      "Cropping of images, instances and centre_images for data_subset = `val` done!\n"
     ]
    },
    {
     "name": "stderr",
     "output_type": "stream",
     "text": [
      "\n"
     ]
    }
   ],
   "source": [
    "for data_subset in data_subsets:\n",
    "    image_dir = os.path.join(data_dir, project_name, data_subset, 'images')\n",
    "    instance_dir = os.path.join(data_dir, project_name, data_subset, 'masks')\n",
    "    image_names = sorted(glob(os.path.join(image_dir, '*.tif'))) \n",
    "    instance_names = sorted(glob(os.path.join(instance_dir, '*.tif')))  \n",
    "    for i in tqdm(np.arange(len(image_names))):\n",
    "        process_3d(image_names[i], instance_names[i], os.path.join(crops_dir, project_name), data_subset, \n",
    "                crop_size_x = crop_size_x, crop_size_y = crop_size_y, crop_size_z = crop_size_z,\n",
    "                center = center, anisotropy_factor = anisotropy_factor, speed_up = speed_up, \n",
    "                norm=norm, data_type = data_properties_dir['data_type'])\n",
    "    print(\"Cropping of images, instances and centre_images for data_subset = `{}` done!\".format(data_subset))"
   ]
  },
  {
   "cell_type": "markdown",
   "metadata": {},
   "source": [
    "### Save `norm` in `normalization.json` file "
   ]
  },
  {
   "cell_type": "code",
   "execution_count": 17,
   "metadata": {},
   "outputs": [
    {
     "name": "stdout",
     "output_type": "stream",
     "text": [
      "Normalization properties of the `Platynereis-Nuclei-CBG` dataset is saved to `normalization.json`\n"
     ]
    }
   ],
   "source": [
    "normalization = {}\n",
    "normalization['data_type']=data_properties_dir['data_type']\n",
    "normalization['norm']=norm\n",
    "with open('normalization.json', 'w') as outfile:\n",
    "    json.dump(normalization, outfile)\n",
    "    print(\"Normalization properties of the `{}` dataset is saved to `normalization.json`\".format(project_name))"
   ]
  },
  {
   "cell_type": "markdown",
   "metadata": {},
   "source": [
    "### Visualize cropped images, corresponding ground truth masks and object center images "
   ]
  },
  {
   "cell_type": "code",
   "execution_count": 18,
   "metadata": {},
   "outputs": [
    {
     "data": {
      "image/png": "[encoded data removed]",
      "text/plain": [
       "<Figure size 864x720 with 9 Axes>"
      ]
     },
     "metadata": {
      "needs_background": "light"
     },
     "output_type": "display_data"
    }
   ],
   "source": [
    "new_cmap = np.load('../../../cmaps/cmap_60.npy')\n",
    "new_cmap = ListedColormap(new_cmap) # new_cmap = 'magma' would also work! \n",
    "visualize_crop_3d(data_dir=crops_dir, project_name=project_name, train_val_dir='val', center=center, \n",
    "                  new_cmp=new_cmap, anisotropy=anisotropy_factor)"
   ]
  },
  {
   "cell_type": "code",
   "execution_count": null,
   "metadata": {},
   "outputs": [],
   "source": []
  }
 ],
 "metadata": {
  "kernelspec": {
   "display_name": "EmbedSegEnv",
   "language": "python",
   "name": "embedsegenv"
  },
  "language_info": {
   "codemirror_mode": {
    "name": "ipython",
    "version": 3
   },
   "file_extension": ".py",
   "mimetype": "text/x-python",
   "name": "python",
   "nbconvert_exporter": "python",
   "pygments_lexer": "ipython3",
   "version": "3.7.0"
  },
  "toc": {
   "base_numbering": 1,
   "nav_menu": {},
   "number_sections": true,
   "sideBar": false,
   "skip_h1_title": false,
   "title_cell": "Table of Contents",
   "title_sidebar": "Contents",
   "toc_cell": false,
   "toc_position": {},
   "toc_section_display": true,
   "toc_window_display": false
  }
 },
 "nbformat": 4,
 "nbformat_minor": 4
}
