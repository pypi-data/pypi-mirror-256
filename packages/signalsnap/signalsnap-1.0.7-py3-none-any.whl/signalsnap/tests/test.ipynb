{
 "cells": [
  {
   "cell_type": "code",
   "execution_count": 1,
   "outputs": [],
   "source": [
    "from unittest import TestCase\n",
    "import numpy as np\n",
    "from signalsnap.analysis import Spectrum, load_spec"
   ],
   "metadata": {
    "collapsed": false
   }
  },
  {
   "cell_type": "code",
   "execution_count": 12,
   "outputs": [
    {
     "name": "stdout",
     "output_type": "stream",
     "text": [
      "Actual T_window: 0.02\n",
      "Maximum frequency: 5000.0\n",
      "Number of points: 101\n"
     ]
    },
    {
     "data": {
      "text/plain": "HBox(children=(FloatProgress(value=0.0, max=50.0), HTML(value='')))",
      "application/vnd.jupyter.widget-view+json": {
       "version_major": 2,
       "version_minor": 0,
       "model_id": "c92d39a137414abeb0d08e9a6f522bc6"
      }
     },
     "metadata": {},
     "output_type": "display_data"
    },
    {
     "name": "stdout",
     "output_type": "stream",
     "text": [
      "chunk shape:  200\n"
     ]
    }
   ],
   "source": [
    "rng = np.random.default_rng(seed=42)\n",
    "fs = 10e3  # sampling rate\n",
    "N = 1e5  # number of points\n",
    "t = np.arange(N) / fs\n",
    "y = rng.normal(scale=1, size=t.shape)\n",
    "\n",
    "spec = Spectrum(data=y, delta_t=1 / fs, f_unit='kHz')\n",
    "T_window = 0.02  # these are now ms since the unit of choice are kHz\n",
    "f_max = 5e3  # kHz\n",
    "f, s, serr = spec.calc_spec(order_in=[2, 3, 4], T_window=T_window, f_max=f_max, backend='cpu', show_first_frame=False)\n",
    "\n",
    "spec_test = load_spec('data/data_for_test_calc_spec.pkl')\n",
    "\n",
    "TestCase.assertAlmostEqual(1, s[2][0], spec_test.S[2][0])\n",
    "TestCase.assertAlmostEqual(1, s[3][0,0], spec_test.S[3][0,0])\n",
    "TestCase.assertAlmostEqual(1, s[4][0,0], spec_test.S[4][0,0])\n",
    "\n",
    "TestCase.assertAlmostEqual(1, serr[2][0], spec_test.S_err[2][0])\n",
    "TestCase.assertAlmostEqual(1, serr[3][0,0], spec_test.S_err[3][0,0])\n",
    "TestCase.assertAlmostEqual(1, serr[4][0,0], spec_test.S_err[4][0,0])"
   ],
   "metadata": {
    "collapsed": false
   }
  },
  {
   "cell_type": "code",
   "execution_count": null,
   "outputs": [],
   "source": [],
   "metadata": {
    "collapsed": false
   }
  }
 ],
 "metadata": {
  "kernelspec": {
   "display_name": "Python 3",
   "language": "python",
   "name": "python3"
  },
  "language_info": {
   "codemirror_mode": {
    "name": "ipython",
    "version": 2
   },
   "file_extension": ".py",
   "mimetype": "text/x-python",
   "name": "python",
   "nbconvert_exporter": "python",
   "pygments_lexer": "ipython2",
   "version": "2.7.6"
  }
 },
 "nbformat": 4,
 "nbformat_minor": 0
}
