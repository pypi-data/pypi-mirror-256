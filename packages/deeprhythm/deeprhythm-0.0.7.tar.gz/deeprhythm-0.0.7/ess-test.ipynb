{
 "cells": [
  {
   "cell_type": "code",
   "execution_count": 1,
   "metadata": {},
   "outputs": [
    {
     "name": "stderr",
     "output_type": "stream",
     "text": [
      "2024-02-12 20:49:06.730274: I tensorflow/stream_executor/platform/default/dso_loader.cc:53] Successfully opened dynamic library libcudart.so.11.0\n",
      "[   INFO   ] MusicExtractorSVM: no classifier models were configured by default\n",
      "2024-02-12 20:49:07.055422: I tensorflow/core/platform/cpu_feature_guard.cc:142] This TensorFlow binary is optimized with oneAPI Deep Neural Network Library (oneDNN) to use the following CPU instructions in performance-critical operations:  SSE3 SSE4.1 SSE4.2 AVX AVX2 AVX512F FMA\n",
      "To enable them in other operations, rebuild TensorFlow with the appropriate compiler flags.\n",
      "2024-02-12 20:49:07.056957: I tensorflow/stream_executor/platform/default/dso_loader.cc:53] Successfully opened dynamic library libcuda.so.1\n",
      "2024-02-12 20:49:07.060274: I tensorflow/stream_executor/cuda/cuda_gpu_executor.cc:937] successful NUMA node read from SysFS had negative value (-1), but there must be at least one NUMA node, so returning NUMA node zero\n",
      "2024-02-12 20:49:07.060369: I tensorflow/core/common_runtime/gpu/gpu_device.cc:1733] Found device 0 with properties: \n",
      "pciBusID: 0000:01:00.0 name: NVIDIA GeForce RTX 4090 computeCapability: 8.9\n",
      "coreClock: 2.625GHz coreCount: 128 deviceMemorySize: 23.62GiB deviceMemoryBandwidth: 938.86GiB/s\n",
      "2024-02-12 20:49:07.060382: I tensorflow/stream_executor/platform/default/dso_loader.cc:53] Successfully opened dynamic library libcudart.so.11.0\n",
      "2024-02-12 20:49:07.073416: I tensorflow/stream_executor/platform/default/dso_loader.cc:53] Successfully opened dynamic library libcublas.so.11\n",
      "2024-02-12 20:49:07.073467: I tensorflow/stream_executor/platform/default/dso_loader.cc:53] Successfully opened dynamic library libcublasLt.so.11\n",
      "2024-02-12 20:49:07.074308: I tensorflow/stream_executor/platform/default/dso_loader.cc:53] Successfully opened dynamic library libcufft.so.10\n",
      "2024-02-12 20:49:07.074944: I tensorflow/stream_executor/platform/default/dso_loader.cc:53] Successfully opened dynamic library libcurand.so.10\n",
      "2024-02-12 20:49:07.077638: I tensorflow/stream_executor/platform/default/dso_loader.cc:53] Successfully opened dynamic library libcusolver.so.11\n",
      "2024-02-12 20:49:07.078288: I tensorflow/stream_executor/platform/default/dso_loader.cc:53] Successfully opened dynamic library libcusparse.so.11\n",
      "2024-02-12 20:49:07.078409: I tensorflow/stream_executor/platform/default/dso_loader.cc:53] Successfully opened dynamic library libcudnn.so.8\n",
      "2024-02-12 20:49:07.078486: I tensorflow/stream_executor/cuda/cuda_gpu_executor.cc:937] successful NUMA node read from SysFS had negative value (-1), but there must be at least one NUMA node,"
     ]
    }
   ],
   "source": [
    "from essentia.standard import MonoLoader, TempoCNN\n",
    "import pandas as pd\n",
    "import os\n",
    "print('reading')\n",
    "songs = pd.read_csv('/media/bleu/bulkdata2/deeprhythmdata/test.csv')\n",
    "print(songs)\n",
    "# Extract the 'filename' column from the dataframe 'songs' and convert it to a list\n",
    "filenames = songs['filename'].tolist()\n",
    "print(len(filenames))\n",
    "# Prepend the directory path to each filename in the list\n",
    "filenames = [os.path.join('/media/bleu/bulkdata2/deeprhythmdata', filename )for filename in filenames]\n",
    "\n",
    "model = TempoCNN(graphFilename=\"deepsquare-k16-3.pb\")\n",
    "print(filenames[0])\n",
    "audio = MonoLoader(filename=filenames[0], sampleRate=11025, resampleQuality=4)()\n",
    "global_tempo, local_tempo, local_tempo_probabilities = model(audio)\n",
    "print(filenames[0], global_tempo)\n"
   ]
  },
  {
   "cell_type": "code",
   "execution_count": 2,
   "metadata": {},
   "outputs": [
    {
     "data": {
      "text/plain": [
       "127.0"
      ]
     },
     "execution_count": 2,
     "metadata": {},
     "output_type": "execute_result"
    }
   ],
   "source": [
    "global_tempo"
   ]
  }
 ],
 "metadata": {
  "kernelspec": {
   "display_name": "ess",
   "language": "python",
   "name": "python3"
  },
  "language_info": {
   "codemirror_mode": {
    "name": "ipython",
    "version": 3
   },
   "file_extension": ".py",
   "mimetype": "text/x-python",
   "name": "python",
   "nbconvert_exporter": "python",
   "pygments_lexer": "ipython3",
   "version": "3.10.13"
  }
 },
 "nbformat": 4,
 "nbformat_minor": 2
}
