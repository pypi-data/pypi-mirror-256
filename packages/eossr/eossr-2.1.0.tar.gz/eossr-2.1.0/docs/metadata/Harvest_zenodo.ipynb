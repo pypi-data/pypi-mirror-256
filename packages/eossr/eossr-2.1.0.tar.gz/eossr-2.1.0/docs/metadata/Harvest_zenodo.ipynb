{
 "cells": [
  {
   "cell_type": "markdown",
   "id": "83cfb991",
   "metadata": {},
   "source": [
    "# Example of protocols to harvest metadata from Zenodo"
   ]
  },
  {
   "cell_type": "markdown",
   "id": "b0fcf1bf",
   "metadata": {},
   "source": [
    "---------------------\n",
    "#### Notebook outline \n",
    " - Zenodo OAI-PMH protocol\n",
    " - Zenodo REST API\n",
    "     - Explore the REST API answer (payload) with the `request` library\n",
    "     - Using `eossr` library\n",
    " - Pros and cons of both methods\n",
    " \n",
    "---------------------"
   ]
  },
  {
   "cell_type": "markdown",
   "id": "2529eacc",
   "metadata": {},
   "source": [
    "## Pros and cons of each method\n",
    " - Using AOI-PMH for harvesting;\n",
    "    + $+$ More efficient harvest:\n",
    "       - faster,\n",
    "       - thought for large and continues queries of a repository.\n",
    "    + $-$ Metadata representation of files is provided by the data provider.\n",
    " - Using the REST API;\n",
    "    + $+$ Access to the full entry/record/community information.\n",
    "    + $-$ Harvest not optimised for large searches.\n",
    " "
   ]
  },
  {
   "cell_type": "markdown",
   "id": "2193adc5",
   "metadata": {},
   "source": [
    "## OAI-PMH protocol"
   ]
  },
  {
   "cell_type": "markdown",
   "id": "9bb7e516",
   "metadata": {},
   "source": [
    "####  First have a look at a nice [tutorial on the protocol](https://indico.cern.ch/event/5710/sessions/108048/attachments/988151/1405129/Simeon_tutorial.pdf)."
   ]
  },
  {
   "cell_type": "markdown",
   "id": "1bcf7733",
   "metadata": {},
   "source": [
    "The [OAI-PMH protocol](https://www.openarchives.org/pmh/) uses a base URL + special syntax ('verbs') to query and find metadata representation(s) of a data provider.\n",
    "\n",
    "In the case of zenodo the base URL is:  https://zenodo.org/oai2d.\n",
    "\n",
    "For example:\n",
    "- to retrieve all the entries (`verb=ListRecords`)\n",
    "- belonging to escape2020 community (`set=user-escape2020`)\n",
    "- in the OAI DataCite metadata representation (`metadataPrefix=oai_datacite`)     \n",
    "\n",
    "\n",
    "https://zenodo.org/oai2d?verb=ListRecords&set=user-escape2020&metadataPrefix=oai_datacite\n",
    "\n",
    "\n",
    "Ex2:\n",
    "- To obtain a single entry (`verb=GetRecord`)\n",
    "- of a certain zenodo record - identified by the entry_id (`identifier=oai:zenodo.org:4105896`)\n",
    "- in the Dublin Core metadata representation (`metadataPrefix=oai_dc`)\n",
    " \n",
    "https://zenodo.org/oai2d?verb=GetRecord&metadataPrefix=oai_dc&identifier=oai:zenodo.org:4105896\n"
   ]
  },
  {
   "cell_type": "markdown",
   "id": "26eba497",
   "metadata": {},
   "source": [
    "### Example with the OAI-PMH protocol: A python OAI-Harvester"
   ]
  },
  {
   "cell_type": "markdown",
   "id": "145835bd",
   "metadata": {},
   "source": [
    "```\n",
    "pip install oaiharvest\n",
    "oai-harvest -h\n",
    "\n",
    "# Examples of usage\n",
    "oai-harvest https://zenodo.org/oai2d -s \"user-escape2020\" -d oai_dc\n",
    "oai-harvest https://zenodo.org/oai2d -s \"user-escape2020\" -d oai_datacite4\n",
    "oai-harvest https://zenodo.org/oai2d -s \"user-escape2020\" -d datacite3\n",
    "\n",
    "# Example of output\n",
    "$ oai-harvest https://zenodo.org/oai2d -s \"user-escape2020\" -d datacite3\n",
    "$ cd datacite3\n",
    "$ ls\n",
    "oai:zenodo.org:1689986.oai_dc.xml oai:zenodo.org:3884963.oai_dc.xml\n",
    "oai:zenodo.org:2533132.oai_dc.xml oai:zenodo.org:3967386.oai_dc.xml\n",
    "oai:zenodo.org:2542652.oai_dc.xml oai:zenodo.org:4012169.oai_dc.xml\n",
    "oai:zenodo.org:2542664.oai_dc.xml oai:zenodo.org:4028908.oai_dc.xml\n",
    "oai:zenodo.org:3356656.oai_dc.xml oai:zenodo.org:4044010.oai_dc.xml\n",
    "oai:zenodo.org:3362435.oai_dc.xml oai:zenodo.org:4055176.oai_dc.xml\n",
    "oai:zenodo.org:3572655.oai_dc.xml oai:zenodo.org:4105896.oai_dc.xml\n",
    "oai:zenodo.org:3614662.oai_dc.xml oai:zenodo.org:4311271.oai_dc.xml\n",
    "oai:zenodo.org:3659184.oai_dc.xml oai:zenodo.org:4419866.oai_dc.xml\n",
    "oai:zenodo.org:3675081.oai_dc.xml oai:zenodo.org:4601451.oai_dc.xml\n",
    "oai:zenodo.org:3734091.oai_dc.xml oai:zenodo.org:4687123.oai_dc.xml\n",
    "oai:zenodo.org:3743489.oai_dc.xml oai:zenodo.org:4786641.oai_dc.xml\n",
    "oai:zenodo.org:3743490.oai_dc.xml oai:zenodo.org:4790629.oai_dc.xml\n",
    "oai:zenodo.org:3854976.oai_dc.xml\n",
    "$ cat <FILE>\n",
    "```\n"
   ]
  },
  {
   "cell_type": "markdown",
   "id": "f9ad3584",
   "metadata": {},
   "source": [
    " No token is needed to fetch metadata files provided by Zenodo (the provider). \n",
    " However please note that the **metadata schema representation of the records is chosen by the provider !**  \n",
    " \n",
    "Zenodo supports the following schema representations:\n",
    " - `DataCite` (various version),\n",
    " - `Dublin Core`,\n",
    " - `MARC21`,\n",
    " - However it **does not provide** metadata under the `codemeta.json` schema.\n",
    " "
   ]
  },
  {
   "cell_type": "markdown",
   "id": "c6a47567",
   "metadata": {},
   "source": [
    "## Zenodo's REST API"
   ]
  },
  {
   "cell_type": "code",
   "execution_count": null,
   "id": "e7a84906",
   "metadata": {},
   "outputs": [],
   "source": [
    "import requests"
   ]
  },
  {
   "cell_type": "markdown",
   "id": "87f186f9",
   "metadata": {},
   "source": [
    "We would need to specify some arguments to reduce the search"
   ]
  },
  {
   "cell_type": "code",
   "execution_count": null,
   "id": "5ee3a192",
   "metadata": {},
   "outputs": [],
   "source": [
    "parameters = {'communities': 'escape2020',\n",
    "              'size':100}"
   ]
  },
  {
   "cell_type": "markdown",
   "id": "e268aef2",
   "metadata": {},
   "source": [
    "**NOTE** No token is needed to fetch/communicate with the REST API. \n",
    "However, you would need to [create one](https://zenodo.org/account/settings/applications/) if you would like to write or publish through the API."
   ]
  },
  {
   "cell_type": "markdown",
   "id": "4cd8011b",
   "metadata": {},
   "source": [
    "### Example with the `requests` lib\n",
    "\n",
    "How to recover all ESCAPE2020 community records ?"
   ]
  },
  {
   "cell_type": "code",
   "execution_count": null,
   "id": "fde5ee19",
   "metadata": {},
   "outputs": [],
   "source": [
    "escape2020 = requests.get('https://zenodo.org/api/records', params=parameters).json()\n",
    "escape2020.keys()"
   ]
  },
  {
   "cell_type": "markdown",
   "id": "9e564b25",
   "metadata": {},
   "source": [
    "Let's explore the REST API payload to find the desired information."
   ]
  },
  {
   "cell_type": "code",
   "execution_count": null,
   "id": "2506740f",
   "metadata": {},
   "outputs": [],
   "source": [
    "# Nice summary of the request we just made\n",
    "escape2020['aggregations']"
   ]
  },
  {
   "cell_type": "code",
   "execution_count": null,
   "id": "dd36b4be",
   "metadata": {},
   "outputs": [],
   "source": [
    "# Total number of entries in the payload\n",
    "print(escape2020['hits'].keys())\n",
    "print(escape2020['hits']['total'])"
   ]
  },
  {
   "cell_type": "code",
   "execution_count": null,
   "id": "0550cffb",
   "metadata": {},
   "outputs": [],
   "source": [
    "all_entries = escape2020['hits']['hits']"
   ]
  },
  {
   "cell_type": "code",
   "execution_count": null,
   "id": "94a4e8c9",
   "metadata": {},
   "outputs": [],
   "source": [
    "# The content of the first entry of the payload - It contain all the info that we can also find in Zenodo\n",
    "all_entries[0]"
   ]
  },
  {
   "cell_type": "code",
   "execution_count": null,
   "id": "0b48bcff",
   "metadata": {},
   "outputs": [],
   "source": [
    "# Example to retrieve entries_ids and titles\n",
    "for entry in all_entries:\n",
    "    print(f\"{entry['id']} \\t {entry['metadata']['title']}\")"
   ]
  },
  {
   "cell_type": "code",
   "execution_count": null,
   "id": "e2afd195",
   "metadata": {},
   "outputs": [],
   "source": [
    "# Example of all the keywords within each entry\n",
    "for entry in all_entries:\n",
    "    try:\n",
    "        print(f\"{entry['id']} \\t {entry['metadata']['keywords']}\")\n",
    "    except KeyError:\n",
    "        pass"
   ]
  },
  {
   "cell_type": "markdown",
   "id": "e9007eef",
   "metadata": {},
   "source": [
    "#### A specific ESCAPE2020 entry: `agnpy`."
   ]
  },
  {
   "cell_type": "code",
   "execution_count": null,
   "id": "75b4de93",
   "metadata": {},
   "outputs": [],
   "source": [
    "agnpy = requests.get('https://zenodo.org/api/records/4687123', params=parameters).json()\n",
    "agnpy.keys()"
   ]
  },
  {
   "cell_type": "code",
   "execution_count": null,
   "id": "39be15f1",
   "metadata": {},
   "outputs": [],
   "source": [
    "agnpy['metadata']"
   ]
  },
  {
   "cell_type": "code",
   "execution_count": null,
   "id": "1ee7197f",
   "metadata": {},
   "outputs": [],
   "source": [
    "for file in agnpy['files']:\n",
    "    print(file['links']['self'])"
   ]
  },
  {
   "cell_type": "markdown",
   "id": "bb63887b",
   "metadata": {},
   "source": [
    "We could do a simple `wget` of the previous URL and recover the file updoaded to Zenodo.\n",
    "\n",
    "Let's see and example with various files uploaded."
   ]
  },
  {
   "cell_type": "code",
   "execution_count": null,
   "id": "16db6ee0",
   "metadata": {},
   "outputs": [],
   "source": [
    "ESCAPE_template = requests.get('https://zenodo.org/api/records/4790629', params=parameters).json()"
   ]
  },
  {
   "cell_type": "code",
   "execution_count": null,
   "id": "9feca5e6",
   "metadata": {},
   "outputs": [],
   "source": [
    "for file in ESCAPE_template['files']:\n",
    "    print(file['links']['self'])"
   ]
  },
  {
   "cell_type": "markdown",
   "id": "4070d988",
   "metadata": {},
   "source": [
    "## eossr\n",
    "\n",
    "The eossr library uses the Zenodo REST API.\n",
    "See the OSSR API notebooks `Explore the OSSR` and `How to upload records to the OSSR` for examples on how to use it.\n"
   ]
  },
  {
   "cell_type": "code",
   "execution_count": null,
   "id": "563902f1",
   "metadata": {},
   "outputs": [],
   "source": []
  }
 ],
 "metadata": {
  "kernelspec": {
   "display_name": "Python 3 (ipykernel)",
   "language": "python",
   "name": "python3"
  },
  "language_info": {
   "codemirror_mode": {
    "name": "ipython",
    "version": 3
   },
   "file_extension": ".py",
   "mimetype": "text/x-python",
   "name": "python",
   "nbconvert_exporter": "python",
   "pygments_lexer": "ipython3",
   "version": "3.10.1"
  }
 },
 "nbformat": 4,
 "nbformat_minor": 5
}
