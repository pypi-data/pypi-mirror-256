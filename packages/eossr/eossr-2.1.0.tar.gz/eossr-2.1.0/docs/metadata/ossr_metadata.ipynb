{
 "cells": [
  {
   "cell_type": "markdown",
   "metadata": {
    "pycharm": {
     "name": "#%% md\n"
    }
   },
   "source": [
    "# OSSR metadata table"
   ]
  },
  {
   "cell_type": "markdown",
   "metadata": {
    "pycharm": {
     "name": "#%% md\n"
    }
   },
   "source": [
    "The table below lists the properties implementing the OSSR metadata with the recommended and required fields"
   ]
  },
  {
   "cell_type": "code",
   "execution_count": null,
   "metadata": {
    "jupyter": {
     "outputs_hidden": false
    },
    "nbsphinx": "hidden"
   },
   "outputs": [],
   "source": [
    "from eossr.metadata import codemeta\n",
    "import pandas as pd"
   ]
  },
  {
   "cell_type": "code",
   "execution_count": null,
   "metadata": {
    "jupyter": {
     "outputs_hidden": false
    },
    "nbsphinx": "hidden"
   },
   "outputs": [],
   "source": [
    "df = codemeta.codemeta_crosswalk()[['Property', 'Type', 'Description', 'OSSR Requirement Level', 'Help', 'Zenodo', 'ZenodoContributorType']]\n",
    "df = df[~df['Property'].isnull()]\n",
    "df = df.fillna('')\n",
    "\n",
    "pd.set_option('display.max_rows', len(df),\n",
    "              'display.max_columns', None,\n",
    "              'display.width', 1000,\n",
    "              'display.max_colwidth', None,\n",
    "              'display.colheader_justify', 'left'\n",
    "              )\n",
    "df = df.style.set_properties(**{'text-align': 'left'})"
   ]
  },
  {
   "cell_type": "code",
   "execution_count": null,
   "metadata": {
    "pycharm": {
     "name": "#%%\n"
    }
   },
   "outputs": [],
   "source": [
    "display(df)"
   ]
  },
  {
   "cell_type": "code",
   "execution_count": null,
   "metadata": {
    "pycharm": {
     "name": "#%%\n"
    }
   },
   "outputs": [],
   "source": []
  }
 ],
 "metadata": {
  "celltoolbar": "Éditer les Méta-Données",
  "kernelspec": {
   "display_name": "Python 3 (ipykernel)",
   "language": "python",
   "name": "python3"
  },
  "language_info": {
   "codemirror_mode": {
    "name": "ipython",
    "version": 3
   },
   "file_extension": ".py",
   "mimetype": "text/x-python",
   "name": "python",
   "nbconvert_exporter": "python",
   "pygments_lexer": "ipython3",
   "version": "3.10.1"
  }
 },
 "nbformat": 4,
 "nbformat_minor": 4
}
