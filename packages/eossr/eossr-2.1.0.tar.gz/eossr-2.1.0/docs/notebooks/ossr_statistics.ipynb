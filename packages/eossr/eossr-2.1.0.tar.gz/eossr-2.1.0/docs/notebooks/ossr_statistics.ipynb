{
 "cells": [
  {
   "cell_type": "markdown",
   "id": "6f9a9077",
   "metadata": {},
   "source": [
    "# OSSR Statistics"
   ]
  },
  {
   "cell_type": "code",
   "execution_count": null,
   "id": "fff204bf-3164-4844-a13d-e88b6231970a",
   "metadata": {
    "nbsphinx": "hidden"
   },
   "outputs": [],
   "source": [
    "from eossr.api.ossr import get_ossr_records\n",
    "from eossr.api.zenodo import search_records\n",
    "from IPython.display import Markdown as md\n",
    "from datetime import date\n",
    "import itertools\n",
    "import matplotlib.pyplot as plt"
   ]
  },
  {
   "cell_type": "code",
   "execution_count": null,
   "id": "32b381a7-ff5a-4c56-919a-d47ecdbec6bd",
   "metadata": {
    "nbsphinx": "hidden",
    "tags": []
   },
   "outputs": [],
   "source": [
    "plt.style.use('seaborn-v0_8-colorblind')"
   ]
  },
  {
   "cell_type": "code",
   "execution_count": null,
   "id": "e71a35a5-8afa-466a-a2e6-424ff8d07611",
   "metadata": {
    "nbsphinx": "hidden",
    "tags": []
   },
   "outputs": [],
   "source": [
    "import matplotlib.pyplot as plt\n",
    "from collections import Counter\n",
    "from wordcloud import WordCloud\n",
    "\n",
    "def create_pie_chart(occurrences, ax=None):\n",
    "    # Get the counts of each occurrence\n",
    "    counts = Counter(occurrences)\n",
    "\n",
    "    ax = plt.gca() if ax is None else ax\n",
    "\n",
    "    # Create the pie chart\n",
    "    ax.pie(list(counts.values()), labels=list(counts.keys()), autopct='%1.1f%%', startangle=90)\n",
    "\n",
    "    # Show the chart\n",
    "    return ax\n",
    "\n",
    "\n",
    "def create_word_cloud(words):\n",
    "    # Generate a word frequency dictionary\n",
    "    word_freq = {}\n",
    "    for word in words:\n",
    "        word = word.upper()\n",
    "        word_freq[word] = word_freq.get(word, 0) + 1\n",
    "\n",
    "    # Create a word cloud object\n",
    "    wordcloud = WordCloud(width=1000, height=600, background_color='white', stopwords=set()).generate_from_frequencies(word_freq)\n",
    "\n",
    "    # Plot the word cloud\n",
    "    fig = plt.figure(figsize=(10, 6), facecolor=None)\n",
    "    plt.imshow(wordcloud)\n",
    "    plt.axis(\"off\")\n",
    "    plt.tight_layout(pad=0)\n",
    "    return fig\n"
   ]
  },
  {
   "cell_type": "code",
   "execution_count": null,
   "id": "b9668e64",
   "metadata": {
    "nbsphinx": "hidden"
   },
   "outputs": [],
   "source": [
    "title = f\"## OSSR statistics generated the {date.today()}\\n\"\n",
    "\n",
    "ossr_records = get_ossr_records()\n",
    "stats_names = ['downloads', 'unique_downloads', 'views', 'unique_views', ]\n",
    "sum_stats = {key: sum([int(rec.data['stats'][key]) for rec in ossr_records]) for key in stats_names}\n",
    "\n",
    "text = title + \"\\n\" + f\"### There are {len(ossr_records)} records in the OSSR.\\n\"\n",
    "\n",
    "for n in sum_stats:\n",
    "    text += f\"| {n.replace('_', ' ')} \"\n",
    "text += \"| \\n\"\n",
    "for n in sum_stats:\n",
    "    text += \"|----\"\n",
    "text += \"| \\n\"\n",
    "for k, v in sum_stats.items():\n",
    "    text += f\"| {v} \"\n",
    "text += \"| \\n\""
   ]
  },
  {
   "cell_type": "code",
   "execution_count": null,
   "id": "fe656e0b",
   "metadata": {},
   "outputs": [],
   "source": [
    "md(text)"
   ]
  },
  {
   "cell_type": "code",
   "execution_count": null,
   "id": "df351e32",
   "metadata": {},
   "outputs": [],
   "source": []
  },
  {
   "cell_type": "code",
   "execution_count": null,
   "id": "d0e84058",
   "metadata": {
    "nbsphinx": "hidden"
   },
   "outputs": [],
   "source": [
    "escape2020_community_records = search_records(communities='escape2020')\n",
    "\n",
    "url_escape2020_not_ossr = 'https://zenodo.org/communities/escape2020/search?page=1&size=20&q=&type=publication&type=lesson&type=poster'\n",
    "text = f\"**Note that there are also {len(escape2020_community_records) - len(ossr_records)} records in the `escape2020` community that are not software or datasets.**\\n\\n\"\n",
    "text += f\"You may find them [directly on Zenodo]({url_escape2020_not_ossr})\"\n"
   ]
  },
  {
   "cell_type": "code",
   "execution_count": null,
   "id": "a4290b16-8e72-4fbe-96e7-758c3a113fd7",
   "metadata": {},
   "outputs": [],
   "source": [
    "md(\"## Distribution of licenses in the OSSR\")"
   ]
  },
  {
   "cell_type": "code",
   "execution_count": null,
   "id": "ab7ff264-055e-4a64-b4b5-968f1e4b38b6",
   "metadata": {},
   "outputs": [],
   "source": [
    "licenses = [record.metadata['license']['id'] for record in ossr_records if 'license' in record.metadata]\n",
    "\n",
    "plt.figure(figsize=(7,7))\n",
    "create_pie_chart(licenses);"
   ]
  },
  {
   "cell_type": "code",
   "execution_count": null,
   "id": "e653506a-64ee-4bd5-8c93-6cfe997d7319",
   "metadata": {},
   "outputs": [],
   "source": [
    "md(\"## Cloud of OSSR keywords\")"
   ]
  },
  {
   "cell_type": "code",
   "execution_count": null,
   "id": "7676462b-64a0-49ab-aa59-72945a0a5024",
   "metadata": {
    "nbsphinx": "hidden",
    "tags": []
   },
   "outputs": [],
   "source": [
    "keywords = [record.metadata['keywords'] for record in ossr_records if 'keywords' in record.metadata]\n",
    "keywords = list(itertools.chain(*keywords))"
   ]
  },
  {
   "cell_type": "code",
   "execution_count": null,
   "id": "750351bd-f043-4f3a-a8e2-0dee8afed6ae",
   "metadata": {},
   "outputs": [],
   "source": [
    "create_word_cloud(keywords);"
   ]
  },
  {
   "cell_type": "code",
   "execution_count": null,
   "id": "12f81935-16e7-4aba-a6a9-474cd2ad081f",
   "metadata": {},
   "outputs": [],
   "source": []
  },
  {
   "cell_type": "code",
   "execution_count": null,
   "id": "696416cf",
   "metadata": {},
   "outputs": [],
   "source": [
    "md(text)"
   ]
  },
  {
   "cell_type": "code",
   "execution_count": null,
   "id": "ae5204cf",
   "metadata": {},
   "outputs": [],
   "source": []
  }
 ],
 "metadata": {
  "celltoolbar": "Éditer les Méta-Données",
  "kernelspec": {
   "display_name": "Python 3 (ipykernel)",
   "language": "python",
   "name": "python3"
  },
  "language_info": {
   "codemirror_mode": {
    "name": "ipython",
    "version": 3
   },
   "file_extension": ".py",
   "mimetype": "text/x-python",
   "name": "python",
   "nbconvert_exporter": "python",
   "pygments_lexer": "ipython3",
   "version": "3.10.4"
  }
 },
 "nbformat": 4,
 "nbformat_minor": 5
}
