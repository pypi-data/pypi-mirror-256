{
 "cells": [
  {
   "cell_type": "markdown",
   "id": "b13b5e85-42d7-47f5-a85a-905b7becc10b",
   "metadata": {},
   "source": [
    "# Make a graph network of communities connected through records\n"
   ]
  },
  {
   "cell_type": "code",
   "execution_count": null,
   "id": "81b124e3-c741-47df-b688-4d8796331b3b",
   "metadata": {
    "nbsphinx": "hidden"
   },
   "outputs": [],
   "source": [
    "# to produce as visual output, you will need to install pyviz and networkx\n",
    "!pip install networkx\n",
    "!pip install pyvis\n",
    "!pip install tqdm"
   ]
  },
  {
   "cell_type": "code",
   "execution_count": null,
   "id": "ac1f427c-9f77-4288-87ce-2df6b9f429d9",
   "metadata": {},
   "outputs": [],
   "source": [
    "import requests\n",
    "import pandas as pd\n",
    "from pathlib import Path\n",
    "import base64\n",
    "import numpy as np\n",
    "\n",
    "from eossr.api.zenodo import get_community, search_records"
   ]
  },
  {
   "cell_type": "code",
   "execution_count": null,
   "id": "a86feb5e-474b-476a-9ae4-1becd2c7a0c3",
   "metadata": {},
   "outputs": [],
   "source": [
    "def encode_image(url):\n",
    "    \"\"\"\n",
    "    encode an image from url as base64\n",
    "    necessary for Zenodo as the url for logos is a download content only\n",
    "    \"\"\"\n",
    "    response = requests.get(url)\n",
    "\n",
    "    if response.status_code == 200:\n",
    "        # Encode the image content in base64 and create a Data URI\n",
    "        encoded_image = base64.b64encode(response.content).decode('utf-8')\n",
    "        data_uri = f\"data:image/png;base64,{encoded_image}\"  \n",
    "        return data_uri\n",
    "    else:\n",
    "        raise FileNotFoundError(\"Failed to fetch the image\")\n",
    "        \n",
    "def extract_community_info(community_slug):\n",
    "    \"\"\"\n",
    "    Extract info about a single community.\n",
    "    Will be used to create nodes.\n",
    "    \"\"\"\n",
    "    try:\n",
    "        community = get_community(community_slug)\n",
    "        records = requests.get(community['links']['records'], timeout=20).json()\n",
    "        num_records = records['aggregations']['access_status']['buckets'][0]['doc_count']\n",
    "        response_logo = requests.get(community['links']['logo'])\n",
    "\n",
    "        community_info =  {\n",
    "            'id': community['id'],\n",
    "            'slug': community['slug'],\n",
    "            'access_visibility': community['access']['visibility'],\n",
    "            'title': community['metadata']['title'],\n",
    "            'num_records': num_records,\n",
    "            'logo_link': encode_image(community['links']['logo']) if response_logo.status_code==200 and community['links']['logo'] is not np.nan else ''\n",
    "        }\n",
    "    except:\n",
    "        community_info = {\n",
    "            'id': 'unknown',\n",
    "            'slug': community_slug,\n",
    "            'access_visibility':'unknown',\n",
    "            'title': 'unknown',\n",
    "            'num_records': 0,\n",
    "            'logo_link': ''\n",
    "        }\n",
    "    return pd.DataFrame([community_info])"
   ]
  },
  {
   "cell_type": "code",
   "execution_count": null,
   "id": "10a7c913-edcf-4dd0-9e35-b9e8b7676354",
   "metadata": {},
   "outputs": [],
   "source": [
    "def extract_connections_community(community_slug):\n",
    "    \"\"\"\n",
    "    Extract connections data between communities based on shared records\n",
    "    Will be used to create edges\n",
    "    \"\"\"\n",
    "    connections = {}\n",
    "    records = search_records(communities=community_slug)\n",
    "    for record in records:\n",
    "        related_com_ids = [com['id'] for com in record.metadata['communities'] if com['id'] != community_slug]\n",
    "        for cid in related_com_ids:\n",
    "            if cid not in connections:\n",
    "                connections[cid] = 1\n",
    "            else:\n",
    "                connections[cid] += 1\n",
    "    return pd.DataFrame([{'source': community_slug, 'target': key, 'shared_records': value} for key, value in connections.items()])"
   ]
  },
  {
   "cell_type": "code",
   "execution_count": null,
   "id": "cc9174fd-2b9f-4aa7-8122-8f6bd89bd2d3",
   "metadata": {},
   "outputs": [],
   "source": [
    "from tqdm.auto import tqdm\n",
    "\n",
    "def extract_graph_data(starting_community_slug,\n",
    "                       communities_csv_filename,\n",
    "                       connections_csv_filename,\n",
    "                       number_of_iterations=2,\n",
    "                      ):\n",
    "    \"\"\"\n",
    "    Extract all data required to produce the graph and save them into two files.\n",
    "    If the files already exists, they are first loaded and the existing data is used\n",
    "    instead of requesting Zenodo. \n",
    "    If you want to re-extract the data, provide an non-existing filename.\n",
    "    \n",
    "    \"\"\"\n",
    "    \n",
    "    if Path(communities_csv_filename).exists():\n",
    "        communities = pd.read_csv(communities_csv_filename)\n",
    "    else:\n",
    "        communities = pd.DataFrame()\n",
    "        \n",
    "    if Path(connections_csv_filename).exists():\n",
    "        connections = pd.read_csv(connections_csv_filename)\n",
    "    else:\n",
    "        connections = pd.DataFrame()\n",
    "        \n",
    "    if not 'slug' in communities.columns or not starting_community_slug in communities['slug']:\n",
    "        communities = pd.concat([communities,\n",
    "                                 extract_community_info(starting_community_slug)],\n",
    "                                ignore_index=True)\n",
    "    \n",
    "    nodes = [starting_community_slug]\n",
    "    \n",
    "    for i in range(number_of_iterations):\n",
    "        new_nodes = []\n",
    "        print(f'iteration {i} - extracting connections')\n",
    "        for node in tqdm(nodes):\n",
    "            if not 'source' in connections.columns or not node in connections['source'].values:\n",
    "                # print(f'extracting {node} connections')\n",
    "                new_connections = extract_connections_community(node)\n",
    "                connections = pd.concat([connections,\n",
    "                                         new_connections,\n",
    "                                        ],\n",
    "                                        ignore_index=True\n",
    "                                       )\n",
    "            new_nodes.extend(connections[connections['source']==node]['target'].values)\n",
    "                \n",
    "        \n",
    "        print(f'iteration {i} - extracting communities data')\n",
    "        for node in tqdm(nodes + new_nodes):\n",
    "            if not node in communities['slug'].values:\n",
    "                # print(f'extracting {node}')\n",
    "                communities = pd.concat([communities,\n",
    "                                         extract_community_info(node)\n",
    "                                        ],\n",
    "                                        ignore_index=True,\n",
    "                                       )\n",
    "                \n",
    "        nodes = list(set(new_nodes))\n",
    "        \n",
    "        communities.to_csv(communities_csv_filename, index=False)\n",
    "        connections.to_csv(connections_csv_filename, index=False)\n",
    "    \n",
    "    return communities, connections\n"
   ]
  },
  {
   "cell_type": "code",
   "execution_count": null,
   "id": "8a89af4e",
   "metadata": {},
   "outputs": [],
   "source": [
    "communities_csv_filename = 'communities.csv'\n",
    "connections_csv_filename = 'connections.csv'"
   ]
  },
  {
   "cell_type": "code",
   "execution_count": null,
   "id": "e8e7b0c3-8a96-42a2-b8e5-f8e0e3d052cb",
   "metadata": {},
   "outputs": [],
   "source": [
    "if Path(communities_csv_filename).exists() and Path(connections_csv_filename).exists():\n",
    "    communities = pd.read_csv(communities_csv_filename)\n",
    "    connections = pd.read_csv(connections_csv_filename)\n",
    "else:\n",
    "    communities, connections = extract_graph_data('escape2020',\n",
    "                    communities_csv_filename,\n",
    "                    connections_csv_filename,\n",
    "                    number_of_iterations=2\n",
    "                    )"
   ]
  },
  {
   "cell_type": "code",
   "execution_count": null,
   "id": "03b7ffcb-b74d-47cf-b748-3499c1ee9ffd",
   "metadata": {},
   "outputs": [],
   "source": [
    "communities"
   ]
  },
  {
   "cell_type": "code",
   "execution_count": null,
   "id": "a3b234cd-c8f7-48ba-9492-11f17623f1c2",
   "metadata": {},
   "outputs": [],
   "source": [
    "connections"
   ]
  },
  {
   "cell_type": "markdown",
   "id": "c3c8eaca-1c41-4003-80a1-83dbad37f428",
   "metadata": {},
   "source": [
    "## Add clustering\n",
    "\n",
    "Make clusters of communities using the Louvain algorithm.     \n",
    "Note: the clusters should be assigned to communities, not edges, but that will not display well in the graph as we want to use logos."
   ]
  },
  {
   "cell_type": "code",
   "execution_count": null,
   "id": "920a5d11-2e26-4ed6-95a8-bd42c7fc37f5",
   "metadata": {},
   "outputs": [],
   "source": [
    "import networkx as nx\n",
    "from networkx.algorithms.community import louvain_communities\n",
    "\n",
    "import networkx as nx\n",
    "\n",
    "G = nx.Graph()  \n",
    "\n",
    "for community_slug, community in communities.iterrows():\n",
    "    com_dict = community.to_dict()\n",
    "    G.add_node(community['slug'], **com_dict)\n",
    "    \n",
    "for cidx, connection in connections.iterrows():\n",
    "    G.add_edge(connection['source'], connection['target'], weight=connection['shared_records'])\n",
    "\n",
    "# Detect communities (clusters)\n",
    "partition = louvain_communities(G)\n",
    "\n",
    "\n",
    "node_to_community = {}\n",
    "for i, community in enumerate(partition):\n",
    "    for node in community:\n",
    "        node_to_community[node] = i\n",
    "\n",
    "# Map the community number to each row in the DataFrame\n",
    "connections['community'] = connections['source'].map(node_to_community)"
   ]
  },
  {
   "cell_type": "code",
   "execution_count": null,
   "id": "cb62b68e-4c61-4195-8194-27021258de2e",
   "metadata": {},
   "outputs": [],
   "source": [
    "connections"
   ]
  },
  {
   "cell_type": "code",
   "execution_count": null,
   "id": "800f0938-ed2f-4195-982c-4339d9b0348f",
   "metadata": {},
   "outputs": [],
   "source": []
  },
  {
   "cell_type": "markdown",
   "id": "789bbeb7-4491-4f31-ba37-dc7a0971686f",
   "metadata": {},
   "source": [
    "## Display graph"
   ]
  },
  {
   "cell_type": "code",
   "execution_count": null,
   "id": "4727ca8b-ab0a-4342-8f36-32cfd0ce81d1",
   "metadata": {},
   "outputs": [],
   "source": [
    "import matplotlib.pyplot as plt\n",
    "\n",
    "color_cycle = plt.rcParams['axes.prop_cycle'].by_key()['color']\n",
    "num_clusters = len(set(connections['community']))  # or set this to your number of clusters\n",
    "cluster_colors = {i: color_cycle[i % len(color_cycle)] for i in range(num_clusters)}"
   ]
  },
  {
   "cell_type": "code",
   "execution_count": null,
   "id": "b6f17075-edd9-45e0-89a3-3c3aaa32e50e",
   "metadata": {
    "tags": []
   },
   "outputs": [],
   "source": [
    "from pyvis.network import Network\n",
    "import os\n",
    "\n",
    "# Create a Pyvis network\n",
    "net = Network(notebook=True, cdn_resources='local' )\n",
    "\n",
    "# Add nodes with images\n",
    "for community_idx, community in communities.iterrows():\n",
    "    shape = 'image' if community['logo_link'] is not np.nan else 'ellipse'\n",
    "    brokenImage = 'https://escape-ossr.gitlab.io/ossr-pages/img/Services_ESCAPE_OSSR-01.png'\n",
    "    image = community['logo_link'] if community['logo_link'] is not np.nan else brokenImage\n",
    "    fontcolor = 'black' if community['logo_link'] is not np.nan else 'white'\n",
    "    mass = 30 if community['slug']=='escape2020' else 12\n",
    "    label = ' ' if community['logo_link'] is not np.nan else community['title']\n",
    "\n",
    "    net.add_node(community['slug'],\n",
    "                 label=label,\n",
    "                 title=community['slug'],\n",
    "                 image=image,\n",
    "                 brokenImage=brokenImage,\n",
    "                 shape=shape,\n",
    "                 physics=True,\n",
    "                 mass=mass,\n",
    "                 font={\"color\": 'white'},\n",
    "                )\n",
    "\n",
    "# Add edges\n",
    "for cname, connection in connections.iterrows():\n",
    "    net.add_edge(connection['source'],\n",
    "                 connection['target'], \n",
    "                 value=connection['shared_records'],\n",
    "                 color = cluster_colors.get(connection['community'], 'grey'),\n",
    "                 smooth={'type': 'curved', 'forceDirection': 'none', 'roundness': 0.3}\n",
    "                )\n",
    "\n",
    "\n",
    "html_output_path = os.path.join(os.getcwd(), \"community_network.html\")\n",
    "\n",
    "net.show(html_output_path)\n"
   ]
  },
  {
   "cell_type": "code",
   "execution_count": null,
   "id": "44b501ba",
   "metadata": {},
   "outputs": [],
   "source": []
  }
 ],
 "metadata": {
  "kernelspec": {
   "display_name": "Python 3 (ipykernel)",
   "language": "python",
   "name": "python3"
  },
  "language_info": {
   "codemirror_mode": {
    "name": "ipython",
    "version": 3
   },
   "file_extension": ".py",
   "mimetype": "text/x-python",
   "name": "python",
   "nbconvert_exporter": "python",
   "pygments_lexer": "ipython3",
   "version": "3.10.4"
  }
 },
 "nbformat": 4,
 "nbformat_minor": 5
}
