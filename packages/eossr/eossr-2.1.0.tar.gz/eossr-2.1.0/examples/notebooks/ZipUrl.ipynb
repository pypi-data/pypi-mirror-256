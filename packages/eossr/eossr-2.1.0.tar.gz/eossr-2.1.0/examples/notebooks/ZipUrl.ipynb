{
 "cells": [
  {
   "cell_type": "markdown",
   "id": "d2bcb61a",
   "metadata": {},
   "source": [
    "# How to use ZipUrl"
   ]
  },
  {
   "cell_type": "markdown",
   "id": "00eeeef5",
   "metadata": {},
   "source": [
    "ZipUrl can be used to access a zip archive stored online.    \n",
    "One can peek into the archive and extract a single file without downloading or extracting the whole archive."
   ]
  },
  {
   "cell_type": "code",
   "execution_count": null,
   "id": "658cb424",
   "metadata": {
    "execution": {
     "iopub.execute_input": "2021-10-27T20:38:56.151402Z",
     "iopub.status.busy": "2021-10-27T20:38:56.150637Z",
     "iopub.status.idle": "2021-10-27T20:38:56.263823Z",
     "shell.execute_reply": "2021-10-27T20:38:56.264214Z"
    }
   },
   "outputs": [],
   "source": [
    "from eossr.utils import ZipUrl"
   ]
  },
  {
   "cell_type": "code",
   "execution_count": null,
   "id": "4ad996cd",
   "metadata": {
    "execution": {
     "iopub.execute_input": "2021-10-27T20:38:56.270296Z",
     "iopub.status.busy": "2021-10-27T20:38:56.269725Z",
     "iopub.status.idle": "2021-10-27T20:38:57.012225Z",
     "shell.execute_reply": "2021-10-27T20:38:57.012759Z"
    }
   },
   "outputs": [],
   "source": [
    "zipurl = ZipUrl('https://zenodo.org/record/5524913/files/eossr-v0.2.zip')"
   ]
  },
  {
   "cell_type": "code",
   "execution_count": null,
   "id": "0dd38cf3",
   "metadata": {
    "execution": {
     "iopub.execute_input": "2021-10-27T20:38:57.017786Z",
     "iopub.status.busy": "2021-10-27T20:38:57.016837Z",
     "iopub.status.idle": "2021-10-27T20:38:57.028320Z",
     "shell.execute_reply": "2021-10-27T20:38:57.028999Z"
    }
   },
   "outputs": [],
   "source": [
    "zipurl.filelist"
   ]
  },
  {
   "cell_type": "code",
   "execution_count": null,
   "id": "503e292a",
   "metadata": {
    "execution": {
     "iopub.execute_input": "2021-10-27T20:38:57.033736Z",
     "iopub.status.busy": "2021-10-27T20:38:57.032835Z",
     "iopub.status.idle": "2021-10-27T20:38:57.037253Z",
     "shell.execute_reply": "2021-10-27T20:38:57.037689Z"
    }
   },
   "outputs": [],
   "source": [
    "zipurl.extract('eossr-v0.2/README.md')"
   ]
  },
  {
   "cell_type": "code",
   "execution_count": null,
   "id": "680dea59",
   "metadata": {
    "execution": {
     "iopub.execute_input": "2021-10-27T20:38:57.043055Z",
     "iopub.status.busy": "2021-10-27T20:38:57.042242Z",
     "iopub.status.idle": "2021-10-27T20:38:57.044836Z",
     "shell.execute_reply": "2021-10-27T20:38:57.045274Z"
    }
   },
   "outputs": [],
   "source": [
    "zipurl.find_files('codemeta.json')"
   ]
  },
  {
   "cell_type": "code",
   "execution_count": null,
   "id": "13c33da1",
   "metadata": {},
   "outputs": [],
   "source": []
  },
  {
   "cell_type": "markdown",
   "id": "ba648264",
   "metadata": {},
   "source": [
    "## How it is used in eossr"
   ]
  },
  {
   "cell_type": "markdown",
   "id": "b8906723",
   "metadata": {},
   "source": [
    "A repository is zipped before to be uploaded to Zenodo (by GitHub hook as well as the eossr GitLab CI).    \n",
    "ZipUrl is used in the eossr to get the metadata stored in the `codemeta.json` file stored in that zip archive."
   ]
  },
  {
   "cell_type": "code",
   "execution_count": null,
   "id": "51fd2eb4",
   "metadata": {
    "execution": {
     "iopub.execute_input": "2021-10-27T20:38:57.048853Z",
     "iopub.status.busy": "2021-10-27T20:38:57.048252Z",
     "iopub.status.idle": "2021-10-27T20:38:57.161851Z",
     "shell.execute_reply": "2021-10-27T20:38:57.161368Z"
    }
   },
   "outputs": [],
   "source": [
    "from eossr.api import Record"
   ]
  },
  {
   "cell_type": "code",
   "execution_count": null,
   "id": "4201cd65",
   "metadata": {
    "execution": {
     "iopub.execute_input": "2021-10-27T20:38:57.166093Z",
     "iopub.status.busy": "2021-10-27T20:38:57.165279Z",
     "iopub.status.idle": "2021-10-27T20:38:57.362241Z",
     "shell.execute_reply": "2021-10-27T20:38:57.362748Z"
    }
   },
   "outputs": [],
   "source": [
    "record = Record.from_id(5501338, sandbox=False)"
   ]
  },
  {
   "cell_type": "code",
   "execution_count": null,
   "id": "c6eb8d25",
   "metadata": {
    "execution": {
     "iopub.execute_input": "2021-10-27T20:38:57.367532Z",
     "iopub.status.busy": "2021-10-27T20:38:57.366635Z",
     "iopub.status.idle": "2021-10-27T20:38:57.369284Z",
     "shell.execute_reply": "2021-10-27T20:38:57.369735Z"
    }
   },
   "outputs": [],
   "source": [
    "record.print_info()"
   ]
  },
  {
   "cell_type": "markdown",
   "id": "dad7fd90",
   "metadata": {},
   "source": [
    "This test record has been generated using the official [Zenodo-GitHub hook](https://guides.github.com/activities/citable-code/). It contains a unique zip file with the entire content of the repository:\n"
   ]
  },
  {
   "cell_type": "code",
   "execution_count": null,
   "id": "2147c3cf",
   "metadata": {
    "execution": {
     "iopub.execute_input": "2021-10-27T20:38:57.374071Z",
     "iopub.status.busy": "2021-10-27T20:38:57.373175Z",
     "iopub.status.idle": "2021-10-27T20:38:57.376753Z",
     "shell.execute_reply": "2021-10-27T20:38:57.376177Z"
    }
   },
   "outputs": [],
   "source": [
    "record.filelist"
   ]
  },
  {
   "cell_type": "markdown",
   "id": "de033fbd",
   "metadata": {},
   "source": [
    "The codemeta metadata can still be retrieve from a single command:"
   ]
  },
  {
   "cell_type": "code",
   "execution_count": null,
   "id": "8762a46c",
   "metadata": {
    "execution": {
     "iopub.execute_input": "2021-10-27T20:38:57.380975Z",
     "iopub.status.busy": "2021-10-27T20:38:57.380244Z",
     "iopub.status.idle": "2021-10-27T20:38:58.115047Z",
     "shell.execute_reply": "2021-10-27T20:38:58.115554Z"
    }
   },
   "outputs": [],
   "source": [
    "record.get_codemeta()"
   ]
  },
  {
   "cell_type": "code",
   "execution_count": null,
   "id": "c9f2e80e",
   "metadata": {},
   "outputs": [],
   "source": []
  }
 ],
 "metadata": {
  "kernelspec": {
   "display_name": "Python 3",
   "language": "python",
   "name": "python3"
  },
  "language_info": {
   "codemirror_mode": {
    "name": "ipython",
    "version": 3
   },
   "file_extension": ".py",
   "mimetype": "text/x-python",
   "name": "python",
   "nbconvert_exporter": "python",
   "pygments_lexer": "ipython3",
   "version": "3.9.2"
  }
 },
 "nbformat": 4,
 "nbformat_minor": 5
}
