{
 "cells": [
  {
   "cell_type": "markdown",
   "id": "d5e9bc28",
   "metadata": {},
   "source": [
    "# Upload records on the OSSR\n"
   ]
  },
  {
   "cell_type": "markdown",
   "id": "a4123841",
   "metadata": {},
   "source": [
    "To upload records on the OSSR, you may use the [Zenodo client](https://gitlab.com/escape-ossr/eossr/-/blob/master/eossr/api/zenodo.py).\n",
    "\n",
    "The client is also used by the continuous integration to automatise project's uploads from GitLab to Zenodo [check the EOSSR scripts here](https://gitlab.com/escape-ossr/eossr/-/tree/master/eossr/scripts).\n",
    "\n",
    "**However**, to upload records to the OSSR, you **will need** to use your Zenodo token ([create one](https://zenodo.org/account/settings/applications/tokens/new/)).\n"
   ]
  },
  {
   "cell_type": "code",
   "execution_count": null,
   "id": "52aedbb2",
   "metadata": {
    "tags": []
   },
   "outputs": [],
   "source": [
    "import os\n",
    "\n",
    "token = os.getenv(\"SANDBOX_ZENODO_TOKEN\")  # Replace with your own token\n",
    "\n",
    "if not token:\n",
    "    raise SystemExit(\"You need to use a token for that notebook!\")"
   ]
  },
  {
   "cell_type": "code",
   "execution_count": null,
   "id": "6fcd7ef2",
   "metadata": {
    "tags": []
   },
   "outputs": [],
   "source": [
    "import json\n",
    "from eossr.api.zenodo import ZenodoAPI, Record\n",
    "\n",
    "# Please note that for this demo we are using Zenodo Sandbox.\n",
    "zen = ZenodoAPI(access_token=token, sandbox=True)"
   ]
  },
  {
   "cell_type": "code",
   "execution_count": null,
   "id": "24eecce0",
   "metadata": {},
   "outputs": [],
   "source": [
    "# Test token\n",
    "user_deposits_response = zen.query_user_deposits()"
   ]
  },
  {
   "cell_type": "markdown",
   "id": "c13a5232",
   "metadata": {},
   "source": [
    "## Create a new deposit\n",
    "\n",
    "First we would need to create a new deposit\n"
   ]
  },
  {
   "cell_type": "code",
   "execution_count": null,
   "id": "83075f0b",
   "metadata": {
    "tags": []
   },
   "outputs": [],
   "source": [
    "new_deposit_response = zen.create_new_deposit()"
   ]
  },
  {
   "cell_type": "markdown",
   "id": "fcd8e90c",
   "metadata": {},
   "source": [
    "### Zenodo HTTP status\n",
    "\n",
    "The function `create_new_deposit` would have raised an error in case of failure.\n",
    "But if you can its status code meaning using our `ZenodoHTTPStatus` class\n"
   ]
  },
  {
   "cell_type": "code",
   "execution_count": null,
   "id": "22f8e2b2",
   "metadata": {
    "tags": []
   },
   "outputs": [],
   "source": [
    "from eossr.api.zenodo.http_status import ZenodoHTTPStatus"
   ]
  },
  {
   "cell_type": "code",
   "execution_count": null,
   "id": "07fd3360",
   "metadata": {
    "tags": []
   },
   "outputs": [],
   "source": [
    "status_new_deposit = ZenodoHTTPStatus(new_deposit_response)\n",
    "print(status_new_deposit)"
   ]
  },
  {
   "cell_type": "markdown",
   "id": "b8761071",
   "metadata": {},
   "source": [
    "## Add files to the deposit\n",
    "\n",
    "Then we upload to the new deposit a file (let's say a `codemeta.json` metadata file)\n"
   ]
  },
  {
   "cell_type": "code",
   "execution_count": null,
   "id": "74351af6",
   "metadata": {
    "tags": []
   },
   "outputs": [],
   "source": [
    "deposit_id = new_deposit_response.json()[\"id\"]\n",
    "upload_file_response = zen.upload_file_deposit(\n",
    "    deposit_id, name_file=\"codemeta.json\", path_file=\"../../codemeta.json\"\n",
    ")\n",
    "\n",
    "status_upload = ZenodoHTTPStatus(upload_file_response)\n",
    "print(status_upload)"
   ]
  },
  {
   "cell_type": "markdown",
   "id": "aadbd21e",
   "metadata": {},
   "source": [
    "## Add metadata to the deposit\n",
    "\n",
    "We add metadata to the Zenodo deposit using the EOSSR codemeta2zenodo conversor\n"
   ]
  },
  {
   "cell_type": "code",
   "execution_count": null,
   "id": "c622d5c9",
   "metadata": {
    "tags": []
   },
   "outputs": [],
   "source": [
    "from eossr.metadata.codemeta2zenodo import parse_codemeta_and_write_zenodo_metadata_file"
   ]
  },
  {
   "cell_type": "code",
   "execution_count": null,
   "id": "d0b1af6d",
   "metadata": {
    "tags": []
   },
   "outputs": [],
   "source": [
    "parse_codemeta_and_write_zenodo_metadata_file(codemeta_filename='../../codemeta.json',\n",
    "                                              outdir='.',\n",
    "                                              add_escape2020=True,\n",
    "                                              overwrite=True,\n",
    "                                              )"
   ]
  },
  {
   "cell_type": "code",
   "execution_count": null,
   "id": "9f3cfedc",
   "metadata": {
    "tags": []
   },
   "outputs": [],
   "source": [
    "# Let's have a look to the output to the .zenodo.json file\n",
    "! cat .zenodo.json"
   ]
  },
  {
   "cell_type": "code",
   "execution_count": null,
   "id": "7c37dc70",
   "metadata": {
    "tags": []
   },
   "outputs": [],
   "source": [
    "with open('.zenodo.json') as f:\n",
    "    zenodo_metadata = json.load(f)\n",
    "\n",
    "update_metadata_info_response = zen.set_deposit_metadata(\n",
    "    deposit_id, zenodo_metadata)\n",
    "status_metadata = ZenodoHTTPStatus(update_metadata_info_response)\n",
    "print(status_metadata)"
   ]
  },
  {
   "cell_type": "markdown",
   "id": "c6a4df85",
   "metadata": {},
   "source": [
    "### Check the content of the new deposit\n",
    "\n",
    "The `request` answers contain all the information of the current upload.  \n",
    "One can check the metadata in the JSON dict:\n"
   ]
  },
  {
   "cell_type": "code",
   "execution_count": null,
   "id": "6a866a15-6303-4fb6-9fdc-20a09f6bdfff",
   "metadata": {},
   "outputs": [],
   "source": [
    "update_metadata_info_response.json()['metadata']"
   ]
  },
  {
   "cell_type": "markdown",
   "id": "a62874c5",
   "metadata": {},
   "source": [
    "---\n",
    "We can check the files that we have already uploaded\n"
   ]
  },
  {
   "cell_type": "code",
   "execution_count": null,
   "id": "f0328d01",
   "metadata": {
    "tags": []
   },
   "outputs": [],
   "source": [
    "update_metadata_info_response.json()[\"files\"]"
   ]
  },
  {
   "cell_type": "markdown",
   "id": "fa18756a",
   "metadata": {},
   "source": [
    "## Publish the deposit - or not.\n",
    "\n",
    "Finally we can publish the new deposit.\n",
    "However in this case, because this is just a demo, we will just erase the deposit.\n"
   ]
  },
  {
   "cell_type": "code",
   "execution_count": null,
   "id": "6a9f1f09",
   "metadata": {
    "tags": []
   },
   "outputs": [],
   "source": [
    "# In case you would like to publish the deposit, just uncomment the following lines.\n",
    "\n",
    "# # publish_response = z.publish_deposit(deposit_id)\n",
    "# # status = ZenodoHTTPStatus(publish_response)"
   ]
  },
  {
   "cell_type": "code",
   "execution_count": null,
   "id": "a2a81e21",
   "metadata": {
    "tags": []
   },
   "outputs": [],
   "source": [
    "from eossr.api.zenodo.http_status import HTTPStatusError"
   ]
  },
  {
   "cell_type": "code",
   "execution_count": null,
   "id": "a1562ae2",
   "metadata": {
    "tags": []
   },
   "outputs": [],
   "source": [
    "erase_deposit = zen.erase_deposit(deposit_id)"
   ]
  },
  {
   "cell_type": "code",
   "execution_count": null,
   "id": "86cd043c",
   "metadata": {},
   "outputs": [],
   "source": []
  }
 ],
 "metadata": {
  "kernelspec": {
   "display_name": "Python 3 (ipykernel)",
   "language": "python",
   "name": "python3"
  },
  "language_info": {
   "codemirror_mode": {
    "name": "ipython",
    "version": 3
   },
   "file_extension": ".py",
   "mimetype": "text/x-python",
   "name": "python",
   "nbconvert_exporter": "python",
   "pygments_lexer": "ipython3",
   "version": "3.10.4"
  },
  "pycharm": {
   "stem_cell": {
    "cell_type": "raw",
    "metadata": {
     "collapsed": false
    },
    "source": []
   }
  }
 },
 "nbformat": 4,
 "nbformat_minor": 5
}
