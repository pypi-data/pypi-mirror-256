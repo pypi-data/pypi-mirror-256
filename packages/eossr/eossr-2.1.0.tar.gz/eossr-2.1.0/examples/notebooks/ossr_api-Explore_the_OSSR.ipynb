{
 "cells": [
  {
   "cell_type": "markdown",
   "id": "4a25feec",
   "metadata": {},
   "source": [
    "# Find ESCAPE OSSR records\n",
    "\n",
    "\n",
    "**Please note**; to fetch information from the OSSR using the EOSSR API, **NO Zenodo token is needed**. \n",
    "\n",
    "The EOSSR API will get the public information that is available in the repository."
   ]
  },
  {
   "cell_type": "markdown",
   "id": "5e008b43",
   "metadata": {},
   "source": [
    "## Getting all the records"
   ]
  },
  {
   "cell_type": "code",
   "execution_count": null,
   "id": "dbde9b19",
   "metadata": {},
   "outputs": [],
   "source": [
    "from eossr.api.ossr import get_ossr_records"
   ]
  },
  {
   "cell_type": "code",
   "execution_count": null,
   "id": "2fe017bc",
   "metadata": {},
   "outputs": [],
   "source": [
    "ossr_records = get_ossr_records()"
   ]
  },
  {
   "cell_type": "code",
   "execution_count": null,
   "id": "5eb34293",
   "metadata": {},
   "outputs": [],
   "source": [
    "len(ossr_records)"
   ]
  },
  {
   "cell_type": "markdown",
   "id": "93b033a0",
   "metadata": {},
   "source": [
    "Records are objects containing data and metadata sent by Zenodo API"
   ]
  },
  {
   "cell_type": "code",
   "execution_count": null,
   "id": "f88ebfd3",
   "metadata": {},
   "outputs": [],
   "source": [
    "record = ossr_records[0]"
   ]
  },
  {
   "cell_type": "code",
   "execution_count": null,
   "id": "988b95c7",
   "metadata": {},
   "outputs": [],
   "source": [
    "print(record)"
   ]
  },
  {
   "cell_type": "code",
   "execution_count": null,
   "id": "6bbe7db1",
   "metadata": {},
   "outputs": [],
   "source": [
    "record"
   ]
  },
  {
   "cell_type": "code",
   "execution_count": null,
   "id": "3aad2e35",
   "metadata": {},
   "outputs": [],
   "source": []
  },
  {
   "cell_type": "markdown",
   "id": "cb5f905e",
   "metadata": {},
   "source": [
    "You can use `print_info` to display minimal information about a `Record`:"
   ]
  },
  {
   "cell_type": "code",
   "execution_count": null,
   "id": "a9ec3d38",
   "metadata": {},
   "outputs": [],
   "source": [
    "record.print_info()"
   ]
  },
  {
   "cell_type": "code",
   "execution_count": null,
   "id": "28ad4039",
   "metadata": {},
   "outputs": [],
   "source": []
  },
  {
   "cell_type": "markdown",
   "id": "21384a7d",
   "metadata": {},
   "source": [
    "## Specific search"
   ]
  },
  {
   "cell_type": "markdown",
   "id": "7f1a9209",
   "metadata": {},
   "source": [
    "### Using strings"
   ]
  },
  {
   "cell_type": "code",
   "execution_count": null,
   "id": "3a3dc135",
   "metadata": {},
   "outputs": [],
   "source": [
    "escape_records = get_ossr_records('escape')"
   ]
  },
  {
   "cell_type": "code",
   "execution_count": null,
   "id": "0aa0deec",
   "metadata": {},
   "outputs": [],
   "source": [
    "for r in escape_records:\n",
    "    print(r)"
   ]
  },
  {
   "cell_type": "markdown",
   "id": "c4b08fde",
   "metadata": {},
   "source": [
    "### Using ~keywords~ subjects\n",
    "\n",
    "`keywords` search has changed in Zenodo in October 2023 and has been replaced with `subject` search."
   ]
  },
  {
   "cell_type": "code",
   "execution_count": null,
   "id": "f5cb8f77",
   "metadata": {},
   "outputs": [],
   "source": [
    "cta_records = get_ossr_records(subject='CTA')\n",
    "len(cta_records)"
   ]
  },
  {
   "cell_type": "code",
   "execution_count": null,
   "id": "019f21eb",
   "metadata": {},
   "outputs": [],
   "source": [
    "for record in cta_records:\n",
    "    print(record)"
   ]
  },
  {
   "cell_type": "code",
   "execution_count": null,
   "id": "5f304419",
   "metadata": {},
   "outputs": [],
   "source": []
  },
  {
   "cell_type": "markdown",
   "id": "da77c97b",
   "metadata": {},
   "source": [
    "### Directly from its id \n",
    "if you happen to know exactly the record you are looking for"
   ]
  },
  {
   "cell_type": "code",
   "execution_count": null,
   "id": "eb048c8f",
   "metadata": {},
   "outputs": [],
   "source": [
    "from eossr.api.zenodo import get_record"
   ]
  },
  {
   "cell_type": "code",
   "execution_count": null,
   "id": "8a162ccb",
   "metadata": {},
   "outputs": [],
   "source": [
    "record = get_record(4923992)"
   ]
  },
  {
   "cell_type": "code",
   "execution_count": null,
   "id": "81b76847",
   "metadata": {},
   "outputs": [],
   "source": [
    "print(record)"
   ]
  },
  {
   "cell_type": "code",
   "execution_count": null,
   "id": "25ec9b5a",
   "metadata": {},
   "outputs": [],
   "source": [
    "record.data.keys()"
   ]
  },
  {
   "cell_type": "code",
   "execution_count": null,
   "id": "6f4de66b",
   "metadata": {},
   "outputs": [],
   "source": []
  },
  {
   "cell_type": "markdown",
   "id": "a85d8056",
   "metadata": {},
   "source": [
    "## `Record` methods\n",
    "There are other useful methods to a Record class."
   ]
  },
  {
   "cell_type": "markdown",
   "id": "9083a824",
   "metadata": {},
   "source": [
    "## Getting CodeMeta metadata\n",
    "If a `codemeta.json` file has been added to the record, one can retrieve it directly.    \n",
    "The method is also looking into the zip archives that may be part of the record."
   ]
  },
  {
   "cell_type": "code",
   "execution_count": null,
   "id": "1431eb41",
   "metadata": {},
   "outputs": [],
   "source": [
    "record.get_codemeta()"
   ]
  },
  {
   "cell_type": "code",
   "execution_count": null,
   "id": "7a1d0f77",
   "metadata": {},
   "outputs": [],
   "source": []
  },
  {
   "cell_type": "markdown",
   "id": "64c43dd6",
   "metadata": {},
   "source": [
    "## MyBinder integration\n",
    "You can get a mybinder URL directly from a record:"
   ]
  },
  {
   "cell_type": "code",
   "execution_count": null,
   "id": "7cf9bcdb",
   "metadata": {},
   "outputs": [],
   "source": [
    "record.get_mybinder_url()"
   ]
  },
  {
   "cell_type": "code",
   "execution_count": null,
   "id": "622e44d9",
   "metadata": {},
   "outputs": [],
   "source": []
  }
 ],
 "metadata": {
  "kernelspec": {
   "display_name": "Python 3",
   "language": "python",
   "name": "python3"
  },
  "language_info": {
   "codemirror_mode": {
    "name": "ipython",
    "version": 3
   },
   "file_extension": ".py",
   "mimetype": "text/x-python",
   "name": "python",
   "nbconvert_exporter": "python",
   "pygments_lexer": "ipython3",
   "version": "3.9.2"
  }
 },
 "nbformat": 4,
 "nbformat_minor": 5
}
