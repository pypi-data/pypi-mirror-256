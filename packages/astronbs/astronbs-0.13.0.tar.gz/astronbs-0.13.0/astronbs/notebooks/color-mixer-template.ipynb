{
 "cells": [
  {
   "cell_type": "code",
   "execution_count": null,
   "id": "f96a32d6-562f-42e9-b990-8c9bf742be4a",
   "metadata": {},
   "outputs": [],
   "source": [
    "from matplotlib import pyplot as plt\n",
    "import matplotlib.image as mimg\n",
    "\n",
    "import ipywidgets as ipw\n",
    "import numpy as np\n",
    "\n",
    "from astropy.nddata import CCDData, block_reduce\n",
    "from astropy.visualization import AsymmetricPercentileInterval, make_lupton_rgb\n",
    "\n",
    "from astrowidgets.bqplot import ImageWidget"
   ]
  },
  {
   "cell_type": "markdown",
   "id": "e7eab765-6264-4e78-b5ff-5c283aa6eb21",
   "metadata": {},
   "source": [
    "# Another color image maker"
   ]
  },
  {
   "cell_type": "code",
   "execution_count": null,
   "id": "ecb25d48-34c8-42cd-a329-4a9d182223ca",
   "metadata": {},
   "outputs": [],
   "source": [
    "image_widgets = dict(\n",
    "    red=ImageWidget(),\n",
    "    green=ImageWidget(),\n",
    "    blue=ImageWidget()\n",
    ")"
   ]
  },
  {
   "cell_type": "code",
   "execution_count": null,
   "id": "4f0a1283-3099-4025-9738-c2f8e5b02982",
   "metadata": {},
   "outputs": [],
   "source": [
    "red = CCDData.read('combined_light_filter_rp.fit')\n",
    "greenish = CCDData.read('combined_light_filter_gp.fit')\n",
    "blue = CCDData.read('combined_light_filter_B.fit')"
   ]
  },
  {
   "cell_type": "code",
   "execution_count": null,
   "id": "0265c0df-59da-4c61-ae18-aa4cb8d9299f",
   "metadata": {},
   "outputs": [],
   "source": [
    "reduce_fac = 8\n",
    "red_sm = block_reduce(red.data, reduce_fac)\n",
    "green_sm = block_reduce(greenish.data, reduce_fac)\n",
    "blue_sm = block_reduce(blue.data, reduce_fac)"
   ]
  },
  {
   "cell_type": "code",
   "execution_count": null,
   "id": "ce154da2-28f6-49f3-a236-4256ec742fb9",
   "metadata": {},
   "outputs": [],
   "source": [
    "image_widgets['red'].load_array(red_sm)\n",
    "image_widgets['green'].load_array(green_sm)\n",
    "image_widgets['blue'].load_array(blue_sm)"
   ]
  },
  {
   "cell_type": "code",
   "execution_count": null,
   "id": "2da65382-e5e7-4ba7-aa91-180f2b12f8de",
   "metadata": {},
   "outputs": [],
   "source": [
    "def make_slider():\n",
    "    slider = ipw.FloatRangeSlider(min=0, max=100, step=0.1, \n",
    "                                  description='Set black and white',\n",
    "                                  style={'description_width': 'initial'},\n",
    "                                  continuous_update=False,\n",
    "                                  layout={'width': '100%'}\n",
    "                                 )\n",
    "    return slider"
   ]
  },
  {
   "cell_type": "code",
   "execution_count": null,
   "id": "e6f38c83-2953-4590-b5a2-d917873e49b0",
   "metadata": {},
   "outputs": [],
   "source": [
    "level_sliders = dict(\n",
    "    red=make_slider(),\n",
    "    green=make_slider(),\n",
    "    blue=make_slider()\n",
    ")"
   ]
  },
  {
   "cell_type": "code",
   "execution_count": null,
   "id": "2bd4b3a3-99f5-4ca2-8ad0-22da797de458",
   "metadata": {},
   "outputs": [],
   "source": [
    "def make_observer(color):\n",
    "    def observer(change):\n",
    "        minval, maxval = change['new']\n",
    "        image_widgets[color].cuts = AsymmetricPercentileInterval(minval, maxval)\n",
    "        \n",
    "    return observer"
   ]
  },
  {
   "cell_type": "markdown",
   "id": "1b6d6815-6edd-4246-9e80-57fbbb314c7b",
   "metadata": {},
   "source": [
    "## 1. Adjust each of the combined image (r, g, b) so that the background is black and you can see the detail you want"
   ]
  },
  {
   "cell_type": "code",
   "execution_count": null,
   "id": "add69fe3-0270-4d82-9767-201218fe6320",
   "metadata": {},
   "outputs": [],
   "source": [
    "tab_set = ipw.Tab()\n",
    "kids = []\n",
    "boxes = {}\n",
    "for idx, color in enumerate(['red', 'green', 'blue']):\n",
    "    boxes[color] = ipw.VBox(children=[level_sliders[color], image_widgets[color]])\n",
    "    this_observer = make_observer(color)\n",
    "    level_sliders[color].observe(this_observer, names='value')\n",
    "    this_observer(dict(new=level_sliders[color].value))\n",
    "    tab_set.set_title(idx, color)\n",
    "    kids.append(boxes[color])\n",
    "\n",
    "\n",
    "tab_set.children = kids\n",
    "tab_set"
   ]
  },
  {
   "cell_type": "markdown",
   "id": "7c26daf1-2eae-4f34-a348-f6010ef297dc",
   "metadata": {},
   "source": [
    "## Run the cells below to save red, green, blue as png"
   ]
  },
  {
   "cell_type": "code",
   "execution_count": null,
   "id": "445ed707-53de-4a1e-ab06-55081dfd32b7",
   "metadata": {},
   "outputs": [],
   "source": [
    "def save_png(x, color):\n",
    "    shape = np.array(x.shape)\n",
    "    # Reverse order for reasons I do not understand...\n",
    "    shape = shape[::-1]\n",
    "    # Replace NaNs with black pixels\n",
    "    x = np.nan_to_num(x)\n",
    "    mimg.imsave(f'{color}.png', x, format='png', cmap='gray')\n",
    "    \n",
    "def save_all():\n",
    "    x = image_widgets['red'].cuts(red.data)\n",
    "    save_png(x, 'red')\n",
    "    x = image_widgets['green'].cuts(greenish.data)\n",
    "    save_png(x, 'green')\n",
    "    x = image_widgets['blue'].cuts(blue.data)\n",
    "    save_png(x, 'blue')"
   ]
  },
  {
   "cell_type": "code",
   "execution_count": null,
   "id": "65c0ff9b-d92c-4e20-9173-7da5057f6a56",
   "metadata": {},
   "outputs": [],
   "source": [
    "save_all()"
   ]
  },
  {
   "cell_type": "code",
   "execution_count": null,
   "id": "8786abfc-15a1-428f-8ed7-2640b55266df",
   "metadata": {},
   "outputs": [],
   "source": [
    "plt.figure(figsize=(10, 10))\n",
    "comb = np.zeros(list(red_sm.shape) + [3])\n",
    "def quick_color_rgb(r=0.5, g=0.5, b=0.5):\n",
    "    red_sc = r * image_widgets['red'].cuts(red_sm) \n",
    "    green_sc = g * image_widgets['green'].cuts(green_sm)\n",
    "    blue_sc = b * image_widgets['blue'].cuts(blue_sm)\n",
    "    comb[:, :, 0] = red_sc\n",
    "    comb[:, :, 1] = green_sc\n",
    "    comb[:, :, 2] = blue_sc\n",
    "    plt.figure(figsize=(8, 8))\n",
    "    max_img = np.nanmax(comb)\n",
    "    plt.title(f'{max_img:.3f} {r=:.2f} {g=:.2f} {b=:.2f}')\n",
    "    plt.tick_params(labelbottom=False, labelleft=False, labelright=False, labeltop=False)\n",
    "    plt.imshow(comb/max_img)"
   ]
  },
  {
   "cell_type": "markdown",
   "id": "313acf99-a290-42e2-af35-2eec5b9ef855",
   "metadata": {
    "tags": []
   },
   "source": [
    "## Adjust the contribution of the red, green and blue images to the final image"
   ]
  },
  {
   "cell_type": "code",
   "execution_count": null,
   "id": "c83aec13-923f-4d54-b4d3-0d21aec27271",
   "metadata": {},
   "outputs": [],
   "source": [
    "ranges = (0, 1, 0.01)\n",
    "ipw.interact(quick_color_rgb, r=ranges, g=ranges, b=ranges)"
   ]
  },
  {
   "cell_type": "code",
   "execution_count": null,
   "id": "3604de8b-c0a3-41d2-9c60-da7e63e58f6d",
   "metadata": {},
   "outputs": [],
   "source": []
  },
  {
   "cell_type": "code",
   "execution_count": null,
   "id": "f29b53f2-c562-400e-8e2a-f5676d51e994",
   "metadata": {},
   "outputs": [],
   "source": [
    "def full_res(r, g, b):\n",
    "    plt.figure(figsize=(20, 20))\n",
    "    red_sc = r * image_widgets['red'].cuts(red.data) \n",
    "    green_sc = g * image_widgets['green'].cuts(greenish.data)\n",
    "    blue_sc = b * image_widgets['blue'].cuts(blue.data)\n",
    "    comb = np.zeros(list(red.data.shape) + [3])\n",
    "    comb[:, :, 0] = red_sc\n",
    "    comb[:, :, 1] = green_sc\n",
    "    comb[:, :, 2] = blue_sc\n",
    "    max_img = np.nanmax(comb)\n",
    "    plt.imshow(comb/max_img)\n",
    "    plt.tick_params(labelbottom=False, labelleft=False, labelright=False, labeltop=False)"
   ]
  },
  {
   "cell_type": "code",
   "execution_count": null,
   "id": "2f5f3994-5a98-4e03-a71b-0957c33573bf",
   "metadata": {},
   "outputs": [],
   "source": [
    "full_res(.51, 0.38, 0.55)\n"
   ]
  },
  {
   "cell_type": "code",
   "execution_count": null,
   "id": "f9ad55c5-5d99-433a-abd8-cf065b474b45",
   "metadata": {},
   "outputs": [],
   "source": [
    "plt.savefig('color.png')"
   ]
  }
 ],
 "metadata": {
  "kernelspec": {
   "display_name": "Python 3 (ipykernel)",
   "language": "python",
   "name": "python3"
  },
  "language_info": {
   "codemirror_mode": {
    "name": "ipython",
    "version": 3
   },
   "file_extension": ".py",
   "mimetype": "text/x-python",
   "name": "python",
   "nbconvert_exporter": "python",
   "pygments_lexer": "ipython3",
   "version": "3.9.13"
  }
 },
 "nbformat": 4,
 "nbformat_minor": 5
}
